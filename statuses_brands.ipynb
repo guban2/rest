{
 "cells": [
  {
   "cell_type": "code",
   "execution_count": 1,
   "metadata": {
    "ExecuteTime": {
     "end_time": "2024-01-19T09:37:17.847725Z",
     "start_time": "2024-01-19T09:37:14.676963Z"
    }
   },
   "outputs": [],
   "source": [
    "import pandas as pd\n",
    "import numpy as np\n",
    "import seaborn as sns\n",
    "import matplotlib.pyplot as plt\n",
    "import os\n",
    "from pathlib import Path\n",
    "import requests\n",
    "from bs4 import BeautifulSoup\n",
    "import csv\n",
    "from tqdm import tqdm\n",
    "from time import sleep\n",
    "import random\n",
    "import pandas as pd\n",
    "import plotly.graph_objects as go\n",
    "import json\n",
    "from itertools import tee, islice\n",
    "#import dash\n",
    "from dash import Dash, dcc, html, Input, Output, dash_table\n",
    "# import dash_core_components as dcc \n",
    "# import dash_html_components as html"
   ]
  },
  {
   "cell_type": "code",
   "execution_count": 2,
   "metadata": {
    "ExecuteTime": {
     "end_time": "2024-01-19T09:37:17.862683Z",
     "start_time": "2024-01-19T09:37:17.851712Z"
    }
   },
   "outputs": [],
   "source": [
    "pd.set_option('display.max_rows', 50)  \n",
    "#печать всех строх, аналогично max_columns\n",
    "\n",
    "# You can also reset an option back to its default value like this:\n",
    "# pd.reset_option('display.max_rows')\n",
    "# And reset all of them back:\n",
    "# pd.reset_option('all')"
   ]
  },
  {
   "cell_type": "code",
   "execution_count": 210,
   "metadata": {
    "ExecuteTime": {
     "end_time": "2024-01-19T12:51:59.783667Z",
     "start_time": "2024-01-19T12:51:59.764506Z"
    }
   },
   "outputs": [],
   "source": [
    "sns.set(\n",
    "    font_scale=2,\n",
    "    style=\"whitegrid\",\n",
    "    rc={'figure.figsize':(20,7)}\n",
    "        )"
   ]
  },
  {
   "cell_type": "code",
   "execution_count": 3,
   "metadata": {
    "ExecuteTime": {
     "end_time": "2024-01-19T09:37:18.461800Z",
     "start_time": "2024-01-19T09:37:18.444810Z"
    }
   },
   "outputs": [],
   "source": [
    "# вывести долю еще и от общего количества"
   ]
  },
  {
   "cell_type": "code",
   "execution_count": null,
   "metadata": {},
   "outputs": [],
   "source": []
  },
  {
   "cell_type": "markdown",
   "metadata": {},
   "source": [
    "## Cборка"
   ]
  },
  {
   "cell_type": "code",
   "execution_count": 4,
   "metadata": {
    "ExecuteTime": {
     "end_time": "2024-01-19T09:37:19.212961Z",
     "start_time": "2024-01-19T09:37:19.207513Z"
    }
   },
   "outputs": [],
   "source": [
    "folder_path = 'ooh_data'"
   ]
  },
  {
   "cell_type": "code",
   "execution_count": 5,
   "metadata": {
    "ExecuteTime": {
     "end_time": "2024-01-19T09:37:19.448162Z",
     "start_time": "2024-01-19T09:37:19.441014Z"
    }
   },
   "outputs": [],
   "source": [
    "csv_files = [f for f in os.listdir(folder_path) if f.endswith('.csv')]"
   ]
  },
  {
   "cell_type": "code",
   "execution_count": 6,
   "metadata": {
    "ExecuteTime": {
     "end_time": "2024-01-19T09:37:30.982821Z",
     "start_time": "2024-01-19T09:37:19.658601Z"
    }
   },
   "outputs": [],
   "source": [
    "dataframes = [pd.read_csv(os.path.join(folder_path, file)) for file in csv_files]"
   ]
  },
  {
   "cell_type": "code",
   "execution_count": 7,
   "metadata": {
    "ExecuteTime": {
     "end_time": "2024-01-19T09:37:31.237215Z",
     "start_time": "2024-01-19T09:37:30.986780Z"
    }
   },
   "outputs": [
    {
     "data": {
      "text/plain": [
       "(7531594, 4)"
      ]
     },
     "execution_count": 7,
     "metadata": {},
     "output_type": "execute_result"
    }
   ],
   "source": [
    "dfs = pd.concat(dataframes, ignore_index=True)\n",
    "dfs.shape"
   ]
  },
  {
   "cell_type": "code",
   "execution_count": 8,
   "metadata": {
    "ExecuteTime": {
     "end_time": "2024-01-19T09:37:31.253069Z",
     "start_time": "2024-01-19T09:37:31.240106Z"
    }
   },
   "outputs": [],
   "source": [
    "dfs.columns = ['order_id', 'status', 'source', 'status_time']"
   ]
  },
  {
   "cell_type": "code",
   "execution_count": 9,
   "metadata": {
    "ExecuteTime": {
     "end_time": "2024-01-19T09:37:45.942007Z",
     "start_time": "2024-01-19T09:37:31.257059Z"
    }
   },
   "outputs": [],
   "source": [
    "dfs['status_time'] = pd.to_datetime(dfs['status_time'])"
   ]
  },
  {
   "cell_type": "code",
   "execution_count": 10,
   "metadata": {
    "ExecuteTime": {
     "end_time": "2024-01-19T09:37:46.022222Z",
     "start_time": "2024-01-19T09:37:45.944957Z"
    }
   },
   "outputs": [],
   "source": [
    "dfs.status_time = dfs.status_time.dt.tz_localize(None)"
   ]
  },
  {
   "cell_type": "code",
   "execution_count": 11,
   "metadata": {
    "ExecuteTime": {
     "end_time": "2024-01-19T09:37:46.165178Z",
     "start_time": "2024-01-19T09:37:46.025218Z"
    }
   },
   "outputs": [],
   "source": [
    "# Прибавляем 3 часа\n",
    "dfs.status_time += pd.Timedelta(hours=3)"
   ]
  },
  {
   "cell_type": "code",
   "execution_count": 12,
   "metadata": {
    "ExecuteTime": {
     "end_time": "2024-01-19T09:37:46.181141Z",
     "start_time": "2024-01-19T09:37:46.168174Z"
    }
   },
   "outputs": [
    {
     "data": {
      "text/plain": [
       "(7531594, 4)"
      ]
     },
     "execution_count": 12,
     "metadata": {},
     "output_type": "execute_result"
    }
   ],
   "source": [
    "dfs.shape"
   ]
  },
  {
   "cell_type": "code",
   "execution_count": 13,
   "metadata": {
    "ExecuteTime": {
     "end_time": "2024-01-19T09:37:50.591074Z",
     "start_time": "2024-01-19T09:37:46.184131Z"
    }
   },
   "outputs": [
    {
     "data": {
      "text/plain": [
       "(7531594, 4)"
      ]
     },
     "execution_count": 13,
     "metadata": {},
     "output_type": "execute_result"
    }
   ],
   "source": [
    "dfs.drop_duplicates().shape"
   ]
  },
  {
   "cell_type": "code",
   "execution_count": 14,
   "metadata": {
    "ExecuteTime": {
     "end_time": "2024-01-19T09:37:50.607065Z",
     "start_time": "2024-01-19T09:37:50.593104Z"
    }
   },
   "outputs": [],
   "source": [
    "#dfs.groupby(dfs['status_time'].dt.date).count()"
   ]
  },
  {
   "cell_type": "code",
   "execution_count": null,
   "metadata": {},
   "outputs": [],
   "source": []
  },
  {
   "cell_type": "code",
   "execution_count": 15,
   "metadata": {
    "ExecuteTime": {
     "end_time": "2024-01-19T09:37:58.062081Z",
     "start_time": "2024-01-19T09:37:50.613020Z"
    }
   },
   "outputs": [],
   "source": [
    "dfsp = pd.read_csv('https://redash.puls.ru/api/queries/8589/results.csv?api_key=yBnPjPTW9feg3qVwlkvDJYL8EpT0uZfzwGT5Kv7o')"
   ]
  },
  {
   "cell_type": "code",
   "execution_count": 16,
   "metadata": {
    "ExecuteTime": {
     "end_time": "2024-01-19T09:37:58.266811Z",
     "start_time": "2024-01-19T09:37:58.065078Z"
    }
   },
   "outputs": [],
   "source": [
    "dfsp['status_time'] = pd.to_datetime(dfsp['status_time'])\n",
    "# Прибавляем 3 часа\n",
    "dfsp.status_time += pd.Timedelta(hours=3)"
   ]
  },
  {
   "cell_type": "code",
   "execution_count": 17,
   "metadata": {
    "ExecuteTime": {
     "end_time": "2024-01-19T09:37:58.440575Z",
     "start_time": "2024-01-19T09:37:58.269809Z"
    }
   },
   "outputs": [],
   "source": [
    "dfs = pd.concat([dfs, dfsp])"
   ]
  },
  {
   "cell_type": "code",
   "execution_count": 18,
   "metadata": {
    "ExecuteTime": {
     "end_time": "2024-01-19T09:37:58.471523Z",
     "start_time": "2024-01-19T09:37:58.443567Z"
    }
   },
   "outputs": [
    {
     "data": {
      "text/html": [
       "<div>\n",
       "<style scoped>\n",
       "    .dataframe tbody tr th:only-of-type {\n",
       "        vertical-align: middle;\n",
       "    }\n",
       "\n",
       "    .dataframe tbody tr th {\n",
       "        vertical-align: top;\n",
       "    }\n",
       "\n",
       "    .dataframe thead th {\n",
       "        text-align: right;\n",
       "    }\n",
       "</style>\n",
       "<table border=\"1\" class=\"dataframe\">\n",
       "  <thead>\n",
       "    <tr style=\"text-align: right;\">\n",
       "      <th></th>\n",
       "      <th>order_id</th>\n",
       "      <th>status</th>\n",
       "      <th>source</th>\n",
       "      <th>status_time</th>\n",
       "    </tr>\n",
       "  </thead>\n",
       "  <tbody>\n",
       "    <tr>\n",
       "      <th>0</th>\n",
       "      <td>6331113</td>\n",
       "      <td>4</td>\n",
       "      <td>NaN</td>\n",
       "      <td>2023-10-31 11:27:34.989</td>\n",
       "    </tr>\n",
       "    <tr>\n",
       "      <th>1</th>\n",
       "      <td>6228721</td>\n",
       "      <td>7</td>\n",
       "      <td>NaN</td>\n",
       "      <td>2023-10-31 11:27:35.419</td>\n",
       "    </tr>\n",
       "    <tr>\n",
       "      <th>2</th>\n",
       "      <td>6163311</td>\n",
       "      <td>7</td>\n",
       "      <td>NaN</td>\n",
       "      <td>2023-10-31 11:27:35.937</td>\n",
       "    </tr>\n",
       "    <tr>\n",
       "      <th>3</th>\n",
       "      <td>6226536</td>\n",
       "      <td>7</td>\n",
       "      <td>NaN</td>\n",
       "      <td>2023-10-31 11:27:36.050</td>\n",
       "    </tr>\n",
       "    <tr>\n",
       "      <th>4</th>\n",
       "      <td>6195567</td>\n",
       "      <td>7</td>\n",
       "      <td>NaN</td>\n",
       "      <td>2023-10-31 11:27:36.509</td>\n",
       "    </tr>\n",
       "    <tr>\n",
       "      <th>...</th>\n",
       "      <td>...</td>\n",
       "      <td>...</td>\n",
       "      <td>...</td>\n",
       "      <td>...</td>\n",
       "    </tr>\n",
       "    <tr>\n",
       "      <th>179301</th>\n",
       "      <td>1585468</td>\n",
       "      <td>71</td>\n",
       "      <td>NaN</td>\n",
       "      <td>2023-11-27 05:00:04.000</td>\n",
       "    </tr>\n",
       "    <tr>\n",
       "      <th>179302</th>\n",
       "      <td>1584912</td>\n",
       "      <td>6</td>\n",
       "      <td>NaN</td>\n",
       "      <td>2023-11-27 05:10:06.000</td>\n",
       "    </tr>\n",
       "    <tr>\n",
       "      <th>179303</th>\n",
       "      <td>1590163</td>\n",
       "      <td>4</td>\n",
       "      <td>NaN</td>\n",
       "      <td>2023-12-01 17:10:23.000</td>\n",
       "    </tr>\n",
       "    <tr>\n",
       "      <th>179304</th>\n",
       "      <td>1579837</td>\n",
       "      <td>9</td>\n",
       "      <td>NaN</td>\n",
       "      <td>2023-11-27 04:45:04.000</td>\n",
       "    </tr>\n",
       "    <tr>\n",
       "      <th>179305</th>\n",
       "      <td>1586559</td>\n",
       "      <td>2</td>\n",
       "      <td>NaN</td>\n",
       "      <td>2023-11-27 19:24:03.000</td>\n",
       "    </tr>\n",
       "  </tbody>\n",
       "</table>\n",
       "<p>7710900 rows × 4 columns</p>\n",
       "</div>"
      ],
      "text/plain": [
       "        order_id  status source             status_time\n",
       "0        6331113       4    NaN 2023-10-31 11:27:34.989\n",
       "1        6228721       7    NaN 2023-10-31 11:27:35.419\n",
       "2        6163311       7    NaN 2023-10-31 11:27:35.937\n",
       "3        6226536       7    NaN 2023-10-31 11:27:36.050\n",
       "4        6195567       7    NaN 2023-10-31 11:27:36.509\n",
       "...          ...     ...    ...                     ...\n",
       "179301   1585468      71    NaN 2023-11-27 05:00:04.000\n",
       "179302   1584912       6    NaN 2023-11-27 05:10:06.000\n",
       "179303   1590163       4    NaN 2023-12-01 17:10:23.000\n",
       "179304   1579837       9    NaN 2023-11-27 04:45:04.000\n",
       "179305   1586559       2    NaN 2023-11-27 19:24:03.000\n",
       "\n",
       "[7710900 rows x 4 columns]"
      ]
     },
     "execution_count": 18,
     "metadata": {},
     "output_type": "execute_result"
    }
   ],
   "source": [
    "dfs"
   ]
  },
  {
   "cell_type": "code",
   "execution_count": null,
   "metadata": {},
   "outputs": [],
   "source": []
  },
  {
   "cell_type": "code",
   "execution_count": null,
   "metadata": {},
   "outputs": [],
   "source": []
  },
  {
   "cell_type": "code",
   "execution_count": 114,
   "metadata": {
    "ExecuteTime": {
     "end_time": "2024-01-19T10:38:21.967128Z",
     "start_time": "2024-01-19T10:36:53.875037Z"
    }
   },
   "outputs": [],
   "source": [
    "# номера заказов из еком\n",
    "dfo = pd.read_csv('https://redash.puls.ru/api/queries/8525/results.csv?api_key=cLN1dxPKexPyj7an8hXyaOZHY3zv2l4uwTPPZS42')"
   ]
  },
  {
   "cell_type": "code",
   "execution_count": 115,
   "metadata": {
    "ExecuteTime": {
     "end_time": "2024-01-19T10:38:26.537381Z",
     "start_time": "2024-01-19T10:38:21.972115Z"
    }
   },
   "outputs": [],
   "source": [
    "dfop = pd.read_csv('https://redash.puls.ru/api/queries/8537/results.csv?api_key=QgDv1XehCGYgkDIWmiyP1J6sPSUsXVw8WwYjoRGy')"
   ]
  },
  {
   "cell_type": "code",
   "execution_count": 116,
   "metadata": {
    "ExecuteTime": {
     "end_time": "2024-01-19T10:38:26.727114Z",
     "start_time": "2024-01-19T10:38:26.539375Z"
    }
   },
   "outputs": [],
   "source": [
    "dfo = pd.concat([dfo, dfop])"
   ]
  },
  {
   "cell_type": "code",
   "execution_count": 117,
   "metadata": {
    "ExecuteTime": {
     "end_time": "2024-01-19T10:38:27.529790Z",
     "start_time": "2024-01-19T10:38:26.731071Z"
    }
   },
   "outputs": [],
   "source": [
    "dfo['created'] = pd.to_datetime(dfo['created'])\n",
    "dfo['delivery_date'] = pd.to_datetime(dfo['delivery_date'])"
   ]
  },
  {
   "cell_type": "code",
   "execution_count": 118,
   "metadata": {
    "ExecuteTime": {
     "end_time": "2024-01-19T10:38:27.840659Z",
     "start_time": "2024-01-19T10:38:27.533556Z"
    }
   },
   "outputs": [],
   "source": [
    "dfo = dfo[(dfo['created'].dt.month == 11) ]"
   ]
  },
  {
   "cell_type": "code",
   "execution_count": 119,
   "metadata": {
    "ExecuteTime": {
     "end_time": "2024-01-19T10:38:27.855867Z",
     "start_time": "2024-01-19T10:38:27.844592Z"
    }
   },
   "outputs": [],
   "source": [
    "#dfo[(dfo.inn.isna()) & (dfo.brand == 'Планета Здоровья' )]"
   ]
  },
  {
   "cell_type": "code",
   "execution_count": 120,
   "metadata": {
    "ExecuteTime": {
     "end_time": "2024-01-19T10:38:27.963706Z",
     "start_time": "2024-01-19T10:38:27.860845Z"
    }
   },
   "outputs": [],
   "source": [
    "dfo.marketplace_number = dfo.marketplace_number.astype('str')"
   ]
  },
  {
   "cell_type": "code",
   "execution_count": 121,
   "metadata": {
    "ExecuteTime": {
     "end_time": "2024-01-19T10:38:28.417259Z",
     "start_time": "2024-01-19T10:38:27.966728Z"
    }
   },
   "outputs": [
    {
     "name": "stdout",
     "output_type": "stream",
     "text": [
      "<class 'pandas.core.frame.DataFrame'>\n",
      "Int64Index: 596970 entries, 0 to 20614\n",
      "Data columns (total 9 columns):\n",
      " #   Column              Non-Null Count   Dtype         \n",
      "---  ------              --------------   -----         \n",
      " 0   id                  596970 non-null  int64         \n",
      " 1   marketplace_number  596970 non-null  object        \n",
      " 2   sys_status          577075 non-null  float64       \n",
      " 3   mm                  596970 non-null  object        \n",
      " 4   rk                  596970 non-null  object        \n",
      " 5   inn                 554180 non-null  float64       \n",
      " 6   created             596970 non-null  datetime64[ns]\n",
      " 7   created_local       596970 non-null  object        \n",
      " 8   delivery_date       596970 non-null  datetime64[ns]\n",
      "dtypes: datetime64[ns](2), float64(2), int64(1), object(4)\n",
      "memory usage: 45.5+ MB\n"
     ]
    }
   ],
   "source": [
    "dfo.info()"
   ]
  },
  {
   "cell_type": "code",
   "execution_count": 122,
   "metadata": {
    "ExecuteTime": {
     "end_time": "2024-01-19T10:38:29.026198Z",
     "start_time": "2024-01-19T10:38:28.420254Z"
    }
   },
   "outputs": [],
   "source": [
    "#dfo['inn'] = dfo['inn'].fillna(0).astype(int)\n",
    "dfo['innst'] = dfo['inn'].astype(str)"
   ]
  },
  {
   "cell_type": "code",
   "execution_count": null,
   "metadata": {},
   "outputs": [],
   "source": []
  },
  {
   "cell_type": "code",
   "execution_count": 123,
   "metadata": {
    "ExecuteTime": {
     "end_time": "2024-01-19T10:38:29.058141Z",
     "start_time": "2024-01-19T10:38:29.031183Z"
    }
   },
   "outputs": [],
   "source": [
    "inn_erka = pd.read_excel('inn_erka.xlsx')"
   ]
  },
  {
   "cell_type": "code",
   "execution_count": 124,
   "metadata": {
    "ExecuteTime": {
     "end_time": "2024-01-19T10:38:29.090056Z",
     "start_time": "2024-01-19T10:38:29.061102Z"
    }
   },
   "outputs": [],
   "source": [
    "inn_pz = pd.read_excel('inn_pz.xlsx')"
   ]
  },
  {
   "cell_type": "code",
   "execution_count": 125,
   "metadata": {
    "ExecuteTime": {
     "end_time": "2024-01-19T10:38:29.232398Z",
     "start_time": "2024-01-19T10:38:29.093017Z"
    }
   },
   "outputs": [],
   "source": [
    "dfo_erka = dfo[dfo.inn.isin(inn_erka.inn)]"
   ]
  },
  {
   "cell_type": "code",
   "execution_count": 31,
   "metadata": {},
   "outputs": [
    {
     "ename": "AttributeError",
     "evalue": "'DataFrame' object has no attribute 'brand'",
     "output_type": "error",
     "traceback": [
      "\u001b[1;31m---------------------------------------------------------------------------\u001b[0m",
      "\u001b[1;31mAttributeError\u001b[0m                            Traceback (most recent call last)",
      "Cell \u001b[1;32mIn[31], line 1\u001b[0m\n\u001b[1;32m----> 1\u001b[0m dfo_pz \u001b[38;5;241m=\u001b[39m dfo[dfo\u001b[38;5;241m.\u001b[39minn\u001b[38;5;241m.\u001b[39misin(inn_pz\u001b[38;5;241m.\u001b[39minn) \u001b[38;5;241m|\u001b[39m (\u001b[43mdfo\u001b[49m\u001b[38;5;241;43m.\u001b[39;49m\u001b[43mbrand\u001b[49m \u001b[38;5;241m==\u001b[39m \u001b[38;5;124m'\u001b[39m\u001b[38;5;124mПланета Здоровья\u001b[39m\u001b[38;5;124m'\u001b[39m )]\n",
      "File \u001b[1;32mD:\\progs\\Anaconda\\lib\\site-packages\\pandas\\core\\generic.py:5902\u001b[0m, in \u001b[0;36mNDFrame.__getattr__\u001b[1;34m(self, name)\u001b[0m\n\u001b[0;32m   5895\u001b[0m \u001b[38;5;28;01mif\u001b[39;00m (\n\u001b[0;32m   5896\u001b[0m     name \u001b[38;5;129;01mnot\u001b[39;00m \u001b[38;5;129;01min\u001b[39;00m \u001b[38;5;28mself\u001b[39m\u001b[38;5;241m.\u001b[39m_internal_names_set\n\u001b[0;32m   5897\u001b[0m     \u001b[38;5;129;01mand\u001b[39;00m name \u001b[38;5;129;01mnot\u001b[39;00m \u001b[38;5;129;01min\u001b[39;00m \u001b[38;5;28mself\u001b[39m\u001b[38;5;241m.\u001b[39m_metadata\n\u001b[0;32m   5898\u001b[0m     \u001b[38;5;129;01mand\u001b[39;00m name \u001b[38;5;129;01mnot\u001b[39;00m \u001b[38;5;129;01min\u001b[39;00m \u001b[38;5;28mself\u001b[39m\u001b[38;5;241m.\u001b[39m_accessors\n\u001b[0;32m   5899\u001b[0m     \u001b[38;5;129;01mand\u001b[39;00m \u001b[38;5;28mself\u001b[39m\u001b[38;5;241m.\u001b[39m_info_axis\u001b[38;5;241m.\u001b[39m_can_hold_identifiers_and_holds_name(name)\n\u001b[0;32m   5900\u001b[0m ):\n\u001b[0;32m   5901\u001b[0m     \u001b[38;5;28;01mreturn\u001b[39;00m \u001b[38;5;28mself\u001b[39m[name]\n\u001b[1;32m-> 5902\u001b[0m \u001b[38;5;28;01mreturn\u001b[39;00m \u001b[38;5;28;43mobject\u001b[39;49m\u001b[38;5;241;43m.\u001b[39;49m\u001b[38;5;21;43m__getattribute__\u001b[39;49m\u001b[43m(\u001b[49m\u001b[38;5;28;43mself\u001b[39;49m\u001b[43m,\u001b[49m\u001b[43m \u001b[49m\u001b[43mname\u001b[49m\u001b[43m)\u001b[49m\n",
      "\u001b[1;31mAttributeError\u001b[0m: 'DataFrame' object has no attribute 'brand'"
     ]
    }
   ],
   "source": [
    "dfo_pz = dfo[dfo.inn.isin(inn_pz.inn) | (dfo.brand == 'Планета Здоровья' )]"
   ]
  },
  {
   "cell_type": "code",
   "execution_count": null,
   "metadata": {},
   "outputs": [],
   "source": []
  },
  {
   "cell_type": "code",
   "execution_count": 126,
   "metadata": {
    "ExecuteTime": {
     "end_time": "2024-01-19T10:40:22.098597Z",
     "start_time": "2024-01-19T10:40:22.075659Z"
    }
   },
   "outputs": [
    {
     "data": {
      "text/plain": [
       "30831"
      ]
     },
     "execution_count": 126,
     "metadata": {},
     "output_type": "execute_result"
    }
   ],
   "source": [
    "dfo_erka.id.nunique()"
   ]
  },
  {
   "cell_type": "code",
   "execution_count": 32,
   "metadata": {
    "ExecuteTime": {
     "end_time": "2024-01-19T09:41:02.186801Z",
     "start_time": "2024-01-19T09:41:01.329251Z"
    }
   },
   "outputs": [
    {
     "ename": "NameError",
     "evalue": "name 'dfo_pz' is not defined",
     "output_type": "error",
     "traceback": [
      "\u001b[1;31m---------------------------------------------------------------------------\u001b[0m",
      "\u001b[1;31mNameError\u001b[0m                                 Traceback (most recent call last)",
      "Cell \u001b[1;32mIn[32], line 1\u001b[0m\n\u001b[1;32m----> 1\u001b[0m \u001b[43mdfo_pz\u001b[49m\u001b[38;5;241m.\u001b[39mid\u001b[38;5;241m.\u001b[39mnunique()\n",
      "\u001b[1;31mNameError\u001b[0m: name 'dfo_pz' is not defined"
     ]
    }
   ],
   "source": [
    "dfo_pz.id.nunique()"
   ]
  },
  {
   "cell_type": "code",
   "execution_count": 127,
   "metadata": {
    "ExecuteTime": {
     "end_time": "2024-01-19T10:40:24.302028Z",
     "start_time": "2024-01-19T10:40:24.265422Z"
    }
   },
   "outputs": [
    {
     "ename": "AttributeError",
     "evalue": "'DataFrame' object has no attribute 'brand'",
     "output_type": "error",
     "traceback": [
      "\u001b[1;31m---------------------------------------------------------------------------\u001b[0m",
      "\u001b[1;31mAttributeError\u001b[0m                            Traceback (most recent call last)",
      "Cell \u001b[1;32mIn[127], line 1\u001b[0m\n\u001b[1;32m----> 1\u001b[0m \u001b[43mdfo_erka\u001b[49m\u001b[38;5;241;43m.\u001b[39;49m\u001b[43mbrand\u001b[49m\u001b[38;5;241m.\u001b[39munique()\n",
      "File \u001b[1;32mD:\\progs\\Anaconda\\lib\\site-packages\\pandas\\core\\generic.py:5902\u001b[0m, in \u001b[0;36mNDFrame.__getattr__\u001b[1;34m(self, name)\u001b[0m\n\u001b[0;32m   5895\u001b[0m \u001b[38;5;28;01mif\u001b[39;00m (\n\u001b[0;32m   5896\u001b[0m     name \u001b[38;5;129;01mnot\u001b[39;00m \u001b[38;5;129;01min\u001b[39;00m \u001b[38;5;28mself\u001b[39m\u001b[38;5;241m.\u001b[39m_internal_names_set\n\u001b[0;32m   5897\u001b[0m     \u001b[38;5;129;01mand\u001b[39;00m name \u001b[38;5;129;01mnot\u001b[39;00m \u001b[38;5;129;01min\u001b[39;00m \u001b[38;5;28mself\u001b[39m\u001b[38;5;241m.\u001b[39m_metadata\n\u001b[0;32m   5898\u001b[0m     \u001b[38;5;129;01mand\u001b[39;00m name \u001b[38;5;129;01mnot\u001b[39;00m \u001b[38;5;129;01min\u001b[39;00m \u001b[38;5;28mself\u001b[39m\u001b[38;5;241m.\u001b[39m_accessors\n\u001b[0;32m   5899\u001b[0m     \u001b[38;5;129;01mand\u001b[39;00m \u001b[38;5;28mself\u001b[39m\u001b[38;5;241m.\u001b[39m_info_axis\u001b[38;5;241m.\u001b[39m_can_hold_identifiers_and_holds_name(name)\n\u001b[0;32m   5900\u001b[0m ):\n\u001b[0;32m   5901\u001b[0m     \u001b[38;5;28;01mreturn\u001b[39;00m \u001b[38;5;28mself\u001b[39m[name]\n\u001b[1;32m-> 5902\u001b[0m \u001b[38;5;28;01mreturn\u001b[39;00m \u001b[38;5;28;43mobject\u001b[39;49m\u001b[38;5;241;43m.\u001b[39;49m\u001b[38;5;21;43m__getattribute__\u001b[39;49m\u001b[43m(\u001b[49m\u001b[38;5;28;43mself\u001b[39;49m\u001b[43m,\u001b[49m\u001b[43m \u001b[49m\u001b[43mname\u001b[49m\u001b[43m)\u001b[49m\n",
      "\u001b[1;31mAttributeError\u001b[0m: 'DataFrame' object has no attribute 'brand'"
     ]
    }
   ],
   "source": [
    "dfo_erka.brand.unique()"
   ]
  },
  {
   "cell_type": "code",
   "execution_count": 35,
   "metadata": {
    "ExecuteTime": {
     "end_time": "2024-01-19T09:41:11.557044Z",
     "start_time": "2024-01-19T09:41:11.524130Z"
    }
   },
   "outputs": [
    {
     "ename": "NameError",
     "evalue": "name 'dfo_pz' is not defined",
     "output_type": "error",
     "traceback": [
      "\u001b[1;31m---------------------------------------------------------------------------\u001b[0m",
      "\u001b[1;31mNameError\u001b[0m                                 Traceback (most recent call last)",
      "Cell \u001b[1;32mIn[35], line 1\u001b[0m\n\u001b[1;32m----> 1\u001b[0m \u001b[43mdfo_pz\u001b[49m\u001b[38;5;241m.\u001b[39mbrand\u001b[38;5;241m.\u001b[39munique()\n",
      "\u001b[1;31mNameError\u001b[0m: name 'dfo_pz' is not defined"
     ]
    }
   ],
   "source": [
    "dfo_pz.brand.unique()"
   ]
  },
  {
   "cell_type": "code",
   "execution_count": null,
   "metadata": {},
   "outputs": [],
   "source": []
  },
  {
   "cell_type": "code",
   "execution_count": 128,
   "metadata": {
    "ExecuteTime": {
     "end_time": "2024-01-19T10:40:26.770848Z",
     "start_time": "2024-01-19T10:40:26.556571Z"
    }
   },
   "outputs": [],
   "source": [
    "dfs71 = dfs[dfs.status == 71]\n",
    "dfs9 = dfs[dfs.status == 9]\n",
    "dfs6 = dfs[dfs.status == 6]"
   ]
  },
  {
   "cell_type": "code",
   "execution_count": null,
   "metadata": {},
   "outputs": [],
   "source": []
  },
  {
   "cell_type": "code",
   "execution_count": 129,
   "metadata": {
    "ExecuteTime": {
     "end_time": "2024-01-19T10:40:46.628440Z",
     "start_time": "2024-01-19T10:40:28.081561Z"
    }
   },
   "outputs": [],
   "source": [
    "# Заказы от Эркафарм\n",
    "erka = pd.read_excel('Заказы пульса, Эркафарм.xlsx')"
   ]
  },
  {
   "cell_type": "code",
   "execution_count": 130,
   "metadata": {
    "ExecuteTime": {
     "end_time": "2024-01-19T10:40:46.660097Z",
     "start_time": "2024-01-19T10:40:46.631433Z"
    }
   },
   "outputs": [],
   "source": [
    "erka = erka.iloc[:, [0, 4, 5]]\n",
    "erka.columns = ['er_order_id', 'er_status', 'er_status_time']"
   ]
  },
  {
   "cell_type": "code",
   "execution_count": 131,
   "metadata": {
    "ExecuteTime": {
     "end_time": "2024-01-19T10:40:57.179025Z",
     "start_time": "2024-01-19T10:40:46.663089Z"
    }
   },
   "outputs": [],
   "source": [
    "erka['er_status_time'] = pd.to_datetime(erka['er_status_time'], dayfirst=True)"
   ]
  },
  {
   "cell_type": "code",
   "execution_count": 132,
   "metadata": {
    "ExecuteTime": {
     "end_time": "2024-01-19T10:40:57.209718Z",
     "start_time": "2024-01-19T10:40:57.182985Z"
    }
   },
   "outputs": [],
   "source": [
    "erka71 = erka[erka.er_status == 'Собрали заказ / Оттправили Ready']"
   ]
  },
  {
   "cell_type": "code",
   "execution_count": 133,
   "metadata": {
    "ExecuteTime": {
     "end_time": "2024-01-19T10:40:57.240704Z",
     "start_time": "2024-01-19T10:40:57.212702Z"
    }
   },
   "outputs": [],
   "source": [
    "erka9 = erka[erka.er_status == 'Продан']"
   ]
  },
  {
   "cell_type": "code",
   "execution_count": 134,
   "metadata": {
    "ExecuteTime": {
     "end_time": "2024-01-19T10:41:13.072183Z",
     "start_time": "2024-01-19T10:40:57.244211Z"
    }
   },
   "outputs": [],
   "source": [
    "# Заказы от Планеты здоровья\n",
    "pz = pd.read_excel('Заказы пульса за ноябрь, Планета Здоровья.xlsx')"
   ]
  },
  {
   "cell_type": "code",
   "execution_count": 135,
   "metadata": {
    "ExecuteTime": {
     "end_time": "2024-01-19T10:41:13.087444Z",
     "start_time": "2024-01-19T10:41:13.074149Z"
    }
   },
   "outputs": [],
   "source": [
    "pz = pz.iloc[:, [1, 2, 3]]"
   ]
  },
  {
   "cell_type": "code",
   "execution_count": 136,
   "metadata": {
    "ExecuteTime": {
     "end_time": "2024-01-19T10:41:13.103165Z",
     "start_time": "2024-01-19T10:41:13.090180Z"
    }
   },
   "outputs": [],
   "source": [
    "pz.columns = ['pz_order_guid', 'pz_status', 'pz_status_time']"
   ]
  },
  {
   "cell_type": "code",
   "execution_count": 137,
   "metadata": {
    "ExecuteTime": {
     "end_time": "2024-01-19T10:41:13.134136Z",
     "start_time": "2024-01-19T10:41:13.106138Z"
    }
   },
   "outputs": [],
   "source": [
    "pz71 = pz[pz.pz_status == 'ready']"
   ]
  },
  {
   "cell_type": "code",
   "execution_count": 138,
   "metadata": {
    "ExecuteTime": {
     "end_time": "2024-01-19T10:41:13.180938Z",
     "start_time": "2024-01-19T10:41:13.139050Z"
    }
   },
   "outputs": [],
   "source": [
    "pz9 = pz[pz.pz_status == 'sold']"
   ]
  },
  {
   "cell_type": "code",
   "execution_count": null,
   "metadata": {},
   "outputs": [],
   "source": []
  },
  {
   "cell_type": "code",
   "execution_count": null,
   "metadata": {},
   "outputs": [],
   "source": []
  },
  {
   "cell_type": "code",
   "execution_count": 98,
   "metadata": {},
   "outputs": [],
   "source": [
    "# vyg = dfo_erka71[(dfo_erka71.mm == 'Ютека') & (~dfo_erka71.id.isna()) & (dfo_erka71.order_id.isna())]      \\\n",
    "#             .loc[:, ['marketplace_number', 'guid', 'rk', 'created', 'innst']]   \\\n",
    "#             .drop_duplicates()"
   ]
  },
  {
   "cell_type": "code",
   "execution_count": 99,
   "metadata": {},
   "outputs": [],
   "source": [
    "# vyg.to_excel('output2.xlsx', index=False)"
   ]
  },
  {
   "cell_type": "code",
   "execution_count": 100,
   "metadata": {},
   "outputs": [],
   "source": [
    "# dd = dfo_pz71[(dfo_pz71.mm == 'Ютека') & (~dfo_pz71.order_id.isna())]      \\\n",
    "#             .loc[:, ['marketplace_number', 'guid', 'rk', 'created', 'source']]   \\\n",
    "#             .drop_duplicates()"
   ]
  },
  {
   "cell_type": "code",
   "execution_count": 101,
   "metadata": {},
   "outputs": [],
   "source": [
    "# dd.source.value_counts()"
   ]
  },
  {
   "cell_type": "code",
   "execution_count": 102,
   "metadata": {},
   "outputs": [],
   "source": [
    "# aa = dfo_pz71[(dfo_pz71.mm == 'В аптеке') & (~dfo_pz71.order_id.isna())] \\\n",
    "#     .loc[:, ['marketplace_number', 'rk', 'created', 'innst', 'pz_order_guid']]\n",
    "# aa[~aa.pz_order_guid.isna()].pz_order_guid.nunique()"
   ]
  },
  {
   "cell_type": "code",
   "execution_count": 219,
   "metadata": {},
   "outputs": [],
   "source": [
    "# dfo_pz71[(dfo_pz71.mm == 'В аптеке') & (~dfo_pz71.order_id.isna())].order_id.nunique()"
   ]
  },
  {
   "cell_type": "code",
   "execution_count": null,
   "metadata": {},
   "outputs": [],
   "source": []
  },
  {
   "cell_type": "markdown",
   "metadata": {},
   "source": [
    "## Эркафарм, аналитика времени статуса 71 (только Мск)"
   ]
  },
  {
   "cell_type": "markdown",
   "metadata": {},
   "source": [
    "### Время отправки статуса ready в течение дня"
   ]
  },
  {
   "cell_type": "code",
   "execution_count": 201,
   "metadata": {
    "ExecuteTime": {
     "end_time": "2024-01-19T12:47:39.704752Z",
     "start_time": "2024-01-19T12:47:39.662031Z"
    }
   },
   "outputs": [],
   "source": [
    "# Берем только Мск\n",
    "dfomsk = dfo_erka[dfo_erka.rk == 'ООО \"ФК ПУЛЬС\"']"
   ]
  },
  {
   "cell_type": "code",
   "execution_count": 202,
   "metadata": {
    "ExecuteTime": {
     "end_time": "2024-01-19T12:47:39.863651Z",
     "start_time": "2024-01-19T12:47:39.847694Z"
    }
   },
   "outputs": [
    {
     "data": {
      "text/plain": [
       "(15127, 10)"
      ]
     },
     "execution_count": 202,
     "metadata": {},
     "output_type": "execute_result"
    }
   ],
   "source": [
    "dfomsk.shape"
   ]
  },
  {
   "cell_type": "code",
   "execution_count": 203,
   "metadata": {
    "ExecuteTime": {
     "end_time": "2024-01-19T12:47:40.148307Z",
     "start_time": "2024-01-19T12:47:40.099307Z"
    }
   },
   "outputs": [],
   "source": [
    "dfomsk = dfomsk.merge(erka71, how='inner', left_on='marketplace_number', right_on='er_order_id')"
   ]
  },
  {
   "cell_type": "code",
   "execution_count": 204,
   "metadata": {
    "ExecuteTime": {
     "end_time": "2024-01-19T12:47:40.306139Z",
     "start_time": "2024-01-19T12:47:40.290182Z"
    }
   },
   "outputs": [
    {
     "data": {
      "text/plain": [
       "(14673, 13)"
      ]
     },
     "execution_count": 204,
     "metadata": {},
     "output_type": "execute_result"
    }
   ],
   "source": [
    "dfomsk.shape"
   ]
  },
  {
   "cell_type": "code",
   "execution_count": 205,
   "metadata": {
    "ExecuteTime": {
     "end_time": "2024-01-19T12:47:40.587794Z",
     "start_time": "2024-01-19T12:47:40.563860Z"
    }
   },
   "outputs": [],
   "source": [
    "dfomsk['hour'] = dfomsk['er_status_time'].dt.hour\n",
    "\n",
    "# Группировка по часу и подсчет количества заказов\n",
    "hourly_orders = dfomsk.groupby('hour').size().reset_index(name='num')"
   ]
  },
  {
   "cell_type": "code",
   "execution_count": 206,
   "metadata": {
    "ExecuteTime": {
     "end_time": "2024-01-19T12:47:40.776650Z",
     "start_time": "2024-01-19T12:47:40.762684Z"
    }
   },
   "outputs": [],
   "source": [
    "hourly_orders['percent'] = round(hourly_orders.num / hourly_orders.num.sum() * 100, 1)"
   ]
  },
  {
   "cell_type": "code",
   "execution_count": 207,
   "metadata": {
    "ExecuteTime": {
     "end_time": "2024-01-19T12:47:40.981549Z",
     "start_time": "2024-01-19T12:47:40.954592Z"
    }
   },
   "outputs": [
    {
     "data": {
      "text/html": [
       "<div>\n",
       "<style scoped>\n",
       "    .dataframe tbody tr th:only-of-type {\n",
       "        vertical-align: middle;\n",
       "    }\n",
       "\n",
       "    .dataframe tbody tr th {\n",
       "        vertical-align: top;\n",
       "    }\n",
       "\n",
       "    .dataframe thead th {\n",
       "        text-align: right;\n",
       "    }\n",
       "</style>\n",
       "<table border=\"1\" class=\"dataframe\">\n",
       "  <thead>\n",
       "    <tr style=\"text-align: right;\">\n",
       "      <th></th>\n",
       "      <th>hour</th>\n",
       "      <th>num</th>\n",
       "      <th>percent</th>\n",
       "    </tr>\n",
       "  </thead>\n",
       "  <tbody>\n",
       "    <tr>\n",
       "      <th>0</th>\n",
       "      <td>0</td>\n",
       "      <td>17</td>\n",
       "      <td>0.1</td>\n",
       "    </tr>\n",
       "    <tr>\n",
       "      <th>1</th>\n",
       "      <td>1</td>\n",
       "      <td>38</td>\n",
       "      <td>0.3</td>\n",
       "    </tr>\n",
       "    <tr>\n",
       "      <th>2</th>\n",
       "      <td>2</td>\n",
       "      <td>15</td>\n",
       "      <td>0.1</td>\n",
       "    </tr>\n",
       "    <tr>\n",
       "      <th>3</th>\n",
       "      <td>3</td>\n",
       "      <td>7</td>\n",
       "      <td>0.0</td>\n",
       "    </tr>\n",
       "    <tr>\n",
       "      <th>4</th>\n",
       "      <td>4</td>\n",
       "      <td>32</td>\n",
       "      <td>0.2</td>\n",
       "    </tr>\n",
       "    <tr>\n",
       "      <th>5</th>\n",
       "      <td>5</td>\n",
       "      <td>81</td>\n",
       "      <td>0.6</td>\n",
       "    </tr>\n",
       "    <tr>\n",
       "      <th>6</th>\n",
       "      <td>6</td>\n",
       "      <td>120</td>\n",
       "      <td>0.8</td>\n",
       "    </tr>\n",
       "    <tr>\n",
       "      <th>7</th>\n",
       "      <td>7</td>\n",
       "      <td>99</td>\n",
       "      <td>0.7</td>\n",
       "    </tr>\n",
       "    <tr>\n",
       "      <th>8</th>\n",
       "      <td>8</td>\n",
       "      <td>212</td>\n",
       "      <td>1.4</td>\n",
       "    </tr>\n",
       "    <tr>\n",
       "      <th>9</th>\n",
       "      <td>9</td>\n",
       "      <td>495</td>\n",
       "      <td>3.4</td>\n",
       "    </tr>\n",
       "    <tr>\n",
       "      <th>10</th>\n",
       "      <td>10</td>\n",
       "      <td>1016</td>\n",
       "      <td>6.9</td>\n",
       "    </tr>\n",
       "    <tr>\n",
       "      <th>11</th>\n",
       "      <td>11</td>\n",
       "      <td>1381</td>\n",
       "      <td>9.4</td>\n",
       "    </tr>\n",
       "    <tr>\n",
       "      <th>12</th>\n",
       "      <td>12</td>\n",
       "      <td>1417</td>\n",
       "      <td>9.7</td>\n",
       "    </tr>\n",
       "    <tr>\n",
       "      <th>13</th>\n",
       "      <td>13</td>\n",
       "      <td>1704</td>\n",
       "      <td>11.6</td>\n",
       "    </tr>\n",
       "    <tr>\n",
       "      <th>14</th>\n",
       "      <td>14</td>\n",
       "      <td>2103</td>\n",
       "      <td>14.3</td>\n",
       "    </tr>\n",
       "    <tr>\n",
       "      <th>15</th>\n",
       "      <td>15</td>\n",
       "      <td>2042</td>\n",
       "      <td>13.9</td>\n",
       "    </tr>\n",
       "    <tr>\n",
       "      <th>16</th>\n",
       "      <td>16</td>\n",
       "      <td>1490</td>\n",
       "      <td>10.2</td>\n",
       "    </tr>\n",
       "    <tr>\n",
       "      <th>17</th>\n",
       "      <td>17</td>\n",
       "      <td>1023</td>\n",
       "      <td>7.0</td>\n",
       "    </tr>\n",
       "    <tr>\n",
       "      <th>18</th>\n",
       "      <td>18</td>\n",
       "      <td>657</td>\n",
       "      <td>4.5</td>\n",
       "    </tr>\n",
       "    <tr>\n",
       "      <th>19</th>\n",
       "      <td>19</td>\n",
       "      <td>370</td>\n",
       "      <td>2.5</td>\n",
       "    </tr>\n",
       "    <tr>\n",
       "      <th>20</th>\n",
       "      <td>20</td>\n",
       "      <td>228</td>\n",
       "      <td>1.6</td>\n",
       "    </tr>\n",
       "    <tr>\n",
       "      <th>21</th>\n",
       "      <td>21</td>\n",
       "      <td>110</td>\n",
       "      <td>0.7</td>\n",
       "    </tr>\n",
       "    <tr>\n",
       "      <th>22</th>\n",
       "      <td>22</td>\n",
       "      <td>14</td>\n",
       "      <td>0.1</td>\n",
       "    </tr>\n",
       "    <tr>\n",
       "      <th>23</th>\n",
       "      <td>23</td>\n",
       "      <td>2</td>\n",
       "      <td>0.0</td>\n",
       "    </tr>\n",
       "  </tbody>\n",
       "</table>\n",
       "</div>"
      ],
      "text/plain": [
       "    hour   num  percent\n",
       "0      0    17      0.1\n",
       "1      1    38      0.3\n",
       "2      2    15      0.1\n",
       "3      3     7      0.0\n",
       "4      4    32      0.2\n",
       "5      5    81      0.6\n",
       "6      6   120      0.8\n",
       "7      7    99      0.7\n",
       "8      8   212      1.4\n",
       "9      9   495      3.4\n",
       "10    10  1016      6.9\n",
       "11    11  1381      9.4\n",
       "12    12  1417      9.7\n",
       "13    13  1704     11.6\n",
       "14    14  2103     14.3\n",
       "15    15  2042     13.9\n",
       "16    16  1490     10.2\n",
       "17    17  1023      7.0\n",
       "18    18   657      4.5\n",
       "19    19   370      2.5\n",
       "20    20   228      1.6\n",
       "21    21   110      0.7\n",
       "22    22    14      0.1\n",
       "23    23     2      0.0"
      ]
     },
     "execution_count": 207,
     "metadata": {},
     "output_type": "execute_result"
    }
   ],
   "source": [
    "hourly_orders"
   ]
  },
  {
   "cell_type": "code",
   "execution_count": 213,
   "metadata": {
    "ExecuteTime": {
     "end_time": "2024-01-19T12:52:41.598831Z",
     "start_time": "2024-01-19T12:52:40.812855Z"
    }
   },
   "outputs": [
    {
     "data": {
      "text/plain": [
       "''"
      ]
     },
     "execution_count": 213,
     "metadata": {},
     "output_type": "execute_result"
    },
    {
     "data": {
      "image/png": "[encoded data removed]",
      "text/plain": [
       "<Figure size 2000x700 with 1 Axes>"
      ]
     },
     "metadata": {},
     "output_type": "display_data"
    }
   ],
   "source": [
    "sns.barplot(x='hour', y='percent', data=hourly_orders)\n",
    "plt.title('В какой час приходят статусы ready в течение дня')\n",
    "plt.xlabel('Час')\n",
    "plt.ylabel('Процент')\n",
    ";"
   ]
  },
  {
   "cell_type": "code",
   "execution_count": null,
   "metadata": {},
   "outputs": [],
   "source": []
  },
  {
   "cell_type": "markdown",
   "metadata": {},
   "source": [
    "### Время между нашим 6 статусом, ready и delivery_date"
   ]
  },
  {
   "cell_type": "code",
   "execution_count": 215,
   "metadata": {
    "ExecuteTime": {
     "end_time": "2024-01-19T12:53:26.770160Z",
     "start_time": "2024-01-19T12:53:26.571234Z"
    }
   },
   "outputs": [],
   "source": [
    "dfomsk6 = dfomsk.merge(dfs6, how='inner', left_on='id', right_on='order_id')"
   ]
  },
  {
   "cell_type": "code",
   "execution_count": 216,
   "metadata": {
    "ExecuteTime": {
     "end_time": "2024-01-19T12:53:27.055345Z",
     "start_time": "2024-01-19T12:53:27.044445Z"
    }
   },
   "outputs": [],
   "source": [
    "dfomsk6 = dfomsk6.loc[:, ['marketplace_number', 'mm', 'delivery_date', 'status_time', 'er_status_time', 'innst']]"
   ]
  },
  {
   "cell_type": "markdown",
   "metadata": {},
   "source": [
    "**Общее количество заказов по Мск:**"
   ]
  },
  {
   "cell_type": "code",
   "execution_count": 224,
   "metadata": {
    "ExecuteTime": {
     "end_time": "2024-01-19T12:54:31.284317Z",
     "start_time": "2024-01-19T12:54:31.277777Z"
    }
   },
   "outputs": [
    {
     "data": {
      "text/plain": [
       "14459"
      ]
     },
     "execution_count": 224,
     "metadata": {},
     "output_type": "execute_result"
    }
   ],
   "source": [
    "dfomsk6.shape[0]"
   ]
  },
  {
   "cell_type": "code",
   "execution_count": 219,
   "metadata": {
    "ExecuteTime": {
     "end_time": "2024-01-19T12:53:33.080594Z",
     "start_time": "2024-01-19T12:53:33.062341Z"
    }
   },
   "outputs": [],
   "source": [
    "time_difference = dfomsk6.delivery_date - dfomsk6.status_time\n",
    "dfomsk6['del_6'] = time_difference / pd.Timedelta(hours=1)"
   ]
  },
  {
   "cell_type": "code",
   "execution_count": 220,
   "metadata": {
    "ExecuteTime": {
     "end_time": "2024-01-19T12:53:33.239862Z",
     "start_time": "2024-01-19T12:53:33.217808Z"
    }
   },
   "outputs": [],
   "source": [
    "time_difference = dfomsk6.er_status_time - dfomsk6.status_time\n",
    "dfomsk6['ready_6'] = time_difference / pd.Timedelta(hours=1)"
   ]
  },
  {
   "cell_type": "code",
   "execution_count": 221,
   "metadata": {
    "ExecuteTime": {
     "end_time": "2024-01-19T12:53:33.413908Z",
     "start_time": "2024-01-19T12:53:33.402937Z"
    }
   },
   "outputs": [],
   "source": [
    "time_difference = dfomsk6.delivery_date - dfomsk6.er_status_time\n",
    "dfomsk6['del_ready'] = time_difference / pd.Timedelta(hours=1)"
   ]
  },
  {
   "cell_type": "code",
   "execution_count": null,
   "metadata": {},
   "outputs": [],
   "source": []
  },
  {
   "cell_type": "code",
   "execution_count": 235,
   "metadata": {
    "ExecuteTime": {
     "end_time": "2024-01-19T13:05:22.309299Z",
     "start_time": "2024-01-19T13:05:22.299162Z"
    }
   },
   "outputs": [],
   "source": [
    "#sum(dfomsk6.del_6 < 0) / len(dfomsk6.del_6 < 0) * 100"
   ]
  },
  {
   "cell_type": "code",
   "execution_count": 236,
   "metadata": {
    "ExecuteTime": {
     "end_time": "2024-01-19T13:05:22.467844Z",
     "start_time": "2024-01-19T13:05:22.452887Z"
    }
   },
   "outputs": [],
   "source": [
    "#sum(dfomsk6.ready_6 < 0) / len(dfomsk6.ready_6 < 0) * 100"
   ]
  },
  {
   "cell_type": "markdown",
   "metadata": {},
   "source": [
    "**Процент заказов, где статус ready пришел позже времени delivery_date:**"
   ]
  },
  {
   "cell_type": "code",
   "execution_count": 226,
   "metadata": {
    "ExecuteTime": {
     "end_time": "2024-01-19T12:56:20.057153Z",
     "start_time": "2024-01-19T12:56:20.033218Z"
    }
   },
   "outputs": [
    {
     "data": {
      "text/plain": [
       "8.1"
      ]
     },
     "execution_count": 226,
     "metadata": {},
     "output_type": "execute_result"
    }
   ],
   "source": [
    "round(sum(dfomsk6.del_ready < 0) / len(dfomsk6.del_ready < 0) * 100, 1)"
   ]
  },
  {
   "cell_type": "markdown",
   "metadata": {},
   "source": [
    "**Количество**"
   ]
  },
  {
   "cell_type": "code",
   "execution_count": 230,
   "metadata": {
    "ExecuteTime": {
     "end_time": "2024-01-19T12:57:42.262148Z",
     "start_time": "2024-01-19T12:57:42.241687Z"
    }
   },
   "outputs": [
    {
     "data": {
      "text/plain": [
       "1165"
      ]
     },
     "execution_count": 230,
     "metadata": {},
     "output_type": "execute_result"
    }
   ],
   "source": [
    "sum(dfomsk6.del_ready < 0)"
   ]
  },
  {
   "cell_type": "markdown",
   "metadata": {},
   "source": [
    "Для этих заказов можно посмотреть соотношение времени 6 статуса, ready и delivery_date."
   ]
  },
  {
   "cell_type": "code",
   "execution_count": 233,
   "metadata": {
    "ExecuteTime": {
     "end_time": "2024-01-19T13:04:40.276629Z",
     "start_time": "2024-01-19T13:04:39.518817Z"
    }
   },
   "outputs": [
    {
     "data": {
      "text/plain": [
       "''"
      ]
     },
     "execution_count": 233,
     "metadata": {},
     "output_type": "execute_result"
    },
    {
     "data": {
      "image/png": "[encoded data removed]",
      "text/plain": [
       "<Figure size 2000x700 with 1 Axes>"
      ]
     },
     "metadata": {},
     "output_type": "display_data"
    }
   ],
   "source": [
    "sns.histplot(dfomsk6[dfomsk6.del_ready < 0].del_ready, bins=100)\n",
    "plt.title('Время delivery_date минус время статуса ready, в часах')\n",
    "plt.xlabel('Часов')\n",
    "plt.ylabel('Количество случаев')\n",
    ";"
   ]
  },
  {
   "cell_type": "code",
   "execution_count": 234,
   "metadata": {
    "ExecuteTime": {
     "end_time": "2024-01-19T13:04:40.976194Z",
     "start_time": "2024-01-19T13:04:40.279615Z"
    }
   },
   "outputs": [
    {
     "data": {
      "text/plain": [
       "''"
      ]
     },
     "execution_count": 234,
     "metadata": {},
     "output_type": "execute_result"
    },
    {
     "data": {
      "image/png": "[encoded data removed]",
      "text/plain": [
       "<Figure size 2000x700 with 1 Axes>"
      ]
     },
     "metadata": {},
     "output_type": "display_data"
    }
   ],
   "source": [
    "sns.histplot(dfomsk6[dfomsk6.del_ready < 0].del_6, bins=100)\n",
    "plt.title('Время delivery_date минус время 6 статуса, в часах')\n",
    "plt.xlabel('Часов')\n",
    "plt.ylabel('Количество случаев')\n",
    ";"
   ]
  },
  {
   "cell_type": "code",
   "execution_count": null,
   "metadata": {},
   "outputs": [],
   "source": []
  },
  {
   "cell_type": "markdown",
   "metadata": {},
   "source": [
    "Видно, что у части из этих заказов 6 статус пришел тоже позже времени delivery_date. То есть можно предположить, что это не вина ТВЗ, а заказ отправили позже, чем нужно.\n",
    "\n",
    "Можно выделить **только заказы, где 6 статус пришел раньше, чем delivery_date, а статус ready позже**. Таких заказов меньше 4% от всех."
   ]
  },
  {
   "cell_type": "code",
   "execution_count": 242,
   "metadata": {
    "ExecuteTime": {
     "end_time": "2024-01-19T13:14:34.559889Z",
     "start_time": "2024-01-19T13:14:33.839936Z"
    }
   },
   "outputs": [
    {
     "data": {
      "text/plain": [
       "''"
      ]
     },
     "execution_count": 242,
     "metadata": {},
     "output_type": "execute_result"
    },
    {
     "data": {
      "image/png": "[encoded data removed]",
      "text/plain": [
       "<Figure size 2000x700 with 1 Axes>"
      ]
     },
     "metadata": {},
     "output_type": "display_data"
    }
   ],
   "source": [
    "sns.histplot(dfomsk6[(dfomsk6.del_ready < 0) & (dfomsk6.del_6 > 0)].del_ready, bins=100)\n",
    "plt.title('Время delivery_date минус время статуса ready, в часах')\n",
    "plt.xlabel('Часов')\n",
    "plt.ylabel('Количество случаев')\n",
    ";"
   ]
  },
  {
   "cell_type": "code",
   "execution_count": 240,
   "metadata": {
    "ExecuteTime": {
     "end_time": "2024-01-19T13:09:36.922771Z",
     "start_time": "2024-01-19T13:09:35.740904Z"
    }
   },
   "outputs": [
    {
     "data": {
      "text/plain": [
       "''"
      ]
     },
     "execution_count": 240,
     "metadata": {},
     "output_type": "execute_result"
    },
    {
     "data": {
      "image/png": "[encoded data removed]",
      "text/plain": [
       "<Figure size 2000x700 with 1 Axes>"
      ]
     },
     "metadata": {},
     "output_type": "display_data"
    }
   ],
   "source": [
    "sns.histplot(dfomsk6[(dfomsk6.del_ready < 0) & (dfomsk6.del_6 > 0)].del_6, bins=100)\n",
    "plt.title('Время delivery_date минус время 6 статуса, в часах')\n",
    "plt.xlabel('Часов')\n",
    "plt.ylabel('Количество случаев')\n",
    ";"
   ]
  },
  {
   "cell_type": "code",
   "execution_count": null,
   "metadata": {},
   "outputs": [],
   "source": []
  },
  {
   "cell_type": "code",
   "execution_count": null,
   "metadata": {},
   "outputs": [],
   "source": []
  },
  {
   "cell_type": "code",
   "execution_count": null,
   "metadata": {},
   "outputs": [],
   "source": []
  },
  {
   "cell_type": "code",
   "execution_count": null,
   "metadata": {},
   "outputs": [],
   "source": []
  },
  {
   "cell_type": "code",
   "execution_count": null,
   "metadata": {},
   "outputs": [],
   "source": []
  },
  {
   "cell_type": "code",
   "execution_count": null,
   "metadata": {},
   "outputs": [],
   "source": []
  },
  {
   "cell_type": "code",
   "execution_count": null,
   "metadata": {},
   "outputs": [],
   "source": []
  },
  {
   "cell_type": "code",
   "execution_count": null,
   "metadata": {},
   "outputs": [],
   "source": []
  },
  {
   "cell_type": "code",
   "execution_count": null,
   "metadata": {},
   "outputs": [],
   "source": []
  },
  {
   "cell_type": "code",
   "execution_count": null,
   "metadata": {},
   "outputs": [],
   "source": []
  },
  {
   "cell_type": "markdown",
   "metadata": {},
   "source": [
    "## Эркафарм 71 (альтернативный вариант)"
   ]
  },
  {
   "cell_type": "code",
   "execution_count": null,
   "metadata": {},
   "outputs": [],
   "source": []
  },
  {
   "cell_type": "code",
   "execution_count": null,
   "metadata": {},
   "outputs": [],
   "source": []
  },
  {
   "cell_type": "code",
   "execution_count": 48,
   "metadata": {},
   "outputs": [
    {
     "data": {
      "text/html": [
       "<div>\n",
       "<style scoped>\n",
       "    .dataframe tbody tr th:only-of-type {\n",
       "        vertical-align: middle;\n",
       "    }\n",
       "\n",
       "    .dataframe tbody tr th {\n",
       "        vertical-align: top;\n",
       "    }\n",
       "\n",
       "    .dataframe thead th {\n",
       "        text-align: right;\n",
       "    }\n",
       "</style>\n",
       "<table border=\"1\" class=\"dataframe\">\n",
       "  <thead>\n",
       "    <tr style=\"text-align: right;\">\n",
       "      <th></th>\n",
       "      <th>id</th>\n",
       "      <th>marketplace_number</th>\n",
       "      <th>mm</th>\n",
       "      <th>rk</th>\n",
       "      <th>innst</th>\n",
       "      <th>created</th>\n",
       "      <th>sys_status</th>\n",
       "    </tr>\n",
       "  </thead>\n",
       "  <tbody>\n",
       "    <tr>\n",
       "      <th>13</th>\n",
       "      <td>7672428</td>\n",
       "      <td>76546945</td>\n",
       "      <td>Ютека</td>\n",
       "      <td>ООО \"ФК ПУЛЬС\"</td>\n",
       "      <td>7701047916.0</td>\n",
       "      <td>2023-11-30 21:56:37</td>\n",
       "      <td>11.0</td>\n",
       "    </tr>\n",
       "    <tr>\n",
       "      <th>14</th>\n",
       "      <td>7672371</td>\n",
       "      <td>76546899</td>\n",
       "      <td>Ютека</td>\n",
       "      <td>ООО \"ФК ПУЛЬС\"</td>\n",
       "      <td>7701047916.0</td>\n",
       "      <td>2023-11-30 21:55:57</td>\n",
       "      <td>11.0</td>\n",
       "    </tr>\n",
       "    <tr>\n",
       "      <th>48</th>\n",
       "      <td>7575443</td>\n",
       "      <td>76313258</td>\n",
       "      <td>Ютека</td>\n",
       "      <td>ООО \"ФК ПУЛЬС\"</td>\n",
       "      <td>7701047916.0</td>\n",
       "      <td>2023-11-28 16:48:21</td>\n",
       "      <td>7.0</td>\n",
       "    </tr>\n",
       "    <tr>\n",
       "      <th>187</th>\n",
       "      <td>6424355</td>\n",
       "      <td>13981</td>\n",
       "      <td>ОК Аптека</td>\n",
       "      <td>ООО \"ФК ПУЛЬС\"</td>\n",
       "      <td>7714456627.0</td>\n",
       "      <td>2023-11-02 14:05:22</td>\n",
       "      <td>11.0</td>\n",
       "    </tr>\n",
       "    <tr>\n",
       "      <th>286</th>\n",
       "      <td>7664387</td>\n",
       "      <td>76526409</td>\n",
       "      <td>Ютека</td>\n",
       "      <td>ООО \"ФК ПУЛЬС\"</td>\n",
       "      <td>7701047916.0</td>\n",
       "      <td>2023-11-30 18:27:17</td>\n",
       "      <td>7.0</td>\n",
       "    </tr>\n",
       "    <tr>\n",
       "      <th>...</th>\n",
       "      <td>...</td>\n",
       "      <td>...</td>\n",
       "      <td>...</td>\n",
       "      <td>...</td>\n",
       "      <td>...</td>\n",
       "      <td>...</td>\n",
       "      <td>...</td>\n",
       "    </tr>\n",
       "    <tr>\n",
       "      <th>20522</th>\n",
       "      <td>1589507</td>\n",
       "      <td>1128211309</td>\n",
       "      <td>АптекаФорте</td>\n",
       "      <td>ООО \"ПУЛЬС СПб\"</td>\n",
       "      <td>7802611649.0</td>\n",
       "      <td>2023-11-30 21:01:05</td>\n",
       "      <td>NaN</td>\n",
       "    </tr>\n",
       "    <tr>\n",
       "      <th>20534</th>\n",
       "      <td>1589520</td>\n",
       "      <td>1128211318</td>\n",
       "      <td>АптекаФорте</td>\n",
       "      <td>ООО \"ФК ПУЛЬС\"</td>\n",
       "      <td>7701047916.0</td>\n",
       "      <td>2023-11-30 21:12:04</td>\n",
       "      <td>NaN</td>\n",
       "    </tr>\n",
       "    <tr>\n",
       "      <th>20572</th>\n",
       "      <td>1589559</td>\n",
       "      <td>1128211343</td>\n",
       "      <td>АптекаФорте</td>\n",
       "      <td>ООО \"ФК ПУЛЬС\"</td>\n",
       "      <td>7701047916.0</td>\n",
       "      <td>2023-11-30 22:17:04</td>\n",
       "      <td>NaN</td>\n",
       "    </tr>\n",
       "    <tr>\n",
       "      <th>20575</th>\n",
       "      <td>1589562</td>\n",
       "      <td>1128211345</td>\n",
       "      <td>АптекаФорте</td>\n",
       "      <td>ООО \"ПУЛЬС СПб\"</td>\n",
       "      <td>7802611649.0</td>\n",
       "      <td>2023-11-30 22:28:03</td>\n",
       "      <td>NaN</td>\n",
       "    </tr>\n",
       "    <tr>\n",
       "      <th>20589</th>\n",
       "      <td>1589576</td>\n",
       "      <td>1128211353</td>\n",
       "      <td>АптекаФорте</td>\n",
       "      <td>ООО \"ФК ПУЛЬС\"</td>\n",
       "      <td>7701047916.0</td>\n",
       "      <td>2023-11-30 22:50:04</td>\n",
       "      <td>NaN</td>\n",
       "    </tr>\n",
       "  </tbody>\n",
       "</table>\n",
       "<p>30831 rows × 7 columns</p>\n",
       "</div>"
      ],
      "text/plain": [
       "            id marketplace_number           mm               rk         innst  \\\n",
       "13     7672428           76546945        Ютека   ООО \"ФК ПУЛЬС\"  7701047916.0   \n",
       "14     7672371           76546899        Ютека   ООО \"ФК ПУЛЬС\"  7701047916.0   \n",
       "48     7575443           76313258        Ютека   ООО \"ФК ПУЛЬС\"  7701047916.0   \n",
       "187    6424355              13981    ОК Аптека   ООО \"ФК ПУЛЬС\"  7714456627.0   \n",
       "286    7664387           76526409        Ютека   ООО \"ФК ПУЛЬС\"  7701047916.0   \n",
       "...        ...                ...          ...              ...           ...   \n",
       "20522  1589507         1128211309  АптекаФорте  ООО \"ПУЛЬС СПб\"  7802611649.0   \n",
       "20534  1589520         1128211318  АптекаФорте   ООО \"ФК ПУЛЬС\"  7701047916.0   \n",
       "20572  1589559         1128211343  АптекаФорте   ООО \"ФК ПУЛЬС\"  7701047916.0   \n",
       "20575  1589562         1128211345  АптекаФорте  ООО \"ПУЛЬС СПб\"  7802611649.0   \n",
       "20589  1589576         1128211353  АптекаФорте   ООО \"ФК ПУЛЬС\"  7701047916.0   \n",
       "\n",
       "                  created  sys_status  \n",
       "13    2023-11-30 21:56:37        11.0  \n",
       "14    2023-11-30 21:55:57        11.0  \n",
       "48    2023-11-28 16:48:21         7.0  \n",
       "187   2023-11-02 14:05:22        11.0  \n",
       "286   2023-11-30 18:27:17         7.0  \n",
       "...                   ...         ...  \n",
       "20522 2023-11-30 21:01:05         NaN  \n",
       "20534 2023-11-30 21:12:04         NaN  \n",
       "20572 2023-11-30 22:17:04         NaN  \n",
       "20575 2023-11-30 22:28:03         NaN  \n",
       "20589 2023-11-30 22:50:04         NaN  \n",
       "\n",
       "[30831 rows x 7 columns]"
      ]
     },
     "execution_count": 48,
     "metadata": {},
     "output_type": "execute_result"
    }
   ],
   "source": [
    "dfo_erka = dfo_erka.loc[:, ['id', 'marketplace_number', 'mm', 'rk', 'innst', 'created', 'sys_status']]\n",
    "dfo_erka"
   ]
  },
  {
   "cell_type": "code",
   "execution_count": 49,
   "metadata": {},
   "outputs": [
    {
     "data": {
      "text/html": [
       "<div>\n",
       "<style scoped>\n",
       "    .dataframe tbody tr th:only-of-type {\n",
       "        vertical-align: middle;\n",
       "    }\n",
       "\n",
       "    .dataframe tbody tr th {\n",
       "        vertical-align: top;\n",
       "    }\n",
       "\n",
       "    .dataframe thead th {\n",
       "        text-align: right;\n",
       "    }\n",
       "</style>\n",
       "<table border=\"1\" class=\"dataframe\">\n",
       "  <thead>\n",
       "    <tr style=\"text-align: right;\">\n",
       "      <th></th>\n",
       "      <th>id</th>\n",
       "      <th>marketplace_number</th>\n",
       "      <th>mm</th>\n",
       "      <th>rk</th>\n",
       "      <th>innst</th>\n",
       "      <th>created</th>\n",
       "      <th>sys_status</th>\n",
       "      <th>er_order_id</th>\n",
       "      <th>er_status</th>\n",
       "      <th>er_status_time</th>\n",
       "    </tr>\n",
       "  </thead>\n",
       "  <tbody>\n",
       "    <tr>\n",
       "      <th>0</th>\n",
       "      <td>7575443</td>\n",
       "      <td>76313258</td>\n",
       "      <td>Ютека</td>\n",
       "      <td>ООО \"ФК ПУЛЬС\"</td>\n",
       "      <td>7701047916.0</td>\n",
       "      <td>2023-11-28 16:48:21</td>\n",
       "      <td>7.0</td>\n",
       "      <td>76313258</td>\n",
       "      <td>Собрали заказ / Оттправили Ready</td>\n",
       "      <td>2023-11-29 13:42:26</td>\n",
       "    </tr>\n",
       "    <tr>\n",
       "      <th>1</th>\n",
       "      <td>6424355</td>\n",
       "      <td>13981</td>\n",
       "      <td>ОК Аптека</td>\n",
       "      <td>ООО \"ФК ПУЛЬС\"</td>\n",
       "      <td>7714456627.0</td>\n",
       "      <td>2023-11-02 14:05:22</td>\n",
       "      <td>11.0</td>\n",
       "      <td>13981</td>\n",
       "      <td>Собрали заказ / Оттправили Ready</td>\n",
       "      <td>2023-11-03 10:25:04</td>\n",
       "    </tr>\n",
       "    <tr>\n",
       "      <th>2</th>\n",
       "      <td>7658379</td>\n",
       "      <td>76508541</td>\n",
       "      <td>Ютека</td>\n",
       "      <td>ООО \"ФК ПУЛЬС\"</td>\n",
       "      <td>7701047916.0</td>\n",
       "      <td>2023-11-30 15:42:13</td>\n",
       "      <td>7.0</td>\n",
       "      <td>76508541</td>\n",
       "      <td>Собрали заказ / Оттправили Ready</td>\n",
       "      <td>2023-12-01 15:18:36</td>\n",
       "    </tr>\n",
       "    <tr>\n",
       "      <th>3</th>\n",
       "      <td>7262777</td>\n",
       "      <td>339316125</td>\n",
       "      <td>ЯндексDBS</td>\n",
       "      <td>ООО \"ПУЛЬС СПб\"</td>\n",
       "      <td>7802634533.0</td>\n",
       "      <td>2023-11-20 18:26:14</td>\n",
       "      <td>9.0</td>\n",
       "      <td>339316125</td>\n",
       "      <td>Собрали заказ / Оттправили Ready</td>\n",
       "      <td>2023-11-21 14:35:05</td>\n",
       "    </tr>\n",
       "    <tr>\n",
       "      <th>4</th>\n",
       "      <td>7352813</td>\n",
       "      <td>341144624</td>\n",
       "      <td>ЯндексDBS</td>\n",
       "      <td>ООО \"ПУЛЬС СПб\"</td>\n",
       "      <td>7802611649.0</td>\n",
       "      <td>2023-11-22 19:50:54</td>\n",
       "      <td>9.0</td>\n",
       "      <td>341144624</td>\n",
       "      <td>Собрали заказ / Оттправили Ready</td>\n",
       "      <td>2023-11-23 15:25:08</td>\n",
       "    </tr>\n",
       "    <tr>\n",
       "      <th>...</th>\n",
       "      <td>...</td>\n",
       "      <td>...</td>\n",
       "      <td>...</td>\n",
       "      <td>...</td>\n",
       "      <td>...</td>\n",
       "      <td>...</td>\n",
       "      <td>...</td>\n",
       "      <td>...</td>\n",
       "      <td>...</td>\n",
       "      <td>...</td>\n",
       "    </tr>\n",
       "    <tr>\n",
       "      <th>30095</th>\n",
       "      <td>1588879</td>\n",
       "      <td>112085236</td>\n",
       "      <td>АптекаФорте</td>\n",
       "      <td>ООО \"ПУЛЬС Брянск\"</td>\n",
       "      <td>7701047916.0</td>\n",
       "      <td>2023-11-30 11:31:27</td>\n",
       "      <td>NaN</td>\n",
       "      <td>112085236</td>\n",
       "      <td>Собрали заказ / Оттправили Ready</td>\n",
       "      <td>2023-12-01 11:22:12</td>\n",
       "    </tr>\n",
       "    <tr>\n",
       "      <th>30096</th>\n",
       "      <td>1588928</td>\n",
       "      <td>1128210916</td>\n",
       "      <td>АптекаФорте</td>\n",
       "      <td>ООО \"ФК ПУЛЬС\"</td>\n",
       "      <td>7701047916.0</td>\n",
       "      <td>2023-11-30 12:14:03</td>\n",
       "      <td>NaN</td>\n",
       "      <td>1128210916</td>\n",
       "      <td>Собрали заказ / Оттправили Ready</td>\n",
       "      <td>2023-12-01 11:05:25</td>\n",
       "    </tr>\n",
       "    <tr>\n",
       "      <th>30097</th>\n",
       "      <td>1588932</td>\n",
       "      <td>1128210920</td>\n",
       "      <td>АптекаФорте</td>\n",
       "      <td>ООО \"ПУЛЬС Казань\"</td>\n",
       "      <td>6453153535.0</td>\n",
       "      <td>2023-11-30 12:14:04</td>\n",
       "      <td>NaN</td>\n",
       "      <td>1128210920</td>\n",
       "      <td>Собрали заказ / Оттправили Ready</td>\n",
       "      <td>2023-12-01 12:23:33</td>\n",
       "    </tr>\n",
       "    <tr>\n",
       "      <th>30098</th>\n",
       "      <td>1588991</td>\n",
       "      <td>1128210962</td>\n",
       "      <td>АптекаФорте</td>\n",
       "      <td>ООО \"ФК ПУЛЬС\"</td>\n",
       "      <td>7714456627.0</td>\n",
       "      <td>2023-11-30 12:58:03</td>\n",
       "      <td>NaN</td>\n",
       "      <td>1128210962</td>\n",
       "      <td>Собрали заказ / Оттправили Ready</td>\n",
       "      <td>2023-12-01 05:58:16</td>\n",
       "    </tr>\n",
       "    <tr>\n",
       "      <th>30099</th>\n",
       "      <td>1589153</td>\n",
       "      <td>1128211072</td>\n",
       "      <td>АптекаФорте</td>\n",
       "      <td>ООО \"ПУЛЬС Казань\"</td>\n",
       "      <td>6453153535.0</td>\n",
       "      <td>2023-11-30 15:21:02</td>\n",
       "      <td>NaN</td>\n",
       "      <td>1128211072</td>\n",
       "      <td>Собрали заказ / Оттправили Ready</td>\n",
       "      <td>2023-12-01 13:55:35</td>\n",
       "    </tr>\n",
       "  </tbody>\n",
       "</table>\n",
       "<p>30100 rows × 10 columns</p>\n",
       "</div>"
      ],
      "text/plain": [
       "            id marketplace_number           mm                  rk  \\\n",
       "0      7575443           76313258        Ютека      ООО \"ФК ПУЛЬС\"   \n",
       "1      6424355              13981    ОК Аптека      ООО \"ФК ПУЛЬС\"   \n",
       "2      7658379           76508541        Ютека      ООО \"ФК ПУЛЬС\"   \n",
       "3      7262777          339316125    ЯндексDBS     ООО \"ПУЛЬС СПб\"   \n",
       "4      7352813          341144624    ЯндексDBS     ООО \"ПУЛЬС СПб\"   \n",
       "...        ...                ...          ...                 ...   \n",
       "30095  1588879          112085236  АптекаФорте  ООО \"ПУЛЬС Брянск\"   \n",
       "30096  1588928         1128210916  АптекаФорте      ООО \"ФК ПУЛЬС\"   \n",
       "30097  1588932         1128210920  АптекаФорте  ООО \"ПУЛЬС Казань\"   \n",
       "30098  1588991         1128210962  АптекаФорте      ООО \"ФК ПУЛЬС\"   \n",
       "30099  1589153         1128211072  АптекаФорте  ООО \"ПУЛЬС Казань\"   \n",
       "\n",
       "              innst             created  sys_status er_order_id  \\\n",
       "0      7701047916.0 2023-11-28 16:48:21         7.0    76313258   \n",
       "1      7714456627.0 2023-11-02 14:05:22        11.0       13981   \n",
       "2      7701047916.0 2023-11-30 15:42:13         7.0    76508541   \n",
       "3      7802634533.0 2023-11-20 18:26:14         9.0   339316125   \n",
       "4      7802611649.0 2023-11-22 19:50:54         9.0   341144624   \n",
       "...             ...                 ...         ...         ...   \n",
       "30095  7701047916.0 2023-11-30 11:31:27         NaN   112085236   \n",
       "30096  7701047916.0 2023-11-30 12:14:03         NaN  1128210916   \n",
       "30097  6453153535.0 2023-11-30 12:14:04         NaN  1128210920   \n",
       "30098  7714456627.0 2023-11-30 12:58:03         NaN  1128210962   \n",
       "30099  6453153535.0 2023-11-30 15:21:02         NaN  1128211072   \n",
       "\n",
       "                              er_status      er_status_time  \n",
       "0      Собрали заказ / Оттправили Ready 2023-11-29 13:42:26  \n",
       "1      Собрали заказ / Оттправили Ready 2023-11-03 10:25:04  \n",
       "2      Собрали заказ / Оттправили Ready 2023-12-01 15:18:36  \n",
       "3      Собрали заказ / Оттправили Ready 2023-11-21 14:35:05  \n",
       "4      Собрали заказ / Оттправили Ready 2023-11-23 15:25:08  \n",
       "...                                 ...                 ...  \n",
       "30095  Собрали заказ / Оттправили Ready 2023-12-01 11:22:12  \n",
       "30096  Собрали заказ / Оттправили Ready 2023-12-01 11:05:25  \n",
       "30097  Собрали заказ / Оттправили Ready 2023-12-01 12:23:33  \n",
       "30098  Собрали заказ / Оттправили Ready 2023-12-01 05:58:16  \n",
       "30099  Собрали заказ / Оттправили Ready 2023-12-01 13:55:35  \n",
       "\n",
       "[30100 rows x 10 columns]"
      ]
     },
     "execution_count": 49,
     "metadata": {},
     "output_type": "execute_result"
    }
   ],
   "source": [
    "dfom = dfo_erka.merge(erka71, how='inner', left_on='marketplace_number', right_on='er_order_id')\n",
    "dfom"
   ]
  },
  {
   "cell_type": "code",
   "execution_count": 50,
   "metadata": {},
   "outputs": [
    {
     "data": {
      "text/plain": [
       "СОММ    428880\n",
       "NaN     301237\n",
       "ТВЗ     150941\n",
       "СБИС     67527\n",
       "Name: source, dtype: int64"
      ]
     },
     "execution_count": 50,
     "metadata": {},
     "output_type": "execute_result"
    }
   ],
   "source": [
    "dfs71.source.value_counts(dropna=False)"
   ]
  },
  {
   "cell_type": "code",
   "execution_count": null,
   "metadata": {},
   "outputs": [],
   "source": []
  },
  {
   "cell_type": "code",
   "execution_count": 65,
   "metadata": {},
   "outputs": [
    {
     "data": {
      "text/html": [
       "<div>\n",
       "<style scoped>\n",
       "    .dataframe tbody tr th:only-of-type {\n",
       "        vertical-align: middle;\n",
       "    }\n",
       "\n",
       "    .dataframe tbody tr th {\n",
       "        vertical-align: top;\n",
       "    }\n",
       "\n",
       "    .dataframe thead th {\n",
       "        text-align: right;\n",
       "    }\n",
       "</style>\n",
       "<table border=\"1\" class=\"dataframe\">\n",
       "  <thead>\n",
       "    <tr style=\"text-align: right;\">\n",
       "      <th></th>\n",
       "      <th>id</th>\n",
       "      <th>marketplace_number</th>\n",
       "      <th>mm</th>\n",
       "      <th>rk</th>\n",
       "      <th>innst</th>\n",
       "      <th>created</th>\n",
       "      <th>sys_status</th>\n",
       "      <th>er_order_id</th>\n",
       "      <th>er_status</th>\n",
       "      <th>er_status_time</th>\n",
       "    </tr>\n",
       "  </thead>\n",
       "  <tbody>\n",
       "    <tr>\n",
       "      <th>0</th>\n",
       "      <td>7575443</td>\n",
       "      <td>76313258</td>\n",
       "      <td>Ютека</td>\n",
       "      <td>ООО \"ФК ПУЛЬС\"</td>\n",
       "      <td>7701047916.0</td>\n",
       "      <td>2023-11-28 16:48:21</td>\n",
       "      <td>7.0</td>\n",
       "      <td>76313258</td>\n",
       "      <td>Собрали заказ / Оттправили Ready</td>\n",
       "      <td>2023-11-29 13:42:26</td>\n",
       "    </tr>\n",
       "    <tr>\n",
       "      <th>1</th>\n",
       "      <td>6424355</td>\n",
       "      <td>13981</td>\n",
       "      <td>ОК Аптека</td>\n",
       "      <td>ООО \"ФК ПУЛЬС\"</td>\n",
       "      <td>7714456627.0</td>\n",
       "      <td>2023-11-02 14:05:22</td>\n",
       "      <td>11.0</td>\n",
       "      <td>13981</td>\n",
       "      <td>Собрали заказ / Оттправили Ready</td>\n",
       "      <td>2023-11-03 10:25:04</td>\n",
       "    </tr>\n",
       "    <tr>\n",
       "      <th>2</th>\n",
       "      <td>7658379</td>\n",
       "      <td>76508541</td>\n",
       "      <td>Ютека</td>\n",
       "      <td>ООО \"ФК ПУЛЬС\"</td>\n",
       "      <td>7701047916.0</td>\n",
       "      <td>2023-11-30 15:42:13</td>\n",
       "      <td>7.0</td>\n",
       "      <td>76508541</td>\n",
       "      <td>Собрали заказ / Оттправили Ready</td>\n",
       "      <td>2023-12-01 15:18:36</td>\n",
       "    </tr>\n",
       "    <tr>\n",
       "      <th>3</th>\n",
       "      <td>7262777</td>\n",
       "      <td>339316125</td>\n",
       "      <td>ЯндексDBS</td>\n",
       "      <td>ООО \"ПУЛЬС СПб\"</td>\n",
       "      <td>7802634533.0</td>\n",
       "      <td>2023-11-20 18:26:14</td>\n",
       "      <td>9.0</td>\n",
       "      <td>339316125</td>\n",
       "      <td>Собрали заказ / Оттправили Ready</td>\n",
       "      <td>2023-11-21 14:35:05</td>\n",
       "    </tr>\n",
       "    <tr>\n",
       "      <th>4</th>\n",
       "      <td>7352813</td>\n",
       "      <td>341144624</td>\n",
       "      <td>ЯндексDBS</td>\n",
       "      <td>ООО \"ПУЛЬС СПб\"</td>\n",
       "      <td>7802611649.0</td>\n",
       "      <td>2023-11-22 19:50:54</td>\n",
       "      <td>9.0</td>\n",
       "      <td>341144624</td>\n",
       "      <td>Собрали заказ / Оттправили Ready</td>\n",
       "      <td>2023-11-23 15:25:08</td>\n",
       "    </tr>\n",
       "    <tr>\n",
       "      <th>...</th>\n",
       "      <td>...</td>\n",
       "      <td>...</td>\n",
       "      <td>...</td>\n",
       "      <td>...</td>\n",
       "      <td>...</td>\n",
       "      <td>...</td>\n",
       "      <td>...</td>\n",
       "      <td>...</td>\n",
       "      <td>...</td>\n",
       "      <td>...</td>\n",
       "    </tr>\n",
       "    <tr>\n",
       "      <th>30095</th>\n",
       "      <td>1588879</td>\n",
       "      <td>112085236</td>\n",
       "      <td>АптекаФорте</td>\n",
       "      <td>ООО \"ПУЛЬС Брянск\"</td>\n",
       "      <td>7701047916.0</td>\n",
       "      <td>2023-11-30 11:31:27</td>\n",
       "      <td>NaN</td>\n",
       "      <td>112085236</td>\n",
       "      <td>Собрали заказ / Оттправили Ready</td>\n",
       "      <td>2023-12-01 11:22:12</td>\n",
       "    </tr>\n",
       "    <tr>\n",
       "      <th>30096</th>\n",
       "      <td>1588928</td>\n",
       "      <td>1128210916</td>\n",
       "      <td>АптекаФорте</td>\n",
       "      <td>ООО \"ФК ПУЛЬС\"</td>\n",
       "      <td>7701047916.0</td>\n",
       "      <td>2023-11-30 12:14:03</td>\n",
       "      <td>NaN</td>\n",
       "      <td>1128210916</td>\n",
       "      <td>Собрали заказ / Оттправили Ready</td>\n",
       "      <td>2023-12-01 11:05:25</td>\n",
       "    </tr>\n",
       "    <tr>\n",
       "      <th>30097</th>\n",
       "      <td>1588932</td>\n",
       "      <td>1128210920</td>\n",
       "      <td>АптекаФорте</td>\n",
       "      <td>ООО \"ПУЛЬС Казань\"</td>\n",
       "      <td>6453153535.0</td>\n",
       "      <td>2023-11-30 12:14:04</td>\n",
       "      <td>NaN</td>\n",
       "      <td>1128210920</td>\n",
       "      <td>Собрали заказ / Оттправили Ready</td>\n",
       "      <td>2023-12-01 12:23:33</td>\n",
       "    </tr>\n",
       "    <tr>\n",
       "      <th>30098</th>\n",
       "      <td>1588991</td>\n",
       "      <td>1128210962</td>\n",
       "      <td>АптекаФорте</td>\n",
       "      <td>ООО \"ФК ПУЛЬС\"</td>\n",
       "      <td>7714456627.0</td>\n",
       "      <td>2023-11-30 12:58:03</td>\n",
       "      <td>NaN</td>\n",
       "      <td>1128210962</td>\n",
       "      <td>Собрали заказ / Оттправили Ready</td>\n",
       "      <td>2023-12-01 05:58:16</td>\n",
       "    </tr>\n",
       "    <tr>\n",
       "      <th>30099</th>\n",
       "      <td>1589153</td>\n",
       "      <td>1128211072</td>\n",
       "      <td>АптекаФорте</td>\n",
       "      <td>ООО \"ПУЛЬС Казань\"</td>\n",
       "      <td>6453153535.0</td>\n",
       "      <td>2023-11-30 15:21:02</td>\n",
       "      <td>NaN</td>\n",
       "      <td>1128211072</td>\n",
       "      <td>Собрали заказ / Оттправили Ready</td>\n",
       "      <td>2023-12-01 13:55:35</td>\n",
       "    </tr>\n",
       "  </tbody>\n",
       "</table>\n",
       "<p>30100 rows × 10 columns</p>\n",
       "</div>"
      ],
      "text/plain": [
       "            id marketplace_number           mm                  rk  \\\n",
       "0      7575443           76313258        Ютека      ООО \"ФК ПУЛЬС\"   \n",
       "1      6424355              13981    ОК Аптека      ООО \"ФК ПУЛЬС\"   \n",
       "2      7658379           76508541        Ютека      ООО \"ФК ПУЛЬС\"   \n",
       "3      7262777          339316125    ЯндексDBS     ООО \"ПУЛЬС СПб\"   \n",
       "4      7352813          341144624    ЯндексDBS     ООО \"ПУЛЬС СПб\"   \n",
       "...        ...                ...          ...                 ...   \n",
       "30095  1588879          112085236  АптекаФорте  ООО \"ПУЛЬС Брянск\"   \n",
       "30096  1588928         1128210916  АптекаФорте      ООО \"ФК ПУЛЬС\"   \n",
       "30097  1588932         1128210920  АптекаФорте  ООО \"ПУЛЬС Казань\"   \n",
       "30098  1588991         1128210962  АптекаФорте      ООО \"ФК ПУЛЬС\"   \n",
       "30099  1589153         1128211072  АптекаФорте  ООО \"ПУЛЬС Казань\"   \n",
       "\n",
       "              innst             created  sys_status er_order_id  \\\n",
       "0      7701047916.0 2023-11-28 16:48:21         7.0    76313258   \n",
       "1      7714456627.0 2023-11-02 14:05:22        11.0       13981   \n",
       "2      7701047916.0 2023-11-30 15:42:13         7.0    76508541   \n",
       "3      7802634533.0 2023-11-20 18:26:14         9.0   339316125   \n",
       "4      7802611649.0 2023-11-22 19:50:54         9.0   341144624   \n",
       "...             ...                 ...         ...         ...   \n",
       "30095  7701047916.0 2023-11-30 11:31:27         NaN   112085236   \n",
       "30096  7701047916.0 2023-11-30 12:14:03         NaN  1128210916   \n",
       "30097  6453153535.0 2023-11-30 12:14:04         NaN  1128210920   \n",
       "30098  7714456627.0 2023-11-30 12:58:03         NaN  1128210962   \n",
       "30099  6453153535.0 2023-11-30 15:21:02         NaN  1128211072   \n",
       "\n",
       "                              er_status      er_status_time  \n",
       "0      Собрали заказ / Оттправили Ready 2023-11-29 13:42:26  \n",
       "1      Собрали заказ / Оттправили Ready 2023-11-03 10:25:04  \n",
       "2      Собрали заказ / Оттправили Ready 2023-12-01 15:18:36  \n",
       "3      Собрали заказ / Оттправили Ready 2023-11-21 14:35:05  \n",
       "4      Собрали заказ / Оттправили Ready 2023-11-23 15:25:08  \n",
       "...                                 ...                 ...  \n",
       "30095  Собрали заказ / Оттправили Ready 2023-12-01 11:22:12  \n",
       "30096  Собрали заказ / Оттправили Ready 2023-12-01 11:05:25  \n",
       "30097  Собрали заказ / Оттправили Ready 2023-12-01 12:23:33  \n",
       "30098  Собрали заказ / Оттправили Ready 2023-12-01 05:58:16  \n",
       "30099  Собрали заказ / Оттправили Ready 2023-12-01 13:55:35  \n",
       "\n",
       "[30100 rows x 10 columns]"
      ]
     },
     "execution_count": 65,
     "metadata": {},
     "output_type": "execute_result"
    }
   ],
   "source": [
    "dfom"
   ]
  },
  {
   "cell_type": "code",
   "execution_count": 63,
   "metadata": {},
   "outputs": [
    {
     "data": {
      "text/html": [
       "<div>\n",
       "<style scoped>\n",
       "    .dataframe tbody tr th:only-of-type {\n",
       "        vertical-align: middle;\n",
       "    }\n",
       "\n",
       "    .dataframe tbody tr th {\n",
       "        vertical-align: top;\n",
       "    }\n",
       "\n",
       "    .dataframe thead th {\n",
       "        text-align: right;\n",
       "    }\n",
       "</style>\n",
       "<table border=\"1\" class=\"dataframe\">\n",
       "  <thead>\n",
       "    <tr style=\"text-align: right;\">\n",
       "      <th></th>\n",
       "      <th>order_id</th>\n",
       "      <th>status</th>\n",
       "      <th>source</th>\n",
       "      <th>status_time</th>\n",
       "    </tr>\n",
       "  </thead>\n",
       "  <tbody>\n",
       "    <tr>\n",
       "      <th>32</th>\n",
       "      <td>6275491</td>\n",
       "      <td>71</td>\n",
       "      <td>ТВЗ</td>\n",
       "      <td>2023-10-31 11:27:54.242</td>\n",
       "    </tr>\n",
       "    <tr>\n",
       "      <th>33</th>\n",
       "      <td>6277597</td>\n",
       "      <td>71</td>\n",
       "      <td>ТВЗ</td>\n",
       "      <td>2023-10-31 11:27:58.886</td>\n",
       "    </tr>\n",
       "    <tr>\n",
       "      <th>36</th>\n",
       "      <td>6230789</td>\n",
       "      <td>71</td>\n",
       "      <td>ТВЗ</td>\n",
       "      <td>2023-10-31 11:27:56.436</td>\n",
       "    </tr>\n",
       "    <tr>\n",
       "      <th>45</th>\n",
       "      <td>6300592</td>\n",
       "      <td>71</td>\n",
       "      <td>ТВЗ</td>\n",
       "      <td>2023-10-31 11:27:58.653</td>\n",
       "    </tr>\n",
       "    <tr>\n",
       "      <th>48</th>\n",
       "      <td>6293677</td>\n",
       "      <td>71</td>\n",
       "      <td>ТВЗ</td>\n",
       "      <td>2023-10-31 11:27:58.372</td>\n",
       "    </tr>\n",
       "    <tr>\n",
       "      <th>...</th>\n",
       "      <td>...</td>\n",
       "      <td>...</td>\n",
       "      <td>...</td>\n",
       "      <td>...</td>\n",
       "    </tr>\n",
       "    <tr>\n",
       "      <th>179274</th>\n",
       "      <td>1584874</td>\n",
       "      <td>71</td>\n",
       "      <td>NaN</td>\n",
       "      <td>2023-11-27 18:31:50.000</td>\n",
       "    </tr>\n",
       "    <tr>\n",
       "      <th>179276</th>\n",
       "      <td>1584787</td>\n",
       "      <td>71</td>\n",
       "      <td>NaN</td>\n",
       "      <td>2023-11-27 18:31:51.000</td>\n",
       "    </tr>\n",
       "    <tr>\n",
       "      <th>179278</th>\n",
       "      <td>1584346</td>\n",
       "      <td>71</td>\n",
       "      <td>NaN</td>\n",
       "      <td>2023-11-27 18:31:51.000</td>\n",
       "    </tr>\n",
       "    <tr>\n",
       "      <th>179279</th>\n",
       "      <td>1583752</td>\n",
       "      <td>71</td>\n",
       "      <td>NaN</td>\n",
       "      <td>2023-11-27 18:31:51.000</td>\n",
       "    </tr>\n",
       "    <tr>\n",
       "      <th>179301</th>\n",
       "      <td>1585468</td>\n",
       "      <td>71</td>\n",
       "      <td>NaN</td>\n",
       "      <td>2023-11-27 05:00:04.000</td>\n",
       "    </tr>\n",
       "  </tbody>\n",
       "</table>\n",
       "<p>948585 rows × 4 columns</p>\n",
       "</div>"
      ],
      "text/plain": [
       "        order_id  status source             status_time\n",
       "32       6275491      71    ТВЗ 2023-10-31 11:27:54.242\n",
       "33       6277597      71    ТВЗ 2023-10-31 11:27:58.886\n",
       "36       6230789      71    ТВЗ 2023-10-31 11:27:56.436\n",
       "45       6300592      71    ТВЗ 2023-10-31 11:27:58.653\n",
       "48       6293677      71    ТВЗ 2023-10-31 11:27:58.372\n",
       "...          ...     ...    ...                     ...\n",
       "179274   1584874      71    NaN 2023-11-27 18:31:50.000\n",
       "179276   1584787      71    NaN 2023-11-27 18:31:51.000\n",
       "179278   1584346      71    NaN 2023-11-27 18:31:51.000\n",
       "179279   1583752      71    NaN 2023-11-27 18:31:51.000\n",
       "179301   1585468      71    NaN 2023-11-27 05:00:04.000\n",
       "\n",
       "[948585 rows x 4 columns]"
      ]
     },
     "execution_count": 63,
     "metadata": {},
     "output_type": "execute_result"
    }
   ],
   "source": [
    "dfs71"
   ]
  },
  {
   "cell_type": "code",
   "execution_count": null,
   "metadata": {},
   "outputs": [],
   "source": []
  },
  {
   "cell_type": "code",
   "execution_count": null,
   "metadata": {},
   "outputs": [],
   "source": []
  },
  {
   "cell_type": "code",
   "execution_count": null,
   "metadata": {},
   "outputs": [],
   "source": []
  },
  {
   "cell_type": "code",
   "execution_count": 51,
   "metadata": {},
   "outputs": [],
   "source": [
    "dfom_full = dfom.merge(dfs71[dfs71.source == 'ТВЗ'], how='left', left_on='id', right_on='order_id')"
   ]
  },
  {
   "cell_type": "code",
   "execution_count": 52,
   "metadata": {},
   "outputs": [
    {
     "data": {
      "text/html": [
       "<div>\n",
       "<style scoped>\n",
       "    .dataframe tbody tr th:only-of-type {\n",
       "        vertical-align: middle;\n",
       "    }\n",
       "\n",
       "    .dataframe tbody tr th {\n",
       "        vertical-align: top;\n",
       "    }\n",
       "\n",
       "    .dataframe thead th {\n",
       "        text-align: right;\n",
       "    }\n",
       "</style>\n",
       "<table border=\"1\" class=\"dataframe\">\n",
       "  <thead>\n",
       "    <tr style=\"text-align: right;\">\n",
       "      <th></th>\n",
       "      <th>id</th>\n",
       "      <th>marketplace_number</th>\n",
       "      <th>mm</th>\n",
       "      <th>rk</th>\n",
       "      <th>innst</th>\n",
       "      <th>created</th>\n",
       "      <th>sys_status</th>\n",
       "      <th>er_order_id</th>\n",
       "      <th>er_status</th>\n",
       "      <th>er_status_time</th>\n",
       "      <th>order_id</th>\n",
       "      <th>status</th>\n",
       "      <th>source</th>\n",
       "      <th>status_time</th>\n",
       "    </tr>\n",
       "  </thead>\n",
       "  <tbody>\n",
       "    <tr>\n",
       "      <th>0</th>\n",
       "      <td>7575443</td>\n",
       "      <td>76313258</td>\n",
       "      <td>Ютека</td>\n",
       "      <td>ООО \"ФК ПУЛЬС\"</td>\n",
       "      <td>7701047916.0</td>\n",
       "      <td>2023-11-28 16:48:21</td>\n",
       "      <td>7.0</td>\n",
       "      <td>76313258</td>\n",
       "      <td>Собрали заказ / Оттправили Ready</td>\n",
       "      <td>2023-11-29 13:42:26</td>\n",
       "      <td>NaN</td>\n",
       "      <td>NaN</td>\n",
       "      <td>NaN</td>\n",
       "      <td>NaT</td>\n",
       "    </tr>\n",
       "    <tr>\n",
       "      <th>2</th>\n",
       "      <td>7658379</td>\n",
       "      <td>76508541</td>\n",
       "      <td>Ютека</td>\n",
       "      <td>ООО \"ФК ПУЛЬС\"</td>\n",
       "      <td>7701047916.0</td>\n",
       "      <td>2023-11-30 15:42:13</td>\n",
       "      <td>7.0</td>\n",
       "      <td>76508541</td>\n",
       "      <td>Собрали заказ / Оттправили Ready</td>\n",
       "      <td>2023-12-01 15:18:36</td>\n",
       "      <td>NaN</td>\n",
       "      <td>NaN</td>\n",
       "      <td>NaN</td>\n",
       "      <td>NaT</td>\n",
       "    </tr>\n",
       "    <tr>\n",
       "      <th>3</th>\n",
       "      <td>7262777</td>\n",
       "      <td>339316125</td>\n",
       "      <td>ЯндексDBS</td>\n",
       "      <td>ООО \"ПУЛЬС СПб\"</td>\n",
       "      <td>7802634533.0</td>\n",
       "      <td>2023-11-20 18:26:14</td>\n",
       "      <td>9.0</td>\n",
       "      <td>339316125</td>\n",
       "      <td>Собрали заказ / Оттправили Ready</td>\n",
       "      <td>2023-11-21 14:35:05</td>\n",
       "      <td>NaN</td>\n",
       "      <td>NaN</td>\n",
       "      <td>NaN</td>\n",
       "      <td>NaT</td>\n",
       "    </tr>\n",
       "    <tr>\n",
       "      <th>4</th>\n",
       "      <td>7352813</td>\n",
       "      <td>341144624</td>\n",
       "      <td>ЯндексDBS</td>\n",
       "      <td>ООО \"ПУЛЬС СПб\"</td>\n",
       "      <td>7802611649.0</td>\n",
       "      <td>2023-11-22 19:50:54</td>\n",
       "      <td>9.0</td>\n",
       "      <td>341144624</td>\n",
       "      <td>Собрали заказ / Оттправили Ready</td>\n",
       "      <td>2023-11-23 15:25:08</td>\n",
       "      <td>NaN</td>\n",
       "      <td>NaN</td>\n",
       "      <td>NaN</td>\n",
       "      <td>NaT</td>\n",
       "    </tr>\n",
       "    <tr>\n",
       "      <th>5</th>\n",
       "      <td>6511829</td>\n",
       "      <td>74230410</td>\n",
       "      <td>Ютека</td>\n",
       "      <td>ООО \"ФК ПУЛЬС\"</td>\n",
       "      <td>7701047916.0</td>\n",
       "      <td>2023-11-04 21:26:07</td>\n",
       "      <td>7.0</td>\n",
       "      <td>74230410</td>\n",
       "      <td>Собрали заказ / Оттправили Ready</td>\n",
       "      <td>2023-11-06 11:55:07</td>\n",
       "      <td>NaN</td>\n",
       "      <td>NaN</td>\n",
       "      <td>NaN</td>\n",
       "      <td>NaT</td>\n",
       "    </tr>\n",
       "  </tbody>\n",
       "</table>\n",
       "</div>"
      ],
      "text/plain": [
       "        id marketplace_number         mm               rk         innst  \\\n",
       "0  7575443           76313258      Ютека   ООО \"ФК ПУЛЬС\"  7701047916.0   \n",
       "2  7658379           76508541      Ютека   ООО \"ФК ПУЛЬС\"  7701047916.0   \n",
       "3  7262777          339316125  ЯндексDBS  ООО \"ПУЛЬС СПб\"  7802634533.0   \n",
       "4  7352813          341144624  ЯндексDBS  ООО \"ПУЛЬС СПб\"  7802611649.0   \n",
       "5  6511829           74230410      Ютека   ООО \"ФК ПУЛЬС\"  7701047916.0   \n",
       "\n",
       "              created  sys_status er_order_id  \\\n",
       "0 2023-11-28 16:48:21         7.0    76313258   \n",
       "2 2023-11-30 15:42:13         7.0    76508541   \n",
       "3 2023-11-20 18:26:14         9.0   339316125   \n",
       "4 2023-11-22 19:50:54         9.0   341144624   \n",
       "5 2023-11-04 21:26:07         7.0    74230410   \n",
       "\n",
       "                          er_status      er_status_time  order_id  status  \\\n",
       "0  Собрали заказ / Оттправили Ready 2023-11-29 13:42:26       NaN     NaN   \n",
       "2  Собрали заказ / Оттправили Ready 2023-12-01 15:18:36       NaN     NaN   \n",
       "3  Собрали заказ / Оттправили Ready 2023-11-21 14:35:05       NaN     NaN   \n",
       "4  Собрали заказ / Оттправили Ready 2023-11-23 15:25:08       NaN     NaN   \n",
       "5  Собрали заказ / Оттправили Ready 2023-11-06 11:55:07       NaN     NaN   \n",
       "\n",
       "  source status_time  \n",
       "0    NaN         NaT  \n",
       "2    NaN         NaT  \n",
       "3    NaN         NaT  \n",
       "4    NaN         NaT  \n",
       "5    NaN         NaT  "
      ]
     },
     "execution_count": 52,
     "metadata": {},
     "output_type": "execute_result"
    }
   ],
   "source": [
    "dfom_nf = dfom_full[dfom_full.order_id.isna()]\n",
    "dfom_nf.head(5)"
   ]
  },
  {
   "cell_type": "code",
   "execution_count": null,
   "metadata": {},
   "outputs": [],
   "source": []
  },
  {
   "cell_type": "code",
   "execution_count": null,
   "metadata": {},
   "outputs": [],
   "source": []
  },
  {
   "cell_type": "code",
   "execution_count": 53,
   "metadata": {},
   "outputs": [],
   "source": [
    "# Merge the two dataframes on the order_id fields\n",
    "merged_df = pd.merge(\n",
    "    left=dfom_nf.iloc[:, :10],\n",
    "    right=dfs,\n",
    "    left_on='id',\n",
    "    right_on='order_id',\n",
    "    how='inner'\n",
    ")"
   ]
  },
  {
   "cell_type": "code",
   "execution_count": 54,
   "metadata": {},
   "outputs": [
    {
     "data": {
      "text/html": [
       "<div>\n",
       "<style scoped>\n",
       "    .dataframe tbody tr th:only-of-type {\n",
       "        vertical-align: middle;\n",
       "    }\n",
       "\n",
       "    .dataframe tbody tr th {\n",
       "        vertical-align: top;\n",
       "    }\n",
       "\n",
       "    .dataframe thead th {\n",
       "        text-align: right;\n",
       "    }\n",
       "</style>\n",
       "<table border=\"1\" class=\"dataframe\">\n",
       "  <thead>\n",
       "    <tr style=\"text-align: right;\">\n",
       "      <th></th>\n",
       "      <th>id</th>\n",
       "      <th>marketplace_number</th>\n",
       "      <th>mm</th>\n",
       "      <th>rk</th>\n",
       "      <th>innst</th>\n",
       "      <th>created</th>\n",
       "      <th>sys_status</th>\n",
       "      <th>er_order_id</th>\n",
       "      <th>er_status</th>\n",
       "      <th>er_status_time</th>\n",
       "      <th>order_id</th>\n",
       "      <th>status</th>\n",
       "      <th>source</th>\n",
       "      <th>status_time</th>\n",
       "    </tr>\n",
       "  </thead>\n",
       "  <tbody>\n",
       "    <tr>\n",
       "      <th>0</th>\n",
       "      <td>7575443</td>\n",
       "      <td>76313258</td>\n",
       "      <td>Ютека</td>\n",
       "      <td>ООО \"ФК ПУЛЬС\"</td>\n",
       "      <td>7701047916.0</td>\n",
       "      <td>2023-11-28 16:48:21</td>\n",
       "      <td>7.0</td>\n",
       "      <td>76313258</td>\n",
       "      <td>Собрали заказ / Оттправили Ready</td>\n",
       "      <td>2023-11-29 13:42:26</td>\n",
       "      <td>7575443</td>\n",
       "      <td>6</td>\n",
       "      <td>NaN</td>\n",
       "      <td>2023-11-30 12:41:38.133</td>\n",
       "    </tr>\n",
       "    <tr>\n",
       "      <th>1</th>\n",
       "      <td>7575443</td>\n",
       "      <td>76313258</td>\n",
       "      <td>Ютека</td>\n",
       "      <td>ООО \"ФК ПУЛЬС\"</td>\n",
       "      <td>7701047916.0</td>\n",
       "      <td>2023-11-28 16:48:21</td>\n",
       "      <td>7.0</td>\n",
       "      <td>76313258</td>\n",
       "      <td>Собрали заказ / Оттправили Ready</td>\n",
       "      <td>2023-11-29 13:42:26</td>\n",
       "      <td>7575443</td>\n",
       "      <td>7</td>\n",
       "      <td>NaN</td>\n",
       "      <td>2023-11-30 18:04:23.779</td>\n",
       "    </tr>\n",
       "    <tr>\n",
       "      <th>2</th>\n",
       "      <td>7575443</td>\n",
       "      <td>76313258</td>\n",
       "      <td>Ютека</td>\n",
       "      <td>ООО \"ФК ПУЛЬС\"</td>\n",
       "      <td>7701047916.0</td>\n",
       "      <td>2023-11-28 16:48:21</td>\n",
       "      <td>7.0</td>\n",
       "      <td>76313258</td>\n",
       "      <td>Собрали заказ / Оттправили Ready</td>\n",
       "      <td>2023-11-29 13:42:26</td>\n",
       "      <td>7575443</td>\n",
       "      <td>1</td>\n",
       "      <td>NaN</td>\n",
       "      <td>2023-11-28 13:48:51.947</td>\n",
       "    </tr>\n",
       "  </tbody>\n",
       "</table>\n",
       "</div>"
      ],
      "text/plain": [
       "        id marketplace_number     mm              rk         innst  \\\n",
       "0  7575443           76313258  Ютека  ООО \"ФК ПУЛЬС\"  7701047916.0   \n",
       "1  7575443           76313258  Ютека  ООО \"ФК ПУЛЬС\"  7701047916.0   \n",
       "2  7575443           76313258  Ютека  ООО \"ФК ПУЛЬС\"  7701047916.0   \n",
       "\n",
       "              created  sys_status er_order_id  \\\n",
       "0 2023-11-28 16:48:21         7.0    76313258   \n",
       "1 2023-11-28 16:48:21         7.0    76313258   \n",
       "2 2023-11-28 16:48:21         7.0    76313258   \n",
       "\n",
       "                          er_status      er_status_time  order_id  status  \\\n",
       "0  Собрали заказ / Оттправили Ready 2023-11-29 13:42:26   7575443       6   \n",
       "1  Собрали заказ / Оттправили Ready 2023-11-29 13:42:26   7575443       7   \n",
       "2  Собрали заказ / Оттправили Ready 2023-11-29 13:42:26   7575443       1   \n",
       "\n",
       "  source             status_time  \n",
       "0    NaN 2023-11-30 12:41:38.133  \n",
       "1    NaN 2023-11-30 18:04:23.779  \n",
       "2    NaN 2023-11-28 13:48:51.947  "
      ]
     },
     "execution_count": 54,
     "metadata": {},
     "output_type": "execute_result"
    }
   ],
   "source": [
    "merged_df.head(3)"
   ]
  },
  {
   "cell_type": "code",
   "execution_count": 55,
   "metadata": {},
   "outputs": [
    {
     "data": {
      "text/plain": [
       "(31197, 14)"
      ]
     },
     "execution_count": 55,
     "metadata": {},
     "output_type": "execute_result"
    }
   ],
   "source": [
    "merged_df.shape"
   ]
  },
  {
   "cell_type": "code",
   "execution_count": 56,
   "metadata": {},
   "outputs": [],
   "source": [
    "# Filter rows where status_time is less or equal to er_status_time\n",
    "filtered_df = merged_df[merged_df['status_time'] <= merged_df['er_status_time']]\n",
    "\n",
    "# Sort by order_id and status_time descending\n",
    "sorted_df = filtered_df.sort_values(by=['order_id', 'status_time'], ascending=[True, False])"
   ]
  },
  {
   "cell_type": "code",
   "execution_count": 57,
   "metadata": {},
   "outputs": [
    {
     "data": {
      "text/html": [
       "<div>\n",
       "<style scoped>\n",
       "    .dataframe tbody tr th:only-of-type {\n",
       "        vertical-align: middle;\n",
       "    }\n",
       "\n",
       "    .dataframe tbody tr th {\n",
       "        vertical-align: top;\n",
       "    }\n",
       "\n",
       "    .dataframe thead th {\n",
       "        text-align: right;\n",
       "    }\n",
       "</style>\n",
       "<table border=\"1\" class=\"dataframe\">\n",
       "  <thead>\n",
       "    <tr style=\"text-align: right;\">\n",
       "      <th></th>\n",
       "      <th>id</th>\n",
       "      <th>marketplace_number</th>\n",
       "      <th>mm</th>\n",
       "      <th>rk</th>\n",
       "      <th>innst</th>\n",
       "      <th>created</th>\n",
       "      <th>sys_status</th>\n",
       "      <th>er_order_id</th>\n",
       "      <th>er_status</th>\n",
       "      <th>er_status_time</th>\n",
       "      <th>order_id</th>\n",
       "      <th>status</th>\n",
       "      <th>source</th>\n",
       "      <th>status_time</th>\n",
       "    </tr>\n",
       "  </thead>\n",
       "  <tbody>\n",
       "    <tr>\n",
       "      <th>25935</th>\n",
       "      <td>1566921</td>\n",
       "      <td>1128199184</td>\n",
       "      <td>АптекаФорте</td>\n",
       "      <td>ООО \"ФК ПУЛЬС\"</td>\n",
       "      <td>7701047916.0</td>\n",
       "      <td>2023-11-01 02:18:03</td>\n",
       "      <td>NaN</td>\n",
       "      <td>1128199184</td>\n",
       "      <td>Собрали заказ / Оттправили Ready</td>\n",
       "      <td>2023-11-03 09:45:03</td>\n",
       "      <td>1566921</td>\n",
       "      <td>71</td>\n",
       "      <td>NaN</td>\n",
       "      <td>2023-11-03 09:30:05</td>\n",
       "    </tr>\n",
       "    <tr>\n",
       "      <th>25934</th>\n",
       "      <td>1566921</td>\n",
       "      <td>1128199184</td>\n",
       "      <td>АптекаФорте</td>\n",
       "      <td>ООО \"ФК ПУЛЬС\"</td>\n",
       "      <td>7701047916.0</td>\n",
       "      <td>2023-11-01 02:18:03</td>\n",
       "      <td>NaN</td>\n",
       "      <td>1128199184</td>\n",
       "      <td>Собрали заказ / Оттправили Ready</td>\n",
       "      <td>2023-11-03 09:45:03</td>\n",
       "      <td>1566921</td>\n",
       "      <td>6</td>\n",
       "      <td>NaN</td>\n",
       "      <td>2023-11-03 09:24:10</td>\n",
       "    </tr>\n",
       "    <tr>\n",
       "      <th>25936</th>\n",
       "      <td>1566921</td>\n",
       "      <td>1128199184</td>\n",
       "      <td>АптекаФорте</td>\n",
       "      <td>ООО \"ФК ПУЛЬС\"</td>\n",
       "      <td>7701047916.0</td>\n",
       "      <td>2023-11-01 02:18:03</td>\n",
       "      <td>NaN</td>\n",
       "      <td>1128199184</td>\n",
       "      <td>Собрали заказ / Оттправили Ready</td>\n",
       "      <td>2023-11-03 09:45:03</td>\n",
       "      <td>1566921</td>\n",
       "      <td>5</td>\n",
       "      <td>NaN</td>\n",
       "      <td>2023-11-02 19:44:18</td>\n",
       "    </tr>\n",
       "  </tbody>\n",
       "</table>\n",
       "</div>"
      ],
      "text/plain": [
       "            id marketplace_number           mm              rk         innst  \\\n",
       "25935  1566921         1128199184  АптекаФорте  ООО \"ФК ПУЛЬС\"  7701047916.0   \n",
       "25934  1566921         1128199184  АптекаФорте  ООО \"ФК ПУЛЬС\"  7701047916.0   \n",
       "25936  1566921         1128199184  АптекаФорте  ООО \"ФК ПУЛЬС\"  7701047916.0   \n",
       "\n",
       "                  created  sys_status er_order_id  \\\n",
       "25935 2023-11-01 02:18:03         NaN  1128199184   \n",
       "25934 2023-11-01 02:18:03         NaN  1128199184   \n",
       "25936 2023-11-01 02:18:03         NaN  1128199184   \n",
       "\n",
       "                              er_status      er_status_time  order_id  status  \\\n",
       "25935  Собрали заказ / Оттправили Ready 2023-11-03 09:45:03   1566921      71   \n",
       "25934  Собрали заказ / Оттправили Ready 2023-11-03 09:45:03   1566921       6   \n",
       "25936  Собрали заказ / Оттправили Ready 2023-11-03 09:45:03   1566921       5   \n",
       "\n",
       "      source         status_time  \n",
       "25935    NaN 2023-11-03 09:30:05  \n",
       "25934    NaN 2023-11-03 09:24:10  \n",
       "25936    NaN 2023-11-02 19:44:18  "
      ]
     },
     "execution_count": 57,
     "metadata": {},
     "output_type": "execute_result"
    }
   ],
   "source": [
    "sorted_df.head(3)"
   ]
  },
  {
   "cell_type": "code",
   "execution_count": 58,
   "metadata": {},
   "outputs": [
    {
     "data": {
      "text/html": [
       "<div>\n",
       "<style scoped>\n",
       "    .dataframe tbody tr th:only-of-type {\n",
       "        vertical-align: middle;\n",
       "    }\n",
       "\n",
       "    .dataframe tbody tr th {\n",
       "        vertical-align: top;\n",
       "    }\n",
       "\n",
       "    .dataframe thead th {\n",
       "        text-align: right;\n",
       "    }\n",
       "</style>\n",
       "<table border=\"1\" class=\"dataframe\">\n",
       "  <thead>\n",
       "    <tr style=\"text-align: right;\">\n",
       "      <th></th>\n",
       "      <th>order_id</th>\n",
       "      <th>marketplace_number</th>\n",
       "      <th>mm</th>\n",
       "      <th>rk</th>\n",
       "      <th>status</th>\n",
       "      <th>status_time</th>\n",
       "      <th>source</th>\n",
       "      <th>innst</th>\n",
       "      <th>sys_status</th>\n",
       "    </tr>\n",
       "  </thead>\n",
       "  <tbody>\n",
       "    <tr>\n",
       "      <th>0</th>\n",
       "      <td>1566921</td>\n",
       "      <td>1128199184</td>\n",
       "      <td>АптекаФорте</td>\n",
       "      <td>ООО \"ФК ПУЛЬС\"</td>\n",
       "      <td>71</td>\n",
       "      <td>2023-11-03 09:30:05.000</td>\n",
       "      <td>None</td>\n",
       "      <td>7701047916.0</td>\n",
       "      <td>NaN</td>\n",
       "    </tr>\n",
       "    <tr>\n",
       "      <th>1</th>\n",
       "      <td>1566947</td>\n",
       "      <td>1128199197</td>\n",
       "      <td>АптекаФорте</td>\n",
       "      <td>ООО \"ПУЛЬС СПб\"</td>\n",
       "      <td>71</td>\n",
       "      <td>2023-11-02 09:00:09.000</td>\n",
       "      <td>None</td>\n",
       "      <td>7802634533.0</td>\n",
       "      <td>NaN</td>\n",
       "    </tr>\n",
       "    <tr>\n",
       "      <th>2</th>\n",
       "      <td>1566949</td>\n",
       "      <td>1128199198</td>\n",
       "      <td>АптекаФорте</td>\n",
       "      <td>ООО \"ПУЛЬС СПб\"</td>\n",
       "      <td>71</td>\n",
       "      <td>2023-11-02 09:00:08.000</td>\n",
       "      <td>None</td>\n",
       "      <td>7802634533.0</td>\n",
       "      <td>NaN</td>\n",
       "    </tr>\n",
       "    <tr>\n",
       "      <th>3</th>\n",
       "      <td>1566970</td>\n",
       "      <td>1128199210</td>\n",
       "      <td>АптекаФорте</td>\n",
       "      <td>ООО \"ПУЛЬС Новосибирск\"</td>\n",
       "      <td>71</td>\n",
       "      <td>2023-11-03 19:00:12.000</td>\n",
       "      <td>None</td>\n",
       "      <td>5402036790.0</td>\n",
       "      <td>NaN</td>\n",
       "    </tr>\n",
       "    <tr>\n",
       "      <th>4</th>\n",
       "      <td>1566996</td>\n",
       "      <td>1128199218</td>\n",
       "      <td>АптекаФорте</td>\n",
       "      <td>ООО \"ПУЛЬС Новосибирск\"</td>\n",
       "      <td>71</td>\n",
       "      <td>2023-11-02 05:00:04.000</td>\n",
       "      <td>None</td>\n",
       "      <td>5402036790.0</td>\n",
       "      <td>NaN</td>\n",
       "    </tr>\n",
       "    <tr>\n",
       "      <th>...</th>\n",
       "      <td>...</td>\n",
       "      <td>...</td>\n",
       "      <td>...</td>\n",
       "      <td>...</td>\n",
       "      <td>...</td>\n",
       "      <td>...</td>\n",
       "      <td>...</td>\n",
       "      <td>...</td>\n",
       "      <td>...</td>\n",
       "    </tr>\n",
       "    <tr>\n",
       "      <th>4269</th>\n",
       "      <td>7673794</td>\n",
       "      <td>07349576-0347-1</td>\n",
       "      <td>Озон RFBS</td>\n",
       "      <td>ООО \"ФК ПУЛЬС\"</td>\n",
       "      <td>5</td>\n",
       "      <td>2023-11-30 23:08:00.666</td>\n",
       "      <td>None</td>\n",
       "      <td>7714456627.0</td>\n",
       "      <td>11.0</td>\n",
       "    </tr>\n",
       "    <tr>\n",
       "      <th>4270</th>\n",
       "      <td>7674235</td>\n",
       "      <td>76550820</td>\n",
       "      <td>Ютека</td>\n",
       "      <td>ООО \"ФК ПУЛЬС\"</td>\n",
       "      <td>5</td>\n",
       "      <td>2023-11-30 22:54:31.268</td>\n",
       "      <td>None</td>\n",
       "      <td>7714456627.0</td>\n",
       "      <td>9.0</td>\n",
       "    </tr>\n",
       "    <tr>\n",
       "      <th>4271</th>\n",
       "      <td>7674547</td>\n",
       "      <td>96400721-0075-1</td>\n",
       "      <td>Озон RFBS</td>\n",
       "      <td>ООО \"ФК ПУЛЬС\"</td>\n",
       "      <td>5</td>\n",
       "      <td>2023-11-30 22:50:51.511</td>\n",
       "      <td>None</td>\n",
       "      <td>7713059634.0</td>\n",
       "      <td>11.0</td>\n",
       "    </tr>\n",
       "    <tr>\n",
       "      <th>4272</th>\n",
       "      <td>7674618</td>\n",
       "      <td>76551526</td>\n",
       "      <td>Ютека</td>\n",
       "      <td>ООО \"ФК ПУЛЬС\"</td>\n",
       "      <td>5</td>\n",
       "      <td>2023-11-30 21:57:00.408</td>\n",
       "      <td>None</td>\n",
       "      <td>7701047916.0</td>\n",
       "      <td>11.0</td>\n",
       "    </tr>\n",
       "    <tr>\n",
       "      <th>4273</th>\n",
       "      <td>7674928</td>\n",
       "      <td>35044313-0102-1</td>\n",
       "      <td>Озон RFBS</td>\n",
       "      <td>ООО \"ФК ПУЛЬС\"</td>\n",
       "      <td>5</td>\n",
       "      <td>2023-11-30 22:47:36.026</td>\n",
       "      <td>None</td>\n",
       "      <td>7701047916.0</td>\n",
       "      <td>9.0</td>\n",
       "    </tr>\n",
       "  </tbody>\n",
       "</table>\n",
       "<p>4274 rows × 9 columns</p>\n",
       "</div>"
      ],
      "text/plain": [
       "      order_id marketplace_number           mm                       rk  \\\n",
       "0      1566921         1128199184  АптекаФорте           ООО \"ФК ПУЛЬС\"   \n",
       "1      1566947         1128199197  АптекаФорте          ООО \"ПУЛЬС СПб\"   \n",
       "2      1566949         1128199198  АптекаФорте          ООО \"ПУЛЬС СПб\"   \n",
       "3      1566970         1128199210  АптекаФорте  ООО \"ПУЛЬС Новосибирск\"   \n",
       "4      1566996         1128199218  АптекаФорте  ООО \"ПУЛЬС Новосибирск\"   \n",
       "...        ...                ...          ...                      ...   \n",
       "4269   7673794    07349576-0347-1    Озон RFBS           ООО \"ФК ПУЛЬС\"   \n",
       "4270   7674235           76550820        Ютека           ООО \"ФК ПУЛЬС\"   \n",
       "4271   7674547    96400721-0075-1    Озон RFBS           ООО \"ФК ПУЛЬС\"   \n",
       "4272   7674618           76551526        Ютека           ООО \"ФК ПУЛЬС\"   \n",
       "4273   7674928    35044313-0102-1    Озон RFBS           ООО \"ФК ПУЛЬС\"   \n",
       "\n",
       "      status             status_time source         innst  sys_status  \n",
       "0         71 2023-11-03 09:30:05.000   None  7701047916.0         NaN  \n",
       "1         71 2023-11-02 09:00:09.000   None  7802634533.0         NaN  \n",
       "2         71 2023-11-02 09:00:08.000   None  7802634533.0         NaN  \n",
       "3         71 2023-11-03 19:00:12.000   None  5402036790.0         NaN  \n",
       "4         71 2023-11-02 05:00:04.000   None  5402036790.0         NaN  \n",
       "...      ...                     ...    ...           ...         ...  \n",
       "4269       5 2023-11-30 23:08:00.666   None  7714456627.0        11.0  \n",
       "4270       5 2023-11-30 22:54:31.268   None  7714456627.0         9.0  \n",
       "4271       5 2023-11-30 22:50:51.511   None  7713059634.0        11.0  \n",
       "4272       5 2023-11-30 21:57:00.408   None  7701047916.0        11.0  \n",
       "4273       5 2023-11-30 22:47:36.026   None  7701047916.0         9.0  \n",
       "\n",
       "[4274 rows x 9 columns]"
      ]
     },
     "execution_count": 58,
     "metadata": {},
     "output_type": "execute_result"
    }
   ],
   "source": [
    "# Group by order_id and take the first occurrence\n",
    "last_status_df = sorted_df.groupby('order_id').first().reset_index()\n",
    "\n",
    "# Select only the necessary columns\n",
    "last_status_df = last_status_df[['order_id', 'marketplace_number', 'mm', 'rk', 'status', 'status_time', 'source', 'innst', 'sys_status']]\n",
    "\n",
    "last_status_df"
   ]
  },
  {
   "cell_type": "code",
   "execution_count": 59,
   "metadata": {},
   "outputs": [
    {
     "data": {
      "text/plain": [
       "5      2618\n",
       "71     1362\n",
       "6       171\n",
       "7        55\n",
       "400      51\n",
       "8        13\n",
       "9         1\n",
       "10        1\n",
       "11        1\n",
       "13        1\n",
       "Name: status, dtype: int64"
      ]
     },
     "execution_count": 59,
     "metadata": {},
     "output_type": "execute_result"
    }
   ],
   "source": [
    "last_status_df.status.value_counts(dropna=False)"
   ]
  },
  {
   "cell_type": "code",
   "execution_count": 60,
   "metadata": {},
   "outputs": [
    {
     "data": {
      "text/plain": [
       "5      61.25\n",
       "71     31.87\n",
       "6       4.00\n",
       "7       1.29\n",
       "400     1.19\n",
       "8       0.30\n",
       "9       0.02\n",
       "10      0.02\n",
       "11      0.02\n",
       "13      0.02\n",
       "Name: status, dtype: float64"
      ]
     },
     "execution_count": 60,
     "metadata": {},
     "output_type": "execute_result"
    }
   ],
   "source": [
    "last_status_df.status.value_counts(normalize=True).round(4) * 100"
   ]
  },
  {
   "cell_type": "code",
   "execution_count": 68,
   "metadata": {},
   "outputs": [
    {
     "data": {
      "text/plain": [
       "9.0     1638\n",
       "11.0     816\n",
       "7.0       43\n",
       "10.0      32\n",
       "5.0       10\n",
       "Name: sys_status, dtype: int64"
      ]
     },
     "execution_count": 68,
     "metadata": {},
     "output_type": "execute_result"
    }
   ],
   "source": [
    "last_status_df[last_status_df.status == 5].sys_status.value_counts()"
   ]
  },
  {
   "cell_type": "code",
   "execution_count": null,
   "metadata": {},
   "outputs": [],
   "source": []
  },
  {
   "cell_type": "code",
   "execution_count": null,
   "metadata": {},
   "outputs": [],
   "source": []
  },
  {
   "cell_type": "code",
   "execution_count": 122,
   "metadata": {},
   "outputs": [
    {
     "data": {
      "text/plain": [
       "ЯндексDBS         593\n",
       "Ютека             140\n",
       "Озон RFBS          36\n",
       "Сбермегамаркет     13\n",
       "Все аптеки          9\n",
       "Name: mm, dtype: int64"
      ]
     },
     "execution_count": 122,
     "metadata": {},
     "output_type": "execute_result"
    }
   ],
   "source": [
    "last_status_df[last_status_df.status == 71].mm.value_counts()"
   ]
  },
  {
   "cell_type": "code",
   "execution_count": 62,
   "metadata": {},
   "outputs": [
    {
     "data": {
      "text/html": [
       "<div>\n",
       "<style scoped>\n",
       "    .dataframe tbody tr th:only-of-type {\n",
       "        vertical-align: middle;\n",
       "    }\n",
       "\n",
       "    .dataframe tbody tr th {\n",
       "        vertical-align: top;\n",
       "    }\n",
       "\n",
       "    .dataframe thead th {\n",
       "        text-align: right;\n",
       "    }\n",
       "</style>\n",
       "<table border=\"1\" class=\"dataframe\">\n",
       "  <thead>\n",
       "    <tr style=\"text-align: right;\">\n",
       "      <th></th>\n",
       "      <th>order_id</th>\n",
       "      <th>marketplace_number</th>\n",
       "      <th>mm</th>\n",
       "      <th>rk</th>\n",
       "      <th>status</th>\n",
       "      <th>status_time</th>\n",
       "      <th>source</th>\n",
       "      <th>innst</th>\n",
       "      <th>sys_status</th>\n",
       "    </tr>\n",
       "  </thead>\n",
       "  <tbody>\n",
       "    <tr>\n",
       "      <th>0</th>\n",
       "      <td>1566921</td>\n",
       "      <td>1128199184</td>\n",
       "      <td>АптекаФорте</td>\n",
       "      <td>ООО \"ФК ПУЛЬС\"</td>\n",
       "      <td>71</td>\n",
       "      <td>2023-11-03 09:30:05.000</td>\n",
       "      <td>None</td>\n",
       "      <td>7701047916.0</td>\n",
       "      <td>NaN</td>\n",
       "    </tr>\n",
       "    <tr>\n",
       "      <th>1</th>\n",
       "      <td>1566947</td>\n",
       "      <td>1128199197</td>\n",
       "      <td>АптекаФорте</td>\n",
       "      <td>ООО \"ПУЛЬС СПб\"</td>\n",
       "      <td>71</td>\n",
       "      <td>2023-11-02 09:00:09.000</td>\n",
       "      <td>None</td>\n",
       "      <td>7802634533.0</td>\n",
       "      <td>NaN</td>\n",
       "    </tr>\n",
       "    <tr>\n",
       "      <th>2</th>\n",
       "      <td>1566949</td>\n",
       "      <td>1128199198</td>\n",
       "      <td>АптекаФорте</td>\n",
       "      <td>ООО \"ПУЛЬС СПб\"</td>\n",
       "      <td>71</td>\n",
       "      <td>2023-11-02 09:00:08.000</td>\n",
       "      <td>None</td>\n",
       "      <td>7802634533.0</td>\n",
       "      <td>NaN</td>\n",
       "    </tr>\n",
       "    <tr>\n",
       "      <th>3</th>\n",
       "      <td>1566970</td>\n",
       "      <td>1128199210</td>\n",
       "      <td>АптекаФорте</td>\n",
       "      <td>ООО \"ПУЛЬС Новосибирск\"</td>\n",
       "      <td>71</td>\n",
       "      <td>2023-11-03 19:00:12.000</td>\n",
       "      <td>None</td>\n",
       "      <td>5402036790.0</td>\n",
       "      <td>NaN</td>\n",
       "    </tr>\n",
       "    <tr>\n",
       "      <th>4</th>\n",
       "      <td>1566996</td>\n",
       "      <td>1128199218</td>\n",
       "      <td>АптекаФорте</td>\n",
       "      <td>ООО \"ПУЛЬС Новосибирск\"</td>\n",
       "      <td>71</td>\n",
       "      <td>2023-11-02 05:00:04.000</td>\n",
       "      <td>None</td>\n",
       "      <td>5402036790.0</td>\n",
       "      <td>NaN</td>\n",
       "    </tr>\n",
       "    <tr>\n",
       "      <th>...</th>\n",
       "      <td>...</td>\n",
       "      <td>...</td>\n",
       "      <td>...</td>\n",
       "      <td>...</td>\n",
       "      <td>...</td>\n",
       "      <td>...</td>\n",
       "      <td>...</td>\n",
       "      <td>...</td>\n",
       "      <td>...</td>\n",
       "    </tr>\n",
       "    <tr>\n",
       "      <th>4173</th>\n",
       "      <td>7653868</td>\n",
       "      <td>76493760</td>\n",
       "      <td>Ютека</td>\n",
       "      <td>ООО \"ПУЛЬС Екатеринбург\"</td>\n",
       "      <td>71</td>\n",
       "      <td>2023-12-01 07:01:31.342</td>\n",
       "      <td>СОММ</td>\n",
       "      <td>7203431140.0</td>\n",
       "      <td>9.0</td>\n",
       "    </tr>\n",
       "    <tr>\n",
       "      <th>4223</th>\n",
       "      <td>7662696</td>\n",
       "      <td>346486038</td>\n",
       "      <td>ЯндексDBS</td>\n",
       "      <td>ООО \"ПУЛЬС Самара\"</td>\n",
       "      <td>71</td>\n",
       "      <td>2023-11-30 22:31:31.518</td>\n",
       "      <td>СОММ</td>\n",
       "      <td>6451128364.0</td>\n",
       "      <td>9.0</td>\n",
       "    </tr>\n",
       "    <tr>\n",
       "      <th>4229</th>\n",
       "      <td>7663651</td>\n",
       "      <td>346501584</td>\n",
       "      <td>ЯндексDBS</td>\n",
       "      <td>ООО \"ПУЛЬС Ярославль\"</td>\n",
       "      <td>71</td>\n",
       "      <td>2023-12-01 09:00:24.846</td>\n",
       "      <td>СОММ</td>\n",
       "      <td>5258139119.0</td>\n",
       "      <td>9.0</td>\n",
       "    </tr>\n",
       "    <tr>\n",
       "      <th>4237</th>\n",
       "      <td>7665100</td>\n",
       "      <td>346522738</td>\n",
       "      <td>ЯндексDBS</td>\n",
       "      <td>ООО \"ПУЛЬС Ярославль\"</td>\n",
       "      <td>71</td>\n",
       "      <td>2023-12-01 09:00:24.793</td>\n",
       "      <td>СОММ</td>\n",
       "      <td>5258139119.0</td>\n",
       "      <td>9.0</td>\n",
       "    </tr>\n",
       "    <tr>\n",
       "      <th>4248</th>\n",
       "      <td>7667868</td>\n",
       "      <td>76536147</td>\n",
       "      <td>Ютека</td>\n",
       "      <td>ООО \"ПУЛЬС Казань\"</td>\n",
       "      <td>71</td>\n",
       "      <td>2023-12-01 09:00:22.399</td>\n",
       "      <td>СОММ</td>\n",
       "      <td>6453153535.0</td>\n",
       "      <td>9.0</td>\n",
       "    </tr>\n",
       "  </tbody>\n",
       "</table>\n",
       "<p>1362 rows × 9 columns</p>\n",
       "</div>"
      ],
      "text/plain": [
       "      order_id marketplace_number           mm                        rk  \\\n",
       "0      1566921         1128199184  АптекаФорте            ООО \"ФК ПУЛЬС\"   \n",
       "1      1566947         1128199197  АптекаФорте           ООО \"ПУЛЬС СПб\"   \n",
       "2      1566949         1128199198  АптекаФорте           ООО \"ПУЛЬС СПб\"   \n",
       "3      1566970         1128199210  АптекаФорте   ООО \"ПУЛЬС Новосибирск\"   \n",
       "4      1566996         1128199218  АптекаФорте   ООО \"ПУЛЬС Новосибирск\"   \n",
       "...        ...                ...          ...                       ...   \n",
       "4173   7653868           76493760        Ютека  ООО \"ПУЛЬС Екатеринбург\"   \n",
       "4223   7662696          346486038    ЯндексDBS        ООО \"ПУЛЬС Самара\"   \n",
       "4229   7663651          346501584    ЯндексDBS     ООО \"ПУЛЬС Ярославль\"   \n",
       "4237   7665100          346522738    ЯндексDBS     ООО \"ПУЛЬС Ярославль\"   \n",
       "4248   7667868           76536147        Ютека        ООО \"ПУЛЬС Казань\"   \n",
       "\n",
       "      status             status_time source         innst  sys_status  \n",
       "0         71 2023-11-03 09:30:05.000   None  7701047916.0         NaN  \n",
       "1         71 2023-11-02 09:00:09.000   None  7802634533.0         NaN  \n",
       "2         71 2023-11-02 09:00:08.000   None  7802634533.0         NaN  \n",
       "3         71 2023-11-03 19:00:12.000   None  5402036790.0         NaN  \n",
       "4         71 2023-11-02 05:00:04.000   None  5402036790.0         NaN  \n",
       "...      ...                     ...    ...           ...         ...  \n",
       "4173      71 2023-12-01 07:01:31.342   СОММ  7203431140.0         9.0  \n",
       "4223      71 2023-11-30 22:31:31.518   СОММ  6451128364.0         9.0  \n",
       "4229      71 2023-12-01 09:00:24.846   СОММ  5258139119.0         9.0  \n",
       "4237      71 2023-12-01 09:00:24.793   СОММ  5258139119.0         9.0  \n",
       "4248      71 2023-12-01 09:00:22.399   СОММ  6453153535.0         9.0  \n",
       "\n",
       "[1362 rows x 9 columns]"
      ]
     },
     "execution_count": 62,
     "metadata": {},
     "output_type": "execute_result"
    }
   ],
   "source": [
    "last_status_df[last_status_df.status == 71]"
   ]
  },
  {
   "cell_type": "code",
   "execution_count": 124,
   "metadata": {},
   "outputs": [
    {
     "data": {
      "text/html": [
       "<div>\n",
       "<style scoped>\n",
       "    .dataframe tbody tr th:only-of-type {\n",
       "        vertical-align: middle;\n",
       "    }\n",
       "\n",
       "    .dataframe tbody tr th {\n",
       "        vertical-align: top;\n",
       "    }\n",
       "\n",
       "    .dataframe thead th {\n",
       "        text-align: right;\n",
       "    }\n",
       "</style>\n",
       "<table border=\"1\" class=\"dataframe\">\n",
       "  <thead>\n",
       "    <tr style=\"text-align: right;\">\n",
       "      <th></th>\n",
       "      <th>order_id</th>\n",
       "      <th>marketplace_number</th>\n",
       "      <th>mm</th>\n",
       "      <th>rk</th>\n",
       "      <th>status</th>\n",
       "      <th>status_time</th>\n",
       "      <th>source</th>\n",
       "      <th>innst</th>\n",
       "      <th>sys_status</th>\n",
       "    </tr>\n",
       "  </thead>\n",
       "  <tbody>\n",
       "    <tr>\n",
       "      <th>0</th>\n",
       "      <td>6357065</td>\n",
       "      <td>73897707</td>\n",
       "      <td>Ютека</td>\n",
       "      <td>ООО \"ПУЛЬС Ярославль\"</td>\n",
       "      <td>71</td>\n",
       "      <td>2023-11-02 09:01:40.299</td>\n",
       "      <td>СОММ</td>\n",
       "      <td>6453153535.0</td>\n",
       "      <td>9.0</td>\n",
       "    </tr>\n",
       "    <tr>\n",
       "      <th>1</th>\n",
       "      <td>6359265</td>\n",
       "      <td>323711924</td>\n",
       "      <td>ЯндексDBS</td>\n",
       "      <td>ООО \"ПУЛЬС СПб\"</td>\n",
       "      <td>71</td>\n",
       "      <td>2023-11-02 09:30:15.892</td>\n",
       "      <td>СОММ</td>\n",
       "      <td>7802611649.0</td>\n",
       "      <td>9.0</td>\n",
       "    </tr>\n",
       "    <tr>\n",
       "      <th>2</th>\n",
       "      <td>6360865</td>\n",
       "      <td>323732083</td>\n",
       "      <td>ЯндексDBS</td>\n",
       "      <td>ООО \"ПУЛЬС СПб\"</td>\n",
       "      <td>71</td>\n",
       "      <td>2023-11-02 09:00:51.749</td>\n",
       "      <td>СОММ</td>\n",
       "      <td>4703148953.0</td>\n",
       "      <td>9.0</td>\n",
       "    </tr>\n",
       "    <tr>\n",
       "      <th>3</th>\n",
       "      <td>6363221</td>\n",
       "      <td>46831899-0005-1</td>\n",
       "      <td>Озон RFBS</td>\n",
       "      <td>ООО \"ФК ПУЛЬС\"</td>\n",
       "      <td>6</td>\n",
       "      <td>2023-11-03 09:54:56.449</td>\n",
       "      <td>None</td>\n",
       "      <td>7701047916.0</td>\n",
       "      <td>9.0</td>\n",
       "    </tr>\n",
       "    <tr>\n",
       "      <th>4</th>\n",
       "      <td>6367404</td>\n",
       "      <td>323766740</td>\n",
       "      <td>ЯндексDBS</td>\n",
       "      <td>ООО \"ПУЛЬС СПб\"</td>\n",
       "      <td>71</td>\n",
       "      <td>2023-11-02 09:00:51.667</td>\n",
       "      <td>СОММ</td>\n",
       "      <td>4703148953.0</td>\n",
       "      <td>9.0</td>\n",
       "    </tr>\n",
       "    <tr>\n",
       "      <th>...</th>\n",
       "      <td>...</td>\n",
       "      <td>...</td>\n",
       "      <td>...</td>\n",
       "      <td>...</td>\n",
       "      <td>...</td>\n",
       "      <td>...</td>\n",
       "      <td>...</td>\n",
       "      <td>...</td>\n",
       "      <td>...</td>\n",
       "    </tr>\n",
       "    <tr>\n",
       "      <th>3517</th>\n",
       "      <td>7673794</td>\n",
       "      <td>07349576-0347-1</td>\n",
       "      <td>Озон RFBS</td>\n",
       "      <td>ООО \"ФК ПУЛЬС\"</td>\n",
       "      <td>5</td>\n",
       "      <td>2023-11-30 23:08:00.666</td>\n",
       "      <td>None</td>\n",
       "      <td>7714456627.0</td>\n",
       "      <td>11.0</td>\n",
       "    </tr>\n",
       "    <tr>\n",
       "      <th>3518</th>\n",
       "      <td>7674235</td>\n",
       "      <td>76550820</td>\n",
       "      <td>Ютека</td>\n",
       "      <td>ООО \"ФК ПУЛЬС\"</td>\n",
       "      <td>5</td>\n",
       "      <td>2023-11-30 22:54:31.268</td>\n",
       "      <td>None</td>\n",
       "      <td>7714456627.0</td>\n",
       "      <td>9.0</td>\n",
       "    </tr>\n",
       "    <tr>\n",
       "      <th>3519</th>\n",
       "      <td>7674547</td>\n",
       "      <td>96400721-0075-1</td>\n",
       "      <td>Озон RFBS</td>\n",
       "      <td>ООО \"ФК ПУЛЬС\"</td>\n",
       "      <td>5</td>\n",
       "      <td>2023-11-30 22:50:51.511</td>\n",
       "      <td>None</td>\n",
       "      <td>7713059634.0</td>\n",
       "      <td>11.0</td>\n",
       "    </tr>\n",
       "    <tr>\n",
       "      <th>3520</th>\n",
       "      <td>7674618</td>\n",
       "      <td>76551526</td>\n",
       "      <td>Ютека</td>\n",
       "      <td>ООО \"ФК ПУЛЬС\"</td>\n",
       "      <td>5</td>\n",
       "      <td>2023-11-30 21:57:00.408</td>\n",
       "      <td>None</td>\n",
       "      <td>7701047916.0</td>\n",
       "      <td>11.0</td>\n",
       "    </tr>\n",
       "    <tr>\n",
       "      <th>3521</th>\n",
       "      <td>7674928</td>\n",
       "      <td>35044313-0102-1</td>\n",
       "      <td>Озон RFBS</td>\n",
       "      <td>ООО \"ФК ПУЛЬС\"</td>\n",
       "      <td>5</td>\n",
       "      <td>2023-11-30 22:47:36.026</td>\n",
       "      <td>None</td>\n",
       "      <td>7701047916.0</td>\n",
       "      <td>9.0</td>\n",
       "    </tr>\n",
       "  </tbody>\n",
       "</table>\n",
       "<p>3522 rows × 9 columns</p>\n",
       "</div>"
      ],
      "text/plain": [
       "      order_id marketplace_number         mm                     rk  status  \\\n",
       "0      6357065           73897707      Ютека  ООО \"ПУЛЬС Ярославль\"      71   \n",
       "1      6359265          323711924  ЯндексDBS        ООО \"ПУЛЬС СПб\"      71   \n",
       "2      6360865          323732083  ЯндексDBS        ООО \"ПУЛЬС СПб\"      71   \n",
       "3      6363221    46831899-0005-1  Озон RFBS         ООО \"ФК ПУЛЬС\"       6   \n",
       "4      6367404          323766740  ЯндексDBS        ООО \"ПУЛЬС СПб\"      71   \n",
       "...        ...                ...        ...                    ...     ...   \n",
       "3517   7673794    07349576-0347-1  Озон RFBS         ООО \"ФК ПУЛЬС\"       5   \n",
       "3518   7674235           76550820      Ютека         ООО \"ФК ПУЛЬС\"       5   \n",
       "3519   7674547    96400721-0075-1  Озон RFBS         ООО \"ФК ПУЛЬС\"       5   \n",
       "3520   7674618           76551526      Ютека         ООО \"ФК ПУЛЬС\"       5   \n",
       "3521   7674928    35044313-0102-1  Озон RFBS         ООО \"ФК ПУЛЬС\"       5   \n",
       "\n",
       "                 status_time source         innst  sys_status  \n",
       "0    2023-11-02 09:01:40.299   СОММ  6453153535.0         9.0  \n",
       "1    2023-11-02 09:30:15.892   СОММ  7802611649.0         9.0  \n",
       "2    2023-11-02 09:00:51.749   СОММ  4703148953.0         9.0  \n",
       "3    2023-11-03 09:54:56.449   None  7701047916.0         9.0  \n",
       "4    2023-11-02 09:00:51.667   СОММ  4703148953.0         9.0  \n",
       "...                      ...    ...           ...         ...  \n",
       "3517 2023-11-30 23:08:00.666   None  7714456627.0        11.0  \n",
       "3518 2023-11-30 22:54:31.268   None  7714456627.0         9.0  \n",
       "3519 2023-11-30 22:50:51.511   None  7713059634.0        11.0  \n",
       "3520 2023-11-30 21:57:00.408   None  7701047916.0        11.0  \n",
       "3521 2023-11-30 22:47:36.026   None  7701047916.0         9.0  \n",
       "\n",
       "[3522 rows x 9 columns]"
      ]
     },
     "execution_count": 124,
     "metadata": {},
     "output_type": "execute_result"
    }
   ],
   "source": [
    "last_status_df"
   ]
  },
  {
   "cell_type": "code",
   "execution_count": 132,
   "metadata": {},
   "outputs": [],
   "source": [
    "last_status_df.to_excel('output_erka71_.xlsx', index=False)"
   ]
  },
  {
   "cell_type": "code",
   "execution_count": null,
   "metadata": {},
   "outputs": [],
   "source": []
  },
  {
   "cell_type": "code",
   "execution_count": null,
   "metadata": {},
   "outputs": [],
   "source": []
  },
  {
   "cell_type": "code",
   "execution_count": 67,
   "metadata": {},
   "outputs": [
    {
     "data": {
      "text/plain": [
       "5      2539\n",
       "71      791\n",
       "6        72\n",
       "7        52\n",
       "400      51\n",
       "8        13\n",
       "9         1\n",
       "10        1\n",
       "11        1\n",
       "13        1\n",
       "Name: status, dtype: int64"
      ]
     },
     "execution_count": 67,
     "metadata": {},
     "output_type": "execute_result"
    }
   ],
   "source": [
    "last_status_df[last_status_df.mm != 'АптекаФорте'].status.value_counts(dropna=False)"
   ]
  },
  {
   "cell_type": "code",
   "execution_count": 66,
   "metadata": {},
   "outputs": [
    {
     "data": {
      "text/plain": [
       "5      72.09\n",
       "71     22.46\n",
       "6       2.04\n",
       "7       1.48\n",
       "400     1.45\n",
       "8       0.37\n",
       "9       0.03\n",
       "10      0.03\n",
       "11      0.03\n",
       "13      0.03\n",
       "Name: status, dtype: float64"
      ]
     },
     "execution_count": 66,
     "metadata": {},
     "output_type": "execute_result"
    }
   ],
   "source": [
    "last_status_df[last_status_df.mm != 'АптекаФорте'].status.value_counts(normalize=True).round(4) * 100"
   ]
  },
  {
   "cell_type": "code",
   "execution_count": null,
   "metadata": {},
   "outputs": [],
   "source": []
  },
  {
   "cell_type": "code",
   "execution_count": null,
   "metadata": {},
   "outputs": [],
   "source": []
  },
  {
   "cell_type": "code",
   "execution_count": 109,
   "metadata": {},
   "outputs": [
    {
     "data": {
      "text/html": [
       "<div>\n",
       "<style scoped>\n",
       "    .dataframe tbody tr th:only-of-type {\n",
       "        vertical-align: middle;\n",
       "    }\n",
       "\n",
       "    .dataframe tbody tr th {\n",
       "        vertical-align: top;\n",
       "    }\n",
       "\n",
       "    .dataframe thead th {\n",
       "        text-align: right;\n",
       "    }\n",
       "</style>\n",
       "<table border=\"1\" class=\"dataframe\">\n",
       "  <thead>\n",
       "    <tr style=\"text-align: right;\">\n",
       "      <th></th>\n",
       "      <th>er_order_id</th>\n",
       "      <th>er_status</th>\n",
       "      <th>er_status_time</th>\n",
       "    </tr>\n",
       "  </thead>\n",
       "  <tbody>\n",
       "    <tr>\n",
       "      <th>120841</th>\n",
       "      <td>346522738</td>\n",
       "      <td>Собрали заказ / Оттправили Ready</td>\n",
       "      <td>2023-12-01 16:40:00</td>\n",
       "    </tr>\n",
       "  </tbody>\n",
       "</table>\n",
       "</div>"
      ],
      "text/plain": [
       "       er_order_id                         er_status      er_status_time\n",
       "120841   346522738  Собрали заказ / Оттправили Ready 2023-12-01 16:40:00"
      ]
     },
     "execution_count": 109,
     "metadata": {},
     "output_type": "execute_result"
    }
   ],
   "source": [
    "erka71[erka71.er_order_id == '346522738']"
   ]
  },
  {
   "cell_type": "code",
   "execution_count": null,
   "metadata": {},
   "outputs": [],
   "source": []
  },
  {
   "cell_type": "code",
   "execution_count": null,
   "metadata": {},
   "outputs": [],
   "source": []
  },
  {
   "cell_type": "code",
   "execution_count": null,
   "metadata": {},
   "outputs": [],
   "source": []
  },
  {
   "cell_type": "markdown",
   "metadata": {},
   "source": [
    "## Эркафарм 71"
   ]
  },
  {
   "cell_type": "code",
   "execution_count": 145,
   "metadata": {},
   "outputs": [],
   "source": [
    "dfo_erka71 = dfo_erka.merge(dfs71, how='left', left_on='id', right_on='order_id')"
   ]
  },
  {
   "cell_type": "code",
   "execution_count": 146,
   "metadata": {},
   "outputs": [],
   "source": [
    "dfo_erka71 = dfo_erka71.drop_duplicates(subset=['id'], keep='first')"
   ]
  },
  {
   "cell_type": "code",
   "execution_count": 147,
   "metadata": {},
   "outputs": [
    {
     "data": {
      "text/plain": [
       "(30831, 11)"
      ]
     },
     "execution_count": 147,
     "metadata": {},
     "output_type": "execute_result"
    }
   ],
   "source": [
    "dfo_erka71.shape"
   ]
  },
  {
   "cell_type": "code",
   "execution_count": 148,
   "metadata": {},
   "outputs": [
    {
     "data": {
      "text/plain": [
       "30831"
      ]
     },
     "execution_count": 148,
     "metadata": {},
     "output_type": "execute_result"
    }
   ],
   "source": [
    "dfo_erka71.id.nunique()"
   ]
  },
  {
   "cell_type": "code",
   "execution_count": 149,
   "metadata": {},
   "outputs": [],
   "source": [
    "# есть 50 дублей, очевидно из-за того, что статусы по 2 раза приходят. на общие цифры не повлияет, все равно уникальные считаю"
   ]
  },
  {
   "cell_type": "code",
   "execution_count": 150,
   "metadata": {},
   "outputs": [],
   "source": [
    "dfo_erka71 = dfo_erka71.merge(erka71, how='left', left_on='marketplace_number', right_on='er_order_id')"
   ]
  },
  {
   "cell_type": "code",
   "execution_count": 151,
   "metadata": {},
   "outputs": [],
   "source": [
    "dfo_erka71 = dfo_erka71.drop_duplicates(subset=['id'], keep='first')"
   ]
  },
  {
   "cell_type": "code",
   "execution_count": 152,
   "metadata": {},
   "outputs": [],
   "source": [
    "# есть еще 10 дублей, хз почему"
   ]
  },
  {
   "cell_type": "code",
   "execution_count": 153,
   "metadata": {},
   "outputs": [
    {
     "data": {
      "text/plain": [
       "ТВЗ     26109\n",
       "NaN      3876\n",
       "СОММ      830\n",
       "СБИС       16\n",
       "Name: source, dtype: int64"
      ]
     },
     "execution_count": 153,
     "metadata": {},
     "output_type": "execute_result"
    }
   ],
   "source": [
    "dfo_erka71.source.value_counts(dropna=False)"
   ]
  },
  {
   "cell_type": "code",
   "execution_count": 154,
   "metadata": {},
   "outputs": [],
   "source": [
    "dfo_erka71['is_source_tvz'] = dfo_erka71.source == 'ТВЗ'\n",
    "dfo_erka71['is_source_somm'] = dfo_erka71.source == 'СОММ'\n",
    "dfo_erka71['is_source_sbis'] = dfo_erka71.source == 'СБИС'\n",
    "dfo_erka71['is_source_null'] = (dfo_erka71.source.isna()) & (~dfo_erka71.status.isna())\n",
    "dfo_erka71['no_status'] = dfo_erka71.status.isna()"
   ]
  },
  {
   "cell_type": "code",
   "execution_count": null,
   "metadata": {},
   "outputs": [],
   "source": []
  },
  {
   "cell_type": "code",
   "execution_count": 156,
   "metadata": {},
   "outputs": [],
   "source": [
    "# dfo_erka71[(dfo_erka71.is_source_tvz + dfo_erka71.is_source_somm + dfo_erka71.is_source_sbis + \n",
    "#                    dfo_erka71.is_source_null + dfo_erka71.no_status) == 1]"
   ]
  },
  {
   "cell_type": "code",
   "execution_count": null,
   "metadata": {},
   "outputs": [],
   "source": []
  },
  {
   "cell_type": "code",
   "execution_count": null,
   "metadata": {},
   "outputs": [],
   "source": []
  },
  {
   "cell_type": "code",
   "execution_count": 157,
   "metadata": {},
   "outputs": [],
   "source": [
    "dfo_erka71_mm = dfo_erka71.groupby('mm', as_index=False) \\\n",
    "                        .agg({'id': 'nunique', \n",
    "                              'is_source_tvz': 'sum',\n",
    "                              'is_source_somm': 'sum',\n",
    "                              'is_source_sbis': 'sum',\n",
    "                              'is_source_null': 'sum',\n",
    "                              'no_status': 'sum', \n",
    "                           'order_id': 'nunique', \n",
    "                           'er_order_id': 'nunique'})"
   ]
  },
  {
   "cell_type": "code",
   "execution_count": 158,
   "metadata": {},
   "outputs": [],
   "source": [
    "dfo_erka71_mm['percent'] = round(dfo_erka71_mm.order_id / dfo_erka71_mm.er_order_id * 100, 0)"
   ]
  },
  {
   "cell_type": "code",
   "execution_count": 159,
   "metadata": {},
   "outputs": [
    {
     "data": {
      "text/html": [
       "<div>\n",
       "<style scoped>\n",
       "    .dataframe tbody tr th:only-of-type {\n",
       "        vertical-align: middle;\n",
       "    }\n",
       "\n",
       "    .dataframe tbody tr th {\n",
       "        vertical-align: top;\n",
       "    }\n",
       "\n",
       "    .dataframe thead th {\n",
       "        text-align: right;\n",
       "    }\n",
       "</style>\n",
       "<table border=\"1\" class=\"dataframe\">\n",
       "  <thead>\n",
       "    <tr style=\"text-align: right;\">\n",
       "      <th></th>\n",
       "      <th>mm</th>\n",
       "      <th>id</th>\n",
       "      <th>is_source_tvz</th>\n",
       "      <th>is_source_somm</th>\n",
       "      <th>is_source_sbis</th>\n",
       "      <th>is_source_null</th>\n",
       "      <th>no_status</th>\n",
       "      <th>order_id</th>\n",
       "      <th>er_order_id</th>\n",
       "      <th>percent</th>\n",
       "    </tr>\n",
       "  </thead>\n",
       "  <tbody>\n",
       "    <tr>\n",
       "      <th>0</th>\n",
       "      <td>АптекаФорте</td>\n",
       "      <td>782</td>\n",
       "      <td>0</td>\n",
       "      <td>0</td>\n",
       "      <td>0</td>\n",
       "      <td>0</td>\n",
       "      <td>782</td>\n",
       "      <td>0</td>\n",
       "      <td>752</td>\n",
       "      <td>0.0</td>\n",
       "    </tr>\n",
       "    <tr>\n",
       "      <th>1</th>\n",
       "      <td>Все аптеки</td>\n",
       "      <td>743</td>\n",
       "      <td>659</td>\n",
       "      <td>9</td>\n",
       "      <td>0</td>\n",
       "      <td>0</td>\n",
       "      <td>75</td>\n",
       "      <td>668</td>\n",
       "      <td>720</td>\n",
       "      <td>93.0</td>\n",
       "    </tr>\n",
       "    <tr>\n",
       "      <th>2</th>\n",
       "      <td>ОК Аптека</td>\n",
       "      <td>22</td>\n",
       "      <td>21</td>\n",
       "      <td>0</td>\n",
       "      <td>0</td>\n",
       "      <td>0</td>\n",
       "      <td>1</td>\n",
       "      <td>21</td>\n",
       "      <td>21</td>\n",
       "      <td>100.0</td>\n",
       "    </tr>\n",
       "    <tr>\n",
       "      <th>3</th>\n",
       "      <td>Озон RFBS</td>\n",
       "      <td>6728</td>\n",
       "      <td>5879</td>\n",
       "      <td>38</td>\n",
       "      <td>0</td>\n",
       "      <td>0</td>\n",
       "      <td>811</td>\n",
       "      <td>5917</td>\n",
       "      <td>6550</td>\n",
       "      <td>90.0</td>\n",
       "    </tr>\n",
       "    <tr>\n",
       "      <th>4</th>\n",
       "      <td>Сбермегамаркет</td>\n",
       "      <td>894</td>\n",
       "      <td>817</td>\n",
       "      <td>14</td>\n",
       "      <td>0</td>\n",
       "      <td>0</td>\n",
       "      <td>63</td>\n",
       "      <td>831</td>\n",
       "      <td>876</td>\n",
       "      <td>95.0</td>\n",
       "    </tr>\n",
       "    <tr>\n",
       "      <th>5</th>\n",
       "      <td>Ютека</td>\n",
       "      <td>20783</td>\n",
       "      <td>18507</td>\n",
       "      <td>141</td>\n",
       "      <td>1</td>\n",
       "      <td>1</td>\n",
       "      <td>2133</td>\n",
       "      <td>18650</td>\n",
       "      <td>20305</td>\n",
       "      <td>92.0</td>\n",
       "    </tr>\n",
       "    <tr>\n",
       "      <th>6</th>\n",
       "      <td>ЯндексDBS</td>\n",
       "      <td>879</td>\n",
       "      <td>226</td>\n",
       "      <td>628</td>\n",
       "      <td>15</td>\n",
       "      <td>10</td>\n",
       "      <td>0</td>\n",
       "      <td>879</td>\n",
       "      <td>867</td>\n",
       "      <td>101.0</td>\n",
       "    </tr>\n",
       "  </tbody>\n",
       "</table>\n",
       "</div>"
      ],
      "text/plain": [
       "               mm     id  is_source_tvz  is_source_somm  is_source_sbis  \\\n",
       "0     АптекаФорте    782              0               0               0   \n",
       "1      Все аптеки    743            659               9               0   \n",
       "2       ОК Аптека     22             21               0               0   \n",
       "3       Озон RFBS   6728           5879              38               0   \n",
       "4  Сбермегамаркет    894            817              14               0   \n",
       "5           Ютека  20783          18507             141               1   \n",
       "6       ЯндексDBS    879            226             628              15   \n",
       "\n",
       "   is_source_null  no_status  order_id  er_order_id  percent  \n",
       "0               0        782         0          752      0.0  \n",
       "1               0         75       668          720     93.0  \n",
       "2               0          1        21           21    100.0  \n",
       "3               0        811      5917         6550     90.0  \n",
       "4               0         63       831          876     95.0  \n",
       "5               1       2133     18650        20305     92.0  \n",
       "6              10          0       879          867    101.0  "
      ]
     },
     "execution_count": 159,
     "metadata": {},
     "output_type": "execute_result"
    }
   ],
   "source": [
    "dfo_erka71_mm"
   ]
  },
  {
   "cell_type": "code",
   "execution_count": null,
   "metadata": {},
   "outputs": [],
   "source": []
  },
  {
   "cell_type": "code",
   "execution_count": 160,
   "metadata": {},
   "outputs": [],
   "source": [
    "dfo_erka71_rk = dfo_erka71.groupby('rk', as_index=False).agg({'id': 'nunique', \n",
    "                                                              'is_source_tvz': 'sum',\n",
    "                              'is_source_somm': 'sum',\n",
    "                              'is_source_sbis': 'sum',\n",
    "                              'is_source_null': 'sum',\n",
    "                              'no_status': 'sum', \n",
    "                                               'order_id': 'nunique', \n",
    "                                               'er_order_id': 'nunique'})\n",
    "dfo_erka71_rk['percent'] = round(dfo_erka71_rk.order_id / dfo_erka71_rk.er_order_id * 100, 0)"
   ]
  },
  {
   "cell_type": "code",
   "execution_count": 161,
   "metadata": {},
   "outputs": [
    {
     "data": {
      "text/html": [
       "<div>\n",
       "<style scoped>\n",
       "    .dataframe tbody tr th:only-of-type {\n",
       "        vertical-align: middle;\n",
       "    }\n",
       "\n",
       "    .dataframe tbody tr th {\n",
       "        vertical-align: top;\n",
       "    }\n",
       "\n",
       "    .dataframe thead th {\n",
       "        text-align: right;\n",
       "    }\n",
       "</style>\n",
       "<table border=\"1\" class=\"dataframe\">\n",
       "  <thead>\n",
       "    <tr style=\"text-align: right;\">\n",
       "      <th></th>\n",
       "      <th>rk</th>\n",
       "      <th>id</th>\n",
       "      <th>is_source_tvz</th>\n",
       "      <th>is_source_somm</th>\n",
       "      <th>is_source_sbis</th>\n",
       "      <th>is_source_null</th>\n",
       "      <th>no_status</th>\n",
       "      <th>order_id</th>\n",
       "      <th>er_order_id</th>\n",
       "      <th>percent</th>\n",
       "    </tr>\n",
       "  </thead>\n",
       "  <tbody>\n",
       "    <tr>\n",
       "      <th>0</th>\n",
       "      <td>ООО \"ПУЛЬС Брянск\"</td>\n",
       "      <td>473</td>\n",
       "      <td>457</td>\n",
       "      <td>6</td>\n",
       "      <td>0</td>\n",
       "      <td>0</td>\n",
       "      <td>10</td>\n",
       "      <td>463</td>\n",
       "      <td>462</td>\n",
       "      <td>100.0</td>\n",
       "    </tr>\n",
       "    <tr>\n",
       "      <th>1</th>\n",
       "      <td>ООО \"ПУЛЬС Волгоград\"</td>\n",
       "      <td>1376</td>\n",
       "      <td>1299</td>\n",
       "      <td>39</td>\n",
       "      <td>0</td>\n",
       "      <td>0</td>\n",
       "      <td>38</td>\n",
       "      <td>1338</td>\n",
       "      <td>1373</td>\n",
       "      <td>97.0</td>\n",
       "    </tr>\n",
       "    <tr>\n",
       "      <th>2</th>\n",
       "      <td>ООО \"ПУЛЬС Воронеж\"</td>\n",
       "      <td>109</td>\n",
       "      <td>97</td>\n",
       "      <td>6</td>\n",
       "      <td>1</td>\n",
       "      <td>0</td>\n",
       "      <td>5</td>\n",
       "      <td>104</td>\n",
       "      <td>107</td>\n",
       "      <td>97.0</td>\n",
       "    </tr>\n",
       "    <tr>\n",
       "      <th>3</th>\n",
       "      <td>ООО \"ПУЛЬС Екатеринбург\"</td>\n",
       "      <td>123</td>\n",
       "      <td>35</td>\n",
       "      <td>88</td>\n",
       "      <td>0</td>\n",
       "      <td>0</td>\n",
       "      <td>0</td>\n",
       "      <td>123</td>\n",
       "      <td>122</td>\n",
       "      <td>101.0</td>\n",
       "    </tr>\n",
       "    <tr>\n",
       "      <th>4</th>\n",
       "      <td>ООО \"ПУЛЬС Казань\"</td>\n",
       "      <td>149</td>\n",
       "      <td>34</td>\n",
       "      <td>63</td>\n",
       "      <td>0</td>\n",
       "      <td>1</td>\n",
       "      <td>51</td>\n",
       "      <td>98</td>\n",
       "      <td>148</td>\n",
       "      <td>66.0</td>\n",
       "    </tr>\n",
       "    <tr>\n",
       "      <th>5</th>\n",
       "      <td>ООО \"ПУЛЬС Краснодар\"</td>\n",
       "      <td>632</td>\n",
       "      <td>572</td>\n",
       "      <td>35</td>\n",
       "      <td>0</td>\n",
       "      <td>1</td>\n",
       "      <td>24</td>\n",
       "      <td>608</td>\n",
       "      <td>623</td>\n",
       "      <td>98.0</td>\n",
       "    </tr>\n",
       "    <tr>\n",
       "      <th>6</th>\n",
       "      <td>ООО \"ПУЛЬС Красноярск\"</td>\n",
       "      <td>88</td>\n",
       "      <td>81</td>\n",
       "      <td>0</td>\n",
       "      <td>0</td>\n",
       "      <td>0</td>\n",
       "      <td>7</td>\n",
       "      <td>81</td>\n",
       "      <td>84</td>\n",
       "      <td>96.0</td>\n",
       "    </tr>\n",
       "    <tr>\n",
       "      <th>7</th>\n",
       "      <td>ООО \"ПУЛЬС Новосибирск\"</td>\n",
       "      <td>1539</td>\n",
       "      <td>1455</td>\n",
       "      <td>15</td>\n",
       "      <td>0</td>\n",
       "      <td>0</td>\n",
       "      <td>69</td>\n",
       "      <td>1470</td>\n",
       "      <td>1489</td>\n",
       "      <td>99.0</td>\n",
       "    </tr>\n",
       "    <tr>\n",
       "      <th>8</th>\n",
       "      <td>ООО \"ПУЛЬС СПб\"</td>\n",
       "      <td>9765</td>\n",
       "      <td>9027</td>\n",
       "      <td>292</td>\n",
       "      <td>0</td>\n",
       "      <td>4</td>\n",
       "      <td>442</td>\n",
       "      <td>9323</td>\n",
       "      <td>9608</td>\n",
       "      <td>97.0</td>\n",
       "    </tr>\n",
       "    <tr>\n",
       "      <th>9</th>\n",
       "      <td>ООО \"ПУЛЬС Самара\"</td>\n",
       "      <td>168</td>\n",
       "      <td>158</td>\n",
       "      <td>3</td>\n",
       "      <td>0</td>\n",
       "      <td>0</td>\n",
       "      <td>7</td>\n",
       "      <td>161</td>\n",
       "      <td>168</td>\n",
       "      <td>96.0</td>\n",
       "    </tr>\n",
       "    <tr>\n",
       "      <th>10</th>\n",
       "      <td>ООО \"ПУЛЬС Хабаровск\"</td>\n",
       "      <td>50</td>\n",
       "      <td>44</td>\n",
       "      <td>1</td>\n",
       "      <td>0</td>\n",
       "      <td>0</td>\n",
       "      <td>5</td>\n",
       "      <td>45</td>\n",
       "      <td>48</td>\n",
       "      <td>94.0</td>\n",
       "    </tr>\n",
       "    <tr>\n",
       "      <th>11</th>\n",
       "      <td>ООО \"ПУЛЬС Ярославль\"</td>\n",
       "      <td>1232</td>\n",
       "      <td>1060</td>\n",
       "      <td>90</td>\n",
       "      <td>2</td>\n",
       "      <td>0</td>\n",
       "      <td>80</td>\n",
       "      <td>1152</td>\n",
       "      <td>1194</td>\n",
       "      <td>96.0</td>\n",
       "    </tr>\n",
       "    <tr>\n",
       "      <th>12</th>\n",
       "      <td>ООО \"ФК ПУЛЬС\"</td>\n",
       "      <td>15127</td>\n",
       "      <td>11790</td>\n",
       "      <td>192</td>\n",
       "      <td>13</td>\n",
       "      <td>5</td>\n",
       "      <td>3127</td>\n",
       "      <td>12000</td>\n",
       "      <td>14665</td>\n",
       "      <td>82.0</td>\n",
       "    </tr>\n",
       "  </tbody>\n",
       "</table>\n",
       "</div>"
      ],
      "text/plain": [
       "                          rk     id  is_source_tvz  is_source_somm  \\\n",
       "0         ООО \"ПУЛЬС Брянск\"    473            457               6   \n",
       "1      ООО \"ПУЛЬС Волгоград\"   1376           1299              39   \n",
       "2        ООО \"ПУЛЬС Воронеж\"    109             97               6   \n",
       "3   ООО \"ПУЛЬС Екатеринбург\"    123             35              88   \n",
       "4         ООО \"ПУЛЬС Казань\"    149             34              63   \n",
       "5      ООО \"ПУЛЬС Краснодар\"    632            572              35   \n",
       "6     ООО \"ПУЛЬС Красноярск\"     88             81               0   \n",
       "7    ООО \"ПУЛЬС Новосибирск\"   1539           1455              15   \n",
       "8            ООО \"ПУЛЬС СПб\"   9765           9027             292   \n",
       "9         ООО \"ПУЛЬС Самара\"    168            158               3   \n",
       "10     ООО \"ПУЛЬС Хабаровск\"     50             44               1   \n",
       "11     ООО \"ПУЛЬС Ярославль\"   1232           1060              90   \n",
       "12            ООО \"ФК ПУЛЬС\"  15127          11790             192   \n",
       "\n",
       "    is_source_sbis  is_source_null  no_status  order_id  er_order_id  percent  \n",
       "0                0               0         10       463          462    100.0  \n",
       "1                0               0         38      1338         1373     97.0  \n",
       "2                1               0          5       104          107     97.0  \n",
       "3                0               0          0       123          122    101.0  \n",
       "4                0               1         51        98          148     66.0  \n",
       "5                0               1         24       608          623     98.0  \n",
       "6                0               0          7        81           84     96.0  \n",
       "7                0               0         69      1470         1489     99.0  \n",
       "8                0               4        442      9323         9608     97.0  \n",
       "9                0               0          7       161          168     96.0  \n",
       "10               0               0          5        45           48     94.0  \n",
       "11               2               0         80      1152         1194     96.0  \n",
       "12              13               5       3127     12000        14665     82.0  "
      ]
     },
     "execution_count": 161,
     "metadata": {},
     "output_type": "execute_result"
    }
   ],
   "source": [
    "dfo_erka71_rk"
   ]
  },
  {
   "cell_type": "code",
   "execution_count": 162,
   "metadata": {},
   "outputs": [],
   "source": [
    "dfo_erka71_dd = dfo_erka71.groupby(dfo_erka71.created.dt.date) \\\n",
    "                        .agg({'id': 'nunique', \n",
    "                              'is_source_tvz': 'sum',\n",
    "                              'is_source_somm': 'sum',\n",
    "                              'is_source_sbis': 'sum',\n",
    "                              'is_source_null': 'sum',\n",
    "                              'no_status': 'sum', \n",
    "                           'order_id': 'nunique', \n",
    "                           'er_order_id': 'nunique'})\n",
    "dfo_erka71_dd['percent'] = round(dfo_erka71_dd.order_id / dfo_erka71_dd.er_order_id * 100, 0)"
   ]
  },
  {
   "cell_type": "code",
   "execution_count": 163,
   "metadata": {},
   "outputs": [
    {
     "data": {
      "text/html": [
       "<div>\n",
       "<style scoped>\n",
       "    .dataframe tbody tr th:only-of-type {\n",
       "        vertical-align: middle;\n",
       "    }\n",
       "\n",
       "    .dataframe tbody tr th {\n",
       "        vertical-align: top;\n",
       "    }\n",
       "\n",
       "    .dataframe thead th {\n",
       "        text-align: right;\n",
       "    }\n",
       "</style>\n",
       "<table border=\"1\" class=\"dataframe\">\n",
       "  <thead>\n",
       "    <tr style=\"text-align: right;\">\n",
       "      <th></th>\n",
       "      <th>id</th>\n",
       "      <th>is_source_tvz</th>\n",
       "      <th>is_source_somm</th>\n",
       "      <th>is_source_sbis</th>\n",
       "      <th>is_source_null</th>\n",
       "      <th>no_status</th>\n",
       "      <th>order_id</th>\n",
       "      <th>er_order_id</th>\n",
       "      <th>percent</th>\n",
       "    </tr>\n",
       "    <tr>\n",
       "      <th>created</th>\n",
       "      <th></th>\n",
       "      <th></th>\n",
       "      <th></th>\n",
       "      <th></th>\n",
       "      <th></th>\n",
       "      <th></th>\n",
       "      <th></th>\n",
       "      <th></th>\n",
       "      <th></th>\n",
       "    </tr>\n",
       "  </thead>\n",
       "  <tbody>\n",
       "    <tr>\n",
       "      <th>2023-11-01</th>\n",
       "      <td>534</td>\n",
       "      <td>490</td>\n",
       "      <td>19</td>\n",
       "      <td>0</td>\n",
       "      <td>0</td>\n",
       "      <td>25</td>\n",
       "      <td>509</td>\n",
       "      <td>533</td>\n",
       "      <td>95.0</td>\n",
       "    </tr>\n",
       "    <tr>\n",
       "      <th>2023-11-02</th>\n",
       "      <td>833</td>\n",
       "      <td>783</td>\n",
       "      <td>12</td>\n",
       "      <td>1</td>\n",
       "      <td>0</td>\n",
       "      <td>37</td>\n",
       "      <td>796</td>\n",
       "      <td>828</td>\n",
       "      <td>96.0</td>\n",
       "    </tr>\n",
       "    <tr>\n",
       "      <th>2023-11-03</th>\n",
       "      <td>1113</td>\n",
       "      <td>1013</td>\n",
       "      <td>21</td>\n",
       "      <td>0</td>\n",
       "      <td>0</td>\n",
       "      <td>79</td>\n",
       "      <td>1034</td>\n",
       "      <td>1111</td>\n",
       "      <td>93.0</td>\n",
       "    </tr>\n",
       "    <tr>\n",
       "      <th>2023-11-04</th>\n",
       "      <td>805</td>\n",
       "      <td>627</td>\n",
       "      <td>10</td>\n",
       "      <td>0</td>\n",
       "      <td>0</td>\n",
       "      <td>168</td>\n",
       "      <td>637</td>\n",
       "      <td>803</td>\n",
       "      <td>79.0</td>\n",
       "    </tr>\n",
       "    <tr>\n",
       "      <th>2023-11-05</th>\n",
       "      <td>863</td>\n",
       "      <td>679</td>\n",
       "      <td>26</td>\n",
       "      <td>2</td>\n",
       "      <td>0</td>\n",
       "      <td>156</td>\n",
       "      <td>707</td>\n",
       "      <td>861</td>\n",
       "      <td>82.0</td>\n",
       "    </tr>\n",
       "    <tr>\n",
       "      <th>2023-11-06</th>\n",
       "      <td>1094</td>\n",
       "      <td>830</td>\n",
       "      <td>30</td>\n",
       "      <td>1</td>\n",
       "      <td>0</td>\n",
       "      <td>233</td>\n",
       "      <td>861</td>\n",
       "      <td>1094</td>\n",
       "      <td>79.0</td>\n",
       "    </tr>\n",
       "    <tr>\n",
       "      <th>2023-11-07</th>\n",
       "      <td>1284</td>\n",
       "      <td>1133</td>\n",
       "      <td>40</td>\n",
       "      <td>0</td>\n",
       "      <td>0</td>\n",
       "      <td>111</td>\n",
       "      <td>1173</td>\n",
       "      <td>1279</td>\n",
       "      <td>92.0</td>\n",
       "    </tr>\n",
       "    <tr>\n",
       "      <th>2023-11-08</th>\n",
       "      <td>1250</td>\n",
       "      <td>1132</td>\n",
       "      <td>43</td>\n",
       "      <td>0</td>\n",
       "      <td>0</td>\n",
       "      <td>75</td>\n",
       "      <td>1175</td>\n",
       "      <td>1248</td>\n",
       "      <td>94.0</td>\n",
       "    </tr>\n",
       "    <tr>\n",
       "      <th>2023-11-09</th>\n",
       "      <td>1244</td>\n",
       "      <td>1044</td>\n",
       "      <td>28</td>\n",
       "      <td>0</td>\n",
       "      <td>0</td>\n",
       "      <td>172</td>\n",
       "      <td>1072</td>\n",
       "      <td>1242</td>\n",
       "      <td>86.0</td>\n",
       "    </tr>\n",
       "    <tr>\n",
       "      <th>2023-11-10</th>\n",
       "      <td>945</td>\n",
       "      <td>852</td>\n",
       "      <td>27</td>\n",
       "      <td>0</td>\n",
       "      <td>0</td>\n",
       "      <td>66</td>\n",
       "      <td>879</td>\n",
       "      <td>942</td>\n",
       "      <td>93.0</td>\n",
       "    </tr>\n",
       "    <tr>\n",
       "      <th>2023-11-11</th>\n",
       "      <td>965</td>\n",
       "      <td>848</td>\n",
       "      <td>44</td>\n",
       "      <td>1</td>\n",
       "      <td>0</td>\n",
       "      <td>72</td>\n",
       "      <td>893</td>\n",
       "      <td>964</td>\n",
       "      <td>93.0</td>\n",
       "    </tr>\n",
       "    <tr>\n",
       "      <th>2023-11-12</th>\n",
       "      <td>1131</td>\n",
       "      <td>972</td>\n",
       "      <td>37</td>\n",
       "      <td>0</td>\n",
       "      <td>0</td>\n",
       "      <td>122</td>\n",
       "      <td>1009</td>\n",
       "      <td>1128</td>\n",
       "      <td>89.0</td>\n",
       "    </tr>\n",
       "    <tr>\n",
       "      <th>2023-11-13</th>\n",
       "      <td>1335</td>\n",
       "      <td>1168</td>\n",
       "      <td>34</td>\n",
       "      <td>0</td>\n",
       "      <td>0</td>\n",
       "      <td>133</td>\n",
       "      <td>1202</td>\n",
       "      <td>1332</td>\n",
       "      <td>90.0</td>\n",
       "    </tr>\n",
       "    <tr>\n",
       "      <th>2023-11-14</th>\n",
       "      <td>1398</td>\n",
       "      <td>1235</td>\n",
       "      <td>40</td>\n",
       "      <td>2</td>\n",
       "      <td>1</td>\n",
       "      <td>120</td>\n",
       "      <td>1278</td>\n",
       "      <td>1391</td>\n",
       "      <td>92.0</td>\n",
       "    </tr>\n",
       "    <tr>\n",
       "      <th>2023-11-15</th>\n",
       "      <td>1309</td>\n",
       "      <td>1223</td>\n",
       "      <td>19</td>\n",
       "      <td>0</td>\n",
       "      <td>0</td>\n",
       "      <td>67</td>\n",
       "      <td>1242</td>\n",
       "      <td>1306</td>\n",
       "      <td>95.0</td>\n",
       "    </tr>\n",
       "    <tr>\n",
       "      <th>2023-11-16</th>\n",
       "      <td>1272</td>\n",
       "      <td>1179</td>\n",
       "      <td>24</td>\n",
       "      <td>0</td>\n",
       "      <td>0</td>\n",
       "      <td>69</td>\n",
       "      <td>1203</td>\n",
       "      <td>1270</td>\n",
       "      <td>95.0</td>\n",
       "    </tr>\n",
       "    <tr>\n",
       "      <th>2023-11-17</th>\n",
       "      <td>1135</td>\n",
       "      <td>1071</td>\n",
       "      <td>17</td>\n",
       "      <td>0</td>\n",
       "      <td>0</td>\n",
       "      <td>47</td>\n",
       "      <td>1088</td>\n",
       "      <td>1132</td>\n",
       "      <td>96.0</td>\n",
       "    </tr>\n",
       "    <tr>\n",
       "      <th>2023-11-18</th>\n",
       "      <td>926</td>\n",
       "      <td>820</td>\n",
       "      <td>41</td>\n",
       "      <td>1</td>\n",
       "      <td>0</td>\n",
       "      <td>64</td>\n",
       "      <td>862</td>\n",
       "      <td>925</td>\n",
       "      <td>93.0</td>\n",
       "    </tr>\n",
       "    <tr>\n",
       "      <th>2023-11-19</th>\n",
       "      <td>1060</td>\n",
       "      <td>962</td>\n",
       "      <td>27</td>\n",
       "      <td>0</td>\n",
       "      <td>2</td>\n",
       "      <td>69</td>\n",
       "      <td>991</td>\n",
       "      <td>1058</td>\n",
       "      <td>94.0</td>\n",
       "    </tr>\n",
       "    <tr>\n",
       "      <th>2023-11-20</th>\n",
       "      <td>1337</td>\n",
       "      <td>1176</td>\n",
       "      <td>32</td>\n",
       "      <td>0</td>\n",
       "      <td>1</td>\n",
       "      <td>128</td>\n",
       "      <td>1209</td>\n",
       "      <td>1331</td>\n",
       "      <td>91.0</td>\n",
       "    </tr>\n",
       "    <tr>\n",
       "      <th>2023-11-21</th>\n",
       "      <td>1435</td>\n",
       "      <td>1311</td>\n",
       "      <td>53</td>\n",
       "      <td>1</td>\n",
       "      <td>3</td>\n",
       "      <td>67</td>\n",
       "      <td>1368</td>\n",
       "      <td>1426</td>\n",
       "      <td>96.0</td>\n",
       "    </tr>\n",
       "    <tr>\n",
       "      <th>2023-11-22</th>\n",
       "      <td>638</td>\n",
       "      <td>576</td>\n",
       "      <td>24</td>\n",
       "      <td>0</td>\n",
       "      <td>0</td>\n",
       "      <td>38</td>\n",
       "      <td>600</td>\n",
       "      <td>621</td>\n",
       "      <td>97.0</td>\n",
       "    </tr>\n",
       "    <tr>\n",
       "      <th>2023-11-23</th>\n",
       "      <td>487</td>\n",
       "      <td>443</td>\n",
       "      <td>17</td>\n",
       "      <td>0</td>\n",
       "      <td>1</td>\n",
       "      <td>26</td>\n",
       "      <td>461</td>\n",
       "      <td>483</td>\n",
       "      <td>95.0</td>\n",
       "    </tr>\n",
       "    <tr>\n",
       "      <th>2023-11-24</th>\n",
       "      <td>558</td>\n",
       "      <td>494</td>\n",
       "      <td>15</td>\n",
       "      <td>1</td>\n",
       "      <td>1</td>\n",
       "      <td>47</td>\n",
       "      <td>511</td>\n",
       "      <td>557</td>\n",
       "      <td>92.0</td>\n",
       "    </tr>\n",
       "    <tr>\n",
       "      <th>2023-11-25</th>\n",
       "      <td>769</td>\n",
       "      <td>694</td>\n",
       "      <td>26</td>\n",
       "      <td>0</td>\n",
       "      <td>1</td>\n",
       "      <td>48</td>\n",
       "      <td>721</td>\n",
       "      <td>767</td>\n",
       "      <td>94.0</td>\n",
       "    </tr>\n",
       "    <tr>\n",
       "      <th>2023-11-26</th>\n",
       "      <td>849</td>\n",
       "      <td>765</td>\n",
       "      <td>21</td>\n",
       "      <td>1</td>\n",
       "      <td>1</td>\n",
       "      <td>61</td>\n",
       "      <td>788</td>\n",
       "      <td>848</td>\n",
       "      <td>93.0</td>\n",
       "    </tr>\n",
       "    <tr>\n",
       "      <th>2023-11-27</th>\n",
       "      <td>1056</td>\n",
       "      <td>912</td>\n",
       "      <td>32</td>\n",
       "      <td>0</td>\n",
       "      <td>0</td>\n",
       "      <td>112</td>\n",
       "      <td>944</td>\n",
       "      <td>1054</td>\n",
       "      <td>90.0</td>\n",
       "    </tr>\n",
       "    <tr>\n",
       "      <th>2023-11-28</th>\n",
       "      <td>1049</td>\n",
       "      <td>567</td>\n",
       "      <td>20</td>\n",
       "      <td>1</td>\n",
       "      <td>0</td>\n",
       "      <td>461</td>\n",
       "      <td>588</td>\n",
       "      <td>1043</td>\n",
       "      <td>56.0</td>\n",
       "    </tr>\n",
       "    <tr>\n",
       "      <th>2023-11-29</th>\n",
       "      <td>1115</td>\n",
       "      <td>574</td>\n",
       "      <td>32</td>\n",
       "      <td>0</td>\n",
       "      <td>0</td>\n",
       "      <td>509</td>\n",
       "      <td>606</td>\n",
       "      <td>1074</td>\n",
       "      <td>56.0</td>\n",
       "    </tr>\n",
       "    <tr>\n",
       "      <th>2023-11-30</th>\n",
       "      <td>1042</td>\n",
       "      <td>536</td>\n",
       "      <td>19</td>\n",
       "      <td>4</td>\n",
       "      <td>0</td>\n",
       "      <td>483</td>\n",
       "      <td>559</td>\n",
       "      <td>440</td>\n",
       "      <td>127.0</td>\n",
       "    </tr>\n",
       "  </tbody>\n",
       "</table>\n",
       "</div>"
      ],
      "text/plain": [
       "              id  is_source_tvz  is_source_somm  is_source_sbis  \\\n",
       "created                                                           \n",
       "2023-11-01   534            490              19               0   \n",
       "2023-11-02   833            783              12               1   \n",
       "2023-11-03  1113           1013              21               0   \n",
       "2023-11-04   805            627              10               0   \n",
       "2023-11-05   863            679              26               2   \n",
       "2023-11-06  1094            830              30               1   \n",
       "2023-11-07  1284           1133              40               0   \n",
       "2023-11-08  1250           1132              43               0   \n",
       "2023-11-09  1244           1044              28               0   \n",
       "2023-11-10   945            852              27               0   \n",
       "2023-11-11   965            848              44               1   \n",
       "2023-11-12  1131            972              37               0   \n",
       "2023-11-13  1335           1168              34               0   \n",
       "2023-11-14  1398           1235              40               2   \n",
       "2023-11-15  1309           1223              19               0   \n",
       "2023-11-16  1272           1179              24               0   \n",
       "2023-11-17  1135           1071              17               0   \n",
       "2023-11-18   926            820              41               1   \n",
       "2023-11-19  1060            962              27               0   \n",
       "2023-11-20  1337           1176              32               0   \n",
       "2023-11-21  1435           1311              53               1   \n",
       "2023-11-22   638            576              24               0   \n",
       "2023-11-23   487            443              17               0   \n",
       "2023-11-24   558            494              15               1   \n",
       "2023-11-25   769            694              26               0   \n",
       "2023-11-26   849            765              21               1   \n",
       "2023-11-27  1056            912              32               0   \n",
       "2023-11-28  1049            567              20               1   \n",
       "2023-11-29  1115            574              32               0   \n",
       "2023-11-30  1042            536              19               4   \n",
       "\n",
       "            is_source_null  no_status  order_id  er_order_id  percent  \n",
       "created                                                                \n",
       "2023-11-01               0         25       509          533     95.0  \n",
       "2023-11-02               0         37       796          828     96.0  \n",
       "2023-11-03               0         79      1034         1111     93.0  \n",
       "2023-11-04               0        168       637          803     79.0  \n",
       "2023-11-05               0        156       707          861     82.0  \n",
       "2023-11-06               0        233       861         1094     79.0  \n",
       "2023-11-07               0        111      1173         1279     92.0  \n",
       "2023-11-08               0         75      1175         1248     94.0  \n",
       "2023-11-09               0        172      1072         1242     86.0  \n",
       "2023-11-10               0         66       879          942     93.0  \n",
       "2023-11-11               0         72       893          964     93.0  \n",
       "2023-11-12               0        122      1009         1128     89.0  \n",
       "2023-11-13               0        133      1202         1332     90.0  \n",
       "2023-11-14               1        120      1278         1391     92.0  \n",
       "2023-11-15               0         67      1242         1306     95.0  \n",
       "2023-11-16               0         69      1203         1270     95.0  \n",
       "2023-11-17               0         47      1088         1132     96.0  \n",
       "2023-11-18               0         64       862          925     93.0  \n",
       "2023-11-19               2         69       991         1058     94.0  \n",
       "2023-11-20               1        128      1209         1331     91.0  \n",
       "2023-11-21               3         67      1368         1426     96.0  \n",
       "2023-11-22               0         38       600          621     97.0  \n",
       "2023-11-23               1         26       461          483     95.0  \n",
       "2023-11-24               1         47       511          557     92.0  \n",
       "2023-11-25               1         48       721          767     94.0  \n",
       "2023-11-26               1         61       788          848     93.0  \n",
       "2023-11-27               0        112       944         1054     90.0  \n",
       "2023-11-28               0        461       588         1043     56.0  \n",
       "2023-11-29               0        509       606         1074     56.0  \n",
       "2023-11-30               0        483       559          440    127.0  "
      ]
     },
     "execution_count": 163,
     "metadata": {},
     "output_type": "execute_result"
    }
   ],
   "source": [
    "dfo_erka71_dd"
   ]
  },
  {
   "cell_type": "code",
   "execution_count": null,
   "metadata": {},
   "outputs": [],
   "source": []
  },
  {
   "cell_type": "code",
   "execution_count": null,
   "metadata": {},
   "outputs": [],
   "source": []
  },
  {
   "cell_type": "markdown",
   "metadata": {},
   "source": [
    "## Эркафарм 9"
   ]
  },
  {
   "cell_type": "code",
   "execution_count": 164,
   "metadata": {},
   "outputs": [],
   "source": [
    "dfo_erka9 = dfo_erka.merge(dfs9, how='left', left_on='id', right_on='order_id')"
   ]
  },
  {
   "cell_type": "code",
   "execution_count": 165,
   "metadata": {},
   "outputs": [],
   "source": [
    "dfo_erka9 = dfo_erka9.drop_duplicates(subset=['id'], keep='first')"
   ]
  },
  {
   "cell_type": "code",
   "execution_count": 166,
   "metadata": {},
   "outputs": [
    {
     "data": {
      "text/plain": [
       "(30831, 11)"
      ]
     },
     "execution_count": 166,
     "metadata": {},
     "output_type": "execute_result"
    }
   ],
   "source": [
    "dfo_erka9.shape"
   ]
  },
  {
   "cell_type": "code",
   "execution_count": 167,
   "metadata": {},
   "outputs": [],
   "source": [
    "# есть 50 дублей, очевидно из-за того, что статусы по 2 раза приходят"
   ]
  },
  {
   "cell_type": "code",
   "execution_count": 168,
   "metadata": {},
   "outputs": [],
   "source": [
    "dfo_erka9 = dfo_erka9.merge(erka9, how='left', left_on='marketplace_number', right_on='er_order_id')"
   ]
  },
  {
   "cell_type": "code",
   "execution_count": 169,
   "metadata": {},
   "outputs": [],
   "source": [
    "dfo_erka9 = dfo_erka9.drop_duplicates(subset=['id'], keep='first')"
   ]
  },
  {
   "cell_type": "code",
   "execution_count": 170,
   "metadata": {},
   "outputs": [],
   "source": [
    "# есть еще 10 дублей, хз почему"
   ]
  },
  {
   "cell_type": "code",
   "execution_count": 171,
   "metadata": {},
   "outputs": [],
   "source": [
    "dfo_erka9['is_source_tvz'] = dfo_erka9.source == 'ТВЗ'"
   ]
  },
  {
   "cell_type": "code",
   "execution_count": 172,
   "metadata": {},
   "outputs": [],
   "source": [
    "dfo_erka9['is_source_tvz'] = dfo_erka9.source == 'ТВЗ'\n",
    "dfo_erka9['is_source_somm'] = dfo_erka9.source == 'СОММ'\n",
    "dfo_erka9['is_source_sbis'] = dfo_erka9.source == 'СБИС'\n",
    "dfo_erka9['is_source_null'] = (dfo_erka9.source.isna()) & (~dfo_erka9.status.isna())\n",
    "dfo_erka9['no_status'] = dfo_erka9.status.isna()"
   ]
  },
  {
   "cell_type": "code",
   "execution_count": 173,
   "metadata": {},
   "outputs": [],
   "source": [
    "dfo_erka9_mm = dfo_erka9.groupby('mm', as_index=False) \\\n",
    "                        .agg({'marketplace_number': 'nunique', \n",
    "                              'is_source_tvz': 'sum',\n",
    "                              'is_source_somm': 'sum',\n",
    "                              'is_source_sbis': 'sum',\n",
    "                              'is_source_null': 'sum',\n",
    "                              'no_status': 'sum', \n",
    "                           'order_id': 'nunique', \n",
    "                           'er_order_id': 'nunique'})"
   ]
  },
  {
   "cell_type": "code",
   "execution_count": 174,
   "metadata": {},
   "outputs": [],
   "source": [
    "dfo_erka9_mm['percent'] = round(dfo_erka9_mm.is_source_tvz / dfo_erka9_mm.er_order_id * 100, 0)"
   ]
  },
  {
   "cell_type": "code",
   "execution_count": 175,
   "metadata": {},
   "outputs": [],
   "source": [
    "#dfo_erka9_mm.columns = ['mm', 'total_orders', '9_source_tvz', '9_all_sources', '9_erka', 'percent']"
   ]
  },
  {
   "cell_type": "code",
   "execution_count": 176,
   "metadata": {},
   "outputs": [
    {
     "data": {
      "text/html": [
       "<div>\n",
       "<style scoped>\n",
       "    .dataframe tbody tr th:only-of-type {\n",
       "        vertical-align: middle;\n",
       "    }\n",
       "\n",
       "    .dataframe tbody tr th {\n",
       "        vertical-align: top;\n",
       "    }\n",
       "\n",
       "    .dataframe thead th {\n",
       "        text-align: right;\n",
       "    }\n",
       "</style>\n",
       "<table border=\"1\" class=\"dataframe\">\n",
       "  <thead>\n",
       "    <tr style=\"text-align: right;\">\n",
       "      <th></th>\n",
       "      <th>mm</th>\n",
       "      <th>marketplace_number</th>\n",
       "      <th>is_source_tvz</th>\n",
       "      <th>is_source_somm</th>\n",
       "      <th>is_source_sbis</th>\n",
       "      <th>is_source_null</th>\n",
       "      <th>no_status</th>\n",
       "      <th>order_id</th>\n",
       "      <th>er_order_id</th>\n",
       "      <th>percent</th>\n",
       "    </tr>\n",
       "  </thead>\n",
       "  <tbody>\n",
       "    <tr>\n",
       "      <th>0</th>\n",
       "      <td>АптекаФорте</td>\n",
       "      <td>782</td>\n",
       "      <td>0</td>\n",
       "      <td>0</td>\n",
       "      <td>0</td>\n",
       "      <td>0</td>\n",
       "      <td>782</td>\n",
       "      <td>0</td>\n",
       "      <td>609</td>\n",
       "      <td>0.0</td>\n",
       "    </tr>\n",
       "    <tr>\n",
       "      <th>1</th>\n",
       "      <td>Все аптеки</td>\n",
       "      <td>743</td>\n",
       "      <td>496</td>\n",
       "      <td>46</td>\n",
       "      <td>0</td>\n",
       "      <td>32</td>\n",
       "      <td>169</td>\n",
       "      <td>574</td>\n",
       "      <td>494</td>\n",
       "      <td>100.0</td>\n",
       "    </tr>\n",
       "    <tr>\n",
       "      <th>2</th>\n",
       "      <td>ОК Аптека</td>\n",
       "      <td>22</td>\n",
       "      <td>15</td>\n",
       "      <td>0</td>\n",
       "      <td>0</td>\n",
       "      <td>7</td>\n",
       "      <td>0</td>\n",
       "      <td>22</td>\n",
       "      <td>14</td>\n",
       "      <td>107.0</td>\n",
       "    </tr>\n",
       "    <tr>\n",
       "      <th>3</th>\n",
       "      <td>Озон RFBS</td>\n",
       "      <td>6728</td>\n",
       "      <td>5019</td>\n",
       "      <td>258</td>\n",
       "      <td>0</td>\n",
       "      <td>120</td>\n",
       "      <td>1331</td>\n",
       "      <td>5397</td>\n",
       "      <td>4937</td>\n",
       "      <td>102.0</td>\n",
       "    </tr>\n",
       "    <tr>\n",
       "      <th>4</th>\n",
       "      <td>Сбермегамаркет</td>\n",
       "      <td>894</td>\n",
       "      <td>598</td>\n",
       "      <td>25</td>\n",
       "      <td>0</td>\n",
       "      <td>21</td>\n",
       "      <td>250</td>\n",
       "      <td>644</td>\n",
       "      <td>593</td>\n",
       "      <td>101.0</td>\n",
       "    </tr>\n",
       "    <tr>\n",
       "      <th>5</th>\n",
       "      <td>Ютека</td>\n",
       "      <td>20783</td>\n",
       "      <td>16294</td>\n",
       "      <td>805</td>\n",
       "      <td>0</td>\n",
       "      <td>202</td>\n",
       "      <td>3482</td>\n",
       "      <td>17301</td>\n",
       "      <td>16277</td>\n",
       "      <td>100.0</td>\n",
       "    </tr>\n",
       "    <tr>\n",
       "      <th>6</th>\n",
       "      <td>ЯндексDBS</td>\n",
       "      <td>879</td>\n",
       "      <td>696</td>\n",
       "      <td>26</td>\n",
       "      <td>0</td>\n",
       "      <td>32</td>\n",
       "      <td>125</td>\n",
       "      <td>754</td>\n",
       "      <td>694</td>\n",
       "      <td>100.0</td>\n",
       "    </tr>\n",
       "  </tbody>\n",
       "</table>\n",
       "</div>"
      ],
      "text/plain": [
       "               mm  marketplace_number  is_source_tvz  is_source_somm  \\\n",
       "0     АптекаФорте                 782              0               0   \n",
       "1      Все аптеки                 743            496              46   \n",
       "2       ОК Аптека                  22             15               0   \n",
       "3       Озон RFBS                6728           5019             258   \n",
       "4  Сбермегамаркет                 894            598              25   \n",
       "5           Ютека               20783          16294             805   \n",
       "6       ЯндексDBS                 879            696              26   \n",
       "\n",
       "   is_source_sbis  is_source_null  no_status  order_id  er_order_id  percent  \n",
       "0               0               0        782         0          609      0.0  \n",
       "1               0              32        169       574          494    100.0  \n",
       "2               0               7          0        22           14    107.0  \n",
       "3               0             120       1331      5397         4937    102.0  \n",
       "4               0              21        250       644          593    101.0  \n",
       "5               0             202       3482     17301        16277    100.0  \n",
       "6               0              32        125       754          694    100.0  "
      ]
     },
     "execution_count": 176,
     "metadata": {},
     "output_type": "execute_result"
    }
   ],
   "source": [
    "dfo_erka9_mm"
   ]
  },
  {
   "cell_type": "code",
   "execution_count": null,
   "metadata": {},
   "outputs": [],
   "source": []
  },
  {
   "cell_type": "code",
   "execution_count": 177,
   "metadata": {},
   "outputs": [],
   "source": [
    "dfo_erka9_rk = dfo_erka9.groupby('rk', as_index=False).agg({'marketplace_number': 'nunique', \n",
    "                                                            'is_source_tvz': 'sum',\n",
    "                              'is_source_somm': 'sum',\n",
    "                              'is_source_sbis': 'sum',\n",
    "                              'is_source_null': 'sum',\n",
    "                              'no_status': 'sum', \n",
    "                                               'order_id': 'nunique', \n",
    "                                               'er_order_id': 'nunique'})\n",
    "dfo_erka9_rk['percent'] = round(dfo_erka9_rk.is_source_tvz / dfo_erka9_rk.er_order_id * 100, 0)"
   ]
  },
  {
   "cell_type": "code",
   "execution_count": 178,
   "metadata": {},
   "outputs": [],
   "source": [
    "#dfo_erka9_rk.columns = ['mm', 'total_orders', '9_source_tvz', '9_all_sources', '9_erka', 'percent']"
   ]
  },
  {
   "cell_type": "code",
   "execution_count": 179,
   "metadata": {},
   "outputs": [
    {
     "data": {
      "text/html": [
       "<div>\n",
       "<style scoped>\n",
       "    .dataframe tbody tr th:only-of-type {\n",
       "        vertical-align: middle;\n",
       "    }\n",
       "\n",
       "    .dataframe tbody tr th {\n",
       "        vertical-align: top;\n",
       "    }\n",
       "\n",
       "    .dataframe thead th {\n",
       "        text-align: right;\n",
       "    }\n",
       "</style>\n",
       "<table border=\"1\" class=\"dataframe\">\n",
       "  <thead>\n",
       "    <tr style=\"text-align: right;\">\n",
       "      <th></th>\n",
       "      <th>rk</th>\n",
       "      <th>marketplace_number</th>\n",
       "      <th>is_source_tvz</th>\n",
       "      <th>is_source_somm</th>\n",
       "      <th>is_source_sbis</th>\n",
       "      <th>is_source_null</th>\n",
       "      <th>no_status</th>\n",
       "      <th>order_id</th>\n",
       "      <th>er_order_id</th>\n",
       "      <th>percent</th>\n",
       "    </tr>\n",
       "  </thead>\n",
       "  <tbody>\n",
       "    <tr>\n",
       "      <th>0</th>\n",
       "      <td>ООО \"ПУЛЬС Брянск\"</td>\n",
       "      <td>473</td>\n",
       "      <td>406</td>\n",
       "      <td>11</td>\n",
       "      <td>0</td>\n",
       "      <td>4</td>\n",
       "      <td>52</td>\n",
       "      <td>421</td>\n",
       "      <td>403</td>\n",
       "      <td>101.0</td>\n",
       "    </tr>\n",
       "    <tr>\n",
       "      <th>1</th>\n",
       "      <td>ООО \"ПУЛЬС Волгоград\"</td>\n",
       "      <td>1376</td>\n",
       "      <td>1123</td>\n",
       "      <td>11</td>\n",
       "      <td>0</td>\n",
       "      <td>12</td>\n",
       "      <td>230</td>\n",
       "      <td>1146</td>\n",
       "      <td>1147</td>\n",
       "      <td>98.0</td>\n",
       "    </tr>\n",
       "    <tr>\n",
       "      <th>2</th>\n",
       "      <td>ООО \"ПУЛЬС Воронеж\"</td>\n",
       "      <td>109</td>\n",
       "      <td>78</td>\n",
       "      <td>4</td>\n",
       "      <td>0</td>\n",
       "      <td>1</td>\n",
       "      <td>26</td>\n",
       "      <td>83</td>\n",
       "      <td>80</td>\n",
       "      <td>98.0</td>\n",
       "    </tr>\n",
       "    <tr>\n",
       "      <th>3</th>\n",
       "      <td>ООО \"ПУЛЬС Екатеринбург\"</td>\n",
       "      <td>123</td>\n",
       "      <td>93</td>\n",
       "      <td>6</td>\n",
       "      <td>0</td>\n",
       "      <td>2</td>\n",
       "      <td>22</td>\n",
       "      <td>101</td>\n",
       "      <td>93</td>\n",
       "      <td>100.0</td>\n",
       "    </tr>\n",
       "    <tr>\n",
       "      <th>4</th>\n",
       "      <td>ООО \"ПУЛЬС Казань\"</td>\n",
       "      <td>149</td>\n",
       "      <td>83</td>\n",
       "      <td>0</td>\n",
       "      <td>0</td>\n",
       "      <td>5</td>\n",
       "      <td>61</td>\n",
       "      <td>88</td>\n",
       "      <td>126</td>\n",
       "      <td>66.0</td>\n",
       "    </tr>\n",
       "    <tr>\n",
       "      <th>5</th>\n",
       "      <td>ООО \"ПУЛЬС Краснодар\"</td>\n",
       "      <td>632</td>\n",
       "      <td>469</td>\n",
       "      <td>7</td>\n",
       "      <td>0</td>\n",
       "      <td>14</td>\n",
       "      <td>142</td>\n",
       "      <td>490</td>\n",
       "      <td>481</td>\n",
       "      <td>98.0</td>\n",
       "    </tr>\n",
       "    <tr>\n",
       "      <th>6</th>\n",
       "      <td>ООО \"ПУЛЬС Красноярск\"</td>\n",
       "      <td>88</td>\n",
       "      <td>73</td>\n",
       "      <td>0</td>\n",
       "      <td>0</td>\n",
       "      <td>1</td>\n",
       "      <td>14</td>\n",
       "      <td>74</td>\n",
       "      <td>74</td>\n",
       "      <td>99.0</td>\n",
       "    </tr>\n",
       "    <tr>\n",
       "      <th>7</th>\n",
       "      <td>ООО \"ПУЛЬС Новосибирск\"</td>\n",
       "      <td>1539</td>\n",
       "      <td>1227</td>\n",
       "      <td>41</td>\n",
       "      <td>0</td>\n",
       "      <td>24</td>\n",
       "      <td>247</td>\n",
       "      <td>1292</td>\n",
       "      <td>1219</td>\n",
       "      <td>101.0</td>\n",
       "    </tr>\n",
       "    <tr>\n",
       "      <th>8</th>\n",
       "      <td>ООО \"ПУЛЬС СПб\"</td>\n",
       "      <td>9765</td>\n",
       "      <td>7518</td>\n",
       "      <td>185</td>\n",
       "      <td>0</td>\n",
       "      <td>187</td>\n",
       "      <td>1875</td>\n",
       "      <td>7890</td>\n",
       "      <td>7616</td>\n",
       "      <td>99.0</td>\n",
       "    </tr>\n",
       "    <tr>\n",
       "      <th>9</th>\n",
       "      <td>ООО \"ПУЛЬС Самара\"</td>\n",
       "      <td>168</td>\n",
       "      <td>132</td>\n",
       "      <td>1</td>\n",
       "      <td>0</td>\n",
       "      <td>5</td>\n",
       "      <td>30</td>\n",
       "      <td>138</td>\n",
       "      <td>139</td>\n",
       "      <td>95.0</td>\n",
       "    </tr>\n",
       "    <tr>\n",
       "      <th>10</th>\n",
       "      <td>ООО \"ПУЛЬС Хабаровск\"</td>\n",
       "      <td>50</td>\n",
       "      <td>29</td>\n",
       "      <td>0</td>\n",
       "      <td>0</td>\n",
       "      <td>4</td>\n",
       "      <td>17</td>\n",
       "      <td>33</td>\n",
       "      <td>29</td>\n",
       "      <td>100.0</td>\n",
       "    </tr>\n",
       "    <tr>\n",
       "      <th>11</th>\n",
       "      <td>ООО \"ПУЛЬС Ярославль\"</td>\n",
       "      <td>1232</td>\n",
       "      <td>994</td>\n",
       "      <td>22</td>\n",
       "      <td>0</td>\n",
       "      <td>10</td>\n",
       "      <td>206</td>\n",
       "      <td>1026</td>\n",
       "      <td>1018</td>\n",
       "      <td>98.0</td>\n",
       "    </tr>\n",
       "    <tr>\n",
       "      <th>12</th>\n",
       "      <td>ООО \"ФК ПУЛЬС\"</td>\n",
       "      <td>15127</td>\n",
       "      <td>10893</td>\n",
       "      <td>872</td>\n",
       "      <td>0</td>\n",
       "      <td>145</td>\n",
       "      <td>3217</td>\n",
       "      <td>11910</td>\n",
       "      <td>11193</td>\n",
       "      <td>97.0</td>\n",
       "    </tr>\n",
       "  </tbody>\n",
       "</table>\n",
       "</div>"
      ],
      "text/plain": [
       "                          rk  marketplace_number  is_source_tvz  \\\n",
       "0         ООО \"ПУЛЬС Брянск\"                 473            406   \n",
       "1      ООО \"ПУЛЬС Волгоград\"                1376           1123   \n",
       "2        ООО \"ПУЛЬС Воронеж\"                 109             78   \n",
       "3   ООО \"ПУЛЬС Екатеринбург\"                 123             93   \n",
       "4         ООО \"ПУЛЬС Казань\"                 149             83   \n",
       "5      ООО \"ПУЛЬС Краснодар\"                 632            469   \n",
       "6     ООО \"ПУЛЬС Красноярск\"                  88             73   \n",
       "7    ООО \"ПУЛЬС Новосибирск\"                1539           1227   \n",
       "8            ООО \"ПУЛЬС СПб\"                9765           7518   \n",
       "9         ООО \"ПУЛЬС Самара\"                 168            132   \n",
       "10     ООО \"ПУЛЬС Хабаровск\"                  50             29   \n",
       "11     ООО \"ПУЛЬС Ярославль\"                1232            994   \n",
       "12            ООО \"ФК ПУЛЬС\"               15127          10893   \n",
       "\n",
       "    is_source_somm  is_source_sbis  is_source_null  no_status  order_id  \\\n",
       "0               11               0               4         52       421   \n",
       "1               11               0              12        230      1146   \n",
       "2                4               0               1         26        83   \n",
       "3                6               0               2         22       101   \n",
       "4                0               0               5         61        88   \n",
       "5                7               0              14        142       490   \n",
       "6                0               0               1         14        74   \n",
       "7               41               0              24        247      1292   \n",
       "8              185               0             187       1875      7890   \n",
       "9                1               0               5         30       138   \n",
       "10               0               0               4         17        33   \n",
       "11              22               0              10        206      1026   \n",
       "12             872               0             145       3217     11910   \n",
       "\n",
       "    er_order_id  percent  \n",
       "0           403    101.0  \n",
       "1          1147     98.0  \n",
       "2            80     98.0  \n",
       "3            93    100.0  \n",
       "4           126     66.0  \n",
       "5           481     98.0  \n",
       "6            74     99.0  \n",
       "7          1219    101.0  \n",
       "8          7616     99.0  \n",
       "9           139     95.0  \n",
       "10           29    100.0  \n",
       "11         1018     98.0  \n",
       "12        11193     97.0  "
      ]
     },
     "execution_count": 179,
     "metadata": {},
     "output_type": "execute_result"
    }
   ],
   "source": [
    "dfo_erka9_rk"
   ]
  },
  {
   "cell_type": "code",
   "execution_count": 180,
   "metadata": {},
   "outputs": [],
   "source": [
    "dfo_erka9_dd = dfo_erka9.groupby(dfo_erka9.created.dt.date) \\\n",
    "                        .agg({'marketplace_number': 'nunique', \n",
    "                              'is_source_tvz': 'sum',\n",
    "                              'is_source_somm': 'sum',\n",
    "                              'is_source_sbis': 'sum',\n",
    "                              'is_source_null': 'sum',\n",
    "                              'no_status': 'sum', \n",
    "                           'order_id': 'nunique', \n",
    "                           'er_order_id': 'nunique'})\n",
    "dfo_erka9_dd['percent'] = round(dfo_erka9_dd.is_source_tvz / dfo_erka9_dd.er_order_id * 100, 0)"
   ]
  },
  {
   "cell_type": "code",
   "execution_count": 181,
   "metadata": {},
   "outputs": [],
   "source": [
    "#dfo_erka9_dd.columns = ['total_orders', '9_source_tvz', '9_all_sources', '9_erka', 'percent']"
   ]
  },
  {
   "cell_type": "code",
   "execution_count": 182,
   "metadata": {},
   "outputs": [
    {
     "data": {
      "text/html": [
       "<div>\n",
       "<style scoped>\n",
       "    .dataframe tbody tr th:only-of-type {\n",
       "        vertical-align: middle;\n",
       "    }\n",
       "\n",
       "    .dataframe tbody tr th {\n",
       "        vertical-align: top;\n",
       "    }\n",
       "\n",
       "    .dataframe thead th {\n",
       "        text-align: right;\n",
       "    }\n",
       "</style>\n",
       "<table border=\"1\" class=\"dataframe\">\n",
       "  <thead>\n",
       "    <tr style=\"text-align: right;\">\n",
       "      <th></th>\n",
       "      <th>marketplace_number</th>\n",
       "      <th>is_source_tvz</th>\n",
       "      <th>is_source_somm</th>\n",
       "      <th>is_source_sbis</th>\n",
       "      <th>is_source_null</th>\n",
       "      <th>no_status</th>\n",
       "      <th>order_id</th>\n",
       "      <th>er_order_id</th>\n",
       "      <th>percent</th>\n",
       "    </tr>\n",
       "    <tr>\n",
       "      <th>created</th>\n",
       "      <th></th>\n",
       "      <th></th>\n",
       "      <th></th>\n",
       "      <th></th>\n",
       "      <th></th>\n",
       "      <th></th>\n",
       "      <th></th>\n",
       "      <th></th>\n",
       "      <th></th>\n",
       "    </tr>\n",
       "  </thead>\n",
       "  <tbody>\n",
       "    <tr>\n",
       "      <th>2023-11-01</th>\n",
       "      <td>534</td>\n",
       "      <td>431</td>\n",
       "      <td>3</td>\n",
       "      <td>0</td>\n",
       "      <td>16</td>\n",
       "      <td>84</td>\n",
       "      <td>450</td>\n",
       "      <td>445</td>\n",
       "      <td>97.0</td>\n",
       "    </tr>\n",
       "    <tr>\n",
       "      <th>2023-11-02</th>\n",
       "      <td>833</td>\n",
       "      <td>668</td>\n",
       "      <td>10</td>\n",
       "      <td>0</td>\n",
       "      <td>19</td>\n",
       "      <td>136</td>\n",
       "      <td>697</td>\n",
       "      <td>682</td>\n",
       "      <td>98.0</td>\n",
       "    </tr>\n",
       "    <tr>\n",
       "      <th>2023-11-03</th>\n",
       "      <td>1113</td>\n",
       "      <td>849</td>\n",
       "      <td>27</td>\n",
       "      <td>0</td>\n",
       "      <td>28</td>\n",
       "      <td>209</td>\n",
       "      <td>904</td>\n",
       "      <td>867</td>\n",
       "      <td>98.0</td>\n",
       "    </tr>\n",
       "    <tr>\n",
       "      <th>2023-11-04</th>\n",
       "      <td>805</td>\n",
       "      <td>561</td>\n",
       "      <td>29</td>\n",
       "      <td>0</td>\n",
       "      <td>17</td>\n",
       "      <td>198</td>\n",
       "      <td>607</td>\n",
       "      <td>589</td>\n",
       "      <td>95.0</td>\n",
       "    </tr>\n",
       "    <tr>\n",
       "      <th>2023-11-05</th>\n",
       "      <td>863</td>\n",
       "      <td>653</td>\n",
       "      <td>27</td>\n",
       "      <td>0</td>\n",
       "      <td>17</td>\n",
       "      <td>166</td>\n",
       "      <td>697</td>\n",
       "      <td>684</td>\n",
       "      <td>95.0</td>\n",
       "    </tr>\n",
       "    <tr>\n",
       "      <th>2023-11-06</th>\n",
       "      <td>1094</td>\n",
       "      <td>833</td>\n",
       "      <td>33</td>\n",
       "      <td>0</td>\n",
       "      <td>13</td>\n",
       "      <td>215</td>\n",
       "      <td>879</td>\n",
       "      <td>857</td>\n",
       "      <td>97.0</td>\n",
       "    </tr>\n",
       "    <tr>\n",
       "      <th>2023-11-07</th>\n",
       "      <td>1284</td>\n",
       "      <td>923</td>\n",
       "      <td>43</td>\n",
       "      <td>0</td>\n",
       "      <td>36</td>\n",
       "      <td>282</td>\n",
       "      <td>1002</td>\n",
       "      <td>941</td>\n",
       "      <td>98.0</td>\n",
       "    </tr>\n",
       "    <tr>\n",
       "      <th>2023-11-08</th>\n",
       "      <td>1250</td>\n",
       "      <td>1002</td>\n",
       "      <td>36</td>\n",
       "      <td>0</td>\n",
       "      <td>26</td>\n",
       "      <td>186</td>\n",
       "      <td>1064</td>\n",
       "      <td>1031</td>\n",
       "      <td>97.0</td>\n",
       "    </tr>\n",
       "    <tr>\n",
       "      <th>2023-11-09</th>\n",
       "      <td>1244</td>\n",
       "      <td>980</td>\n",
       "      <td>39</td>\n",
       "      <td>0</td>\n",
       "      <td>16</td>\n",
       "      <td>209</td>\n",
       "      <td>1035</td>\n",
       "      <td>1004</td>\n",
       "      <td>98.0</td>\n",
       "    </tr>\n",
       "    <tr>\n",
       "      <th>2023-11-10</th>\n",
       "      <td>945</td>\n",
       "      <td>736</td>\n",
       "      <td>30</td>\n",
       "      <td>0</td>\n",
       "      <td>12</td>\n",
       "      <td>167</td>\n",
       "      <td>778</td>\n",
       "      <td>757</td>\n",
       "      <td>97.0</td>\n",
       "    </tr>\n",
       "    <tr>\n",
       "      <th>2023-11-11</th>\n",
       "      <td>965</td>\n",
       "      <td>744</td>\n",
       "      <td>32</td>\n",
       "      <td>0</td>\n",
       "      <td>10</td>\n",
       "      <td>179</td>\n",
       "      <td>786</td>\n",
       "      <td>766</td>\n",
       "      <td>97.0</td>\n",
       "    </tr>\n",
       "    <tr>\n",
       "      <th>2023-11-12</th>\n",
       "      <td>1131</td>\n",
       "      <td>859</td>\n",
       "      <td>49</td>\n",
       "      <td>0</td>\n",
       "      <td>13</td>\n",
       "      <td>210</td>\n",
       "      <td>921</td>\n",
       "      <td>889</td>\n",
       "      <td>97.0</td>\n",
       "    </tr>\n",
       "    <tr>\n",
       "      <th>2023-11-13</th>\n",
       "      <td>1335</td>\n",
       "      <td>999</td>\n",
       "      <td>59</td>\n",
       "      <td>0</td>\n",
       "      <td>10</td>\n",
       "      <td>267</td>\n",
       "      <td>1068</td>\n",
       "      <td>1038</td>\n",
       "      <td>96.0</td>\n",
       "    </tr>\n",
       "    <tr>\n",
       "      <th>2023-11-14</th>\n",
       "      <td>1398</td>\n",
       "      <td>1077</td>\n",
       "      <td>48</td>\n",
       "      <td>0</td>\n",
       "      <td>6</td>\n",
       "      <td>267</td>\n",
       "      <td>1131</td>\n",
       "      <td>1103</td>\n",
       "      <td>98.0</td>\n",
       "    </tr>\n",
       "    <tr>\n",
       "      <th>2023-11-15</th>\n",
       "      <td>1309</td>\n",
       "      <td>1045</td>\n",
       "      <td>33</td>\n",
       "      <td>0</td>\n",
       "      <td>8</td>\n",
       "      <td>223</td>\n",
       "      <td>1086</td>\n",
       "      <td>1085</td>\n",
       "      <td>96.0</td>\n",
       "    </tr>\n",
       "    <tr>\n",
       "      <th>2023-11-16</th>\n",
       "      <td>1272</td>\n",
       "      <td>995</td>\n",
       "      <td>61</td>\n",
       "      <td>0</td>\n",
       "      <td>13</td>\n",
       "      <td>203</td>\n",
       "      <td>1069</td>\n",
       "      <td>1021</td>\n",
       "      <td>97.0</td>\n",
       "    </tr>\n",
       "    <tr>\n",
       "      <th>2023-11-17</th>\n",
       "      <td>1135</td>\n",
       "      <td>857</td>\n",
       "      <td>60</td>\n",
       "      <td>0</td>\n",
       "      <td>17</td>\n",
       "      <td>201</td>\n",
       "      <td>934</td>\n",
       "      <td>875</td>\n",
       "      <td>98.0</td>\n",
       "    </tr>\n",
       "    <tr>\n",
       "      <th>2023-11-18</th>\n",
       "      <td>926</td>\n",
       "      <td>705</td>\n",
       "      <td>33</td>\n",
       "      <td>0</td>\n",
       "      <td>11</td>\n",
       "      <td>177</td>\n",
       "      <td>749</td>\n",
       "      <td>732</td>\n",
       "      <td>96.0</td>\n",
       "    </tr>\n",
       "    <tr>\n",
       "      <th>2023-11-19</th>\n",
       "      <td>1060</td>\n",
       "      <td>831</td>\n",
       "      <td>33</td>\n",
       "      <td>0</td>\n",
       "      <td>8</td>\n",
       "      <td>188</td>\n",
       "      <td>872</td>\n",
       "      <td>858</td>\n",
       "      <td>97.0</td>\n",
       "    </tr>\n",
       "    <tr>\n",
       "      <th>2023-11-20</th>\n",
       "      <td>1337</td>\n",
       "      <td>1055</td>\n",
       "      <td>56</td>\n",
       "      <td>0</td>\n",
       "      <td>13</td>\n",
       "      <td>213</td>\n",
       "      <td>1124</td>\n",
       "      <td>1083</td>\n",
       "      <td>97.0</td>\n",
       "    </tr>\n",
       "    <tr>\n",
       "      <th>2023-11-21</th>\n",
       "      <td>1435</td>\n",
       "      <td>1102</td>\n",
       "      <td>69</td>\n",
       "      <td>0</td>\n",
       "      <td>16</td>\n",
       "      <td>248</td>\n",
       "      <td>1187</td>\n",
       "      <td>1138</td>\n",
       "      <td>97.0</td>\n",
       "    </tr>\n",
       "    <tr>\n",
       "      <th>2023-11-22</th>\n",
       "      <td>638</td>\n",
       "      <td>483</td>\n",
       "      <td>25</td>\n",
       "      <td>0</td>\n",
       "      <td>13</td>\n",
       "      <td>117</td>\n",
       "      <td>521</td>\n",
       "      <td>494</td>\n",
       "      <td>98.0</td>\n",
       "    </tr>\n",
       "    <tr>\n",
       "      <th>2023-11-23</th>\n",
       "      <td>487</td>\n",
       "      <td>366</td>\n",
       "      <td>18</td>\n",
       "      <td>0</td>\n",
       "      <td>9</td>\n",
       "      <td>94</td>\n",
       "      <td>393</td>\n",
       "      <td>377</td>\n",
       "      <td>97.0</td>\n",
       "    </tr>\n",
       "    <tr>\n",
       "      <th>2023-11-24</th>\n",
       "      <td>558</td>\n",
       "      <td>391</td>\n",
       "      <td>26</td>\n",
       "      <td>0</td>\n",
       "      <td>12</td>\n",
       "      <td>129</td>\n",
       "      <td>429</td>\n",
       "      <td>415</td>\n",
       "      <td>94.0</td>\n",
       "    </tr>\n",
       "    <tr>\n",
       "      <th>2023-11-25</th>\n",
       "      <td>769</td>\n",
       "      <td>581</td>\n",
       "      <td>23</td>\n",
       "      <td>0</td>\n",
       "      <td>13</td>\n",
       "      <td>152</td>\n",
       "      <td>617</td>\n",
       "      <td>595</td>\n",
       "      <td>98.0</td>\n",
       "    </tr>\n",
       "    <tr>\n",
       "      <th>2023-11-26</th>\n",
       "      <td>849</td>\n",
       "      <td>635</td>\n",
       "      <td>19</td>\n",
       "      <td>0</td>\n",
       "      <td>9</td>\n",
       "      <td>186</td>\n",
       "      <td>663</td>\n",
       "      <td>660</td>\n",
       "      <td>96.0</td>\n",
       "    </tr>\n",
       "    <tr>\n",
       "      <th>2023-11-27</th>\n",
       "      <td>1056</td>\n",
       "      <td>813</td>\n",
       "      <td>34</td>\n",
       "      <td>0</td>\n",
       "      <td>11</td>\n",
       "      <td>198</td>\n",
       "      <td>858</td>\n",
       "      <td>846</td>\n",
       "      <td>96.0</td>\n",
       "    </tr>\n",
       "    <tr>\n",
       "      <th>2023-11-28</th>\n",
       "      <td>1049</td>\n",
       "      <td>670</td>\n",
       "      <td>70</td>\n",
       "      <td>0</td>\n",
       "      <td>9</td>\n",
       "      <td>300</td>\n",
       "      <td>749</td>\n",
       "      <td>734</td>\n",
       "      <td>91.0</td>\n",
       "    </tr>\n",
       "    <tr>\n",
       "      <th>2023-11-29</th>\n",
       "      <td>1115</td>\n",
       "      <td>686</td>\n",
       "      <td>68</td>\n",
       "      <td>0</td>\n",
       "      <td>4</td>\n",
       "      <td>357</td>\n",
       "      <td>758</td>\n",
       "      <td>748</td>\n",
       "      <td>92.0</td>\n",
       "    </tr>\n",
       "    <tr>\n",
       "      <th>2023-11-30</th>\n",
       "      <td>1042</td>\n",
       "      <td>588</td>\n",
       "      <td>67</td>\n",
       "      <td>0</td>\n",
       "      <td>9</td>\n",
       "      <td>378</td>\n",
       "      <td>664</td>\n",
       "      <td>304</td>\n",
       "      <td>193.0</td>\n",
       "    </tr>\n",
       "  </tbody>\n",
       "</table>\n",
       "</div>"
      ],
      "text/plain": [
       "            marketplace_number  is_source_tvz  is_source_somm  is_source_sbis  \\\n",
       "created                                                                         \n",
       "2023-11-01                 534            431               3               0   \n",
       "2023-11-02                 833            668              10               0   \n",
       "2023-11-03                1113            849              27               0   \n",
       "2023-11-04                 805            561              29               0   \n",
       "2023-11-05                 863            653              27               0   \n",
       "2023-11-06                1094            833              33               0   \n",
       "2023-11-07                1284            923              43               0   \n",
       "2023-11-08                1250           1002              36               0   \n",
       "2023-11-09                1244            980              39               0   \n",
       "2023-11-10                 945            736              30               0   \n",
       "2023-11-11                 965            744              32               0   \n",
       "2023-11-12                1131            859              49               0   \n",
       "2023-11-13                1335            999              59               0   \n",
       "2023-11-14                1398           1077              48               0   \n",
       "2023-11-15                1309           1045              33               0   \n",
       "2023-11-16                1272            995              61               0   \n",
       "2023-11-17                1135            857              60               0   \n",
       "2023-11-18                 926            705              33               0   \n",
       "2023-11-19                1060            831              33               0   \n",
       "2023-11-20                1337           1055              56               0   \n",
       "2023-11-21                1435           1102              69               0   \n",
       "2023-11-22                 638            483              25               0   \n",
       "2023-11-23                 487            366              18               0   \n",
       "2023-11-24                 558            391              26               0   \n",
       "2023-11-25                 769            581              23               0   \n",
       "2023-11-26                 849            635              19               0   \n",
       "2023-11-27                1056            813              34               0   \n",
       "2023-11-28                1049            670              70               0   \n",
       "2023-11-29                1115            686              68               0   \n",
       "2023-11-30                1042            588              67               0   \n",
       "\n",
       "            is_source_null  no_status  order_id  er_order_id  percent  \n",
       "created                                                                \n",
       "2023-11-01              16         84       450          445     97.0  \n",
       "2023-11-02              19        136       697          682     98.0  \n",
       "2023-11-03              28        209       904          867     98.0  \n",
       "2023-11-04              17        198       607          589     95.0  \n",
       "2023-11-05              17        166       697          684     95.0  \n",
       "2023-11-06              13        215       879          857     97.0  \n",
       "2023-11-07              36        282      1002          941     98.0  \n",
       "2023-11-08              26        186      1064         1031     97.0  \n",
       "2023-11-09              16        209      1035         1004     98.0  \n",
       "2023-11-10              12        167       778          757     97.0  \n",
       "2023-11-11              10        179       786          766     97.0  \n",
       "2023-11-12              13        210       921          889     97.0  \n",
       "2023-11-13              10        267      1068         1038     96.0  \n",
       "2023-11-14               6        267      1131         1103     98.0  \n",
       "2023-11-15               8        223      1086         1085     96.0  \n",
       "2023-11-16              13        203      1069         1021     97.0  \n",
       "2023-11-17              17        201       934          875     98.0  \n",
       "2023-11-18              11        177       749          732     96.0  \n",
       "2023-11-19               8        188       872          858     97.0  \n",
       "2023-11-20              13        213      1124         1083     97.0  \n",
       "2023-11-21              16        248      1187         1138     97.0  \n",
       "2023-11-22              13        117       521          494     98.0  \n",
       "2023-11-23               9         94       393          377     97.0  \n",
       "2023-11-24              12        129       429          415     94.0  \n",
       "2023-11-25              13        152       617          595     98.0  \n",
       "2023-11-26               9        186       663          660     96.0  \n",
       "2023-11-27              11        198       858          846     96.0  \n",
       "2023-11-28               9        300       749          734     91.0  \n",
       "2023-11-29               4        357       758          748     92.0  \n",
       "2023-11-30               9        378       664          304    193.0  "
      ]
     },
     "execution_count": 182,
     "metadata": {},
     "output_type": "execute_result"
    }
   ],
   "source": [
    "dfo_erka9_dd"
   ]
  },
  {
   "cell_type": "code",
   "execution_count": null,
   "metadata": {},
   "outputs": [],
   "source": []
  },
  {
   "cell_type": "code",
   "execution_count": null,
   "metadata": {},
   "outputs": [],
   "source": []
  },
  {
   "cell_type": "markdown",
   "metadata": {},
   "source": [
    "## Планета Здоровья 71"
   ]
  },
  {
   "cell_type": "code",
   "execution_count": 163,
   "metadata": {},
   "outputs": [],
   "source": [
    "#dfs71 = dfs71[dfs71.source == 'ТВЗ']"
   ]
  },
  {
   "cell_type": "code",
   "execution_count": null,
   "metadata": {},
   "outputs": [],
   "source": []
  },
  {
   "cell_type": "code",
   "execution_count": null,
   "metadata": {},
   "outputs": [],
   "source": []
  },
  {
   "cell_type": "code",
   "execution_count": 177,
   "metadata": {},
   "outputs": [],
   "source": [
    "dfo_pz71 = dfo_pz.merge(dfs71, how='left', left_on='id', right_on='order_id')"
   ]
  },
  {
   "cell_type": "code",
   "execution_count": 178,
   "metadata": {},
   "outputs": [
    {
     "data": {
      "text/plain": [
       "(135264, 14)"
      ]
     },
     "execution_count": 178,
     "metadata": {},
     "output_type": "execute_result"
    }
   ],
   "source": [
    "dfo_pz71.shape"
   ]
  },
  {
   "cell_type": "code",
   "execution_count": 179,
   "metadata": {},
   "outputs": [],
   "source": [
    "# есть 50 дублей, очевидно из-за того, что статусы по 2 раза приходят"
   ]
  },
  {
   "cell_type": "code",
   "execution_count": 180,
   "metadata": {},
   "outputs": [],
   "source": [
    "dfo_pz71 = dfo_pz71.merge(pz71, how='left', left_on='guid', right_on='pz_order_guid')"
   ]
  },
  {
   "cell_type": "code",
   "execution_count": 168,
   "metadata": {},
   "outputs": [],
   "source": [
    "# есть еще 10 дублей, хз почему"
   ]
  },
  {
   "cell_type": "code",
   "execution_count": 169,
   "metadata": {},
   "outputs": [],
   "source": [
    "dfo_pz71_mm = dfo_pz71.groupby('mm', as_index=False) \\\n",
    "                        .agg({'id': 'nunique', \n",
    "                           'order_id': 'nunique', \n",
    "                           'pz_order_guid': 'nunique'})"
   ]
  },
  {
   "cell_type": "code",
   "execution_count": 170,
   "metadata": {},
   "outputs": [],
   "source": [
    "dfo_pz71_mm['percent'] = round(dfo_pz71_mm.order_id / dfo_pz71_mm.pz_order_guid * 100, 0)"
   ]
  },
  {
   "cell_type": "code",
   "execution_count": 171,
   "metadata": {},
   "outputs": [
    {
     "data": {
      "text/html": [
       "<div>\n",
       "<style scoped>\n",
       "    .dataframe tbody tr th:only-of-type {\n",
       "        vertical-align: middle;\n",
       "    }\n",
       "\n",
       "    .dataframe tbody tr th {\n",
       "        vertical-align: top;\n",
       "    }\n",
       "\n",
       "    .dataframe thead th {\n",
       "        text-align: right;\n",
       "    }\n",
       "</style>\n",
       "<table border=\"1\" class=\"dataframe\">\n",
       "  <thead>\n",
       "    <tr style=\"text-align: right;\">\n",
       "      <th></th>\n",
       "      <th>mm</th>\n",
       "      <th>id</th>\n",
       "      <th>order_id</th>\n",
       "      <th>pz_order_guid</th>\n",
       "      <th>percent</th>\n",
       "    </tr>\n",
       "  </thead>\n",
       "  <tbody>\n",
       "    <tr>\n",
       "      <th>0</th>\n",
       "      <td>АСНА</td>\n",
       "      <td>2209</td>\n",
       "      <td>812</td>\n",
       "      <td>1586</td>\n",
       "      <td>51.0</td>\n",
       "    </tr>\n",
       "    <tr>\n",
       "      <th>1</th>\n",
       "      <td>АналитФармация</td>\n",
       "      <td>2</td>\n",
       "      <td>0</td>\n",
       "      <td>0</td>\n",
       "      <td>NaN</td>\n",
       "    </tr>\n",
       "    <tr>\n",
       "      <th>2</th>\n",
       "      <td>АптекаФорте</td>\n",
       "      <td>2258</td>\n",
       "      <td>0</td>\n",
       "      <td>1580</td>\n",
       "      <td>0.0</td>\n",
       "    </tr>\n",
       "    <tr>\n",
       "      <th>3</th>\n",
       "      <td>В аптеке</td>\n",
       "      <td>241</td>\n",
       "      <td>119</td>\n",
       "      <td>134</td>\n",
       "      <td>89.0</td>\n",
       "    </tr>\n",
       "    <tr>\n",
       "      <th>4</th>\n",
       "      <td>Все аптеки</td>\n",
       "      <td>4266</td>\n",
       "      <td>1948</td>\n",
       "      <td>2980</td>\n",
       "      <td>65.0</td>\n",
       "    </tr>\n",
       "    <tr>\n",
       "      <th>5</th>\n",
       "      <td>ОК Аптека</td>\n",
       "      <td>27</td>\n",
       "      <td>16</td>\n",
       "      <td>5</td>\n",
       "      <td>320.0</td>\n",
       "    </tr>\n",
       "    <tr>\n",
       "      <th>6</th>\n",
       "      <td>Озон RFBS</td>\n",
       "      <td>18211</td>\n",
       "      <td>9580</td>\n",
       "      <td>13672</td>\n",
       "      <td>70.0</td>\n",
       "    </tr>\n",
       "    <tr>\n",
       "      <th>7</th>\n",
       "      <td>Планета Здоровья</td>\n",
       "      <td>47561</td>\n",
       "      <td>0</td>\n",
       "      <td>0</td>\n",
       "      <td>NaN</td>\n",
       "    </tr>\n",
       "    <tr>\n",
       "      <th>8</th>\n",
       "      <td>Сбермегамаркет</td>\n",
       "      <td>2455</td>\n",
       "      <td>1344</td>\n",
       "      <td>1702</td>\n",
       "      <td>79.0</td>\n",
       "    </tr>\n",
       "    <tr>\n",
       "      <th>9</th>\n",
       "      <td>ЦВА</td>\n",
       "      <td>837</td>\n",
       "      <td>487</td>\n",
       "      <td>568</td>\n",
       "      <td>86.0</td>\n",
       "    </tr>\n",
       "    <tr>\n",
       "      <th>10</th>\n",
       "      <td>Ютека</td>\n",
       "      <td>52905</td>\n",
       "      <td>28692</td>\n",
       "      <td>37143</td>\n",
       "      <td>77.0</td>\n",
       "    </tr>\n",
       "    <tr>\n",
       "      <th>11</th>\n",
       "      <td>ЯндексDBS</td>\n",
       "      <td>3172</td>\n",
       "      <td>1653</td>\n",
       "      <td>2388</td>\n",
       "      <td>69.0</td>\n",
       "    </tr>\n",
       "  </tbody>\n",
       "</table>\n",
       "</div>"
      ],
      "text/plain": [
       "                  mm     id  order_id  pz_order_guid  percent\n",
       "0               АСНА   2209       812           1586     51.0\n",
       "1     АналитФармация      2         0              0      NaN\n",
       "2        АптекаФорте   2258         0           1580      0.0\n",
       "3           В аптеке    241       119            134     89.0\n",
       "4         Все аптеки   4266      1948           2980     65.0\n",
       "5          ОК Аптека     27        16              5    320.0\n",
       "6          Озон RFBS  18211      9580          13672     70.0\n",
       "7   Планета Здоровья  47561         0              0      NaN\n",
       "8     Сбермегамаркет   2455      1344           1702     79.0\n",
       "9                ЦВА    837       487            568     86.0\n",
       "10             Ютека  52905     28692          37143     77.0\n",
       "11         ЯндексDBS   3172      1653           2388     69.0"
      ]
     },
     "execution_count": 171,
     "metadata": {},
     "output_type": "execute_result"
    }
   ],
   "source": [
    "dfo_pz71_mm"
   ]
  },
  {
   "cell_type": "code",
   "execution_count": null,
   "metadata": {},
   "outputs": [],
   "source": []
  },
  {
   "cell_type": "code",
   "execution_count": 172,
   "metadata": {},
   "outputs": [],
   "source": [
    "dfo_pz71_rk = dfo_pz71.groupby('rk', as_index=False).agg({'id': 'nunique', \n",
    "                                               'order_id': 'nunique', \n",
    "                                               'pz_order_guid': 'nunique'})\n",
    "dfo_pz71_rk['percent'] = round(dfo_pz71_rk.order_id / dfo_pz71_rk.pz_order_guid * 100, 0)"
   ]
  },
  {
   "cell_type": "code",
   "execution_count": null,
   "metadata": {},
   "outputs": [],
   "source": []
  },
  {
   "cell_type": "code",
   "execution_count": 173,
   "metadata": {},
   "outputs": [
    {
     "data": {
      "text/html": [
       "<div>\n",
       "<style scoped>\n",
       "    .dataframe tbody tr th:only-of-type {\n",
       "        vertical-align: middle;\n",
       "    }\n",
       "\n",
       "    .dataframe tbody tr th {\n",
       "        vertical-align: top;\n",
       "    }\n",
       "\n",
       "    .dataframe thead th {\n",
       "        text-align: right;\n",
       "    }\n",
       "</style>\n",
       "<table border=\"1\" class=\"dataframe\">\n",
       "  <thead>\n",
       "    <tr style=\"text-align: right;\">\n",
       "      <th></th>\n",
       "      <th>rk</th>\n",
       "      <th>id</th>\n",
       "      <th>order_id</th>\n",
       "      <th>pz_order_guid</th>\n",
       "      <th>percent</th>\n",
       "    </tr>\n",
       "  </thead>\n",
       "  <tbody>\n",
       "    <tr>\n",
       "      <th>0</th>\n",
       "      <td>ООО \"ПУЛЬС Брянск\"</td>\n",
       "      <td>677</td>\n",
       "      <td>205</td>\n",
       "      <td>216</td>\n",
       "      <td>95.0</td>\n",
       "    </tr>\n",
       "    <tr>\n",
       "      <th>1</th>\n",
       "      <td>ООО \"ПУЛЬС Волгоград\"</td>\n",
       "      <td>523</td>\n",
       "      <td>0</td>\n",
       "      <td>0</td>\n",
       "      <td>NaN</td>\n",
       "    </tr>\n",
       "    <tr>\n",
       "      <th>2</th>\n",
       "      <td>ООО \"ПУЛЬС Воронеж\"</td>\n",
       "      <td>1018</td>\n",
       "      <td>0</td>\n",
       "      <td>0</td>\n",
       "      <td>NaN</td>\n",
       "    </tr>\n",
       "    <tr>\n",
       "      <th>3</th>\n",
       "      <td>ООО \"ПУЛЬС Екатеринбург\"</td>\n",
       "      <td>33245</td>\n",
       "      <td>8899</td>\n",
       "      <td>10530</td>\n",
       "      <td>85.0</td>\n",
       "    </tr>\n",
       "    <tr>\n",
       "      <th>4</th>\n",
       "      <td>ООО \"ПУЛЬС Иркутск\"</td>\n",
       "      <td>90</td>\n",
       "      <td>43</td>\n",
       "      <td>66</td>\n",
       "      <td>65.0</td>\n",
       "    </tr>\n",
       "    <tr>\n",
       "      <th>5</th>\n",
       "      <td>ООО \"ПУЛЬС Казань\"</td>\n",
       "      <td>14098</td>\n",
       "      <td>3480</td>\n",
       "      <td>4305</td>\n",
       "      <td>81.0</td>\n",
       "    </tr>\n",
       "    <tr>\n",
       "      <th>6</th>\n",
       "      <td>ООО \"ПУЛЬС Краснодар\"</td>\n",
       "      <td>2287</td>\n",
       "      <td>480</td>\n",
       "      <td>573</td>\n",
       "      <td>84.0</td>\n",
       "    </tr>\n",
       "    <tr>\n",
       "      <th>7</th>\n",
       "      <td>ООО \"ПУЛЬС Новосибирск\"</td>\n",
       "      <td>1200</td>\n",
       "      <td>399</td>\n",
       "      <td>417</td>\n",
       "      <td>96.0</td>\n",
       "    </tr>\n",
       "    <tr>\n",
       "      <th>8</th>\n",
       "      <td>ООО \"ПУЛЬС СПб\"</td>\n",
       "      <td>5358</td>\n",
       "      <td>2398</td>\n",
       "      <td>2707</td>\n",
       "      <td>89.0</td>\n",
       "    </tr>\n",
       "    <tr>\n",
       "      <th>9</th>\n",
       "      <td>ООО \"ПУЛЬС Самара\"</td>\n",
       "      <td>917</td>\n",
       "      <td>0</td>\n",
       "      <td>0</td>\n",
       "      <td>NaN</td>\n",
       "    </tr>\n",
       "    <tr>\n",
       "      <th>10</th>\n",
       "      <td>ООО \"ПУЛЬС Хабаровск\"</td>\n",
       "      <td>493</td>\n",
       "      <td>91</td>\n",
       "      <td>138</td>\n",
       "      <td>66.0</td>\n",
       "    </tr>\n",
       "    <tr>\n",
       "      <th>11</th>\n",
       "      <td>ООО \"ПУЛЬС Ярославль\"</td>\n",
       "      <td>3345</td>\n",
       "      <td>1035</td>\n",
       "      <td>1313</td>\n",
       "      <td>79.0</td>\n",
       "    </tr>\n",
       "    <tr>\n",
       "      <th>12</th>\n",
       "      <td>ООО \"ФК ПУЛЬС\"</td>\n",
       "      <td>70893</td>\n",
       "      <td>27621</td>\n",
       "      <td>41493</td>\n",
       "      <td>67.0</td>\n",
       "    </tr>\n",
       "  </tbody>\n",
       "</table>\n",
       "</div>"
      ],
      "text/plain": [
       "                          rk     id  order_id  pz_order_guid  percent\n",
       "0         ООО \"ПУЛЬС Брянск\"    677       205            216     95.0\n",
       "1      ООО \"ПУЛЬС Волгоград\"    523         0              0      NaN\n",
       "2        ООО \"ПУЛЬС Воронеж\"   1018         0              0      NaN\n",
       "3   ООО \"ПУЛЬС Екатеринбург\"  33245      8899          10530     85.0\n",
       "4        ООО \"ПУЛЬС Иркутск\"     90        43             66     65.0\n",
       "5         ООО \"ПУЛЬС Казань\"  14098      3480           4305     81.0\n",
       "6      ООО \"ПУЛЬС Краснодар\"   2287       480            573     84.0\n",
       "7    ООО \"ПУЛЬС Новосибирск\"   1200       399            417     96.0\n",
       "8            ООО \"ПУЛЬС СПб\"   5358      2398           2707     89.0\n",
       "9         ООО \"ПУЛЬС Самара\"    917         0              0      NaN\n",
       "10     ООО \"ПУЛЬС Хабаровск\"    493        91            138     66.0\n",
       "11     ООО \"ПУЛЬС Ярославль\"   3345      1035           1313     79.0\n",
       "12            ООО \"ФК ПУЛЬС\"  70893     27621          41493     67.0"
      ]
     },
     "execution_count": 173,
     "metadata": {},
     "output_type": "execute_result"
    }
   ],
   "source": [
    "dfo_pz71_rk"
   ]
  },
  {
   "cell_type": "code",
   "execution_count": 174,
   "metadata": {},
   "outputs": [],
   "source": [
    "dfo_pz71_dd = dfo_pz71.groupby(dfo_pz71.created.dt.date) \\\n",
    "                        .agg({'id': 'nunique', \n",
    "                           'order_id': 'nunique', \n",
    "                           'pz_order_guid': 'nunique'})\n",
    "dfo_pz71_dd['percent'] = round(dfo_pz71_dd.order_id / dfo_pz71_dd.pz_order_guid * 100, 0)"
   ]
  },
  {
   "cell_type": "code",
   "execution_count": 175,
   "metadata": {},
   "outputs": [
    {
     "data": {
      "text/html": [
       "<div>\n",
       "<style scoped>\n",
       "    .dataframe tbody tr th:only-of-type {\n",
       "        vertical-align: middle;\n",
       "    }\n",
       "\n",
       "    .dataframe tbody tr th {\n",
       "        vertical-align: top;\n",
       "    }\n",
       "\n",
       "    .dataframe thead th {\n",
       "        text-align: right;\n",
       "    }\n",
       "</style>\n",
       "<table border=\"1\" class=\"dataframe\">\n",
       "  <thead>\n",
       "    <tr style=\"text-align: right;\">\n",
       "      <th></th>\n",
       "      <th>id</th>\n",
       "      <th>order_id</th>\n",
       "      <th>pz_order_guid</th>\n",
       "      <th>percent</th>\n",
       "    </tr>\n",
       "    <tr>\n",
       "      <th>created</th>\n",
       "      <th></th>\n",
       "      <th></th>\n",
       "      <th></th>\n",
       "      <th></th>\n",
       "    </tr>\n",
       "  </thead>\n",
       "  <tbody>\n",
       "    <tr>\n",
       "      <th>2023-11-01</th>\n",
       "      <td>4710</td>\n",
       "      <td>1560</td>\n",
       "      <td>1</td>\n",
       "      <td>156000.0</td>\n",
       "    </tr>\n",
       "    <tr>\n",
       "      <th>2023-11-02</th>\n",
       "      <td>4897</td>\n",
       "      <td>1688</td>\n",
       "      <td>2</td>\n",
       "      <td>84400.0</td>\n",
       "    </tr>\n",
       "    <tr>\n",
       "      <th>2023-11-03</th>\n",
       "      <td>3847</td>\n",
       "      <td>1551</td>\n",
       "      <td>10</td>\n",
       "      <td>15510.0</td>\n",
       "    </tr>\n",
       "    <tr>\n",
       "      <th>2023-11-04</th>\n",
       "      <td>3377</td>\n",
       "      <td>987</td>\n",
       "      <td>13</td>\n",
       "      <td>7592.0</td>\n",
       "    </tr>\n",
       "    <tr>\n",
       "      <th>2023-11-05</th>\n",
       "      <td>3839</td>\n",
       "      <td>1102</td>\n",
       "      <td>15</td>\n",
       "      <td>7347.0</td>\n",
       "    </tr>\n",
       "    <tr>\n",
       "      <th>2023-11-06</th>\n",
       "      <td>4656</td>\n",
       "      <td>1268</td>\n",
       "      <td>28</td>\n",
       "      <td>4529.0</td>\n",
       "    </tr>\n",
       "    <tr>\n",
       "      <th>2023-11-07</th>\n",
       "      <td>5337</td>\n",
       "      <td>1852</td>\n",
       "      <td>127</td>\n",
       "      <td>1458.0</td>\n",
       "    </tr>\n",
       "    <tr>\n",
       "      <th>2023-11-08</th>\n",
       "      <td>5415</td>\n",
       "      <td>1627</td>\n",
       "      <td>593</td>\n",
       "      <td>274.0</td>\n",
       "    </tr>\n",
       "    <tr>\n",
       "      <th>2023-11-09</th>\n",
       "      <td>4925</td>\n",
       "      <td>1594</td>\n",
       "      <td>3290</td>\n",
       "      <td>48.0</td>\n",
       "    </tr>\n",
       "    <tr>\n",
       "      <th>2023-11-10</th>\n",
       "      <td>4570</td>\n",
       "      <td>1544</td>\n",
       "      <td>2988</td>\n",
       "      <td>52.0</td>\n",
       "    </tr>\n",
       "    <tr>\n",
       "      <th>2023-11-11</th>\n",
       "      <td>3455</td>\n",
       "      <td>1549</td>\n",
       "      <td>2576</td>\n",
       "      <td>60.0</td>\n",
       "    </tr>\n",
       "    <tr>\n",
       "      <th>2023-11-12</th>\n",
       "      <td>4437</td>\n",
       "      <td>1758</td>\n",
       "      <td>2938</td>\n",
       "      <td>60.0</td>\n",
       "    </tr>\n",
       "    <tr>\n",
       "      <th>2023-11-13</th>\n",
       "      <td>5144</td>\n",
       "      <td>2014</td>\n",
       "      <td>3255</td>\n",
       "      <td>62.0</td>\n",
       "    </tr>\n",
       "    <tr>\n",
       "      <th>2023-11-14</th>\n",
       "      <td>5163</td>\n",
       "      <td>1836</td>\n",
       "      <td>3230</td>\n",
       "      <td>57.0</td>\n",
       "    </tr>\n",
       "    <tr>\n",
       "      <th>2023-11-15</th>\n",
       "      <td>4934</td>\n",
       "      <td>1619</td>\n",
       "      <td>3147</td>\n",
       "      <td>51.0</td>\n",
       "    </tr>\n",
       "    <tr>\n",
       "      <th>2023-11-16</th>\n",
       "      <td>4919</td>\n",
       "      <td>1721</td>\n",
       "      <td>3173</td>\n",
       "      <td>54.0</td>\n",
       "    </tr>\n",
       "    <tr>\n",
       "      <th>2023-11-17</th>\n",
       "      <td>4377</td>\n",
       "      <td>1473</td>\n",
       "      <td>2791</td>\n",
       "      <td>53.0</td>\n",
       "    </tr>\n",
       "    <tr>\n",
       "      <th>2023-11-18</th>\n",
       "      <td>3427</td>\n",
       "      <td>1337</td>\n",
       "      <td>2146</td>\n",
       "      <td>62.0</td>\n",
       "    </tr>\n",
       "    <tr>\n",
       "      <th>2023-11-19</th>\n",
       "      <td>4390</td>\n",
       "      <td>1542</td>\n",
       "      <td>2618</td>\n",
       "      <td>59.0</td>\n",
       "    </tr>\n",
       "    <tr>\n",
       "      <th>2023-11-20</th>\n",
       "      <td>5119</td>\n",
       "      <td>1934</td>\n",
       "      <td>3266</td>\n",
       "      <td>59.0</td>\n",
       "    </tr>\n",
       "    <tr>\n",
       "      <th>2023-11-21</th>\n",
       "      <td>5225</td>\n",
       "      <td>1973</td>\n",
       "      <td>3274</td>\n",
       "      <td>60.0</td>\n",
       "    </tr>\n",
       "    <tr>\n",
       "      <th>2023-11-22</th>\n",
       "      <td>4988</td>\n",
       "      <td>1558</td>\n",
       "      <td>2964</td>\n",
       "      <td>53.0</td>\n",
       "    </tr>\n",
       "    <tr>\n",
       "      <th>2023-11-23</th>\n",
       "      <td>4397</td>\n",
       "      <td>1420</td>\n",
       "      <td>2637</td>\n",
       "      <td>54.0</td>\n",
       "    </tr>\n",
       "    <tr>\n",
       "      <th>2023-11-24</th>\n",
       "      <td>3914</td>\n",
       "      <td>1520</td>\n",
       "      <td>2428</td>\n",
       "      <td>63.0</td>\n",
       "    </tr>\n",
       "    <tr>\n",
       "      <th>2023-11-25</th>\n",
       "      <td>2839</td>\n",
       "      <td>1419</td>\n",
       "      <td>1920</td>\n",
       "      <td>74.0</td>\n",
       "    </tr>\n",
       "    <tr>\n",
       "      <th>2023-11-26</th>\n",
       "      <td>3525</td>\n",
       "      <td>1448</td>\n",
       "      <td>2105</td>\n",
       "      <td>69.0</td>\n",
       "    </tr>\n",
       "    <tr>\n",
       "      <th>2023-11-27</th>\n",
       "      <td>4482</td>\n",
       "      <td>1508</td>\n",
       "      <td>2725</td>\n",
       "      <td>55.0</td>\n",
       "    </tr>\n",
       "    <tr>\n",
       "      <th>2023-11-28</th>\n",
       "      <td>4913</td>\n",
       "      <td>773</td>\n",
       "      <td>2766</td>\n",
       "      <td>28.0</td>\n",
       "    </tr>\n",
       "    <tr>\n",
       "      <th>2023-11-29</th>\n",
       "      <td>4248</td>\n",
       "      <td>764</td>\n",
       "      <td>2550</td>\n",
       "      <td>30.0</td>\n",
       "    </tr>\n",
       "    <tr>\n",
       "      <th>2023-11-30</th>\n",
       "      <td>4675</td>\n",
       "      <td>712</td>\n",
       "      <td>2182</td>\n",
       "      <td>33.0</td>\n",
       "    </tr>\n",
       "  </tbody>\n",
       "</table>\n",
       "</div>"
      ],
      "text/plain": [
       "              id  order_id  pz_order_guid   percent\n",
       "created                                            \n",
       "2023-11-01  4710      1560              1  156000.0\n",
       "2023-11-02  4897      1688              2   84400.0\n",
       "2023-11-03  3847      1551             10   15510.0\n",
       "2023-11-04  3377       987             13    7592.0\n",
       "2023-11-05  3839      1102             15    7347.0\n",
       "2023-11-06  4656      1268             28    4529.0\n",
       "2023-11-07  5337      1852            127    1458.0\n",
       "2023-11-08  5415      1627            593     274.0\n",
       "2023-11-09  4925      1594           3290      48.0\n",
       "2023-11-10  4570      1544           2988      52.0\n",
       "2023-11-11  3455      1549           2576      60.0\n",
       "2023-11-12  4437      1758           2938      60.0\n",
       "2023-11-13  5144      2014           3255      62.0\n",
       "2023-11-14  5163      1836           3230      57.0\n",
       "2023-11-15  4934      1619           3147      51.0\n",
       "2023-11-16  4919      1721           3173      54.0\n",
       "2023-11-17  4377      1473           2791      53.0\n",
       "2023-11-18  3427      1337           2146      62.0\n",
       "2023-11-19  4390      1542           2618      59.0\n",
       "2023-11-20  5119      1934           3266      59.0\n",
       "2023-11-21  5225      1973           3274      60.0\n",
       "2023-11-22  4988      1558           2964      53.0\n",
       "2023-11-23  4397      1420           2637      54.0\n",
       "2023-11-24  3914      1520           2428      63.0\n",
       "2023-11-25  2839      1419           1920      74.0\n",
       "2023-11-26  3525      1448           2105      69.0\n",
       "2023-11-27  4482      1508           2725      55.0\n",
       "2023-11-28  4913       773           2766      28.0\n",
       "2023-11-29  4248       764           2550      30.0\n",
       "2023-11-30  4675       712           2182      33.0"
      ]
     },
     "execution_count": 175,
     "metadata": {},
     "output_type": "execute_result"
    }
   ],
   "source": [
    "dfo_pz71_dd"
   ]
  },
  {
   "cell_type": "code",
   "execution_count": null,
   "metadata": {},
   "outputs": [],
   "source": []
  },
  {
   "cell_type": "code",
   "execution_count": null,
   "metadata": {},
   "outputs": [],
   "source": []
  },
  {
   "cell_type": "code",
   "execution_count": null,
   "metadata": {},
   "outputs": [],
   "source": []
  },
  {
   "cell_type": "markdown",
   "metadata": {},
   "source": [
    "## Планета Здоровья 9"
   ]
  },
  {
   "cell_type": "code",
   "execution_count": 180,
   "metadata": {},
   "outputs": [],
   "source": [
    "dfo_pz9 = dfo_pz.merge(dfs9, how='left', left_on='id', right_on='order_id')"
   ]
  },
  {
   "cell_type": "code",
   "execution_count": 181,
   "metadata": {},
   "outputs": [
    {
     "data": {
      "text/plain": [
       "(134223, 14)"
      ]
     },
     "execution_count": 181,
     "metadata": {},
     "output_type": "execute_result"
    }
   ],
   "source": [
    "dfo_pz9.shape"
   ]
  },
  {
   "cell_type": "code",
   "execution_count": 182,
   "metadata": {},
   "outputs": [],
   "source": [
    "# есть 50 дублей, очевидно из-за того, что статусы по 2 раза приходят"
   ]
  },
  {
   "cell_type": "code",
   "execution_count": 183,
   "metadata": {},
   "outputs": [],
   "source": [
    "dfo_pz9 = dfo_pz9.merge(pz9, how='left', left_on='guid', right_on='pz_order_guid')"
   ]
  },
  {
   "cell_type": "code",
   "execution_count": 184,
   "metadata": {},
   "outputs": [],
   "source": [
    "# есть еще 10 дублей, хз почему"
   ]
  },
  {
   "cell_type": "code",
   "execution_count": 185,
   "metadata": {},
   "outputs": [],
   "source": [
    "dfo_pz9_mm = dfo_pz9.groupby('mm', as_index=False) \\\n",
    "                        .agg({'id': 'nunique', \n",
    "                           'order_id': 'nunique', \n",
    "                           'pz_order_guid': 'nunique'})"
   ]
  },
  {
   "cell_type": "code",
   "execution_count": 186,
   "metadata": {},
   "outputs": [],
   "source": [
    "dfo_pz9_mm['percent'] = round(dfo_pz9_mm.order_id / dfo_pz9_mm.pz_order_guid * 100, 0)"
   ]
  },
  {
   "cell_type": "code",
   "execution_count": 187,
   "metadata": {},
   "outputs": [
    {
     "data": {
      "text/html": [
       "<div>\n",
       "<style scoped>\n",
       "    .dataframe tbody tr th:only-of-type {\n",
       "        vertical-align: middle;\n",
       "    }\n",
       "\n",
       "    .dataframe tbody tr th {\n",
       "        vertical-align: top;\n",
       "    }\n",
       "\n",
       "    .dataframe thead th {\n",
       "        text-align: right;\n",
       "    }\n",
       "</style>\n",
       "<table border=\"1\" class=\"dataframe\">\n",
       "  <thead>\n",
       "    <tr style=\"text-align: right;\">\n",
       "      <th></th>\n",
       "      <th>mm</th>\n",
       "      <th>id</th>\n",
       "      <th>order_id</th>\n",
       "      <th>pz_order_guid</th>\n",
       "      <th>percent</th>\n",
       "    </tr>\n",
       "  </thead>\n",
       "  <tbody>\n",
       "    <tr>\n",
       "      <th>0</th>\n",
       "      <td>АСНА</td>\n",
       "      <td>2209</td>\n",
       "      <td>1881</td>\n",
       "      <td>1329</td>\n",
       "      <td>142.0</td>\n",
       "    </tr>\n",
       "    <tr>\n",
       "      <th>1</th>\n",
       "      <td>АналитФармация</td>\n",
       "      <td>2</td>\n",
       "      <td>2</td>\n",
       "      <td>0</td>\n",
       "      <td>inf</td>\n",
       "    </tr>\n",
       "    <tr>\n",
       "      <th>2</th>\n",
       "      <td>АптекаФорте</td>\n",
       "      <td>2258</td>\n",
       "      <td>1676</td>\n",
       "      <td>1556</td>\n",
       "      <td>108.0</td>\n",
       "    </tr>\n",
       "    <tr>\n",
       "      <th>3</th>\n",
       "      <td>В аптеке</td>\n",
       "      <td>241</td>\n",
       "      <td>238</td>\n",
       "      <td>124</td>\n",
       "      <td>192.0</td>\n",
       "    </tr>\n",
       "    <tr>\n",
       "      <th>4</th>\n",
       "      <td>Все аптеки</td>\n",
       "      <td>4266</td>\n",
       "      <td>3793</td>\n",
       "      <td>2615</td>\n",
       "      <td>145.0</td>\n",
       "    </tr>\n",
       "    <tr>\n",
       "      <th>5</th>\n",
       "      <td>ОК Аптека</td>\n",
       "      <td>27</td>\n",
       "      <td>26</td>\n",
       "      <td>4</td>\n",
       "      <td>650.0</td>\n",
       "    </tr>\n",
       "    <tr>\n",
       "      <th>6</th>\n",
       "      <td>Озон RFBS</td>\n",
       "      <td>18211</td>\n",
       "      <td>16228</td>\n",
       "      <td>12492</td>\n",
       "      <td>130.0</td>\n",
       "    </tr>\n",
       "    <tr>\n",
       "      <th>7</th>\n",
       "      <td>Планета Здоровья</td>\n",
       "      <td>47561</td>\n",
       "      <td>37260</td>\n",
       "      <td>0</td>\n",
       "      <td>inf</td>\n",
       "    </tr>\n",
       "    <tr>\n",
       "      <th>8</th>\n",
       "      <td>Сбермегамаркет</td>\n",
       "      <td>2455</td>\n",
       "      <td>2268</td>\n",
       "      <td>1710</td>\n",
       "      <td>133.0</td>\n",
       "    </tr>\n",
       "    <tr>\n",
       "      <th>9</th>\n",
       "      <td>ЦВА</td>\n",
       "      <td>837</td>\n",
       "      <td>677</td>\n",
       "      <td>458</td>\n",
       "      <td>148.0</td>\n",
       "    </tr>\n",
       "    <tr>\n",
       "      <th>10</th>\n",
       "      <td>Ютека</td>\n",
       "      <td>52905</td>\n",
       "      <td>48619</td>\n",
       "      <td>34708</td>\n",
       "      <td>140.0</td>\n",
       "    </tr>\n",
       "    <tr>\n",
       "      <th>11</th>\n",
       "      <td>ЯндексDBS</td>\n",
       "      <td>3172</td>\n",
       "      <td>2902</td>\n",
       "      <td>2290</td>\n",
       "      <td>127.0</td>\n",
       "    </tr>\n",
       "  </tbody>\n",
       "</table>\n",
       "</div>"
      ],
      "text/plain": [
       "                  mm     id  order_id  pz_order_guid  percent\n",
       "0               АСНА   2209      1881           1329    142.0\n",
       "1     АналитФармация      2         2              0      inf\n",
       "2        АптекаФорте   2258      1676           1556    108.0\n",
       "3           В аптеке    241       238            124    192.0\n",
       "4         Все аптеки   4266      3793           2615    145.0\n",
       "5          ОК Аптека     27        26              4    650.0\n",
       "6          Озон RFBS  18211     16228          12492    130.0\n",
       "7   Планета Здоровья  47561     37260              0      inf\n",
       "8     Сбермегамаркет   2455      2268           1710    133.0\n",
       "9                ЦВА    837       677            458    148.0\n",
       "10             Ютека  52905     48619          34708    140.0\n",
       "11         ЯндексDBS   3172      2902           2290    127.0"
      ]
     },
     "execution_count": 187,
     "metadata": {},
     "output_type": "execute_result"
    }
   ],
   "source": [
    "dfo_pz9_mm"
   ]
  },
  {
   "cell_type": "code",
   "execution_count": null,
   "metadata": {},
   "outputs": [],
   "source": []
  },
  {
   "cell_type": "code",
   "execution_count": 188,
   "metadata": {},
   "outputs": [],
   "source": [
    "dfo_pz9_rk = dfo_pz9.groupby('rk', as_index=False).agg({'id': 'nunique', \n",
    "                                               'order_id': 'nunique', \n",
    "                                               'pz_order_guid': 'nunique'})\n",
    "dfo_pz9_rk['percent'] = round(dfo_pz9_rk.order_id / dfo_pz9_rk.pz_order_guid * 100, 0)"
   ]
  },
  {
   "cell_type": "code",
   "execution_count": 189,
   "metadata": {},
   "outputs": [
    {
     "data": {
      "text/html": [
       "<div>\n",
       "<style scoped>\n",
       "    .dataframe tbody tr th:only-of-type {\n",
       "        vertical-align: middle;\n",
       "    }\n",
       "\n",
       "    .dataframe tbody tr th {\n",
       "        vertical-align: top;\n",
       "    }\n",
       "\n",
       "    .dataframe thead th {\n",
       "        text-align: right;\n",
       "    }\n",
       "</style>\n",
       "<table border=\"1\" class=\"dataframe\">\n",
       "  <thead>\n",
       "    <tr style=\"text-align: right;\">\n",
       "      <th></th>\n",
       "      <th>rk</th>\n",
       "      <th>id</th>\n",
       "      <th>order_id</th>\n",
       "      <th>pz_order_guid</th>\n",
       "      <th>percent</th>\n",
       "    </tr>\n",
       "  </thead>\n",
       "  <tbody>\n",
       "    <tr>\n",
       "      <th>0</th>\n",
       "      <td>ООО \"ПУЛЬС Брянск\"</td>\n",
       "      <td>677</td>\n",
       "      <td>581</td>\n",
       "      <td>212</td>\n",
       "      <td>274.0</td>\n",
       "    </tr>\n",
       "    <tr>\n",
       "      <th>1</th>\n",
       "      <td>ООО \"ПУЛЬС Волгоград\"</td>\n",
       "      <td>523</td>\n",
       "      <td>419</td>\n",
       "      <td>0</td>\n",
       "      <td>inf</td>\n",
       "    </tr>\n",
       "    <tr>\n",
       "      <th>2</th>\n",
       "      <td>ООО \"ПУЛЬС Воронеж\"</td>\n",
       "      <td>1018</td>\n",
       "      <td>811</td>\n",
       "      <td>0</td>\n",
       "      <td>inf</td>\n",
       "    </tr>\n",
       "    <tr>\n",
       "      <th>3</th>\n",
       "      <td>ООО \"ПУЛЬС Екатеринбург\"</td>\n",
       "      <td>33245</td>\n",
       "      <td>28047</td>\n",
       "      <td>9906</td>\n",
       "      <td>283.0</td>\n",
       "    </tr>\n",
       "    <tr>\n",
       "      <th>4</th>\n",
       "      <td>ООО \"ПУЛЬС Иркутск\"</td>\n",
       "      <td>90</td>\n",
       "      <td>89</td>\n",
       "      <td>73</td>\n",
       "      <td>122.0</td>\n",
       "    </tr>\n",
       "    <tr>\n",
       "      <th>5</th>\n",
       "      <td>ООО \"ПУЛЬС Казань\"</td>\n",
       "      <td>14098</td>\n",
       "      <td>11912</td>\n",
       "      <td>4079</td>\n",
       "      <td>292.0</td>\n",
       "    </tr>\n",
       "    <tr>\n",
       "      <th>6</th>\n",
       "      <td>ООО \"ПУЛЬС Краснодар\"</td>\n",
       "      <td>2287</td>\n",
       "      <td>1835</td>\n",
       "      <td>515</td>\n",
       "      <td>356.0</td>\n",
       "    </tr>\n",
       "    <tr>\n",
       "      <th>7</th>\n",
       "      <td>ООО \"ПУЛЬС Новосибирск\"</td>\n",
       "      <td>1200</td>\n",
       "      <td>997</td>\n",
       "      <td>373</td>\n",
       "      <td>267.0</td>\n",
       "    </tr>\n",
       "    <tr>\n",
       "      <th>8</th>\n",
       "      <td>ООО \"ПУЛЬС СПб\"</td>\n",
       "      <td>5358</td>\n",
       "      <td>4628</td>\n",
       "      <td>2503</td>\n",
       "      <td>185.0</td>\n",
       "    </tr>\n",
       "    <tr>\n",
       "      <th>9</th>\n",
       "      <td>ООО \"ПУЛЬС Самара\"</td>\n",
       "      <td>917</td>\n",
       "      <td>689</td>\n",
       "      <td>0</td>\n",
       "      <td>inf</td>\n",
       "    </tr>\n",
       "    <tr>\n",
       "      <th>10</th>\n",
       "      <td>ООО \"ПУЛЬС Хабаровск\"</td>\n",
       "      <td>493</td>\n",
       "      <td>368</td>\n",
       "      <td>120</td>\n",
       "      <td>307.0</td>\n",
       "    </tr>\n",
       "    <tr>\n",
       "      <th>11</th>\n",
       "      <td>ООО \"ПУЛЬС Ярославль\"</td>\n",
       "      <td>3345</td>\n",
       "      <td>2910</td>\n",
       "      <td>1270</td>\n",
       "      <td>229.0</td>\n",
       "    </tr>\n",
       "    <tr>\n",
       "      <th>12</th>\n",
       "      <td>ООО \"ФК ПУЛЬС\"</td>\n",
       "      <td>70893</td>\n",
       "      <td>62284</td>\n",
       "      <td>38235</td>\n",
       "      <td>163.0</td>\n",
       "    </tr>\n",
       "  </tbody>\n",
       "</table>\n",
       "</div>"
      ],
      "text/plain": [
       "                          rk     id  order_id  pz_order_guid  percent\n",
       "0         ООО \"ПУЛЬС Брянск\"    677       581            212    274.0\n",
       "1      ООО \"ПУЛЬС Волгоград\"    523       419              0      inf\n",
       "2        ООО \"ПУЛЬС Воронеж\"   1018       811              0      inf\n",
       "3   ООО \"ПУЛЬС Екатеринбург\"  33245     28047           9906    283.0\n",
       "4        ООО \"ПУЛЬС Иркутск\"     90        89             73    122.0\n",
       "5         ООО \"ПУЛЬС Казань\"  14098     11912           4079    292.0\n",
       "6      ООО \"ПУЛЬС Краснодар\"   2287      1835            515    356.0\n",
       "7    ООО \"ПУЛЬС Новосибирск\"   1200       997            373    267.0\n",
       "8            ООО \"ПУЛЬС СПб\"   5358      4628           2503    185.0\n",
       "9         ООО \"ПУЛЬС Самара\"    917       689              0      inf\n",
       "10     ООО \"ПУЛЬС Хабаровск\"    493       368            120    307.0\n",
       "11     ООО \"ПУЛЬС Ярославль\"   3345      2910           1270    229.0\n",
       "12            ООО \"ФК ПУЛЬС\"  70893     62284          38235    163.0"
      ]
     },
     "execution_count": 189,
     "metadata": {},
     "output_type": "execute_result"
    }
   ],
   "source": [
    "dfo_pz9_rk"
   ]
  },
  {
   "cell_type": "code",
   "execution_count": 190,
   "metadata": {},
   "outputs": [],
   "source": [
    "dfo_pz9_dd = dfo_pz9.groupby(dfo_pz9.created.dt.date) \\\n",
    "                        .agg({'id': 'nunique', \n",
    "                           'order_id': 'nunique', \n",
    "                           'pz_order_guid': 'nunique'})\n",
    "dfo_pz9_dd['percent'] = round(dfo_pz9_dd.order_id / dfo_pz9_dd.pz_order_guid * 100, 0)"
   ]
  },
  {
   "cell_type": "code",
   "execution_count": 191,
   "metadata": {},
   "outputs": [
    {
     "data": {
      "text/html": [
       "<div>\n",
       "<style scoped>\n",
       "    .dataframe tbody tr th:only-of-type {\n",
       "        vertical-align: middle;\n",
       "    }\n",
       "\n",
       "    .dataframe tbody tr th {\n",
       "        vertical-align: top;\n",
       "    }\n",
       "\n",
       "    .dataframe thead th {\n",
       "        text-align: right;\n",
       "    }\n",
       "</style>\n",
       "<table border=\"1\" class=\"dataframe\">\n",
       "  <thead>\n",
       "    <tr style=\"text-align: right;\">\n",
       "      <th></th>\n",
       "      <th>id</th>\n",
       "      <th>order_id</th>\n",
       "      <th>pz_order_guid</th>\n",
       "      <th>percent</th>\n",
       "    </tr>\n",
       "    <tr>\n",
       "      <th>created</th>\n",
       "      <th></th>\n",
       "      <th></th>\n",
       "      <th></th>\n",
       "      <th></th>\n",
       "    </tr>\n",
       "  </thead>\n",
       "  <tbody>\n",
       "    <tr>\n",
       "      <th>2023-11-01</th>\n",
       "      <td>4710</td>\n",
       "      <td>4164</td>\n",
       "      <td>222</td>\n",
       "      <td>1876.0</td>\n",
       "    </tr>\n",
       "    <tr>\n",
       "      <th>2023-11-02</th>\n",
       "      <td>4897</td>\n",
       "      <td>4286</td>\n",
       "      <td>254</td>\n",
       "      <td>1687.0</td>\n",
       "    </tr>\n",
       "    <tr>\n",
       "      <th>2023-11-03</th>\n",
       "      <td>3847</td>\n",
       "      <td>3412</td>\n",
       "      <td>353</td>\n",
       "      <td>967.0</td>\n",
       "    </tr>\n",
       "    <tr>\n",
       "      <th>2023-11-04</th>\n",
       "      <td>3377</td>\n",
       "      <td>2908</td>\n",
       "      <td>351</td>\n",
       "      <td>828.0</td>\n",
       "    </tr>\n",
       "    <tr>\n",
       "      <th>2023-11-05</th>\n",
       "      <td>3839</td>\n",
       "      <td>3363</td>\n",
       "      <td>371</td>\n",
       "      <td>906.0</td>\n",
       "    </tr>\n",
       "    <tr>\n",
       "      <th>2023-11-06</th>\n",
       "      <td>4656</td>\n",
       "      <td>4103</td>\n",
       "      <td>511</td>\n",
       "      <td>803.0</td>\n",
       "    </tr>\n",
       "    <tr>\n",
       "      <th>2023-11-07</th>\n",
       "      <td>5337</td>\n",
       "      <td>4614</td>\n",
       "      <td>989</td>\n",
       "      <td>467.0</td>\n",
       "    </tr>\n",
       "    <tr>\n",
       "      <th>2023-11-08</th>\n",
       "      <td>5415</td>\n",
       "      <td>4748</td>\n",
       "      <td>1866</td>\n",
       "      <td>254.0</td>\n",
       "    </tr>\n",
       "    <tr>\n",
       "      <th>2023-11-09</th>\n",
       "      <td>4925</td>\n",
       "      <td>4333</td>\n",
       "      <td>2930</td>\n",
       "      <td>148.0</td>\n",
       "    </tr>\n",
       "    <tr>\n",
       "      <th>2023-11-10</th>\n",
       "      <td>4570</td>\n",
       "      <td>4015</td>\n",
       "      <td>2629</td>\n",
       "      <td>153.0</td>\n",
       "    </tr>\n",
       "    <tr>\n",
       "      <th>2023-11-11</th>\n",
       "      <td>3455</td>\n",
       "      <td>3104</td>\n",
       "      <td>2287</td>\n",
       "      <td>136.0</td>\n",
       "    </tr>\n",
       "    <tr>\n",
       "      <th>2023-11-12</th>\n",
       "      <td>4437</td>\n",
       "      <td>3957</td>\n",
       "      <td>2608</td>\n",
       "      <td>152.0</td>\n",
       "    </tr>\n",
       "    <tr>\n",
       "      <th>2023-11-13</th>\n",
       "      <td>5144</td>\n",
       "      <td>4500</td>\n",
       "      <td>2887</td>\n",
       "      <td>156.0</td>\n",
       "    </tr>\n",
       "    <tr>\n",
       "      <th>2023-11-14</th>\n",
       "      <td>5163</td>\n",
       "      <td>4550</td>\n",
       "      <td>2900</td>\n",
       "      <td>157.0</td>\n",
       "    </tr>\n",
       "    <tr>\n",
       "      <th>2023-11-15</th>\n",
       "      <td>4934</td>\n",
       "      <td>4361</td>\n",
       "      <td>2790</td>\n",
       "      <td>156.0</td>\n",
       "    </tr>\n",
       "    <tr>\n",
       "      <th>2023-11-16</th>\n",
       "      <td>4919</td>\n",
       "      <td>4296</td>\n",
       "      <td>2823</td>\n",
       "      <td>152.0</td>\n",
       "    </tr>\n",
       "    <tr>\n",
       "      <th>2023-11-17</th>\n",
       "      <td>4377</td>\n",
       "      <td>3724</td>\n",
       "      <td>2402</td>\n",
       "      <td>155.0</td>\n",
       "    </tr>\n",
       "    <tr>\n",
       "      <th>2023-11-18</th>\n",
       "      <td>3427</td>\n",
       "      <td>2935</td>\n",
       "      <td>1852</td>\n",
       "      <td>158.0</td>\n",
       "    </tr>\n",
       "    <tr>\n",
       "      <th>2023-11-19</th>\n",
       "      <td>4390</td>\n",
       "      <td>3807</td>\n",
       "      <td>2297</td>\n",
       "      <td>166.0</td>\n",
       "    </tr>\n",
       "    <tr>\n",
       "      <th>2023-11-20</th>\n",
       "      <td>5119</td>\n",
       "      <td>4440</td>\n",
       "      <td>2813</td>\n",
       "      <td>158.0</td>\n",
       "    </tr>\n",
       "    <tr>\n",
       "      <th>2023-11-21</th>\n",
       "      <td>5225</td>\n",
       "      <td>4470</td>\n",
       "      <td>2827</td>\n",
       "      <td>158.0</td>\n",
       "    </tr>\n",
       "    <tr>\n",
       "      <th>2023-11-22</th>\n",
       "      <td>4988</td>\n",
       "      <td>4251</td>\n",
       "      <td>2547</td>\n",
       "      <td>167.0</td>\n",
       "    </tr>\n",
       "    <tr>\n",
       "      <th>2023-11-23</th>\n",
       "      <td>4397</td>\n",
       "      <td>3697</td>\n",
       "      <td>2195</td>\n",
       "      <td>168.0</td>\n",
       "    </tr>\n",
       "    <tr>\n",
       "      <th>2023-11-24</th>\n",
       "      <td>3914</td>\n",
       "      <td>3243</td>\n",
       "      <td>1985</td>\n",
       "      <td>163.0</td>\n",
       "    </tr>\n",
       "    <tr>\n",
       "      <th>2023-11-25</th>\n",
       "      <td>2839</td>\n",
       "      <td>2361</td>\n",
       "      <td>1576</td>\n",
       "      <td>150.0</td>\n",
       "    </tr>\n",
       "    <tr>\n",
       "      <th>2023-11-26</th>\n",
       "      <td>3525</td>\n",
       "      <td>2989</td>\n",
       "      <td>1783</td>\n",
       "      <td>168.0</td>\n",
       "    </tr>\n",
       "    <tr>\n",
       "      <th>2023-11-27</th>\n",
       "      <td>4482</td>\n",
       "      <td>3747</td>\n",
       "      <td>2302</td>\n",
       "      <td>163.0</td>\n",
       "    </tr>\n",
       "    <tr>\n",
       "      <th>2023-11-28</th>\n",
       "      <td>4913</td>\n",
       "      <td>4049</td>\n",
       "      <td>2273</td>\n",
       "      <td>178.0</td>\n",
       "    </tr>\n",
       "    <tr>\n",
       "      <th>2023-11-29</th>\n",
       "      <td>4248</td>\n",
       "      <td>3508</td>\n",
       "      <td>2024</td>\n",
       "      <td>173.0</td>\n",
       "    </tr>\n",
       "    <tr>\n",
       "      <th>2023-11-30</th>\n",
       "      <td>4675</td>\n",
       "      <td>3635</td>\n",
       "      <td>1639</td>\n",
       "      <td>222.0</td>\n",
       "    </tr>\n",
       "  </tbody>\n",
       "</table>\n",
       "</div>"
      ],
      "text/plain": [
       "              id  order_id  pz_order_guid  percent\n",
       "created                                           \n",
       "2023-11-01  4710      4164            222   1876.0\n",
       "2023-11-02  4897      4286            254   1687.0\n",
       "2023-11-03  3847      3412            353    967.0\n",
       "2023-11-04  3377      2908            351    828.0\n",
       "2023-11-05  3839      3363            371    906.0\n",
       "2023-11-06  4656      4103            511    803.0\n",
       "2023-11-07  5337      4614            989    467.0\n",
       "2023-11-08  5415      4748           1866    254.0\n",
       "2023-11-09  4925      4333           2930    148.0\n",
       "2023-11-10  4570      4015           2629    153.0\n",
       "2023-11-11  3455      3104           2287    136.0\n",
       "2023-11-12  4437      3957           2608    152.0\n",
       "2023-11-13  5144      4500           2887    156.0\n",
       "2023-11-14  5163      4550           2900    157.0\n",
       "2023-11-15  4934      4361           2790    156.0\n",
       "2023-11-16  4919      4296           2823    152.0\n",
       "2023-11-17  4377      3724           2402    155.0\n",
       "2023-11-18  3427      2935           1852    158.0\n",
       "2023-11-19  4390      3807           2297    166.0\n",
       "2023-11-20  5119      4440           2813    158.0\n",
       "2023-11-21  5225      4470           2827    158.0\n",
       "2023-11-22  4988      4251           2547    167.0\n",
       "2023-11-23  4397      3697           2195    168.0\n",
       "2023-11-24  3914      3243           1985    163.0\n",
       "2023-11-25  2839      2361           1576    150.0\n",
       "2023-11-26  3525      2989           1783    168.0\n",
       "2023-11-27  4482      3747           2302    163.0\n",
       "2023-11-28  4913      4049           2273    178.0\n",
       "2023-11-29  4248      3508           2024    173.0\n",
       "2023-11-30  4675      3635           1639    222.0"
      ]
     },
     "execution_count": 191,
     "metadata": {},
     "output_type": "execute_result"
    }
   ],
   "source": [
    "dfo_pz9_dd"
   ]
  },
  {
   "cell_type": "code",
   "execution_count": null,
   "metadata": {},
   "outputs": [],
   "source": []
  },
  {
   "cell_type": "code",
   "execution_count": null,
   "metadata": {},
   "outputs": [],
   "source": []
  },
  {
   "cell_type": "code",
   "execution_count": null,
   "metadata": {},
   "outputs": [],
   "source": []
  },
  {
   "cell_type": "code",
   "execution_count": null,
   "metadata": {},
   "outputs": [],
   "source": []
  },
  {
   "cell_type": "code",
   "execution_count": null,
   "metadata": {},
   "outputs": [],
   "source": []
  },
  {
   "cell_type": "code",
   "execution_count": null,
   "metadata": {},
   "outputs": [],
   "source": []
  },
  {
   "cell_type": "markdown",
   "metadata": {},
   "source": [
    "## Дальше можно не смотреть"
   ]
  },
  {
   "cell_type": "code",
   "execution_count": null,
   "metadata": {},
   "outputs": [],
   "source": []
  },
  {
   "cell_type": "code",
   "execution_count": null,
   "metadata": {},
   "outputs": [],
   "source": []
  },
  {
   "cell_type": "code",
   "execution_count": null,
   "metadata": {},
   "outputs": [],
   "source": []
  },
  {
   "cell_type": "code",
   "execution_count": null,
   "metadata": {},
   "outputs": [],
   "source": [
    "# unique_order_ids_df1 = erka['order_id'].unique()\n",
    "# # Проверяем, содержатся ли эти уникальные значения во втором DataFrame\n",
    "# mask = ~erka['order_id'].isin(df['marketplace_number'])\n",
    "\n",
    "# # Используем маску для вывода уникальных order_id из df1, которых нет в df2\n",
    "# missing_order_ids = erka.loc[mask, 'order_id'].unique()\n",
    "# missing_order_ids"
   ]
  },
  {
   "cell_type": "code",
   "execution_count": null,
   "metadata": {},
   "outputs": [],
   "source": []
  },
  {
   "cell_type": "code",
   "execution_count": null,
   "metadata": {},
   "outputs": [],
   "source": []
  },
  {
   "cell_type": "code",
   "execution_count": null,
   "metadata": {},
   "outputs": [],
   "source": []
  },
  {
   "cell_type": "code",
   "execution_count": null,
   "metadata": {},
   "outputs": [],
   "source": []
  },
  {
   "cell_type": "code",
   "execution_count": null,
   "metadata": {},
   "outputs": [],
   "source": []
  },
  {
   "cell_type": "code",
   "execution_count": null,
   "metadata": {},
   "outputs": [],
   "source": []
  },
  {
   "cell_type": "code",
   "execution_count": null,
   "metadata": {},
   "outputs": [],
   "source": []
  },
  {
   "cell_type": "code",
   "execution_count": null,
   "metadata": {},
   "outputs": [],
   "source": []
  },
  {
   "cell_type": "code",
   "execution_count": null,
   "metadata": {},
   "outputs": [],
   "source": []
  },
  {
   "cell_type": "code",
   "execution_count": null,
   "metadata": {},
   "outputs": [],
   "source": []
  },
  {
   "cell_type": "code",
   "execution_count": null,
   "metadata": {},
   "outputs": [],
   "source": []
  },
  {
   "cell_type": "code",
   "execution_count": null,
   "metadata": {},
   "outputs": [],
   "source": []
  },
  {
   "cell_type": "code",
   "execution_count": null,
   "metadata": {},
   "outputs": [],
   "source": [
    "dfo = pd.read_csv('https://redash.puls.ru/api/queries/8527/results.csv?api_key=04tKaxPAJfcexTsRwuWOfIFH7Xc1e8zAxoemdYja')\n",
    "dfo.shape"
   ]
  },
  {
   "cell_type": "code",
   "execution_count": null,
   "metadata": {},
   "outputs": [],
   "source": [
    "dfmp = dfmpp.merge(dfo, how='inner', left_on='order_id', right_on='id') \\\n",
    "        .loc[:, ['order_id', 'marketplace', 'rk', 'status', 'status_time']]  \\\n",
    "        .sort_values(by=['order_id', 'status_time'])"
   ]
  },
  {
   "cell_type": "code",
   "execution_count": null,
   "metadata": {},
   "outputs": [],
   "source": [
    "dfmp"
   ]
  },
  {
   "cell_type": "code",
   "execution_count": null,
   "metadata": {},
   "outputs": [],
   "source": [
    "# Создание столбца filtered_status (4 минут)\n",
    "dfmp['filtered_status'] = dfmp.groupby('order_id')['status'].transform(lambda x: x.ne(x.shift()))"
   ]
  },
  {
   "cell_type": "code",
   "execution_count": null,
   "metadata": {},
   "outputs": [],
   "source": [
    "dfmp = dfmp[dfmp['filtered_status'] == True]"
   ]
  },
  {
   "cell_type": "code",
   "execution_count": null,
   "metadata": {},
   "outputs": [],
   "source": [
    "#dfmp['filtered_status'] = dfmp['status'].where(dfmp['filtered_status'] > 0, None)"
   ]
  },
  {
   "cell_type": "code",
   "execution_count": null,
   "metadata": {},
   "outputs": [],
   "source": [
    "dfmp.status = dfmp.status.astype('str')"
   ]
  },
  {
   "cell_type": "code",
   "execution_count": null,
   "metadata": {},
   "outputs": [],
   "source": [
    "# Группировка и агрегирование \n",
    "grouped_dfmp = dfmp.groupby(['order_id', 'marketplace', 'rk'], as_index=False).agg({'status': lambda x: ','.join(x)})"
   ]
  },
  {
   "cell_type": "code",
   "execution_count": null,
   "metadata": {},
   "outputs": [],
   "source": [
    "#grouped_dfmp"
   ]
  },
  {
   "cell_type": "code",
   "execution_count": null,
   "metadata": {},
   "outputs": [],
   "source": [
    "#grouped_dfmp[grouped_dfmp.status.str.contains(',81')]"
   ]
  },
  {
   "cell_type": "code",
   "execution_count": null,
   "metadata": {},
   "outputs": [],
   "source": [
    "grouped_dfmp2 = grouped_dfmp.groupby(['status', 'marketplace', 'rk']).size().reset_index(name='num')"
   ]
  },
  {
   "cell_type": "code",
   "execution_count": null,
   "metadata": {},
   "outputs": [],
   "source": [
    "grouped_dfmp2.num.sum()"
   ]
  },
  {
   "cell_type": "code",
   "execution_count": null,
   "metadata": {},
   "outputs": [],
   "source": [
    "grouped_dfmp2"
   ]
  },
  {
   "cell_type": "code",
   "execution_count": null,
   "metadata": {},
   "outputs": [],
   "source": []
  },
  {
   "cell_type": "code",
   "execution_count": null,
   "metadata": {},
   "outputs": [],
   "source": []
  },
  {
   "cell_type": "code",
   "execution_count": null,
   "metadata": {},
   "outputs": [],
   "source": []
  },
  {
   "cell_type": "code",
   "execution_count": null,
   "metadata": {},
   "outputs": [],
   "source": []
  },
  {
   "cell_type": "code",
   "execution_count": null,
   "metadata": {},
   "outputs": [],
   "source": [
    "# dfm = grouped_df.groupby('status').size().reset_index(name='num')\n",
    "# dfm.sort_values('num', ascending=False).head(300)"
   ]
  },
  {
   "cell_type": "code",
   "execution_count": null,
   "metadata": {},
   "outputs": [],
   "source": [
    "# dfm.columns = df.columns"
   ]
  },
  {
   "cell_type": "code",
   "execution_count": null,
   "metadata": {},
   "outputs": [],
   "source": [
    "# # Преобразование строки статусов в список целых чисел\n",
    "# dfm['status_sequence'] = dfm['status_sequence'].apply(lambda x: [int(s) for s in x.split(',')])\n",
    "\n",
    "# # Создание списков для узлов и связей\n",
    "# sources = []\n",
    "# targets = []\n",
    "# values = []\n",
    "\n",
    "# # Наполнение списков значениями\n",
    "# for _, row in dfm.iterrows():\n",
    "#     sequence = row['status_sequence']\n",
    "#     for i in range(len(sequence) - 1):\n",
    "#         sources.append(sequence[i])\n",
    "#         targets.append(sequence[i + 1])\n",
    "#         values.append(row['num'])  # Вес связи равен 'num'       \n",
    "    "
   ]
  },
  {
   "cell_type": "code",
   "execution_count": null,
   "metadata": {},
   "outputs": [],
   "source": [
    "# # Создание и отображение диаграммы Санки\n",
    "# fig = go.Figure(data=[go.Sankey(  arrangement = \"snap\",\n",
    "#     node=dict(\n",
    "#         pad=15,\n",
    "#         thickness=20,\n",
    "#         line=dict(color=\"black\", width=0.5),\n",
    "#         label=[str(i) for i in sorted(set(sources + targets))],  # Уникальные метки для узлов\n",
    "#     ),\n",
    "#     link=dict(  arrowlen=10,\n",
    "#                 source=sources,  # Индексы источников\n",
    "#                 target=targets,  # Индексы целей\n",
    "#                 value=values     # Вес связей\n",
    "#             )\n",
    "# )])\n",
    "\n",
    "# fig.update_layout(title_text=\"Sankey Diagram\", font_size=10)\n",
    "# fig.show()"
   ]
  },
  {
   "cell_type": "code",
   "execution_count": null,
   "metadata": {},
   "outputs": [],
   "source": []
  },
  {
   "cell_type": "code",
   "execution_count": null,
   "metadata": {},
   "outputs": [],
   "source": []
  },
  {
   "cell_type": "code",
   "execution_count": null,
   "metadata": {},
   "outputs": [],
   "source": []
  },
  {
   "cell_type": "code",
   "execution_count": null,
   "metadata": {},
   "outputs": [],
   "source": []
  },
  {
   "cell_type": "code",
   "execution_count": null,
   "metadata": {},
   "outputs": [],
   "source": []
  },
  {
   "cell_type": "code",
   "execution_count": null,
   "metadata": {},
   "outputs": [],
   "source": []
  },
  {
   "cell_type": "code",
   "execution_count": null,
   "metadata": {},
   "outputs": [],
   "source": []
  },
  {
   "cell_type": "code",
   "execution_count": null,
   "metadata": {},
   "outputs": [],
   "source": []
  },
  {
   "cell_type": "code",
   "execution_count": null,
   "metadata": {},
   "outputs": [],
   "source": []
  },
  {
   "cell_type": "code",
   "execution_count": null,
   "metadata": {},
   "outputs": [],
   "source": []
  },
  {
   "cell_type": "code",
   "execution_count": null,
   "metadata": {},
   "outputs": [],
   "source": []
  },
  {
   "cell_type": "code",
   "execution_count": null,
   "metadata": {},
   "outputs": [],
   "source": []
  },
  {
   "cell_type": "code",
   "execution_count": null,
   "metadata": {},
   "outputs": [],
   "source": []
  }
 ],
 "metadata": {
  "kernelspec": {
   "display_name": "Python 3 (ipykernel)",
   "language": "python",
   "name": "python3"
  },
  "language_info": {
   "codemirror_mode": {
    "name": "ipython",
    "version": 3
   },
   "file_extension": ".py",
   "mimetype": "text/x-python",
   "name": "python",
   "nbconvert_exporter": "python",
   "pygments_lexer": "ipython3",
   "version": "3.8.16"
  },
  "toc": {
   "base_numbering": 1,
   "nav_menu": {},
   "number_sections": true,
   "sideBar": true,
   "skip_h1_title": false,
   "title_cell": "Table of Contents",
   "title_sidebar": "Contents",
   "toc_cell": false,
   "toc_position": {
    "height": "calc(100% - 180px)",
    "left": "10px",
    "top": "150px",
    "width": "426.667px"
   },
   "toc_section_display": true,
   "toc_window_display": true
  }
 },
 "nbformat": 4,
 "nbformat_minor": 4
}

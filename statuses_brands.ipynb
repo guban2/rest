{
 "cells": [
  {
   "cell_type": "code",
   "execution_count": 98,
   "metadata": {
    "ExecuteTime": {
     "end_time": "2024-01-11T12:25:38.994986Z",
     "start_time": "2024-01-11T12:25:38.979186Z"
    }
   },
   "outputs": [],
   "source": [
    "import pandas as pd\n",
    "import numpy as np\n",
    "import seaborn as sns\n",
    "import matplotlib.pyplot as plt\n",
    "import os\n",
    "from pathlib import Path\n",
    "import requests\n",
    "from bs4 import BeautifulSoup\n",
    "import csv\n",
    "from tqdm import tqdm\n",
    "from time import sleep\n",
    "import random\n",
    "import pandas as pd\n",
    "import plotly.graph_objects as go\n",
    "import json\n",
    "from itertools import tee, islice\n",
    "#import dash\n",
    "from dash import Dash, dcc, html, Input, Output, dash_table\n",
    "# import dash_core_components as dcc \n",
    "# import dash_html_components as html"
   ]
  },
  {
   "cell_type": "code",
   "execution_count": 210,
   "metadata": {
    "ExecuteTime": {
     "end_time": "2024-01-11T12:46:30.297571Z",
     "start_time": "2024-01-11T12:46:30.282640Z"
    }
   },
   "outputs": [],
   "source": [
    "pd.set_option('display.max_rows', 50)  \n",
    "#печать всех строх, аналогично max_columns\n",
    "\n",
    "# You can also reset an option back to its default value like this:\n",
    "# pd.reset_option('display.max_rows')\n",
    "# And reset all of them back:\n",
    "# pd.reset_option('all')"
   ]
  },
  {
   "cell_type": "code",
   "execution_count": null,
   "metadata": {},
   "outputs": [],
   "source": []
  },
  {
   "cell_type": "code",
   "execution_count": 100,
   "metadata": {
    "ExecuteTime": {
     "end_time": "2024-01-11T12:25:39.694545Z",
     "start_time": "2024-01-11T12:25:39.681505Z"
    }
   },
   "outputs": [],
   "source": [
    "# вывести долю еще и от общего количества"
   ]
  },
  {
   "cell_type": "code",
   "execution_count": null,
   "metadata": {},
   "outputs": [],
   "source": []
  },
  {
   "cell_type": "markdown",
   "metadata": {},
   "source": [
    "## Cборка"
   ]
  },
  {
   "cell_type": "code",
   "execution_count": 101,
   "metadata": {
    "ExecuteTime": {
     "end_time": "2024-01-11T12:25:40.288873Z",
     "start_time": "2024-01-11T12:25:40.273360Z"
    }
   },
   "outputs": [],
   "source": [
    "folder_path = 'ooh_data'"
   ]
  },
  {
   "cell_type": "code",
   "execution_count": 102,
   "metadata": {
    "ExecuteTime": {
     "end_time": "2024-01-11T12:25:40.461581Z",
     "start_time": "2024-01-11T12:25:40.442635Z"
    }
   },
   "outputs": [],
   "source": [
    "csv_files = [f for f in os.listdir(folder_path) if f.endswith('.csv')]"
   ]
  },
  {
   "cell_type": "code",
   "execution_count": 103,
   "metadata": {
    "ExecuteTime": {
     "end_time": "2024-01-11T12:25:51.644298Z",
     "start_time": "2024-01-11T12:25:40.625670Z"
    }
   },
   "outputs": [],
   "source": [
    "dataframes = [pd.read_csv(os.path.join(folder_path, file)) for file in csv_files]"
   ]
  },
  {
   "cell_type": "code",
   "execution_count": 104,
   "metadata": {
    "ExecuteTime": {
     "end_time": "2024-01-11T12:25:51.849430Z",
     "start_time": "2024-01-11T12:25:51.647291Z"
    }
   },
   "outputs": [
    {
     "data": {
      "text/plain": [
       "(7531594, 4)"
      ]
     },
     "execution_count": 104,
     "metadata": {},
     "output_type": "execute_result"
    }
   ],
   "source": [
    "dfs = pd.concat(dataframes, ignore_index=True)\n",
    "dfs.shape"
   ]
  },
  {
   "cell_type": "code",
   "execution_count": 105,
   "metadata": {
    "ExecuteTime": {
     "end_time": "2024-01-11T12:25:51.865387Z",
     "start_time": "2024-01-11T12:25:51.852422Z"
    }
   },
   "outputs": [],
   "source": [
    "dfs.columns = ['order_id', 'status', 'source', 'status_time']"
   ]
  },
  {
   "cell_type": "code",
   "execution_count": 106,
   "metadata": {
    "ExecuteTime": {
     "end_time": "2024-01-11T12:26:06.588723Z",
     "start_time": "2024-01-11T12:25:51.869379Z"
    }
   },
   "outputs": [],
   "source": [
    "dfs['status_time'] = pd.to_datetime(dfs['status_time'])"
   ]
  },
  {
   "cell_type": "code",
   "execution_count": 107,
   "metadata": {
    "ExecuteTime": {
     "end_time": "2024-01-11T12:26:06.698168Z",
     "start_time": "2024-01-11T12:26:06.591738Z"
    }
   },
   "outputs": [],
   "source": [
    "dfs.status_time = dfs.status_time.dt.tz_localize(None)"
   ]
  },
  {
   "cell_type": "code",
   "execution_count": 108,
   "metadata": {
    "ExecuteTime": {
     "end_time": "2024-01-11T12:26:06.872694Z",
     "start_time": "2024-01-11T12:26:06.701158Z"
    }
   },
   "outputs": [],
   "source": [
    "# Прибавляем 3 часа\n",
    "dfs.status_time += pd.Timedelta(hours=3)"
   ]
  },
  {
   "cell_type": "code",
   "execution_count": 109,
   "metadata": {
    "ExecuteTime": {
     "end_time": "2024-01-11T12:26:06.888734Z",
     "start_time": "2024-01-11T12:26:06.875691Z"
    }
   },
   "outputs": [
    {
     "data": {
      "text/plain": [
       "(7531594, 4)"
      ]
     },
     "execution_count": 109,
     "metadata": {},
     "output_type": "execute_result"
    }
   ],
   "source": [
    "dfs.shape"
   ]
  },
  {
   "cell_type": "code",
   "execution_count": 110,
   "metadata": {
    "ExecuteTime": {
     "end_time": "2024-01-11T12:26:11.201940Z",
     "start_time": "2024-01-11T12:26:06.891244Z"
    }
   },
   "outputs": [
    {
     "data": {
      "text/plain": [
       "(7531594, 4)"
      ]
     },
     "execution_count": 110,
     "metadata": {},
     "output_type": "execute_result"
    }
   ],
   "source": [
    "dfs.drop_duplicates().shape"
   ]
  },
  {
   "cell_type": "code",
   "execution_count": 111,
   "metadata": {
    "ExecuteTime": {
     "end_time": "2024-01-11T12:26:11.217163Z",
     "start_time": "2024-01-11T12:26:11.203935Z"
    }
   },
   "outputs": [],
   "source": [
    "#dfs.groupby(dfs['status_time'].dt.date).count()"
   ]
  },
  {
   "cell_type": "code",
   "execution_count": null,
   "metadata": {},
   "outputs": [],
   "source": []
  },
  {
   "cell_type": "code",
   "execution_count": 112,
   "metadata": {
    "ExecuteTime": {
     "end_time": "2024-01-11T12:26:22.829736Z",
     "start_time": "2024-01-11T12:26:11.222149Z"
    }
   },
   "outputs": [],
   "source": [
    "dfsp = pd.read_csv('https://redash.puls.ru/api/queries/8589/results.csv?api_key=yBnPjPTW9feg3qVwlkvDJYL8EpT0uZfzwGT5Kv7o')"
   ]
  },
  {
   "cell_type": "code",
   "execution_count": 113,
   "metadata": {
    "ExecuteTime": {
     "end_time": "2024-01-11T12:26:23.014306Z",
     "start_time": "2024-01-11T12:26:22.831788Z"
    }
   },
   "outputs": [],
   "source": [
    "dfsp['status_time'] = pd.to_datetime(dfsp['status_time'])\n",
    "# Прибавляем 3 часа\n",
    "dfsp.status_time += pd.Timedelta(hours=3)"
   ]
  },
  {
   "cell_type": "code",
   "execution_count": 114,
   "metadata": {
    "ExecuteTime": {
     "end_time": "2024-01-11T12:26:23.188292Z",
     "start_time": "2024-01-11T12:26:23.017305Z"
    }
   },
   "outputs": [],
   "source": [
    "dfs = pd.concat([dfs, dfsp])"
   ]
  },
  {
   "cell_type": "code",
   "execution_count": 115,
   "metadata": {
    "ExecuteTime": {
     "end_time": "2024-01-11T12:26:23.220222Z",
     "start_time": "2024-01-11T12:26:23.191281Z"
    }
   },
   "outputs": [
    {
     "data": {
      "text/html": [
       "<div>\n",
       "<style scoped>\n",
       "    .dataframe tbody tr th:only-of-type {\n",
       "        vertical-align: middle;\n",
       "    }\n",
       "\n",
       "    .dataframe tbody tr th {\n",
       "        vertical-align: top;\n",
       "    }\n",
       "\n",
       "    .dataframe thead th {\n",
       "        text-align: right;\n",
       "    }\n",
       "</style>\n",
       "<table border=\"1\" class=\"dataframe\">\n",
       "  <thead>\n",
       "    <tr style=\"text-align: right;\">\n",
       "      <th></th>\n",
       "      <th>order_id</th>\n",
       "      <th>status</th>\n",
       "      <th>source</th>\n",
       "      <th>status_time</th>\n",
       "    </tr>\n",
       "  </thead>\n",
       "  <tbody>\n",
       "    <tr>\n",
       "      <th>0</th>\n",
       "      <td>6331113</td>\n",
       "      <td>4</td>\n",
       "      <td>NaN</td>\n",
       "      <td>2023-10-31 11:27:34.989</td>\n",
       "    </tr>\n",
       "    <tr>\n",
       "      <th>1</th>\n",
       "      <td>6228721</td>\n",
       "      <td>7</td>\n",
       "      <td>NaN</td>\n",
       "      <td>2023-10-31 11:27:35.419</td>\n",
       "    </tr>\n",
       "    <tr>\n",
       "      <th>2</th>\n",
       "      <td>6163311</td>\n",
       "      <td>7</td>\n",
       "      <td>NaN</td>\n",
       "      <td>2023-10-31 11:27:35.937</td>\n",
       "    </tr>\n",
       "    <tr>\n",
       "      <th>3</th>\n",
       "      <td>6226536</td>\n",
       "      <td>7</td>\n",
       "      <td>NaN</td>\n",
       "      <td>2023-10-31 11:27:36.050</td>\n",
       "    </tr>\n",
       "    <tr>\n",
       "      <th>4</th>\n",
       "      <td>6195567</td>\n",
       "      <td>7</td>\n",
       "      <td>NaN</td>\n",
       "      <td>2023-10-31 11:27:36.509</td>\n",
       "    </tr>\n",
       "    <tr>\n",
       "      <th>...</th>\n",
       "      <td>...</td>\n",
       "      <td>...</td>\n",
       "      <td>...</td>\n",
       "      <td>...</td>\n",
       "    </tr>\n",
       "    <tr>\n",
       "      <th>179301</th>\n",
       "      <td>1587399</td>\n",
       "      <td>4</td>\n",
       "      <td>NaN</td>\n",
       "      <td>2023-11-28 20:44:30.000</td>\n",
       "    </tr>\n",
       "    <tr>\n",
       "      <th>179302</th>\n",
       "      <td>1587465</td>\n",
       "      <td>1</td>\n",
       "      <td>NaN</td>\n",
       "      <td>2023-11-28 20:47:53.000</td>\n",
       "    </tr>\n",
       "    <tr>\n",
       "      <th>179303</th>\n",
       "      <td>1586530</td>\n",
       "      <td>5</td>\n",
       "      <td>NaN</td>\n",
       "      <td>2023-11-28 20:50:07.000</td>\n",
       "    </tr>\n",
       "    <tr>\n",
       "      <th>179304</th>\n",
       "      <td>1587473</td>\n",
       "      <td>2</td>\n",
       "      <td>NaN</td>\n",
       "      <td>2023-11-28 20:56:02.000</td>\n",
       "    </tr>\n",
       "    <tr>\n",
       "      <th>179305</th>\n",
       "      <td>1587472</td>\n",
       "      <td>2</td>\n",
       "      <td>NaN</td>\n",
       "      <td>2023-11-28 20:56:02.000</td>\n",
       "    </tr>\n",
       "  </tbody>\n",
       "</table>\n",
       "<p>7710900 rows × 4 columns</p>\n",
       "</div>"
      ],
      "text/plain": [
       "        order_id  status source             status_time\n",
       "0        6331113       4    NaN 2023-10-31 11:27:34.989\n",
       "1        6228721       7    NaN 2023-10-31 11:27:35.419\n",
       "2        6163311       7    NaN 2023-10-31 11:27:35.937\n",
       "3        6226536       7    NaN 2023-10-31 11:27:36.050\n",
       "4        6195567       7    NaN 2023-10-31 11:27:36.509\n",
       "...          ...     ...    ...                     ...\n",
       "179301   1587399       4    NaN 2023-11-28 20:44:30.000\n",
       "179302   1587465       1    NaN 2023-11-28 20:47:53.000\n",
       "179303   1586530       5    NaN 2023-11-28 20:50:07.000\n",
       "179304   1587473       2    NaN 2023-11-28 20:56:02.000\n",
       "179305   1587472       2    NaN 2023-11-28 20:56:02.000\n",
       "\n",
       "[7710900 rows x 4 columns]"
      ]
     },
     "execution_count": 115,
     "metadata": {},
     "output_type": "execute_result"
    }
   ],
   "source": [
    "dfs"
   ]
  },
  {
   "cell_type": "code",
   "execution_count": null,
   "metadata": {},
   "outputs": [],
   "source": []
  },
  {
   "cell_type": "code",
   "execution_count": null,
   "metadata": {},
   "outputs": [],
   "source": []
  },
  {
   "cell_type": "code",
   "execution_count": 116,
   "metadata": {
    "ExecuteTime": {
     "end_time": "2024-01-11T12:30:05.379195Z",
     "start_time": "2024-01-11T12:28:11.954164Z"
    }
   },
   "outputs": [],
   "source": [
    "# номера заказов из еком\n",
    "dfo = pd.read_csv('https://redash.puls.ru/api/queries/8525/results.csv?api_key=cLN1dxPKexPyj7an8hXyaOZHY3zv2l4uwTPPZS42')"
   ]
  },
  {
   "cell_type": "code",
   "execution_count": 117,
   "metadata": {
    "ExecuteTime": {
     "end_time": "2024-01-11T12:30:16.217011Z",
     "start_time": "2024-01-11T12:30:10.628088Z"
    }
   },
   "outputs": [],
   "source": [
    "dfop = pd.read_csv('https://redash.puls.ru/api/queries/8537/results.csv?api_key=QgDv1XehCGYgkDIWmiyP1J6sPSUsXVw8WwYjoRGy')"
   ]
  },
  {
   "cell_type": "code",
   "execution_count": 118,
   "metadata": {
    "ExecuteTime": {
     "end_time": "2024-01-11T12:30:16.406672Z",
     "start_time": "2024-01-11T12:30:16.220003Z"
    }
   },
   "outputs": [],
   "source": [
    "dfo = pd.concat([dfo, dfop])"
   ]
  },
  {
   "cell_type": "code",
   "execution_count": 119,
   "metadata": {
    "ExecuteTime": {
     "end_time": "2024-01-11T12:30:17.054877Z",
     "start_time": "2024-01-11T12:30:16.410632Z"
    }
   },
   "outputs": [],
   "source": [
    "dfo['created'] = pd.to_datetime(dfo['created'])"
   ]
  },
  {
   "cell_type": "code",
   "execution_count": 120,
   "metadata": {
    "ExecuteTime": {
     "end_time": "2024-01-11T12:30:17.340081Z",
     "start_time": "2024-01-11T12:30:17.057838Z"
    }
   },
   "outputs": [],
   "source": [
    "dfo = dfo[dfo['created'].dt.month == 11]"
   ]
  },
  {
   "cell_type": "code",
   "execution_count": null,
   "metadata": {},
   "outputs": [],
   "source": []
  },
  {
   "cell_type": "code",
   "execution_count": 23,
   "metadata": {
    "ExecuteTime": {
     "end_time": "2023-12-27T06:31:21.090440Z",
     "start_time": "2023-12-27T06:31:21.077902Z"
    }
   },
   "outputs": [],
   "source": [
    "#dfo[(dfo.inn.isna()) & (dfo.brand == 'Планета Здоровья' )]"
   ]
  },
  {
   "cell_type": "code",
   "execution_count": 121,
   "metadata": {
    "ExecuteTime": {
     "end_time": "2024-01-11T12:30:21.490550Z",
     "start_time": "2024-01-11T12:30:21.385898Z"
    }
   },
   "outputs": [],
   "source": [
    "dfo.marketplace_number = dfo.marketplace_number.astype('str')"
   ]
  },
  {
   "cell_type": "code",
   "execution_count": 122,
   "metadata": {
    "ExecuteTime": {
     "end_time": "2024-01-11T12:30:22.441125Z",
     "start_time": "2024-01-11T12:30:21.809553Z"
    }
   },
   "outputs": [
    {
     "name": "stdout",
     "output_type": "stream",
     "text": [
      "<class 'pandas.core.frame.DataFrame'>\n",
      "Int64Index: 596950 entries, 0 to 20614\n",
      "Data columns (total 9 columns):\n",
      " #   Column              Non-Null Count   Dtype         \n",
      "---  ------              --------------   -----         \n",
      " 0   id                  596950 non-null  int64         \n",
      " 1   guid                596611 non-null  object        \n",
      " 2   marketplace_number  596950 non-null  object        \n",
      " 3   mm                  596950 non-null  object        \n",
      " 4   rk                  596950 non-null  object        \n",
      " 5   brand               551495 non-null  object        \n",
      " 6   name                596950 non-null  object        \n",
      " 7   inn                 554176 non-null  float64       \n",
      " 8   created             596950 non-null  datetime64[ns]\n",
      "dtypes: datetime64[ns](1), float64(1), int64(1), object(6)\n",
      "memory usage: 45.5+ MB\n"
     ]
    }
   ],
   "source": [
    "dfo.info()"
   ]
  },
  {
   "cell_type": "code",
   "execution_count": 123,
   "metadata": {
    "ExecuteTime": {
     "end_time": "2024-01-11T12:30:25.515471Z",
     "start_time": "2024-01-11T12:30:24.939481Z"
    }
   },
   "outputs": [],
   "source": [
    "#dfo['inn'] = dfo['inn'].fillna(0).astype(int)\n",
    "dfo['innst'] = dfo['inn'].astype(str)"
   ]
  },
  {
   "cell_type": "code",
   "execution_count": null,
   "metadata": {},
   "outputs": [],
   "source": []
  },
  {
   "cell_type": "code",
   "execution_count": 125,
   "metadata": {
    "ExecuteTime": {
     "end_time": "2024-01-11T12:30:45.720352Z",
     "start_time": "2024-01-11T12:30:45.665623Z"
    }
   },
   "outputs": [],
   "source": [
    "inn_erka = pd.read_excel('inn_erka.xlsx')"
   ]
  },
  {
   "cell_type": "code",
   "execution_count": 126,
   "metadata": {
    "ExecuteTime": {
     "end_time": "2024-01-11T12:30:46.124824Z",
     "start_time": "2024-01-11T12:30:46.088951Z"
    }
   },
   "outputs": [],
   "source": [
    "inn_pz = pd.read_excel('inn_pz.xlsx')"
   ]
  },
  {
   "cell_type": "code",
   "execution_count": 127,
   "metadata": {
    "ExecuteTime": {
     "end_time": "2024-01-11T12:30:47.777950Z",
     "start_time": "2024-01-11T12:30:47.600813Z"
    }
   },
   "outputs": [],
   "source": [
    "dfo_erka = dfo[dfo.inn.isin(inn_erka.inn)]"
   ]
  },
  {
   "cell_type": "code",
   "execution_count": 128,
   "metadata": {
    "ExecuteTime": {
     "end_time": "2024-01-11T12:30:48.123175Z",
     "start_time": "2024-01-11T12:30:47.996583Z"
    }
   },
   "outputs": [],
   "source": [
    "dfo_pz = dfo[dfo.inn.isin(inn_pz.inn) | (dfo.brand == 'Планета Здоровья' )]"
   ]
  },
  {
   "cell_type": "code",
   "execution_count": null,
   "metadata": {},
   "outputs": [],
   "source": []
  },
  {
   "cell_type": "code",
   "execution_count": 129,
   "metadata": {
    "ExecuteTime": {
     "end_time": "2024-01-11T12:30:51.534171Z",
     "start_time": "2024-01-11T12:30:51.525195Z"
    }
   },
   "outputs": [
    {
     "data": {
      "text/plain": [
       "30831"
      ]
     },
     "execution_count": 129,
     "metadata": {},
     "output_type": "execute_result"
    }
   ],
   "source": [
    "dfo_erka.id.nunique()"
   ]
  },
  {
   "cell_type": "code",
   "execution_count": 130,
   "metadata": {
    "ExecuteTime": {
     "end_time": "2024-01-11T12:30:56.270592Z",
     "start_time": "2024-01-11T12:30:56.242537Z"
    }
   },
   "outputs": [
    {
     "data": {
      "text/plain": [
       "134144"
      ]
     },
     "execution_count": 130,
     "metadata": {},
     "output_type": "execute_result"
    }
   ],
   "source": [
    "dfo_pz.id.nunique()"
   ]
  },
  {
   "cell_type": "code",
   "execution_count": 131,
   "metadata": {
    "ExecuteTime": {
     "end_time": "2024-01-11T12:30:58.162850Z",
     "start_time": "2024-01-11T12:30:58.145111Z"
    }
   },
   "outputs": [
    {
     "data": {
      "text/plain": [
       "array(['Озерки', 'Супераптека', 'Самсон Фарма', 'Доктор Столетов',\n",
       "       'Аптека.ру', 'МосАптека', 'Первая Помощь', 'Эркафарм', 'Фармация',\n",
       "       'Доктор Столетов (старый)', 'Озерки у дома', 'Радуга', nan],\n",
       "      dtype=object)"
      ]
     },
     "execution_count": 131,
     "metadata": {},
     "output_type": "execute_result"
    }
   ],
   "source": [
    "dfo_erka.brand.unique()"
   ]
  },
  {
   "cell_type": "code",
   "execution_count": 132,
   "metadata": {
    "ExecuteTime": {
     "end_time": "2024-01-11T12:30:58.556228Z",
     "start_time": "2024-01-11T12:30:58.537848Z"
    }
   },
   "outputs": [
    {
     "data": {
      "text/plain": [
       "array(['Планета Здоровья', 'ПОЛИФАРМ', 'Реон', 'Планета Pдоровья',\n",
       "       'Авиценна', 'ПРАЦЕ', nan, 'Карсилс', 'Грант', 'Юнити', 'Альфа',\n",
       "       'Ронна (Планета здоровья/Опека СПб)', 'Аптека №59', 'Кант',\n",
       "       'Плутос', 'Планета здоровья'], dtype=object)"
      ]
     },
     "execution_count": 132,
     "metadata": {},
     "output_type": "execute_result"
    }
   ],
   "source": [
    "dfo_pz.brand.unique()"
   ]
  },
  {
   "cell_type": "code",
   "execution_count": null,
   "metadata": {},
   "outputs": [],
   "source": []
  },
  {
   "cell_type": "code",
   "execution_count": 133,
   "metadata": {
    "ExecuteTime": {
     "end_time": "2024-01-11T12:31:07.937967Z",
     "start_time": "2024-01-11T12:31:07.774841Z"
    }
   },
   "outputs": [],
   "source": [
    "dfs71 = dfs[dfs.status == 71]\n",
    "dfs9 = dfs[dfs.status == 9]"
   ]
  },
  {
   "cell_type": "code",
   "execution_count": null,
   "metadata": {},
   "outputs": [],
   "source": []
  },
  {
   "cell_type": "code",
   "execution_count": 134,
   "metadata": {
    "ExecuteTime": {
     "end_time": "2024-01-11T12:31:33.447874Z",
     "start_time": "2024-01-11T12:31:15.035138Z"
    }
   },
   "outputs": [],
   "source": [
    "# Заказы от Эркафарм\n",
    "erka = pd.read_excel('Заказы пульса, Эркафарм.xlsx')"
   ]
  },
  {
   "cell_type": "code",
   "execution_count": 135,
   "metadata": {
    "ExecuteTime": {
     "end_time": "2024-01-11T12:31:33.478905Z",
     "start_time": "2024-01-11T12:31:33.450865Z"
    }
   },
   "outputs": [],
   "source": [
    "erka = erka.iloc[:, [0, 4, 5]]\n",
    "erka.columns = ['er_order_id', 'er_status', 'er_status_time']"
   ]
  },
  {
   "cell_type": "code",
   "execution_count": 136,
   "metadata": {
    "ExecuteTime": {
     "end_time": "2024-01-11T12:31:43.574571Z",
     "start_time": "2024-01-11T12:31:33.481880Z"
    }
   },
   "outputs": [],
   "source": [
    "erka['er_status_time'] = pd.to_datetime(erka['er_status_time'], dayfirst=True)"
   ]
  },
  {
   "cell_type": "code",
   "execution_count": 137,
   "metadata": {
    "ExecuteTime": {
     "end_time": "2024-01-11T12:31:43.606486Z",
     "start_time": "2024-01-11T12:31:43.578561Z"
    }
   },
   "outputs": [],
   "source": [
    "erka71 = erka[erka.er_status == 'Собрали заказ / Оттправили Ready']"
   ]
  },
  {
   "cell_type": "code",
   "execution_count": 138,
   "metadata": {
    "ExecuteTime": {
     "end_time": "2024-01-11T12:31:43.637434Z",
     "start_time": "2024-01-11T12:31:43.609479Z"
    }
   },
   "outputs": [],
   "source": [
    "erka9 = erka[erka.er_status == 'Продан']"
   ]
  },
  {
   "cell_type": "code",
   "execution_count": 139,
   "metadata": {
    "ExecuteTime": {
     "end_time": "2024-01-11T12:31:59.361426Z",
     "start_time": "2024-01-11T12:31:43.640396Z"
    }
   },
   "outputs": [],
   "source": [
    "# Заказы от Планеты здоровья\n",
    "pz = pd.read_excel('Заказы пульса за ноябрь, Планета Здоровья.xlsx')"
   ]
  },
  {
   "cell_type": "code",
   "execution_count": 140,
   "metadata": {
    "ExecuteTime": {
     "end_time": "2024-01-11T12:31:59.391992Z",
     "start_time": "2024-01-11T12:31:59.363385Z"
    }
   },
   "outputs": [],
   "source": [
    "pz = pz.iloc[:, [1, 2, 3]]"
   ]
  },
  {
   "cell_type": "code",
   "execution_count": 141,
   "metadata": {
    "ExecuteTime": {
     "end_time": "2024-01-11T12:31:59.407978Z",
     "start_time": "2024-01-11T12:31:59.395005Z"
    }
   },
   "outputs": [],
   "source": [
    "pz.columns = ['pz_order_guid', 'pz_status', 'pz_status_time']"
   ]
  },
  {
   "cell_type": "code",
   "execution_count": 142,
   "metadata": {
    "ExecuteTime": {
     "end_time": "2024-01-11T12:31:59.439893Z",
     "start_time": "2024-01-11T12:31:59.410971Z"
    }
   },
   "outputs": [],
   "source": [
    "pz71 = pz[pz.pz_status == 'ready']"
   ]
  },
  {
   "cell_type": "code",
   "execution_count": 143,
   "metadata": {
    "ExecuteTime": {
     "end_time": "2024-01-11T12:31:59.471812Z",
     "start_time": "2024-01-11T12:31:59.443853Z"
    }
   },
   "outputs": [],
   "source": [
    "pz9 = pz[pz.pz_status == 'sold']"
   ]
  },
  {
   "cell_type": "code",
   "execution_count": null,
   "metadata": {},
   "outputs": [],
   "source": []
  },
  {
   "cell_type": "code",
   "execution_count": null,
   "metadata": {},
   "outputs": [],
   "source": []
  },
  {
   "cell_type": "code",
   "execution_count": null,
   "metadata": {},
   "outputs": [],
   "source": []
  },
  {
   "cell_type": "code",
   "execution_count": 221,
   "metadata": {
    "ExecuteTime": {
     "end_time": "2024-01-11T12:52:43.634335Z",
     "start_time": "2024-01-11T12:52:43.597103Z"
    }
   },
   "outputs": [],
   "source": [
    "vyg = dfo_pz71[(dfo_pz71.mm == 'В аптеке') & (~dfo_pz71.order_id.isna())]      \\\n",
    "            .loc[:, ['marketplace_number', 'guid', 'rk', 'created', 'innst', 'pz_order_guid']]   \\\n",
    "            .drop_duplicates()"
   ]
  },
  {
   "cell_type": "code",
   "execution_count": 222,
   "metadata": {
    "ExecuteTime": {
     "end_time": "2024-01-11T12:52:46.102606Z",
     "start_time": "2024-01-11T12:52:46.010947Z"
    }
   },
   "outputs": [],
   "source": [
    "vyg.to_excel('output.xlsx', index=False)"
   ]
  },
  {
   "cell_type": "code",
   "execution_count": 218,
   "metadata": {
    "ExecuteTime": {
     "end_time": "2024-01-11T12:50:15.561849Z",
     "start_time": "2024-01-11T12:50:15.547886Z"
    }
   },
   "outputs": [],
   "source": [
    "# aa = dfo_pz71[(dfo_pz71.mm == 'В аптеке') & (~dfo_pz71.order_id.isna())] \\\n",
    "#     .loc[:, ['marketplace_number', 'rk', 'created', 'innst', 'pz_order_guid']]\n",
    "# aa[~aa.pz_order_guid.isna()].pz_order_guid.nunique()"
   ]
  },
  {
   "cell_type": "code",
   "execution_count": 219,
   "metadata": {
    "ExecuteTime": {
     "end_time": "2024-01-11T12:50:15.704505Z",
     "start_time": "2024-01-11T12:50:15.691540Z"
    }
   },
   "outputs": [],
   "source": [
    "# dfo_pz71[(dfo_pz71.mm == 'В аптеке') & (~dfo_pz71.order_id.isna())].order_id.nunique()"
   ]
  },
  {
   "cell_type": "code",
   "execution_count": null,
   "metadata": {},
   "outputs": [],
   "source": []
  },
  {
   "cell_type": "code",
   "execution_count": null,
   "metadata": {},
   "outputs": [],
   "source": []
  },
  {
   "cell_type": "markdown",
   "metadata": {},
   "source": [
    "## Эркафарм 71"
   ]
  },
  {
   "cell_type": "code",
   "execution_count": 144,
   "metadata": {
    "ExecuteTime": {
     "end_time": "2024-01-11T12:31:59.663266Z",
     "start_time": "2024-01-11T12:31:59.474772Z"
    }
   },
   "outputs": [],
   "source": [
    "dfo_erka71 = dfo_erka.merge(dfs71, how='left', left_on='id', right_on='order_id')"
   ]
  },
  {
   "cell_type": "code",
   "execution_count": 145,
   "metadata": {
    "ExecuteTime": {
     "end_time": "2024-01-11T12:31:59.679223Z",
     "start_time": "2024-01-11T12:31:59.665261Z"
    }
   },
   "outputs": [
    {
     "data": {
      "text/plain": [
       "(30881, 14)"
      ]
     },
     "execution_count": 145,
     "metadata": {},
     "output_type": "execute_result"
    }
   ],
   "source": [
    "dfo_erka71.shape"
   ]
  },
  {
   "cell_type": "code",
   "execution_count": 204,
   "metadata": {
    "ExecuteTime": {
     "end_time": "2024-01-11T12:40:45.515176Z",
     "start_time": "2024-01-11T12:40:45.502077Z"
    }
   },
   "outputs": [],
   "source": [
    "# есть 50 дублей, очевидно из-за того, что статусы по 2 раза приходят. на общие цифры не повлияет, все равно уникальные считаю"
   ]
  },
  {
   "cell_type": "code",
   "execution_count": 147,
   "metadata": {
    "ExecuteTime": {
     "end_time": "2024-01-11T12:31:59.757015Z",
     "start_time": "2024-01-11T12:31:59.698172Z"
    }
   },
   "outputs": [],
   "source": [
    "dfo_erka71 = dfo_erka71.merge(erka71, how='left', left_on='marketplace_number', right_on='er_order_id')"
   ]
  },
  {
   "cell_type": "code",
   "execution_count": 148,
   "metadata": {
    "ExecuteTime": {
     "end_time": "2024-01-11T12:32:47.648722Z",
     "start_time": "2024-01-11T12:32:47.642568Z"
    }
   },
   "outputs": [],
   "source": [
    "# есть еще 10 дублей, хз почему"
   ]
  },
  {
   "cell_type": "code",
   "execution_count": null,
   "metadata": {},
   "outputs": [],
   "source": []
  },
  {
   "cell_type": "code",
   "execution_count": 149,
   "metadata": {
    "ExecuteTime": {
     "end_time": "2024-01-11T12:32:49.185956Z",
     "start_time": "2024-01-11T12:32:49.144178Z"
    }
   },
   "outputs": [],
   "source": [
    "dfo_erka71_mm = dfo_erka71.groupby('mm', as_index=False) \\\n",
    "                        .agg({'id': 'nunique', \n",
    "                           'order_id': 'nunique', \n",
    "                           'er_order_id': 'nunique'})"
   ]
  },
  {
   "cell_type": "code",
   "execution_count": 150,
   "metadata": {
    "ExecuteTime": {
     "end_time": "2024-01-11T12:32:49.623538Z",
     "start_time": "2024-01-11T12:32:49.613532Z"
    }
   },
   "outputs": [],
   "source": [
    "dfo_erka71_mm['percent'] = round(dfo_erka71_mm.order_id / dfo_erka71_mm.er_order_id * 100, 0)"
   ]
  },
  {
   "cell_type": "code",
   "execution_count": 151,
   "metadata": {
    "ExecuteTime": {
     "end_time": "2024-01-11T12:32:57.978691Z",
     "start_time": "2024-01-11T12:32:57.955108Z"
    }
   },
   "outputs": [
    {
     "data": {
      "text/html": [
       "<div>\n",
       "<style scoped>\n",
       "    .dataframe tbody tr th:only-of-type {\n",
       "        vertical-align: middle;\n",
       "    }\n",
       "\n",
       "    .dataframe tbody tr th {\n",
       "        vertical-align: top;\n",
       "    }\n",
       "\n",
       "    .dataframe thead th {\n",
       "        text-align: right;\n",
       "    }\n",
       "</style>\n",
       "<table border=\"1\" class=\"dataframe\">\n",
       "  <thead>\n",
       "    <tr style=\"text-align: right;\">\n",
       "      <th></th>\n",
       "      <th>mm</th>\n",
       "      <th>id</th>\n",
       "      <th>order_id</th>\n",
       "      <th>er_order_id</th>\n",
       "      <th>percent</th>\n",
       "    </tr>\n",
       "  </thead>\n",
       "  <tbody>\n",
       "    <tr>\n",
       "      <th>0</th>\n",
       "      <td>АптекаФорте</td>\n",
       "      <td>782</td>\n",
       "      <td>754</td>\n",
       "      <td>752</td>\n",
       "      <td>100.0</td>\n",
       "    </tr>\n",
       "    <tr>\n",
       "      <th>1</th>\n",
       "      <td>Все аптеки</td>\n",
       "      <td>743</td>\n",
       "      <td>668</td>\n",
       "      <td>720</td>\n",
       "      <td>93.0</td>\n",
       "    </tr>\n",
       "    <tr>\n",
       "      <th>2</th>\n",
       "      <td>ОК Аптека</td>\n",
       "      <td>22</td>\n",
       "      <td>21</td>\n",
       "      <td>21</td>\n",
       "      <td>100.0</td>\n",
       "    </tr>\n",
       "    <tr>\n",
       "      <th>3</th>\n",
       "      <td>Озон RFBS</td>\n",
       "      <td>6728</td>\n",
       "      <td>5917</td>\n",
       "      <td>6550</td>\n",
       "      <td>90.0</td>\n",
       "    </tr>\n",
       "    <tr>\n",
       "      <th>4</th>\n",
       "      <td>Сбермегамаркет</td>\n",
       "      <td>894</td>\n",
       "      <td>831</td>\n",
       "      <td>876</td>\n",
       "      <td>95.0</td>\n",
       "    </tr>\n",
       "    <tr>\n",
       "      <th>5</th>\n",
       "      <td>Ютека</td>\n",
       "      <td>20783</td>\n",
       "      <td>18650</td>\n",
       "      <td>20305</td>\n",
       "      <td>92.0</td>\n",
       "    </tr>\n",
       "    <tr>\n",
       "      <th>6</th>\n",
       "      <td>ЯндексDBS</td>\n",
       "      <td>879</td>\n",
       "      <td>879</td>\n",
       "      <td>867</td>\n",
       "      <td>101.0</td>\n",
       "    </tr>\n",
       "  </tbody>\n",
       "</table>\n",
       "</div>"
      ],
      "text/plain": [
       "               mm     id  order_id  er_order_id  percent\n",
       "0     АптекаФорте    782       754          752    100.0\n",
       "1      Все аптеки    743       668          720     93.0\n",
       "2       ОК Аптека     22        21           21    100.0\n",
       "3       Озон RFBS   6728      5917         6550     90.0\n",
       "4  Сбермегамаркет    894       831          876     95.0\n",
       "5           Ютека  20783     18650        20305     92.0\n",
       "6       ЯндексDBS    879       879          867    101.0"
      ]
     },
     "execution_count": 151,
     "metadata": {},
     "output_type": "execute_result"
    }
   ],
   "source": [
    "dfo_erka71_mm"
   ]
  },
  {
   "cell_type": "code",
   "execution_count": null,
   "metadata": {},
   "outputs": [],
   "source": []
  },
  {
   "cell_type": "code",
   "execution_count": 152,
   "metadata": {
    "ExecuteTime": {
     "end_time": "2024-01-11T12:33:31.126026Z",
     "start_time": "2024-01-11T12:33:31.090122Z"
    }
   },
   "outputs": [],
   "source": [
    "dfo_erka71_rk = dfo_erka71.groupby('rk', as_index=False).agg({'id': 'nunique', \n",
    "                                               'order_id': 'nunique', \n",
    "                                               'er_order_id': 'nunique'})\n",
    "dfo_erka71_rk['percent'] = round(dfo_erka71_rk.order_id / dfo_erka71_rk.er_order_id * 100, 0)"
   ]
  },
  {
   "cell_type": "code",
   "execution_count": 153,
   "metadata": {
    "ExecuteTime": {
     "end_time": "2024-01-11T12:33:31.426272Z",
     "start_time": "2024-01-11T12:33:31.402288Z"
    }
   },
   "outputs": [
    {
     "data": {
      "text/html": [
       "<div>\n",
       "<style scoped>\n",
       "    .dataframe tbody tr th:only-of-type {\n",
       "        vertical-align: middle;\n",
       "    }\n",
       "\n",
       "    .dataframe tbody tr th {\n",
       "        vertical-align: top;\n",
       "    }\n",
       "\n",
       "    .dataframe thead th {\n",
       "        text-align: right;\n",
       "    }\n",
       "</style>\n",
       "<table border=\"1\" class=\"dataframe\">\n",
       "  <thead>\n",
       "    <tr style=\"text-align: right;\">\n",
       "      <th></th>\n",
       "      <th>rk</th>\n",
       "      <th>id</th>\n",
       "      <th>order_id</th>\n",
       "      <th>er_order_id</th>\n",
       "      <th>percent</th>\n",
       "    </tr>\n",
       "  </thead>\n",
       "  <tbody>\n",
       "    <tr>\n",
       "      <th>0</th>\n",
       "      <td>ООО \"ПУЛЬС Брянск\"</td>\n",
       "      <td>473</td>\n",
       "      <td>470</td>\n",
       "      <td>462</td>\n",
       "      <td>102.0</td>\n",
       "    </tr>\n",
       "    <tr>\n",
       "      <th>1</th>\n",
       "      <td>ООО \"ПУЛЬС Волгоград\"</td>\n",
       "      <td>1376</td>\n",
       "      <td>1366</td>\n",
       "      <td>1373</td>\n",
       "      <td>99.0</td>\n",
       "    </tr>\n",
       "    <tr>\n",
       "      <th>2</th>\n",
       "      <td>ООО \"ПУЛЬС Воронеж\"</td>\n",
       "      <td>109</td>\n",
       "      <td>106</td>\n",
       "      <td>107</td>\n",
       "      <td>99.0</td>\n",
       "    </tr>\n",
       "    <tr>\n",
       "      <th>3</th>\n",
       "      <td>ООО \"ПУЛЬС Екатеринбург\"</td>\n",
       "      <td>123</td>\n",
       "      <td>123</td>\n",
       "      <td>122</td>\n",
       "      <td>101.0</td>\n",
       "    </tr>\n",
       "    <tr>\n",
       "      <th>4</th>\n",
       "      <td>ООО \"ПУЛЬС Казань\"</td>\n",
       "      <td>149</td>\n",
       "      <td>149</td>\n",
       "      <td>148</td>\n",
       "      <td>101.0</td>\n",
       "    </tr>\n",
       "    <tr>\n",
       "      <th>5</th>\n",
       "      <td>ООО \"ПУЛЬС Краснодар\"</td>\n",
       "      <td>632</td>\n",
       "      <td>626</td>\n",
       "      <td>623</td>\n",
       "      <td>100.0</td>\n",
       "    </tr>\n",
       "    <tr>\n",
       "      <th>6</th>\n",
       "      <td>ООО \"ПУЛЬС Красноярск\"</td>\n",
       "      <td>88</td>\n",
       "      <td>86</td>\n",
       "      <td>84</td>\n",
       "      <td>102.0</td>\n",
       "    </tr>\n",
       "    <tr>\n",
       "      <th>7</th>\n",
       "      <td>ООО \"ПУЛЬС Новосибирск\"</td>\n",
       "      <td>1539</td>\n",
       "      <td>1512</td>\n",
       "      <td>1489</td>\n",
       "      <td>102.0</td>\n",
       "    </tr>\n",
       "    <tr>\n",
       "      <th>8</th>\n",
       "      <td>ООО \"ПУЛЬС СПб\"</td>\n",
       "      <td>9765</td>\n",
       "      <td>9566</td>\n",
       "      <td>9608</td>\n",
       "      <td>100.0</td>\n",
       "    </tr>\n",
       "    <tr>\n",
       "      <th>9</th>\n",
       "      <td>ООО \"ПУЛЬС Самара\"</td>\n",
       "      <td>168</td>\n",
       "      <td>168</td>\n",
       "      <td>168</td>\n",
       "      <td>100.0</td>\n",
       "    </tr>\n",
       "    <tr>\n",
       "      <th>10</th>\n",
       "      <td>ООО \"ПУЛЬС Хабаровск\"</td>\n",
       "      <td>50</td>\n",
       "      <td>47</td>\n",
       "      <td>48</td>\n",
       "      <td>98.0</td>\n",
       "    </tr>\n",
       "    <tr>\n",
       "      <th>11</th>\n",
       "      <td>ООО \"ПУЛЬС Ярославль\"</td>\n",
       "      <td>1232</td>\n",
       "      <td>1191</td>\n",
       "      <td>1194</td>\n",
       "      <td>100.0</td>\n",
       "    </tr>\n",
       "    <tr>\n",
       "      <th>12</th>\n",
       "      <td>ООО \"ФК ПУЛЬС\"</td>\n",
       "      <td>15127</td>\n",
       "      <td>12310</td>\n",
       "      <td>14665</td>\n",
       "      <td>84.0</td>\n",
       "    </tr>\n",
       "  </tbody>\n",
       "</table>\n",
       "</div>"
      ],
      "text/plain": [
       "                          rk     id  order_id  er_order_id  percent\n",
       "0         ООО \"ПУЛЬС Брянск\"    473       470          462    102.0\n",
       "1      ООО \"ПУЛЬС Волгоград\"   1376      1366         1373     99.0\n",
       "2        ООО \"ПУЛЬС Воронеж\"    109       106          107     99.0\n",
       "3   ООО \"ПУЛЬС Екатеринбург\"    123       123          122    101.0\n",
       "4         ООО \"ПУЛЬС Казань\"    149       149          148    101.0\n",
       "5      ООО \"ПУЛЬС Краснодар\"    632       626          623    100.0\n",
       "6     ООО \"ПУЛЬС Красноярск\"     88        86           84    102.0\n",
       "7    ООО \"ПУЛЬС Новосибирск\"   1539      1512         1489    102.0\n",
       "8            ООО \"ПУЛЬС СПб\"   9765      9566         9608    100.0\n",
       "9         ООО \"ПУЛЬС Самара\"    168       168          168    100.0\n",
       "10     ООО \"ПУЛЬС Хабаровск\"     50        47           48     98.0\n",
       "11     ООО \"ПУЛЬС Ярославль\"   1232      1191         1194    100.0\n",
       "12            ООО \"ФК ПУЛЬС\"  15127     12310        14665     84.0"
      ]
     },
     "execution_count": 153,
     "metadata": {},
     "output_type": "execute_result"
    }
   ],
   "source": [
    "dfo_erka71_rk"
   ]
  },
  {
   "cell_type": "code",
   "execution_count": 154,
   "metadata": {
    "ExecuteTime": {
     "end_time": "2024-01-11T12:33:35.882711Z",
     "start_time": "2024-01-11T12:33:35.826092Z"
    }
   },
   "outputs": [],
   "source": [
    "dfo_erka71_dd = dfo_erka71.groupby(dfo_erka71.created.dt.date) \\\n",
    "                        .agg({'id': 'nunique', \n",
    "                           'order_id': 'nunique', \n",
    "                           'er_order_id': 'nunique'})\n",
    "dfo_erka71_dd['percent'] = round(dfo_erka71_dd.order_id / dfo_erka71_dd.er_order_id * 100, 0)"
   ]
  },
  {
   "cell_type": "code",
   "execution_count": 155,
   "metadata": {
    "ExecuteTime": {
     "end_time": "2024-01-11T12:33:36.311089Z",
     "start_time": "2024-01-11T12:33:36.290038Z"
    }
   },
   "outputs": [
    {
     "data": {
      "text/html": [
       "<div>\n",
       "<style scoped>\n",
       "    .dataframe tbody tr th:only-of-type {\n",
       "        vertical-align: middle;\n",
       "    }\n",
       "\n",
       "    .dataframe tbody tr th {\n",
       "        vertical-align: top;\n",
       "    }\n",
       "\n",
       "    .dataframe thead th {\n",
       "        text-align: right;\n",
       "    }\n",
       "</style>\n",
       "<table border=\"1\" class=\"dataframe\">\n",
       "  <thead>\n",
       "    <tr style=\"text-align: right;\">\n",
       "      <th></th>\n",
       "      <th>id</th>\n",
       "      <th>order_id</th>\n",
       "      <th>er_order_id</th>\n",
       "      <th>percent</th>\n",
       "    </tr>\n",
       "    <tr>\n",
       "      <th>created</th>\n",
       "      <th></th>\n",
       "      <th></th>\n",
       "      <th></th>\n",
       "      <th></th>\n",
       "    </tr>\n",
       "  </thead>\n",
       "  <tbody>\n",
       "    <tr>\n",
       "      <th>2023-11-01</th>\n",
       "      <td>534</td>\n",
       "      <td>528</td>\n",
       "      <td>533</td>\n",
       "      <td>99.0</td>\n",
       "    </tr>\n",
       "    <tr>\n",
       "      <th>2023-11-02</th>\n",
       "      <td>833</td>\n",
       "      <td>811</td>\n",
       "      <td>828</td>\n",
       "      <td>98.0</td>\n",
       "    </tr>\n",
       "    <tr>\n",
       "      <th>2023-11-03</th>\n",
       "      <td>1113</td>\n",
       "      <td>1058</td>\n",
       "      <td>1111</td>\n",
       "      <td>95.0</td>\n",
       "    </tr>\n",
       "    <tr>\n",
       "      <th>2023-11-04</th>\n",
       "      <td>805</td>\n",
       "      <td>663</td>\n",
       "      <td>803</td>\n",
       "      <td>83.0</td>\n",
       "    </tr>\n",
       "    <tr>\n",
       "      <th>2023-11-05</th>\n",
       "      <td>863</td>\n",
       "      <td>731</td>\n",
       "      <td>861</td>\n",
       "      <td>85.0</td>\n",
       "    </tr>\n",
       "    <tr>\n",
       "      <th>2023-11-06</th>\n",
       "      <td>1094</td>\n",
       "      <td>886</td>\n",
       "      <td>1094</td>\n",
       "      <td>81.0</td>\n",
       "    </tr>\n",
       "    <tr>\n",
       "      <th>2023-11-07</th>\n",
       "      <td>1284</td>\n",
       "      <td>1196</td>\n",
       "      <td>1279</td>\n",
       "      <td>94.0</td>\n",
       "    </tr>\n",
       "    <tr>\n",
       "      <th>2023-11-08</th>\n",
       "      <td>1250</td>\n",
       "      <td>1209</td>\n",
       "      <td>1248</td>\n",
       "      <td>97.0</td>\n",
       "    </tr>\n",
       "    <tr>\n",
       "      <th>2023-11-09</th>\n",
       "      <td>1244</td>\n",
       "      <td>1103</td>\n",
       "      <td>1242</td>\n",
       "      <td>89.0</td>\n",
       "    </tr>\n",
       "    <tr>\n",
       "      <th>2023-11-10</th>\n",
       "      <td>945</td>\n",
       "      <td>912</td>\n",
       "      <td>942</td>\n",
       "      <td>97.0</td>\n",
       "    </tr>\n",
       "    <tr>\n",
       "      <th>2023-11-11</th>\n",
       "      <td>965</td>\n",
       "      <td>914</td>\n",
       "      <td>964</td>\n",
       "      <td>95.0</td>\n",
       "    </tr>\n",
       "    <tr>\n",
       "      <th>2023-11-12</th>\n",
       "      <td>1131</td>\n",
       "      <td>1039</td>\n",
       "      <td>1128</td>\n",
       "      <td>92.0</td>\n",
       "    </tr>\n",
       "    <tr>\n",
       "      <th>2023-11-13</th>\n",
       "      <td>1335</td>\n",
       "      <td>1238</td>\n",
       "      <td>1332</td>\n",
       "      <td>93.0</td>\n",
       "    </tr>\n",
       "    <tr>\n",
       "      <th>2023-11-14</th>\n",
       "      <td>1398</td>\n",
       "      <td>1308</td>\n",
       "      <td>1391</td>\n",
       "      <td>94.0</td>\n",
       "    </tr>\n",
       "    <tr>\n",
       "      <th>2023-11-15</th>\n",
       "      <td>1309</td>\n",
       "      <td>1290</td>\n",
       "      <td>1306</td>\n",
       "      <td>99.0</td>\n",
       "    </tr>\n",
       "    <tr>\n",
       "      <th>2023-11-16</th>\n",
       "      <td>1272</td>\n",
       "      <td>1231</td>\n",
       "      <td>1270</td>\n",
       "      <td>97.0</td>\n",
       "    </tr>\n",
       "    <tr>\n",
       "      <th>2023-11-17</th>\n",
       "      <td>1135</td>\n",
       "      <td>1111</td>\n",
       "      <td>1132</td>\n",
       "      <td>98.0</td>\n",
       "    </tr>\n",
       "    <tr>\n",
       "      <th>2023-11-18</th>\n",
       "      <td>926</td>\n",
       "      <td>888</td>\n",
       "      <td>925</td>\n",
       "      <td>96.0</td>\n",
       "    </tr>\n",
       "    <tr>\n",
       "      <th>2023-11-19</th>\n",
       "      <td>1060</td>\n",
       "      <td>1020</td>\n",
       "      <td>1058</td>\n",
       "      <td>96.0</td>\n",
       "    </tr>\n",
       "    <tr>\n",
       "      <th>2023-11-20</th>\n",
       "      <td>1337</td>\n",
       "      <td>1234</td>\n",
       "      <td>1331</td>\n",
       "      <td>93.0</td>\n",
       "    </tr>\n",
       "    <tr>\n",
       "      <th>2023-11-21</th>\n",
       "      <td>1435</td>\n",
       "      <td>1385</td>\n",
       "      <td>1426</td>\n",
       "      <td>97.0</td>\n",
       "    </tr>\n",
       "    <tr>\n",
       "      <th>2023-11-22</th>\n",
       "      <td>638</td>\n",
       "      <td>613</td>\n",
       "      <td>621</td>\n",
       "      <td>99.0</td>\n",
       "    </tr>\n",
       "    <tr>\n",
       "      <th>2023-11-23</th>\n",
       "      <td>487</td>\n",
       "      <td>473</td>\n",
       "      <td>483</td>\n",
       "      <td>98.0</td>\n",
       "    </tr>\n",
       "    <tr>\n",
       "      <th>2023-11-24</th>\n",
       "      <td>558</td>\n",
       "      <td>530</td>\n",
       "      <td>557</td>\n",
       "      <td>95.0</td>\n",
       "    </tr>\n",
       "    <tr>\n",
       "      <th>2023-11-25</th>\n",
       "      <td>769</td>\n",
       "      <td>733</td>\n",
       "      <td>767</td>\n",
       "      <td>96.0</td>\n",
       "    </tr>\n",
       "    <tr>\n",
       "      <th>2023-11-26</th>\n",
       "      <td>849</td>\n",
       "      <td>817</td>\n",
       "      <td>848</td>\n",
       "      <td>96.0</td>\n",
       "    </tr>\n",
       "    <tr>\n",
       "      <th>2023-11-27</th>\n",
       "      <td>1056</td>\n",
       "      <td>974</td>\n",
       "      <td>1054</td>\n",
       "      <td>92.0</td>\n",
       "    </tr>\n",
       "    <tr>\n",
       "      <th>2023-11-28</th>\n",
       "      <td>1049</td>\n",
       "      <td>614</td>\n",
       "      <td>1043</td>\n",
       "      <td>59.0</td>\n",
       "    </tr>\n",
       "    <tr>\n",
       "      <th>2023-11-29</th>\n",
       "      <td>1115</td>\n",
       "      <td>643</td>\n",
       "      <td>1074</td>\n",
       "      <td>60.0</td>\n",
       "    </tr>\n",
       "    <tr>\n",
       "      <th>2023-11-30</th>\n",
       "      <td>1042</td>\n",
       "      <td>568</td>\n",
       "      <td>440</td>\n",
       "      <td>129.0</td>\n",
       "    </tr>\n",
       "  </tbody>\n",
       "</table>\n",
       "</div>"
      ],
      "text/plain": [
       "              id  order_id  er_order_id  percent\n",
       "created                                         \n",
       "2023-11-01   534       528          533     99.0\n",
       "2023-11-02   833       811          828     98.0\n",
       "2023-11-03  1113      1058         1111     95.0\n",
       "2023-11-04   805       663          803     83.0\n",
       "2023-11-05   863       731          861     85.0\n",
       "2023-11-06  1094       886         1094     81.0\n",
       "2023-11-07  1284      1196         1279     94.0\n",
       "2023-11-08  1250      1209         1248     97.0\n",
       "2023-11-09  1244      1103         1242     89.0\n",
       "2023-11-10   945       912          942     97.0\n",
       "2023-11-11   965       914          964     95.0\n",
       "2023-11-12  1131      1039         1128     92.0\n",
       "2023-11-13  1335      1238         1332     93.0\n",
       "2023-11-14  1398      1308         1391     94.0\n",
       "2023-11-15  1309      1290         1306     99.0\n",
       "2023-11-16  1272      1231         1270     97.0\n",
       "2023-11-17  1135      1111         1132     98.0\n",
       "2023-11-18   926       888          925     96.0\n",
       "2023-11-19  1060      1020         1058     96.0\n",
       "2023-11-20  1337      1234         1331     93.0\n",
       "2023-11-21  1435      1385         1426     97.0\n",
       "2023-11-22   638       613          621     99.0\n",
       "2023-11-23   487       473          483     98.0\n",
       "2023-11-24   558       530          557     95.0\n",
       "2023-11-25   769       733          767     96.0\n",
       "2023-11-26   849       817          848     96.0\n",
       "2023-11-27  1056       974         1054     92.0\n",
       "2023-11-28  1049       614         1043     59.0\n",
       "2023-11-29  1115       643         1074     60.0\n",
       "2023-11-30  1042       568          440    129.0"
      ]
     },
     "execution_count": 155,
     "metadata": {},
     "output_type": "execute_result"
    }
   ],
   "source": [
    "dfo_erka71_dd"
   ]
  },
  {
   "cell_type": "code",
   "execution_count": null,
   "metadata": {},
   "outputs": [],
   "source": []
  },
  {
   "cell_type": "code",
   "execution_count": null,
   "metadata": {},
   "outputs": [],
   "source": []
  },
  {
   "cell_type": "markdown",
   "metadata": {},
   "source": [
    "## Эркафарм 9"
   ]
  },
  {
   "cell_type": "code",
   "execution_count": 156,
   "metadata": {
    "ExecuteTime": {
     "end_time": "2024-01-11T12:33:40.147275Z",
     "start_time": "2024-01-11T12:33:39.946811Z"
    }
   },
   "outputs": [],
   "source": [
    "dfo_erka9 = dfo_erka.merge(dfs9, how='left', left_on='id', right_on='order_id')"
   ]
  },
  {
   "cell_type": "code",
   "execution_count": 157,
   "metadata": {
    "ExecuteTime": {
     "end_time": "2024-01-11T12:33:40.163262Z",
     "start_time": "2024-01-11T12:33:40.150267Z"
    }
   },
   "outputs": [
    {
     "data": {
      "text/plain": [
       "(30845, 14)"
      ]
     },
     "execution_count": 157,
     "metadata": {},
     "output_type": "execute_result"
    }
   ],
   "source": [
    "dfo_erka9.shape"
   ]
  },
  {
   "cell_type": "code",
   "execution_count": 158,
   "metadata": {
    "ExecuteTime": {
     "end_time": "2024-01-11T12:33:40.322120Z",
     "start_time": "2024-01-11T12:33:40.306163Z"
    }
   },
   "outputs": [],
   "source": [
    "# есть 50 дублей, очевидно из-за того, что статусы по 2 раза приходят"
   ]
  },
  {
   "cell_type": "code",
   "execution_count": 159,
   "metadata": {
    "ExecuteTime": {
     "end_time": "2024-01-11T12:33:40.576496Z",
     "start_time": "2024-01-11T12:33:40.514293Z"
    }
   },
   "outputs": [],
   "source": [
    "dfo_erka9 = dfo_erka9.merge(erka9, how='left', left_on='marketplace_number', right_on='er_order_id')"
   ]
  },
  {
   "cell_type": "code",
   "execution_count": 160,
   "metadata": {
    "ExecuteTime": {
     "end_time": "2024-01-11T12:33:40.703156Z",
     "start_time": "2024-01-11T12:33:40.689194Z"
    }
   },
   "outputs": [],
   "source": [
    "# есть еще 10 дублей, хз почему"
   ]
  },
  {
   "cell_type": "code",
   "execution_count": null,
   "metadata": {},
   "outputs": [],
   "source": []
  },
  {
   "cell_type": "code",
   "execution_count": 161,
   "metadata": {
    "ExecuteTime": {
     "end_time": "2024-01-11T12:33:41.048191Z",
     "start_time": "2024-01-11T12:33:41.017167Z"
    }
   },
   "outputs": [],
   "source": [
    "dfo_erka9_mm = dfo_erka9.groupby('mm', as_index=False) \\\n",
    "                        .agg({'id': 'nunique', \n",
    "                           'order_id': 'nunique', \n",
    "                           'er_order_id': 'nunique'})"
   ]
  },
  {
   "cell_type": "code",
   "execution_count": 162,
   "metadata": {
    "ExecuteTime": {
     "end_time": "2024-01-11T12:33:41.221697Z",
     "start_time": "2024-01-11T12:33:41.200753Z"
    }
   },
   "outputs": [],
   "source": [
    "dfo_erka9_mm['percent'] = round(dfo_erka9_mm.order_id / dfo_erka9_mm.er_order_id * 100, 0)"
   ]
  },
  {
   "cell_type": "code",
   "execution_count": 163,
   "metadata": {
    "ExecuteTime": {
     "end_time": "2024-01-11T12:33:41.397228Z",
     "start_time": "2024-01-11T12:33:41.378278Z"
    }
   },
   "outputs": [
    {
     "data": {
      "text/html": [
       "<div>\n",
       "<style scoped>\n",
       "    .dataframe tbody tr th:only-of-type {\n",
       "        vertical-align: middle;\n",
       "    }\n",
       "\n",
       "    .dataframe tbody tr th {\n",
       "        vertical-align: top;\n",
       "    }\n",
       "\n",
       "    .dataframe thead th {\n",
       "        text-align: right;\n",
       "    }\n",
       "</style>\n",
       "<table border=\"1\" class=\"dataframe\">\n",
       "  <thead>\n",
       "    <tr style=\"text-align: right;\">\n",
       "      <th></th>\n",
       "      <th>mm</th>\n",
       "      <th>id</th>\n",
       "      <th>order_id</th>\n",
       "      <th>er_order_id</th>\n",
       "      <th>percent</th>\n",
       "    </tr>\n",
       "  </thead>\n",
       "  <tbody>\n",
       "    <tr>\n",
       "      <th>0</th>\n",
       "      <td>АптекаФорте</td>\n",
       "      <td>782</td>\n",
       "      <td>526</td>\n",
       "      <td>609</td>\n",
       "      <td>86.0</td>\n",
       "    </tr>\n",
       "    <tr>\n",
       "      <th>1</th>\n",
       "      <td>Все аптеки</td>\n",
       "      <td>743</td>\n",
       "      <td>574</td>\n",
       "      <td>494</td>\n",
       "      <td>116.0</td>\n",
       "    </tr>\n",
       "    <tr>\n",
       "      <th>2</th>\n",
       "      <td>ОК Аптека</td>\n",
       "      <td>22</td>\n",
       "      <td>22</td>\n",
       "      <td>14</td>\n",
       "      <td>157.0</td>\n",
       "    </tr>\n",
       "    <tr>\n",
       "      <th>3</th>\n",
       "      <td>Озон RFBS</td>\n",
       "      <td>6728</td>\n",
       "      <td>5397</td>\n",
       "      <td>4937</td>\n",
       "      <td>109.0</td>\n",
       "    </tr>\n",
       "    <tr>\n",
       "      <th>4</th>\n",
       "      <td>Сбермегамаркет</td>\n",
       "      <td>894</td>\n",
       "      <td>644</td>\n",
       "      <td>593</td>\n",
       "      <td>109.0</td>\n",
       "    </tr>\n",
       "    <tr>\n",
       "      <th>5</th>\n",
       "      <td>Ютека</td>\n",
       "      <td>20783</td>\n",
       "      <td>17301</td>\n",
       "      <td>16277</td>\n",
       "      <td>106.0</td>\n",
       "    </tr>\n",
       "    <tr>\n",
       "      <th>6</th>\n",
       "      <td>ЯндексDBS</td>\n",
       "      <td>879</td>\n",
       "      <td>754</td>\n",
       "      <td>694</td>\n",
       "      <td>109.0</td>\n",
       "    </tr>\n",
       "  </tbody>\n",
       "</table>\n",
       "</div>"
      ],
      "text/plain": [
       "               mm     id  order_id  er_order_id  percent\n",
       "0     АптекаФорте    782       526          609     86.0\n",
       "1      Все аптеки    743       574          494    116.0\n",
       "2       ОК Аптека     22        22           14    157.0\n",
       "3       Озон RFBS   6728      5397         4937    109.0\n",
       "4  Сбермегамаркет    894       644          593    109.0\n",
       "5           Ютека  20783     17301        16277    106.0\n",
       "6       ЯндексDBS    879       754          694    109.0"
      ]
     },
     "execution_count": 163,
     "metadata": {},
     "output_type": "execute_result"
    }
   ],
   "source": [
    "dfo_erka9_mm"
   ]
  },
  {
   "cell_type": "code",
   "execution_count": null,
   "metadata": {},
   "outputs": [],
   "source": []
  },
  {
   "cell_type": "code",
   "execution_count": 164,
   "metadata": {
    "ExecuteTime": {
     "end_time": "2024-01-11T12:33:46.659281Z",
     "start_time": "2024-01-11T12:33:46.626389Z"
    }
   },
   "outputs": [],
   "source": [
    "dfo_erka9_rk = dfo_erka9.groupby('rk', as_index=False).agg({'id': 'nunique', \n",
    "                                               'order_id': 'nunique', \n",
    "                                               'er_order_id': 'nunique'})\n",
    "dfo_erka9_rk['percent'] = round(dfo_erka9_rk.order_id / dfo_erka9_rk.er_order_id * 100, 0)"
   ]
  },
  {
   "cell_type": "code",
   "execution_count": 165,
   "metadata": {
    "ExecuteTime": {
     "end_time": "2024-01-11T12:33:46.831752Z",
     "start_time": "2024-01-11T12:33:46.817663Z"
    }
   },
   "outputs": [
    {
     "data": {
      "text/html": [
       "<div>\n",
       "<style scoped>\n",
       "    .dataframe tbody tr th:only-of-type {\n",
       "        vertical-align: middle;\n",
       "    }\n",
       "\n",
       "    .dataframe tbody tr th {\n",
       "        vertical-align: top;\n",
       "    }\n",
       "\n",
       "    .dataframe thead th {\n",
       "        text-align: right;\n",
       "    }\n",
       "</style>\n",
       "<table border=\"1\" class=\"dataframe\">\n",
       "  <thead>\n",
       "    <tr style=\"text-align: right;\">\n",
       "      <th></th>\n",
       "      <th>rk</th>\n",
       "      <th>id</th>\n",
       "      <th>order_id</th>\n",
       "      <th>er_order_id</th>\n",
       "      <th>percent</th>\n",
       "    </tr>\n",
       "  </thead>\n",
       "  <tbody>\n",
       "    <tr>\n",
       "      <th>0</th>\n",
       "      <td>ООО \"ПУЛЬС Брянск\"</td>\n",
       "      <td>473</td>\n",
       "      <td>424</td>\n",
       "      <td>403</td>\n",
       "      <td>105.0</td>\n",
       "    </tr>\n",
       "    <tr>\n",
       "      <th>1</th>\n",
       "      <td>ООО \"ПУЛЬС Волгоград\"</td>\n",
       "      <td>1376</td>\n",
       "      <td>1171</td>\n",
       "      <td>1147</td>\n",
       "      <td>102.0</td>\n",
       "    </tr>\n",
       "    <tr>\n",
       "      <th>2</th>\n",
       "      <td>ООО \"ПУЛЬС Воронеж\"</td>\n",
       "      <td>109</td>\n",
       "      <td>84</td>\n",
       "      <td>80</td>\n",
       "      <td>105.0</td>\n",
       "    </tr>\n",
       "    <tr>\n",
       "      <th>3</th>\n",
       "      <td>ООО \"ПУЛЬС Екатеринбург\"</td>\n",
       "      <td>123</td>\n",
       "      <td>101</td>\n",
       "      <td>93</td>\n",
       "      <td>109.0</td>\n",
       "    </tr>\n",
       "    <tr>\n",
       "      <th>4</th>\n",
       "      <td>ООО \"ПУЛЬС Казань\"</td>\n",
       "      <td>149</td>\n",
       "      <td>130</td>\n",
       "      <td>126</td>\n",
       "      <td>103.0</td>\n",
       "    </tr>\n",
       "    <tr>\n",
       "      <th>5</th>\n",
       "      <td>ООО \"ПУЛЬС Краснодар\"</td>\n",
       "      <td>632</td>\n",
       "      <td>507</td>\n",
       "      <td>481</td>\n",
       "      <td>105.0</td>\n",
       "    </tr>\n",
       "    <tr>\n",
       "      <th>6</th>\n",
       "      <td>ООО \"ПУЛЬС Красноярск\"</td>\n",
       "      <td>88</td>\n",
       "      <td>77</td>\n",
       "      <td>74</td>\n",
       "      <td>104.0</td>\n",
       "    </tr>\n",
       "    <tr>\n",
       "      <th>7</th>\n",
       "      <td>ООО \"ПУЛЬС Новосибирск\"</td>\n",
       "      <td>1539</td>\n",
       "      <td>1326</td>\n",
       "      <td>1219</td>\n",
       "      <td>109.0</td>\n",
       "    </tr>\n",
       "    <tr>\n",
       "      <th>8</th>\n",
       "      <td>ООО \"ПУЛЬС СПб\"</td>\n",
       "      <td>9765</td>\n",
       "      <td>8054</td>\n",
       "      <td>7616</td>\n",
       "      <td>106.0</td>\n",
       "    </tr>\n",
       "    <tr>\n",
       "      <th>9</th>\n",
       "      <td>ООО \"ПУЛЬС Самара\"</td>\n",
       "      <td>168</td>\n",
       "      <td>143</td>\n",
       "      <td>139</td>\n",
       "      <td>103.0</td>\n",
       "    </tr>\n",
       "    <tr>\n",
       "      <th>10</th>\n",
       "      <td>ООО \"ПУЛЬС Хабаровск\"</td>\n",
       "      <td>50</td>\n",
       "      <td>35</td>\n",
       "      <td>29</td>\n",
       "      <td>121.0</td>\n",
       "    </tr>\n",
       "    <tr>\n",
       "      <th>11</th>\n",
       "      <td>ООО \"ПУЛЬС Ярославль\"</td>\n",
       "      <td>1232</td>\n",
       "      <td>1054</td>\n",
       "      <td>1018</td>\n",
       "      <td>104.0</td>\n",
       "    </tr>\n",
       "    <tr>\n",
       "      <th>12</th>\n",
       "      <td>ООО \"ФК ПУЛЬС\"</td>\n",
       "      <td>15127</td>\n",
       "      <td>12112</td>\n",
       "      <td>11193</td>\n",
       "      <td>108.0</td>\n",
       "    </tr>\n",
       "  </tbody>\n",
       "</table>\n",
       "</div>"
      ],
      "text/plain": [
       "                          rk     id  order_id  er_order_id  percent\n",
       "0         ООО \"ПУЛЬС Брянск\"    473       424          403    105.0\n",
       "1      ООО \"ПУЛЬС Волгоград\"   1376      1171         1147    102.0\n",
       "2        ООО \"ПУЛЬС Воронеж\"    109        84           80    105.0\n",
       "3   ООО \"ПУЛЬС Екатеринбург\"    123       101           93    109.0\n",
       "4         ООО \"ПУЛЬС Казань\"    149       130          126    103.0\n",
       "5      ООО \"ПУЛЬС Краснодар\"    632       507          481    105.0\n",
       "6     ООО \"ПУЛЬС Красноярск\"     88        77           74    104.0\n",
       "7    ООО \"ПУЛЬС Новосибирск\"   1539      1326         1219    109.0\n",
       "8            ООО \"ПУЛЬС СПб\"   9765      8054         7616    106.0\n",
       "9         ООО \"ПУЛЬС Самара\"    168       143          139    103.0\n",
       "10     ООО \"ПУЛЬС Хабаровск\"     50        35           29    121.0\n",
       "11     ООО \"ПУЛЬС Ярославль\"   1232      1054         1018    104.0\n",
       "12            ООО \"ФК ПУЛЬС\"  15127     12112        11193    108.0"
      ]
     },
     "execution_count": 165,
     "metadata": {},
     "output_type": "execute_result"
    }
   ],
   "source": [
    "dfo_erka9_rk"
   ]
  },
  {
   "cell_type": "code",
   "execution_count": 166,
   "metadata": {
    "ExecuteTime": {
     "end_time": "2024-01-11T12:33:47.070406Z",
     "start_time": "2024-01-11T12:33:47.001619Z"
    }
   },
   "outputs": [],
   "source": [
    "dfo_erka9_dd = dfo_erka9.groupby(dfo_erka9.created.dt.date) \\\n",
    "                        .agg({'id': 'nunique', \n",
    "                           'order_id': 'nunique', \n",
    "                           'er_order_id': 'nunique'})\n",
    "dfo_erka9_dd['percent'] = round(dfo_erka9_dd.order_id / dfo_erka9_dd.er_order_id * 100, 0)"
   ]
  },
  {
   "cell_type": "code",
   "execution_count": 167,
   "metadata": {
    "ExecuteTime": {
     "end_time": "2024-01-11T12:33:47.273862Z",
     "start_time": "2024-01-11T12:33:47.249959Z"
    }
   },
   "outputs": [
    {
     "data": {
      "text/html": [
       "<div>\n",
       "<style scoped>\n",
       "    .dataframe tbody tr th:only-of-type {\n",
       "        vertical-align: middle;\n",
       "    }\n",
       "\n",
       "    .dataframe tbody tr th {\n",
       "        vertical-align: top;\n",
       "    }\n",
       "\n",
       "    .dataframe thead th {\n",
       "        text-align: right;\n",
       "    }\n",
       "</style>\n",
       "<table border=\"1\" class=\"dataframe\">\n",
       "  <thead>\n",
       "    <tr style=\"text-align: right;\">\n",
       "      <th></th>\n",
       "      <th>id</th>\n",
       "      <th>order_id</th>\n",
       "      <th>er_order_id</th>\n",
       "      <th>percent</th>\n",
       "    </tr>\n",
       "    <tr>\n",
       "      <th>created</th>\n",
       "      <th></th>\n",
       "      <th></th>\n",
       "      <th></th>\n",
       "      <th></th>\n",
       "    </tr>\n",
       "  </thead>\n",
       "  <tbody>\n",
       "    <tr>\n",
       "      <th>2023-11-01</th>\n",
       "      <td>534</td>\n",
       "      <td>467</td>\n",
       "      <td>445</td>\n",
       "      <td>105.0</td>\n",
       "    </tr>\n",
       "    <tr>\n",
       "      <th>2023-11-02</th>\n",
       "      <td>833</td>\n",
       "      <td>712</td>\n",
       "      <td>682</td>\n",
       "      <td>104.0</td>\n",
       "    </tr>\n",
       "    <tr>\n",
       "      <th>2023-11-03</th>\n",
       "      <td>1113</td>\n",
       "      <td>927</td>\n",
       "      <td>867</td>\n",
       "      <td>107.0</td>\n",
       "    </tr>\n",
       "    <tr>\n",
       "      <th>2023-11-04</th>\n",
       "      <td>805</td>\n",
       "      <td>631</td>\n",
       "      <td>589</td>\n",
       "      <td>107.0</td>\n",
       "    </tr>\n",
       "    <tr>\n",
       "      <th>2023-11-05</th>\n",
       "      <td>863</td>\n",
       "      <td>721</td>\n",
       "      <td>684</td>\n",
       "      <td>105.0</td>\n",
       "    </tr>\n",
       "    <tr>\n",
       "      <th>2023-11-06</th>\n",
       "      <td>1094</td>\n",
       "      <td>902</td>\n",
       "      <td>857</td>\n",
       "      <td>105.0</td>\n",
       "    </tr>\n",
       "    <tr>\n",
       "      <th>2023-11-07</th>\n",
       "      <td>1284</td>\n",
       "      <td>1022</td>\n",
       "      <td>941</td>\n",
       "      <td>109.0</td>\n",
       "    </tr>\n",
       "    <tr>\n",
       "      <th>2023-11-08</th>\n",
       "      <td>1250</td>\n",
       "      <td>1096</td>\n",
       "      <td>1031</td>\n",
       "      <td>106.0</td>\n",
       "    </tr>\n",
       "    <tr>\n",
       "      <th>2023-11-09</th>\n",
       "      <td>1244</td>\n",
       "      <td>1064</td>\n",
       "      <td>1004</td>\n",
       "      <td>106.0</td>\n",
       "    </tr>\n",
       "    <tr>\n",
       "      <th>2023-11-10</th>\n",
       "      <td>945</td>\n",
       "      <td>799</td>\n",
       "      <td>757</td>\n",
       "      <td>106.0</td>\n",
       "    </tr>\n",
       "    <tr>\n",
       "      <th>2023-11-11</th>\n",
       "      <td>965</td>\n",
       "      <td>806</td>\n",
       "      <td>766</td>\n",
       "      <td>105.0</td>\n",
       "    </tr>\n",
       "    <tr>\n",
       "      <th>2023-11-12</th>\n",
       "      <td>1131</td>\n",
       "      <td>947</td>\n",
       "      <td>889</td>\n",
       "      <td>107.0</td>\n",
       "    </tr>\n",
       "    <tr>\n",
       "      <th>2023-11-13</th>\n",
       "      <td>1335</td>\n",
       "      <td>1101</td>\n",
       "      <td>1038</td>\n",
       "      <td>106.0</td>\n",
       "    </tr>\n",
       "    <tr>\n",
       "      <th>2023-11-14</th>\n",
       "      <td>1398</td>\n",
       "      <td>1160</td>\n",
       "      <td>1103</td>\n",
       "      <td>105.0</td>\n",
       "    </tr>\n",
       "    <tr>\n",
       "      <th>2023-11-15</th>\n",
       "      <td>1309</td>\n",
       "      <td>1128</td>\n",
       "      <td>1085</td>\n",
       "      <td>104.0</td>\n",
       "    </tr>\n",
       "    <tr>\n",
       "      <th>2023-11-16</th>\n",
       "      <td>1272</td>\n",
       "      <td>1095</td>\n",
       "      <td>1021</td>\n",
       "      <td>107.0</td>\n",
       "    </tr>\n",
       "    <tr>\n",
       "      <th>2023-11-17</th>\n",
       "      <td>1135</td>\n",
       "      <td>953</td>\n",
       "      <td>875</td>\n",
       "      <td>109.0</td>\n",
       "    </tr>\n",
       "    <tr>\n",
       "      <th>2023-11-18</th>\n",
       "      <td>926</td>\n",
       "      <td>773</td>\n",
       "      <td>732</td>\n",
       "      <td>106.0</td>\n",
       "    </tr>\n",
       "    <tr>\n",
       "      <th>2023-11-19</th>\n",
       "      <td>1060</td>\n",
       "      <td>898</td>\n",
       "      <td>858</td>\n",
       "      <td>105.0</td>\n",
       "    </tr>\n",
       "    <tr>\n",
       "      <th>2023-11-20</th>\n",
       "      <td>1337</td>\n",
       "      <td>1143</td>\n",
       "      <td>1083</td>\n",
       "      <td>106.0</td>\n",
       "    </tr>\n",
       "    <tr>\n",
       "      <th>2023-11-21</th>\n",
       "      <td>1435</td>\n",
       "      <td>1200</td>\n",
       "      <td>1138</td>\n",
       "      <td>105.0</td>\n",
       "    </tr>\n",
       "    <tr>\n",
       "      <th>2023-11-22</th>\n",
       "      <td>638</td>\n",
       "      <td>528</td>\n",
       "      <td>494</td>\n",
       "      <td>107.0</td>\n",
       "    </tr>\n",
       "    <tr>\n",
       "      <th>2023-11-23</th>\n",
       "      <td>487</td>\n",
       "      <td>397</td>\n",
       "      <td>377</td>\n",
       "      <td>105.0</td>\n",
       "    </tr>\n",
       "    <tr>\n",
       "      <th>2023-11-24</th>\n",
       "      <td>558</td>\n",
       "      <td>436</td>\n",
       "      <td>415</td>\n",
       "      <td>105.0</td>\n",
       "    </tr>\n",
       "    <tr>\n",
       "      <th>2023-11-25</th>\n",
       "      <td>769</td>\n",
       "      <td>619</td>\n",
       "      <td>595</td>\n",
       "      <td>104.0</td>\n",
       "    </tr>\n",
       "    <tr>\n",
       "      <th>2023-11-26</th>\n",
       "      <td>849</td>\n",
       "      <td>664</td>\n",
       "      <td>660</td>\n",
       "      <td>101.0</td>\n",
       "    </tr>\n",
       "    <tr>\n",
       "      <th>2023-11-27</th>\n",
       "      <td>1056</td>\n",
       "      <td>858</td>\n",
       "      <td>846</td>\n",
       "      <td>101.0</td>\n",
       "    </tr>\n",
       "    <tr>\n",
       "      <th>2023-11-28</th>\n",
       "      <td>1049</td>\n",
       "      <td>749</td>\n",
       "      <td>734</td>\n",
       "      <td>102.0</td>\n",
       "    </tr>\n",
       "    <tr>\n",
       "      <th>2023-11-29</th>\n",
       "      <td>1115</td>\n",
       "      <td>758</td>\n",
       "      <td>748</td>\n",
       "      <td>101.0</td>\n",
       "    </tr>\n",
       "    <tr>\n",
       "      <th>2023-11-30</th>\n",
       "      <td>1042</td>\n",
       "      <td>664</td>\n",
       "      <td>304</td>\n",
       "      <td>218.0</td>\n",
       "    </tr>\n",
       "  </tbody>\n",
       "</table>\n",
       "</div>"
      ],
      "text/plain": [
       "              id  order_id  er_order_id  percent\n",
       "created                                         \n",
       "2023-11-01   534       467          445    105.0\n",
       "2023-11-02   833       712          682    104.0\n",
       "2023-11-03  1113       927          867    107.0\n",
       "2023-11-04   805       631          589    107.0\n",
       "2023-11-05   863       721          684    105.0\n",
       "2023-11-06  1094       902          857    105.0\n",
       "2023-11-07  1284      1022          941    109.0\n",
       "2023-11-08  1250      1096         1031    106.0\n",
       "2023-11-09  1244      1064         1004    106.0\n",
       "2023-11-10   945       799          757    106.0\n",
       "2023-11-11   965       806          766    105.0\n",
       "2023-11-12  1131       947          889    107.0\n",
       "2023-11-13  1335      1101         1038    106.0\n",
       "2023-11-14  1398      1160         1103    105.0\n",
       "2023-11-15  1309      1128         1085    104.0\n",
       "2023-11-16  1272      1095         1021    107.0\n",
       "2023-11-17  1135       953          875    109.0\n",
       "2023-11-18   926       773          732    106.0\n",
       "2023-11-19  1060       898          858    105.0\n",
       "2023-11-20  1337      1143         1083    106.0\n",
       "2023-11-21  1435      1200         1138    105.0\n",
       "2023-11-22   638       528          494    107.0\n",
       "2023-11-23   487       397          377    105.0\n",
       "2023-11-24   558       436          415    105.0\n",
       "2023-11-25   769       619          595    104.0\n",
       "2023-11-26   849       664          660    101.0\n",
       "2023-11-27  1056       858          846    101.0\n",
       "2023-11-28  1049       749          734    102.0\n",
       "2023-11-29  1115       758          748    101.0\n",
       "2023-11-30  1042       664          304    218.0"
      ]
     },
     "execution_count": 167,
     "metadata": {},
     "output_type": "execute_result"
    }
   ],
   "source": [
    "dfo_erka9_dd"
   ]
  },
  {
   "cell_type": "code",
   "execution_count": null,
   "metadata": {},
   "outputs": [],
   "source": []
  },
  {
   "cell_type": "code",
   "execution_count": null,
   "metadata": {},
   "outputs": [],
   "source": []
  },
  {
   "cell_type": "code",
   "execution_count": null,
   "metadata": {},
   "outputs": [],
   "source": []
  },
  {
   "cell_type": "markdown",
   "metadata": {},
   "source": [
    "## Планета Здоровья 71"
   ]
  },
  {
   "cell_type": "code",
   "execution_count": 168,
   "metadata": {
    "ExecuteTime": {
     "end_time": "2024-01-11T12:33:49.717877Z",
     "start_time": "2024-01-11T12:33:49.433039Z"
    }
   },
   "outputs": [],
   "source": [
    "dfo_pz71 = dfo_pz.merge(dfs71, how='left', left_on='id', right_on='order_id')"
   ]
  },
  {
   "cell_type": "code",
   "execution_count": 169,
   "metadata": {
    "ExecuteTime": {
     "end_time": "2024-01-11T12:33:49.733427Z",
     "start_time": "2024-01-11T12:33:49.720869Z"
    }
   },
   "outputs": [
    {
     "data": {
      "text/plain": [
       "(135264, 14)"
      ]
     },
     "execution_count": 169,
     "metadata": {},
     "output_type": "execute_result"
    }
   ],
   "source": [
    "dfo_pz71.shape"
   ]
  },
  {
   "cell_type": "code",
   "execution_count": 170,
   "metadata": {
    "ExecuteTime": {
     "end_time": "2024-01-11T12:33:50.271585Z",
     "start_time": "2024-01-11T12:33:50.259776Z"
    }
   },
   "outputs": [],
   "source": [
    "# есть 50 дублей, очевидно из-за того, что статусы по 2 раза приходят"
   ]
  },
  {
   "cell_type": "code",
   "execution_count": 171,
   "metadata": {
    "ExecuteTime": {
     "end_time": "2024-01-11T12:33:50.809567Z",
     "start_time": "2024-01-11T12:33:50.617317Z"
    }
   },
   "outputs": [],
   "source": [
    "dfo_pz71 = dfo_pz71.merge(pz71, how='left', left_on='guid', right_on='pz_order_guid')"
   ]
  },
  {
   "cell_type": "code",
   "execution_count": 172,
   "metadata": {
    "ExecuteTime": {
     "end_time": "2024-01-11T12:33:50.841482Z",
     "start_time": "2024-01-11T12:33:50.829514Z"
    }
   },
   "outputs": [],
   "source": [
    "# есть еще 10 дублей, хз почему"
   ]
  },
  {
   "cell_type": "code",
   "execution_count": 173,
   "metadata": {
    "ExecuteTime": {
     "end_time": "2024-01-11T12:33:51.128272Z",
     "start_time": "2024-01-11T12:33:50.994630Z"
    }
   },
   "outputs": [],
   "source": [
    "dfo_pz71_mm = dfo_pz71.groupby('mm', as_index=False) \\\n",
    "                        .agg({'id': 'nunique', \n",
    "                           'order_id': 'nunique', \n",
    "                           'pz_order_guid': 'nunique'})"
   ]
  },
  {
   "cell_type": "code",
   "execution_count": 174,
   "metadata": {
    "ExecuteTime": {
     "end_time": "2024-01-11T12:33:51.477007Z",
     "start_time": "2024-01-11T12:33:51.457232Z"
    }
   },
   "outputs": [],
   "source": [
    "dfo_pz71_mm['percent'] = round(dfo_pz71_mm.order_id / dfo_pz71_mm.pz_order_guid * 100, 0)"
   ]
  },
  {
   "cell_type": "code",
   "execution_count": 175,
   "metadata": {
    "ExecuteTime": {
     "end_time": "2024-01-11T12:33:51.633587Z",
     "start_time": "2024-01-11T12:33:51.617631Z"
    }
   },
   "outputs": [
    {
     "data": {
      "text/html": [
       "<div>\n",
       "<style scoped>\n",
       "    .dataframe tbody tr th:only-of-type {\n",
       "        vertical-align: middle;\n",
       "    }\n",
       "\n",
       "    .dataframe tbody tr th {\n",
       "        vertical-align: top;\n",
       "    }\n",
       "\n",
       "    .dataframe thead th {\n",
       "        text-align: right;\n",
       "    }\n",
       "</style>\n",
       "<table border=\"1\" class=\"dataframe\">\n",
       "  <thead>\n",
       "    <tr style=\"text-align: right;\">\n",
       "      <th></th>\n",
       "      <th>mm</th>\n",
       "      <th>id</th>\n",
       "      <th>order_id</th>\n",
       "      <th>pz_order_guid</th>\n",
       "      <th>percent</th>\n",
       "    </tr>\n",
       "  </thead>\n",
       "  <tbody>\n",
       "    <tr>\n",
       "      <th>0</th>\n",
       "      <td>АСНА</td>\n",
       "      <td>2209</td>\n",
       "      <td>2196</td>\n",
       "      <td>1586</td>\n",
       "      <td>138.0</td>\n",
       "    </tr>\n",
       "    <tr>\n",
       "      <th>1</th>\n",
       "      <td>АналитФармация</td>\n",
       "      <td>2</td>\n",
       "      <td>2</td>\n",
       "      <td>0</td>\n",
       "      <td>inf</td>\n",
       "    </tr>\n",
       "    <tr>\n",
       "      <th>2</th>\n",
       "      <td>АптекаФорте</td>\n",
       "      <td>2258</td>\n",
       "      <td>2145</td>\n",
       "      <td>1580</td>\n",
       "      <td>136.0</td>\n",
       "    </tr>\n",
       "    <tr>\n",
       "      <th>3</th>\n",
       "      <td>В аптеке</td>\n",
       "      <td>241</td>\n",
       "      <td>239</td>\n",
       "      <td>134</td>\n",
       "      <td>178.0</td>\n",
       "    </tr>\n",
       "    <tr>\n",
       "      <th>4</th>\n",
       "      <td>Все аптеки</td>\n",
       "      <td>4266</td>\n",
       "      <td>4240</td>\n",
       "      <td>2980</td>\n",
       "      <td>142.0</td>\n",
       "    </tr>\n",
       "    <tr>\n",
       "      <th>5</th>\n",
       "      <td>ОК Аптека</td>\n",
       "      <td>27</td>\n",
       "      <td>24</td>\n",
       "      <td>5</td>\n",
       "      <td>480.0</td>\n",
       "    </tr>\n",
       "    <tr>\n",
       "      <th>6</th>\n",
       "      <td>Озон RFBS</td>\n",
       "      <td>18211</td>\n",
       "      <td>18100</td>\n",
       "      <td>13672</td>\n",
       "      <td>132.0</td>\n",
       "    </tr>\n",
       "    <tr>\n",
       "      <th>7</th>\n",
       "      <td>Планета Здоровья</td>\n",
       "      <td>47561</td>\n",
       "      <td>47519</td>\n",
       "      <td>0</td>\n",
       "      <td>inf</td>\n",
       "    </tr>\n",
       "    <tr>\n",
       "      <th>8</th>\n",
       "      <td>Сбермегамаркет</td>\n",
       "      <td>2455</td>\n",
       "      <td>2438</td>\n",
       "      <td>1702</td>\n",
       "      <td>143.0</td>\n",
       "    </tr>\n",
       "    <tr>\n",
       "      <th>9</th>\n",
       "      <td>ЦВА</td>\n",
       "      <td>837</td>\n",
       "      <td>833</td>\n",
       "      <td>568</td>\n",
       "      <td>147.0</td>\n",
       "    </tr>\n",
       "    <tr>\n",
       "      <th>10</th>\n",
       "      <td>Ютека</td>\n",
       "      <td>52905</td>\n",
       "      <td>52540</td>\n",
       "      <td>37143</td>\n",
       "      <td>141.0</td>\n",
       "    </tr>\n",
       "    <tr>\n",
       "      <th>11</th>\n",
       "      <td>ЯндексDBS</td>\n",
       "      <td>3172</td>\n",
       "      <td>3166</td>\n",
       "      <td>2388</td>\n",
       "      <td>133.0</td>\n",
       "    </tr>\n",
       "  </tbody>\n",
       "</table>\n",
       "</div>"
      ],
      "text/plain": [
       "                  mm     id  order_id  pz_order_guid  percent\n",
       "0               АСНА   2209      2196           1586    138.0\n",
       "1     АналитФармация      2         2              0      inf\n",
       "2        АптекаФорте   2258      2145           1580    136.0\n",
       "3           В аптеке    241       239            134    178.0\n",
       "4         Все аптеки   4266      4240           2980    142.0\n",
       "5          ОК Аптека     27        24              5    480.0\n",
       "6          Озон RFBS  18211     18100          13672    132.0\n",
       "7   Планета Здоровья  47561     47519              0      inf\n",
       "8     Сбермегамаркет   2455      2438           1702    143.0\n",
       "9                ЦВА    837       833            568    147.0\n",
       "10             Ютека  52905     52540          37143    141.0\n",
       "11         ЯндексDBS   3172      3166           2388    133.0"
      ]
     },
     "execution_count": 175,
     "metadata": {},
     "output_type": "execute_result"
    }
   ],
   "source": [
    "dfo_pz71_mm"
   ]
  },
  {
   "cell_type": "code",
   "execution_count": null,
   "metadata": {},
   "outputs": [],
   "source": []
  },
  {
   "cell_type": "code",
   "execution_count": 176,
   "metadata": {
    "ExecuteTime": {
     "end_time": "2024-01-11T12:33:52.285170Z",
     "start_time": "2024-01-11T12:33:52.145676Z"
    }
   },
   "outputs": [],
   "source": [
    "dfo_pz71_rk = dfo_pz71.groupby('rk', as_index=False).agg({'id': 'nunique', \n",
    "                                               'order_id': 'nunique', \n",
    "                                               'pz_order_guid': 'nunique'})\n",
    "dfo_pz71_rk['percent'] = round(dfo_pz71_rk.order_id / dfo_pz71_rk.pz_order_guid * 100, 0)"
   ]
  },
  {
   "cell_type": "code",
   "execution_count": null,
   "metadata": {},
   "outputs": [],
   "source": []
  },
  {
   "cell_type": "code",
   "execution_count": 177,
   "metadata": {
    "ExecuteTime": {
     "end_time": "2024-01-11T12:33:52.713938Z",
     "start_time": "2024-01-11T12:33:52.688772Z"
    }
   },
   "outputs": [
    {
     "data": {
      "text/html": [
       "<div>\n",
       "<style scoped>\n",
       "    .dataframe tbody tr th:only-of-type {\n",
       "        vertical-align: middle;\n",
       "    }\n",
       "\n",
       "    .dataframe tbody tr th {\n",
       "        vertical-align: top;\n",
       "    }\n",
       "\n",
       "    .dataframe thead th {\n",
       "        text-align: right;\n",
       "    }\n",
       "</style>\n",
       "<table border=\"1\" class=\"dataframe\">\n",
       "  <thead>\n",
       "    <tr style=\"text-align: right;\">\n",
       "      <th></th>\n",
       "      <th>rk</th>\n",
       "      <th>id</th>\n",
       "      <th>order_id</th>\n",
       "      <th>pz_order_guid</th>\n",
       "      <th>percent</th>\n",
       "    </tr>\n",
       "  </thead>\n",
       "  <tbody>\n",
       "    <tr>\n",
       "      <th>0</th>\n",
       "      <td>ООО \"ПУЛЬС Брянск\"</td>\n",
       "      <td>677</td>\n",
       "      <td>676</td>\n",
       "      <td>216</td>\n",
       "      <td>313.0</td>\n",
       "    </tr>\n",
       "    <tr>\n",
       "      <th>1</th>\n",
       "      <td>ООО \"ПУЛЬС Волгоград\"</td>\n",
       "      <td>523</td>\n",
       "      <td>523</td>\n",
       "      <td>0</td>\n",
       "      <td>inf</td>\n",
       "    </tr>\n",
       "    <tr>\n",
       "      <th>2</th>\n",
       "      <td>ООО \"ПУЛЬС Воронеж\"</td>\n",
       "      <td>1018</td>\n",
       "      <td>1016</td>\n",
       "      <td>0</td>\n",
       "      <td>inf</td>\n",
       "    </tr>\n",
       "    <tr>\n",
       "      <th>3</th>\n",
       "      <td>ООО \"ПУЛЬС Екатеринбург\"</td>\n",
       "      <td>33245</td>\n",
       "      <td>33223</td>\n",
       "      <td>10530</td>\n",
       "      <td>316.0</td>\n",
       "    </tr>\n",
       "    <tr>\n",
       "      <th>4</th>\n",
       "      <td>ООО \"ПУЛЬС Иркутск\"</td>\n",
       "      <td>90</td>\n",
       "      <td>90</td>\n",
       "      <td>66</td>\n",
       "      <td>136.0</td>\n",
       "    </tr>\n",
       "    <tr>\n",
       "      <th>5</th>\n",
       "      <td>ООО \"ПУЛЬС Казань\"</td>\n",
       "      <td>14098</td>\n",
       "      <td>14091</td>\n",
       "      <td>4305</td>\n",
       "      <td>327.0</td>\n",
       "    </tr>\n",
       "    <tr>\n",
       "      <th>6</th>\n",
       "      <td>ООО \"ПУЛЬС Краснодар\"</td>\n",
       "      <td>2287</td>\n",
       "      <td>2285</td>\n",
       "      <td>573</td>\n",
       "      <td>399.0</td>\n",
       "    </tr>\n",
       "    <tr>\n",
       "      <th>7</th>\n",
       "      <td>ООО \"ПУЛЬС Новосибирск\"</td>\n",
       "      <td>1200</td>\n",
       "      <td>1199</td>\n",
       "      <td>417</td>\n",
       "      <td>288.0</td>\n",
       "    </tr>\n",
       "    <tr>\n",
       "      <th>8</th>\n",
       "      <td>ООО \"ПУЛЬС СПб\"</td>\n",
       "      <td>5358</td>\n",
       "      <td>5347</td>\n",
       "      <td>2707</td>\n",
       "      <td>198.0</td>\n",
       "    </tr>\n",
       "    <tr>\n",
       "      <th>9</th>\n",
       "      <td>ООО \"ПУЛЬС Самара\"</td>\n",
       "      <td>917</td>\n",
       "      <td>877</td>\n",
       "      <td>0</td>\n",
       "      <td>inf</td>\n",
       "    </tr>\n",
       "    <tr>\n",
       "      <th>10</th>\n",
       "      <td>ООО \"ПУЛЬС Хабаровск\"</td>\n",
       "      <td>493</td>\n",
       "      <td>485</td>\n",
       "      <td>138</td>\n",
       "      <td>351.0</td>\n",
       "    </tr>\n",
       "    <tr>\n",
       "      <th>11</th>\n",
       "      <td>ООО \"ПУЛЬС Ярославль\"</td>\n",
       "      <td>3345</td>\n",
       "      <td>3344</td>\n",
       "      <td>1313</td>\n",
       "      <td>255.0</td>\n",
       "    </tr>\n",
       "    <tr>\n",
       "      <th>12</th>\n",
       "      <td>ООО \"ФК ПУЛЬС\"</td>\n",
       "      <td>70893</td>\n",
       "      <td>70286</td>\n",
       "      <td>41493</td>\n",
       "      <td>169.0</td>\n",
       "    </tr>\n",
       "  </tbody>\n",
       "</table>\n",
       "</div>"
      ],
      "text/plain": [
       "                          rk     id  order_id  pz_order_guid  percent\n",
       "0         ООО \"ПУЛЬС Брянск\"    677       676            216    313.0\n",
       "1      ООО \"ПУЛЬС Волгоград\"    523       523              0      inf\n",
       "2        ООО \"ПУЛЬС Воронеж\"   1018      1016              0      inf\n",
       "3   ООО \"ПУЛЬС Екатеринбург\"  33245     33223          10530    316.0\n",
       "4        ООО \"ПУЛЬС Иркутск\"     90        90             66    136.0\n",
       "5         ООО \"ПУЛЬС Казань\"  14098     14091           4305    327.0\n",
       "6      ООО \"ПУЛЬС Краснодар\"   2287      2285            573    399.0\n",
       "7    ООО \"ПУЛЬС Новосибирск\"   1200      1199            417    288.0\n",
       "8            ООО \"ПУЛЬС СПб\"   5358      5347           2707    198.0\n",
       "9         ООО \"ПУЛЬС Самара\"    917       877              0      inf\n",
       "10     ООО \"ПУЛЬС Хабаровск\"    493       485            138    351.0\n",
       "11     ООО \"ПУЛЬС Ярославль\"   3345      3344           1313    255.0\n",
       "12            ООО \"ФК ПУЛЬС\"  70893     70286          41493    169.0"
      ]
     },
     "execution_count": 177,
     "metadata": {},
     "output_type": "execute_result"
    }
   ],
   "source": [
    "dfo_pz71_rk"
   ]
  },
  {
   "cell_type": "code",
   "execution_count": 178,
   "metadata": {
    "ExecuteTime": {
     "end_time": "2024-01-11T12:33:53.093529Z",
     "start_time": "2024-01-11T12:33:52.890072Z"
    }
   },
   "outputs": [],
   "source": [
    "dfo_pz71_dd = dfo_pz71.groupby(dfo_pz71.created.dt.date) \\\n",
    "                        .agg({'id': 'nunique', \n",
    "                           'order_id': 'nunique', \n",
    "                           'pz_order_guid': 'nunique'})\n",
    "dfo_pz71_dd['percent'] = round(dfo_pz71_dd.order_id / dfo_pz71_dd.pz_order_guid * 100, 0)"
   ]
  },
  {
   "cell_type": "code",
   "execution_count": 179,
   "metadata": {
    "ExecuteTime": {
     "end_time": "2024-01-11T12:33:53.125443Z",
     "start_time": "2024-01-11T12:33:53.096493Z"
    }
   },
   "outputs": [
    {
     "data": {
      "text/html": [
       "<div>\n",
       "<style scoped>\n",
       "    .dataframe tbody tr th:only-of-type {\n",
       "        vertical-align: middle;\n",
       "    }\n",
       "\n",
       "    .dataframe tbody tr th {\n",
       "        vertical-align: top;\n",
       "    }\n",
       "\n",
       "    .dataframe thead th {\n",
       "        text-align: right;\n",
       "    }\n",
       "</style>\n",
       "<table border=\"1\" class=\"dataframe\">\n",
       "  <thead>\n",
       "    <tr style=\"text-align: right;\">\n",
       "      <th></th>\n",
       "      <th>id</th>\n",
       "      <th>order_id</th>\n",
       "      <th>pz_order_guid</th>\n",
       "      <th>percent</th>\n",
       "    </tr>\n",
       "    <tr>\n",
       "      <th>created</th>\n",
       "      <th></th>\n",
       "      <th></th>\n",
       "      <th></th>\n",
       "      <th></th>\n",
       "    </tr>\n",
       "  </thead>\n",
       "  <tbody>\n",
       "    <tr>\n",
       "      <th>2023-11-01</th>\n",
       "      <td>4710</td>\n",
       "      <td>4705</td>\n",
       "      <td>1</td>\n",
       "      <td>470500.0</td>\n",
       "    </tr>\n",
       "    <tr>\n",
       "      <th>2023-11-02</th>\n",
       "      <td>4897</td>\n",
       "      <td>4892</td>\n",
       "      <td>2</td>\n",
       "      <td>244600.0</td>\n",
       "    </tr>\n",
       "    <tr>\n",
       "      <th>2023-11-03</th>\n",
       "      <td>3847</td>\n",
       "      <td>3838</td>\n",
       "      <td>10</td>\n",
       "      <td>38380.0</td>\n",
       "    </tr>\n",
       "    <tr>\n",
       "      <th>2023-11-04</th>\n",
       "      <td>3377</td>\n",
       "      <td>3356</td>\n",
       "      <td>13</td>\n",
       "      <td>25815.0</td>\n",
       "    </tr>\n",
       "    <tr>\n",
       "      <th>2023-11-05</th>\n",
       "      <td>3839</td>\n",
       "      <td>3816</td>\n",
       "      <td>15</td>\n",
       "      <td>25440.0</td>\n",
       "    </tr>\n",
       "    <tr>\n",
       "      <th>2023-11-06</th>\n",
       "      <td>4656</td>\n",
       "      <td>4628</td>\n",
       "      <td>28</td>\n",
       "      <td>16529.0</td>\n",
       "    </tr>\n",
       "    <tr>\n",
       "      <th>2023-11-07</th>\n",
       "      <td>5337</td>\n",
       "      <td>5316</td>\n",
       "      <td>127</td>\n",
       "      <td>4186.0</td>\n",
       "    </tr>\n",
       "    <tr>\n",
       "      <th>2023-11-08</th>\n",
       "      <td>5415</td>\n",
       "      <td>5397</td>\n",
       "      <td>593</td>\n",
       "      <td>910.0</td>\n",
       "    </tr>\n",
       "    <tr>\n",
       "      <th>2023-11-09</th>\n",
       "      <td>4925</td>\n",
       "      <td>4905</td>\n",
       "      <td>3290</td>\n",
       "      <td>149.0</td>\n",
       "    </tr>\n",
       "    <tr>\n",
       "      <th>2023-11-10</th>\n",
       "      <td>4570</td>\n",
       "      <td>4565</td>\n",
       "      <td>2988</td>\n",
       "      <td>153.0</td>\n",
       "    </tr>\n",
       "    <tr>\n",
       "      <th>2023-11-11</th>\n",
       "      <td>3455</td>\n",
       "      <td>3441</td>\n",
       "      <td>2576</td>\n",
       "      <td>134.0</td>\n",
       "    </tr>\n",
       "    <tr>\n",
       "      <th>2023-11-12</th>\n",
       "      <td>4437</td>\n",
       "      <td>4431</td>\n",
       "      <td>2938</td>\n",
       "      <td>151.0</td>\n",
       "    </tr>\n",
       "    <tr>\n",
       "      <th>2023-11-13</th>\n",
       "      <td>5144</td>\n",
       "      <td>5134</td>\n",
       "      <td>3255</td>\n",
       "      <td>158.0</td>\n",
       "    </tr>\n",
       "    <tr>\n",
       "      <th>2023-11-14</th>\n",
       "      <td>5163</td>\n",
       "      <td>5153</td>\n",
       "      <td>3230</td>\n",
       "      <td>160.0</td>\n",
       "    </tr>\n",
       "    <tr>\n",
       "      <th>2023-11-15</th>\n",
       "      <td>4934</td>\n",
       "      <td>4921</td>\n",
       "      <td>3147</td>\n",
       "      <td>156.0</td>\n",
       "    </tr>\n",
       "    <tr>\n",
       "      <th>2023-11-16</th>\n",
       "      <td>4919</td>\n",
       "      <td>4903</td>\n",
       "      <td>3173</td>\n",
       "      <td>155.0</td>\n",
       "    </tr>\n",
       "    <tr>\n",
       "      <th>2023-11-17</th>\n",
       "      <td>4377</td>\n",
       "      <td>4365</td>\n",
       "      <td>2791</td>\n",
       "      <td>156.0</td>\n",
       "    </tr>\n",
       "    <tr>\n",
       "      <th>2023-11-18</th>\n",
       "      <td>3427</td>\n",
       "      <td>3424</td>\n",
       "      <td>2146</td>\n",
       "      <td>160.0</td>\n",
       "    </tr>\n",
       "    <tr>\n",
       "      <th>2023-11-19</th>\n",
       "      <td>4390</td>\n",
       "      <td>4385</td>\n",
       "      <td>2618</td>\n",
       "      <td>167.0</td>\n",
       "    </tr>\n",
       "    <tr>\n",
       "      <th>2023-11-20</th>\n",
       "      <td>5119</td>\n",
       "      <td>5092</td>\n",
       "      <td>3266</td>\n",
       "      <td>156.0</td>\n",
       "    </tr>\n",
       "    <tr>\n",
       "      <th>2023-11-21</th>\n",
       "      <td>5225</td>\n",
       "      <td>5184</td>\n",
       "      <td>3274</td>\n",
       "      <td>158.0</td>\n",
       "    </tr>\n",
       "    <tr>\n",
       "      <th>2023-11-22</th>\n",
       "      <td>4988</td>\n",
       "      <td>4965</td>\n",
       "      <td>2964</td>\n",
       "      <td>168.0</td>\n",
       "    </tr>\n",
       "    <tr>\n",
       "      <th>2023-11-23</th>\n",
       "      <td>4397</td>\n",
       "      <td>4373</td>\n",
       "      <td>2637</td>\n",
       "      <td>166.0</td>\n",
       "    </tr>\n",
       "    <tr>\n",
       "      <th>2023-11-24</th>\n",
       "      <td>3914</td>\n",
       "      <td>3895</td>\n",
       "      <td>2428</td>\n",
       "      <td>160.0</td>\n",
       "    </tr>\n",
       "    <tr>\n",
       "      <th>2023-11-25</th>\n",
       "      <td>2839</td>\n",
       "      <td>2828</td>\n",
       "      <td>1920</td>\n",
       "      <td>147.0</td>\n",
       "    </tr>\n",
       "    <tr>\n",
       "      <th>2023-11-26</th>\n",
       "      <td>3525</td>\n",
       "      <td>3515</td>\n",
       "      <td>2105</td>\n",
       "      <td>167.0</td>\n",
       "    </tr>\n",
       "    <tr>\n",
       "      <th>2023-11-27</th>\n",
       "      <td>4482</td>\n",
       "      <td>4466</td>\n",
       "      <td>2725</td>\n",
       "      <td>164.0</td>\n",
       "    </tr>\n",
       "    <tr>\n",
       "      <th>2023-11-28</th>\n",
       "      <td>4913</td>\n",
       "      <td>4874</td>\n",
       "      <td>2766</td>\n",
       "      <td>176.0</td>\n",
       "    </tr>\n",
       "    <tr>\n",
       "      <th>2023-11-29</th>\n",
       "      <td>4248</td>\n",
       "      <td>4185</td>\n",
       "      <td>2550</td>\n",
       "      <td>164.0</td>\n",
       "    </tr>\n",
       "    <tr>\n",
       "      <th>2023-11-30</th>\n",
       "      <td>4675</td>\n",
       "      <td>4490</td>\n",
       "      <td>2182</td>\n",
       "      <td>206.0</td>\n",
       "    </tr>\n",
       "  </tbody>\n",
       "</table>\n",
       "</div>"
      ],
      "text/plain": [
       "              id  order_id  pz_order_guid   percent\n",
       "created                                            \n",
       "2023-11-01  4710      4705              1  470500.0\n",
       "2023-11-02  4897      4892              2  244600.0\n",
       "2023-11-03  3847      3838             10   38380.0\n",
       "2023-11-04  3377      3356             13   25815.0\n",
       "2023-11-05  3839      3816             15   25440.0\n",
       "2023-11-06  4656      4628             28   16529.0\n",
       "2023-11-07  5337      5316            127    4186.0\n",
       "2023-11-08  5415      5397            593     910.0\n",
       "2023-11-09  4925      4905           3290     149.0\n",
       "2023-11-10  4570      4565           2988     153.0\n",
       "2023-11-11  3455      3441           2576     134.0\n",
       "2023-11-12  4437      4431           2938     151.0\n",
       "2023-11-13  5144      5134           3255     158.0\n",
       "2023-11-14  5163      5153           3230     160.0\n",
       "2023-11-15  4934      4921           3147     156.0\n",
       "2023-11-16  4919      4903           3173     155.0\n",
       "2023-11-17  4377      4365           2791     156.0\n",
       "2023-11-18  3427      3424           2146     160.0\n",
       "2023-11-19  4390      4385           2618     167.0\n",
       "2023-11-20  5119      5092           3266     156.0\n",
       "2023-11-21  5225      5184           3274     158.0\n",
       "2023-11-22  4988      4965           2964     168.0\n",
       "2023-11-23  4397      4373           2637     166.0\n",
       "2023-11-24  3914      3895           2428     160.0\n",
       "2023-11-25  2839      2828           1920     147.0\n",
       "2023-11-26  3525      3515           2105     167.0\n",
       "2023-11-27  4482      4466           2725     164.0\n",
       "2023-11-28  4913      4874           2766     176.0\n",
       "2023-11-29  4248      4185           2550     164.0\n",
       "2023-11-30  4675      4490           2182     206.0"
      ]
     },
     "execution_count": 179,
     "metadata": {},
     "output_type": "execute_result"
    }
   ],
   "source": [
    "dfo_pz71_dd"
   ]
  },
  {
   "cell_type": "code",
   "execution_count": null,
   "metadata": {},
   "outputs": [],
   "source": []
  },
  {
   "cell_type": "code",
   "execution_count": null,
   "metadata": {},
   "outputs": [],
   "source": []
  },
  {
   "cell_type": "code",
   "execution_count": null,
   "metadata": {},
   "outputs": [],
   "source": []
  },
  {
   "cell_type": "markdown",
   "metadata": {},
   "source": [
    "## Планета Здоровья 9"
   ]
  },
  {
   "cell_type": "code",
   "execution_count": 180,
   "metadata": {
    "ExecuteTime": {
     "end_time": "2024-01-11T12:33:54.423593Z",
     "start_time": "2024-01-11T12:33:54.120980Z"
    }
   },
   "outputs": [],
   "source": [
    "dfo_pz9 = dfo_pz.merge(dfs9, how='left', left_on='id', right_on='order_id')"
   ]
  },
  {
   "cell_type": "code",
   "execution_count": 181,
   "metadata": {
    "ExecuteTime": {
     "end_time": "2024-01-11T12:33:54.439137Z",
     "start_time": "2024-01-11T12:33:54.426609Z"
    }
   },
   "outputs": [
    {
     "data": {
      "text/plain": [
       "(134223, 14)"
      ]
     },
     "execution_count": 181,
     "metadata": {},
     "output_type": "execute_result"
    }
   ],
   "source": [
    "dfo_pz9.shape"
   ]
  },
  {
   "cell_type": "code",
   "execution_count": 182,
   "metadata": {
    "ExecuteTime": {
     "end_time": "2024-01-11T12:33:54.501939Z",
     "start_time": "2024-01-11T12:33:54.481992Z"
    }
   },
   "outputs": [],
   "source": [
    "# есть 50 дублей, очевидно из-за того, что статусы по 2 раза приходят"
   ]
  },
  {
   "cell_type": "code",
   "execution_count": 183,
   "metadata": {
    "ExecuteTime": {
     "end_time": "2024-01-11T12:33:54.852564Z",
     "start_time": "2024-01-11T12:33:54.664885Z"
    }
   },
   "outputs": [],
   "source": [
    "dfo_pz9 = dfo_pz9.merge(pz9, how='left', left_on='guid', right_on='pz_order_guid')"
   ]
  },
  {
   "cell_type": "code",
   "execution_count": 184,
   "metadata": {
    "ExecuteTime": {
     "end_time": "2024-01-11T12:33:54.868487Z",
     "start_time": "2024-01-11T12:33:54.855525Z"
    }
   },
   "outputs": [],
   "source": [
    "# есть еще 10 дублей, хз почему"
   ]
  },
  {
   "cell_type": "code",
   "execution_count": 185,
   "metadata": {
    "ExecuteTime": {
     "end_time": "2024-01-11T12:33:55.153255Z",
     "start_time": "2024-01-11T12:33:55.017585Z"
    }
   },
   "outputs": [],
   "source": [
    "dfo_pz9_mm = dfo_pz9.groupby('mm', as_index=False) \\\n",
    "                        .agg({'id': 'nunique', \n",
    "                           'order_id': 'nunique', \n",
    "                           'pz_order_guid': 'nunique'})"
   ]
  },
  {
   "cell_type": "code",
   "execution_count": 186,
   "metadata": {
    "ExecuteTime": {
     "end_time": "2024-01-11T12:33:55.231044Z",
     "start_time": "2024-01-11T12:33:55.210072Z"
    }
   },
   "outputs": [],
   "source": [
    "dfo_pz9_mm['percent'] = round(dfo_pz9_mm.order_id / dfo_pz9_mm.pz_order_guid * 100, 0)"
   ]
  },
  {
   "cell_type": "code",
   "execution_count": 187,
   "metadata": {
    "ExecuteTime": {
     "end_time": "2024-01-11T12:33:55.437461Z",
     "start_time": "2024-01-11T12:33:55.409535Z"
    }
   },
   "outputs": [
    {
     "data": {
      "text/html": [
       "<div>\n",
       "<style scoped>\n",
       "    .dataframe tbody tr th:only-of-type {\n",
       "        vertical-align: middle;\n",
       "    }\n",
       "\n",
       "    .dataframe tbody tr th {\n",
       "        vertical-align: top;\n",
       "    }\n",
       "\n",
       "    .dataframe thead th {\n",
       "        text-align: right;\n",
       "    }\n",
       "</style>\n",
       "<table border=\"1\" class=\"dataframe\">\n",
       "  <thead>\n",
       "    <tr style=\"text-align: right;\">\n",
       "      <th></th>\n",
       "      <th>mm</th>\n",
       "      <th>id</th>\n",
       "      <th>order_id</th>\n",
       "      <th>pz_order_guid</th>\n",
       "      <th>percent</th>\n",
       "    </tr>\n",
       "  </thead>\n",
       "  <tbody>\n",
       "    <tr>\n",
       "      <th>0</th>\n",
       "      <td>АСНА</td>\n",
       "      <td>2209</td>\n",
       "      <td>1881</td>\n",
       "      <td>1329</td>\n",
       "      <td>142.0</td>\n",
       "    </tr>\n",
       "    <tr>\n",
       "      <th>1</th>\n",
       "      <td>АналитФармация</td>\n",
       "      <td>2</td>\n",
       "      <td>2</td>\n",
       "      <td>0</td>\n",
       "      <td>inf</td>\n",
       "    </tr>\n",
       "    <tr>\n",
       "      <th>2</th>\n",
       "      <td>АптекаФорте</td>\n",
       "      <td>2258</td>\n",
       "      <td>1676</td>\n",
       "      <td>1556</td>\n",
       "      <td>108.0</td>\n",
       "    </tr>\n",
       "    <tr>\n",
       "      <th>3</th>\n",
       "      <td>В аптеке</td>\n",
       "      <td>241</td>\n",
       "      <td>238</td>\n",
       "      <td>124</td>\n",
       "      <td>192.0</td>\n",
       "    </tr>\n",
       "    <tr>\n",
       "      <th>4</th>\n",
       "      <td>Все аптеки</td>\n",
       "      <td>4266</td>\n",
       "      <td>3793</td>\n",
       "      <td>2615</td>\n",
       "      <td>145.0</td>\n",
       "    </tr>\n",
       "    <tr>\n",
       "      <th>5</th>\n",
       "      <td>ОК Аптека</td>\n",
       "      <td>27</td>\n",
       "      <td>26</td>\n",
       "      <td>4</td>\n",
       "      <td>650.0</td>\n",
       "    </tr>\n",
       "    <tr>\n",
       "      <th>6</th>\n",
       "      <td>Озон RFBS</td>\n",
       "      <td>18211</td>\n",
       "      <td>16228</td>\n",
       "      <td>12492</td>\n",
       "      <td>130.0</td>\n",
       "    </tr>\n",
       "    <tr>\n",
       "      <th>7</th>\n",
       "      <td>Планета Здоровья</td>\n",
       "      <td>47561</td>\n",
       "      <td>37260</td>\n",
       "      <td>0</td>\n",
       "      <td>inf</td>\n",
       "    </tr>\n",
       "    <tr>\n",
       "      <th>8</th>\n",
       "      <td>Сбермегамаркет</td>\n",
       "      <td>2455</td>\n",
       "      <td>2268</td>\n",
       "      <td>1710</td>\n",
       "      <td>133.0</td>\n",
       "    </tr>\n",
       "    <tr>\n",
       "      <th>9</th>\n",
       "      <td>ЦВА</td>\n",
       "      <td>837</td>\n",
       "      <td>677</td>\n",
       "      <td>458</td>\n",
       "      <td>148.0</td>\n",
       "    </tr>\n",
       "    <tr>\n",
       "      <th>10</th>\n",
       "      <td>Ютека</td>\n",
       "      <td>52905</td>\n",
       "      <td>48619</td>\n",
       "      <td>34708</td>\n",
       "      <td>140.0</td>\n",
       "    </tr>\n",
       "    <tr>\n",
       "      <th>11</th>\n",
       "      <td>ЯндексDBS</td>\n",
       "      <td>3172</td>\n",
       "      <td>2902</td>\n",
       "      <td>2290</td>\n",
       "      <td>127.0</td>\n",
       "    </tr>\n",
       "  </tbody>\n",
       "</table>\n",
       "</div>"
      ],
      "text/plain": [
       "                  mm     id  order_id  pz_order_guid  percent\n",
       "0               АСНА   2209      1881           1329    142.0\n",
       "1     АналитФармация      2         2              0      inf\n",
       "2        АптекаФорте   2258      1676           1556    108.0\n",
       "3           В аптеке    241       238            124    192.0\n",
       "4         Все аптеки   4266      3793           2615    145.0\n",
       "5          ОК Аптека     27        26              4    650.0\n",
       "6          Озон RFBS  18211     16228          12492    130.0\n",
       "7   Планета Здоровья  47561     37260              0      inf\n",
       "8     Сбермегамаркет   2455      2268           1710    133.0\n",
       "9                ЦВА    837       677            458    148.0\n",
       "10             Ютека  52905     48619          34708    140.0\n",
       "11         ЯндексDBS   3172      2902           2290    127.0"
      ]
     },
     "execution_count": 187,
     "metadata": {},
     "output_type": "execute_result"
    }
   ],
   "source": [
    "dfo_pz9_mm"
   ]
  },
  {
   "cell_type": "code",
   "execution_count": null,
   "metadata": {},
   "outputs": [],
   "source": []
  },
  {
   "cell_type": "code",
   "execution_count": 188,
   "metadata": {
    "ExecuteTime": {
     "end_time": "2024-01-11T12:33:55.911663Z",
     "start_time": "2024-01-11T12:33:55.776584Z"
    }
   },
   "outputs": [],
   "source": [
    "dfo_pz9_rk = dfo_pz9.groupby('rk', as_index=False).agg({'id': 'nunique', \n",
    "                                               'order_id': 'nunique', \n",
    "                                               'pz_order_guid': 'nunique'})\n",
    "dfo_pz9_rk['percent'] = round(dfo_pz9_rk.order_id / dfo_pz9_rk.pz_order_guid * 100, 0)"
   ]
  },
  {
   "cell_type": "code",
   "execution_count": 189,
   "metadata": {
    "ExecuteTime": {
     "end_time": "2024-01-11T12:33:55.991445Z",
     "start_time": "2024-01-11T12:33:55.969474Z"
    }
   },
   "outputs": [
    {
     "data": {
      "text/html": [
       "<div>\n",
       "<style scoped>\n",
       "    .dataframe tbody tr th:only-of-type {\n",
       "        vertical-align: middle;\n",
       "    }\n",
       "\n",
       "    .dataframe tbody tr th {\n",
       "        vertical-align: top;\n",
       "    }\n",
       "\n",
       "    .dataframe thead th {\n",
       "        text-align: right;\n",
       "    }\n",
       "</style>\n",
       "<table border=\"1\" class=\"dataframe\">\n",
       "  <thead>\n",
       "    <tr style=\"text-align: right;\">\n",
       "      <th></th>\n",
       "      <th>rk</th>\n",
       "      <th>id</th>\n",
       "      <th>order_id</th>\n",
       "      <th>pz_order_guid</th>\n",
       "      <th>percent</th>\n",
       "    </tr>\n",
       "  </thead>\n",
       "  <tbody>\n",
       "    <tr>\n",
       "      <th>0</th>\n",
       "      <td>ООО \"ПУЛЬС Брянск\"</td>\n",
       "      <td>677</td>\n",
       "      <td>581</td>\n",
       "      <td>212</td>\n",
       "      <td>274.0</td>\n",
       "    </tr>\n",
       "    <tr>\n",
       "      <th>1</th>\n",
       "      <td>ООО \"ПУЛЬС Волгоград\"</td>\n",
       "      <td>523</td>\n",
       "      <td>419</td>\n",
       "      <td>0</td>\n",
       "      <td>inf</td>\n",
       "    </tr>\n",
       "    <tr>\n",
       "      <th>2</th>\n",
       "      <td>ООО \"ПУЛЬС Воронеж\"</td>\n",
       "      <td>1018</td>\n",
       "      <td>811</td>\n",
       "      <td>0</td>\n",
       "      <td>inf</td>\n",
       "    </tr>\n",
       "    <tr>\n",
       "      <th>3</th>\n",
       "      <td>ООО \"ПУЛЬС Екатеринбург\"</td>\n",
       "      <td>33245</td>\n",
       "      <td>28047</td>\n",
       "      <td>9906</td>\n",
       "      <td>283.0</td>\n",
       "    </tr>\n",
       "    <tr>\n",
       "      <th>4</th>\n",
       "      <td>ООО \"ПУЛЬС Иркутск\"</td>\n",
       "      <td>90</td>\n",
       "      <td>89</td>\n",
       "      <td>73</td>\n",
       "      <td>122.0</td>\n",
       "    </tr>\n",
       "    <tr>\n",
       "      <th>5</th>\n",
       "      <td>ООО \"ПУЛЬС Казань\"</td>\n",
       "      <td>14098</td>\n",
       "      <td>11912</td>\n",
       "      <td>4079</td>\n",
       "      <td>292.0</td>\n",
       "    </tr>\n",
       "    <tr>\n",
       "      <th>6</th>\n",
       "      <td>ООО \"ПУЛЬС Краснодар\"</td>\n",
       "      <td>2287</td>\n",
       "      <td>1835</td>\n",
       "      <td>515</td>\n",
       "      <td>356.0</td>\n",
       "    </tr>\n",
       "    <tr>\n",
       "      <th>7</th>\n",
       "      <td>ООО \"ПУЛЬС Новосибирск\"</td>\n",
       "      <td>1200</td>\n",
       "      <td>997</td>\n",
       "      <td>373</td>\n",
       "      <td>267.0</td>\n",
       "    </tr>\n",
       "    <tr>\n",
       "      <th>8</th>\n",
       "      <td>ООО \"ПУЛЬС СПб\"</td>\n",
       "      <td>5358</td>\n",
       "      <td>4628</td>\n",
       "      <td>2503</td>\n",
       "      <td>185.0</td>\n",
       "    </tr>\n",
       "    <tr>\n",
       "      <th>9</th>\n",
       "      <td>ООО \"ПУЛЬС Самара\"</td>\n",
       "      <td>917</td>\n",
       "      <td>689</td>\n",
       "      <td>0</td>\n",
       "      <td>inf</td>\n",
       "    </tr>\n",
       "    <tr>\n",
       "      <th>10</th>\n",
       "      <td>ООО \"ПУЛЬС Хабаровск\"</td>\n",
       "      <td>493</td>\n",
       "      <td>368</td>\n",
       "      <td>120</td>\n",
       "      <td>307.0</td>\n",
       "    </tr>\n",
       "    <tr>\n",
       "      <th>11</th>\n",
       "      <td>ООО \"ПУЛЬС Ярославль\"</td>\n",
       "      <td>3345</td>\n",
       "      <td>2910</td>\n",
       "      <td>1270</td>\n",
       "      <td>229.0</td>\n",
       "    </tr>\n",
       "    <tr>\n",
       "      <th>12</th>\n",
       "      <td>ООО \"ФК ПУЛЬС\"</td>\n",
       "      <td>70893</td>\n",
       "      <td>62284</td>\n",
       "      <td>38235</td>\n",
       "      <td>163.0</td>\n",
       "    </tr>\n",
       "  </tbody>\n",
       "</table>\n",
       "</div>"
      ],
      "text/plain": [
       "                          rk     id  order_id  pz_order_guid  percent\n",
       "0         ООО \"ПУЛЬС Брянск\"    677       581            212    274.0\n",
       "1      ООО \"ПУЛЬС Волгоград\"    523       419              0      inf\n",
       "2        ООО \"ПУЛЬС Воронеж\"   1018       811              0      inf\n",
       "3   ООО \"ПУЛЬС Екатеринбург\"  33245     28047           9906    283.0\n",
       "4        ООО \"ПУЛЬС Иркутск\"     90        89             73    122.0\n",
       "5         ООО \"ПУЛЬС Казань\"  14098     11912           4079    292.0\n",
       "6      ООО \"ПУЛЬС Краснодар\"   2287      1835            515    356.0\n",
       "7    ООО \"ПУЛЬС Новосибирск\"   1200       997            373    267.0\n",
       "8            ООО \"ПУЛЬС СПб\"   5358      4628           2503    185.0\n",
       "9         ООО \"ПУЛЬС Самара\"    917       689              0      inf\n",
       "10     ООО \"ПУЛЬС Хабаровск\"    493       368            120    307.0\n",
       "11     ООО \"ПУЛЬС Ярославль\"   3345      2910           1270    229.0\n",
       "12            ООО \"ФК ПУЛЬС\"  70893     62284          38235    163.0"
      ]
     },
     "execution_count": 189,
     "metadata": {},
     "output_type": "execute_result"
    }
   ],
   "source": [
    "dfo_pz9_rk"
   ]
  },
  {
   "cell_type": "code",
   "execution_count": 190,
   "metadata": {
    "ExecuteTime": {
     "end_time": "2024-01-11T12:33:56.353008Z",
     "start_time": "2024-01-11T12:33:56.153541Z"
    }
   },
   "outputs": [],
   "source": [
    "dfo_pz9_dd = dfo_pz9.groupby(dfo_pz9.created.dt.date) \\\n",
    "                        .agg({'id': 'nunique', \n",
    "                           'order_id': 'nunique', \n",
    "                           'pz_order_guid': 'nunique'})\n",
    "dfo_pz9_dd['percent'] = round(dfo_pz9_dd.order_id / dfo_pz9_dd.pz_order_guid * 100, 0)"
   ]
  },
  {
   "cell_type": "code",
   "execution_count": 191,
   "metadata": {
    "ExecuteTime": {
     "end_time": "2024-01-11T12:33:56.383925Z",
     "start_time": "2024-01-11T12:33:56.356001Z"
    }
   },
   "outputs": [
    {
     "data": {
      "text/html": [
       "<div>\n",
       "<style scoped>\n",
       "    .dataframe tbody tr th:only-of-type {\n",
       "        vertical-align: middle;\n",
       "    }\n",
       "\n",
       "    .dataframe tbody tr th {\n",
       "        vertical-align: top;\n",
       "    }\n",
       "\n",
       "    .dataframe thead th {\n",
       "        text-align: right;\n",
       "    }\n",
       "</style>\n",
       "<table border=\"1\" class=\"dataframe\">\n",
       "  <thead>\n",
       "    <tr style=\"text-align: right;\">\n",
       "      <th></th>\n",
       "      <th>id</th>\n",
       "      <th>order_id</th>\n",
       "      <th>pz_order_guid</th>\n",
       "      <th>percent</th>\n",
       "    </tr>\n",
       "    <tr>\n",
       "      <th>created</th>\n",
       "      <th></th>\n",
       "      <th></th>\n",
       "      <th></th>\n",
       "      <th></th>\n",
       "    </tr>\n",
       "  </thead>\n",
       "  <tbody>\n",
       "    <tr>\n",
       "      <th>2023-11-01</th>\n",
       "      <td>4710</td>\n",
       "      <td>4164</td>\n",
       "      <td>222</td>\n",
       "      <td>1876.0</td>\n",
       "    </tr>\n",
       "    <tr>\n",
       "      <th>2023-11-02</th>\n",
       "      <td>4897</td>\n",
       "      <td>4286</td>\n",
       "      <td>254</td>\n",
       "      <td>1687.0</td>\n",
       "    </tr>\n",
       "    <tr>\n",
       "      <th>2023-11-03</th>\n",
       "      <td>3847</td>\n",
       "      <td>3412</td>\n",
       "      <td>353</td>\n",
       "      <td>967.0</td>\n",
       "    </tr>\n",
       "    <tr>\n",
       "      <th>2023-11-04</th>\n",
       "      <td>3377</td>\n",
       "      <td>2908</td>\n",
       "      <td>351</td>\n",
       "      <td>828.0</td>\n",
       "    </tr>\n",
       "    <tr>\n",
       "      <th>2023-11-05</th>\n",
       "      <td>3839</td>\n",
       "      <td>3363</td>\n",
       "      <td>371</td>\n",
       "      <td>906.0</td>\n",
       "    </tr>\n",
       "    <tr>\n",
       "      <th>2023-11-06</th>\n",
       "      <td>4656</td>\n",
       "      <td>4103</td>\n",
       "      <td>511</td>\n",
       "      <td>803.0</td>\n",
       "    </tr>\n",
       "    <tr>\n",
       "      <th>2023-11-07</th>\n",
       "      <td>5337</td>\n",
       "      <td>4614</td>\n",
       "      <td>989</td>\n",
       "      <td>467.0</td>\n",
       "    </tr>\n",
       "    <tr>\n",
       "      <th>2023-11-08</th>\n",
       "      <td>5415</td>\n",
       "      <td>4748</td>\n",
       "      <td>1866</td>\n",
       "      <td>254.0</td>\n",
       "    </tr>\n",
       "    <tr>\n",
       "      <th>2023-11-09</th>\n",
       "      <td>4925</td>\n",
       "      <td>4333</td>\n",
       "      <td>2930</td>\n",
       "      <td>148.0</td>\n",
       "    </tr>\n",
       "    <tr>\n",
       "      <th>2023-11-10</th>\n",
       "      <td>4570</td>\n",
       "      <td>4015</td>\n",
       "      <td>2629</td>\n",
       "      <td>153.0</td>\n",
       "    </tr>\n",
       "    <tr>\n",
       "      <th>2023-11-11</th>\n",
       "      <td>3455</td>\n",
       "      <td>3104</td>\n",
       "      <td>2287</td>\n",
       "      <td>136.0</td>\n",
       "    </tr>\n",
       "    <tr>\n",
       "      <th>2023-11-12</th>\n",
       "      <td>4437</td>\n",
       "      <td>3957</td>\n",
       "      <td>2608</td>\n",
       "      <td>152.0</td>\n",
       "    </tr>\n",
       "    <tr>\n",
       "      <th>2023-11-13</th>\n",
       "      <td>5144</td>\n",
       "      <td>4500</td>\n",
       "      <td>2887</td>\n",
       "      <td>156.0</td>\n",
       "    </tr>\n",
       "    <tr>\n",
       "      <th>2023-11-14</th>\n",
       "      <td>5163</td>\n",
       "      <td>4550</td>\n",
       "      <td>2900</td>\n",
       "      <td>157.0</td>\n",
       "    </tr>\n",
       "    <tr>\n",
       "      <th>2023-11-15</th>\n",
       "      <td>4934</td>\n",
       "      <td>4361</td>\n",
       "      <td>2790</td>\n",
       "      <td>156.0</td>\n",
       "    </tr>\n",
       "    <tr>\n",
       "      <th>2023-11-16</th>\n",
       "      <td>4919</td>\n",
       "      <td>4296</td>\n",
       "      <td>2823</td>\n",
       "      <td>152.0</td>\n",
       "    </tr>\n",
       "    <tr>\n",
       "      <th>2023-11-17</th>\n",
       "      <td>4377</td>\n",
       "      <td>3724</td>\n",
       "      <td>2402</td>\n",
       "      <td>155.0</td>\n",
       "    </tr>\n",
       "    <tr>\n",
       "      <th>2023-11-18</th>\n",
       "      <td>3427</td>\n",
       "      <td>2935</td>\n",
       "      <td>1852</td>\n",
       "      <td>158.0</td>\n",
       "    </tr>\n",
       "    <tr>\n",
       "      <th>2023-11-19</th>\n",
       "      <td>4390</td>\n",
       "      <td>3807</td>\n",
       "      <td>2297</td>\n",
       "      <td>166.0</td>\n",
       "    </tr>\n",
       "    <tr>\n",
       "      <th>2023-11-20</th>\n",
       "      <td>5119</td>\n",
       "      <td>4440</td>\n",
       "      <td>2813</td>\n",
       "      <td>158.0</td>\n",
       "    </tr>\n",
       "    <tr>\n",
       "      <th>2023-11-21</th>\n",
       "      <td>5225</td>\n",
       "      <td>4470</td>\n",
       "      <td>2827</td>\n",
       "      <td>158.0</td>\n",
       "    </tr>\n",
       "    <tr>\n",
       "      <th>2023-11-22</th>\n",
       "      <td>4988</td>\n",
       "      <td>4251</td>\n",
       "      <td>2547</td>\n",
       "      <td>167.0</td>\n",
       "    </tr>\n",
       "    <tr>\n",
       "      <th>2023-11-23</th>\n",
       "      <td>4397</td>\n",
       "      <td>3697</td>\n",
       "      <td>2195</td>\n",
       "      <td>168.0</td>\n",
       "    </tr>\n",
       "    <tr>\n",
       "      <th>2023-11-24</th>\n",
       "      <td>3914</td>\n",
       "      <td>3243</td>\n",
       "      <td>1985</td>\n",
       "      <td>163.0</td>\n",
       "    </tr>\n",
       "    <tr>\n",
       "      <th>2023-11-25</th>\n",
       "      <td>2839</td>\n",
       "      <td>2361</td>\n",
       "      <td>1576</td>\n",
       "      <td>150.0</td>\n",
       "    </tr>\n",
       "    <tr>\n",
       "      <th>2023-11-26</th>\n",
       "      <td>3525</td>\n",
       "      <td>2989</td>\n",
       "      <td>1783</td>\n",
       "      <td>168.0</td>\n",
       "    </tr>\n",
       "    <tr>\n",
       "      <th>2023-11-27</th>\n",
       "      <td>4482</td>\n",
       "      <td>3747</td>\n",
       "      <td>2302</td>\n",
       "      <td>163.0</td>\n",
       "    </tr>\n",
       "    <tr>\n",
       "      <th>2023-11-28</th>\n",
       "      <td>4913</td>\n",
       "      <td>4049</td>\n",
       "      <td>2273</td>\n",
       "      <td>178.0</td>\n",
       "    </tr>\n",
       "    <tr>\n",
       "      <th>2023-11-29</th>\n",
       "      <td>4248</td>\n",
       "      <td>3508</td>\n",
       "      <td>2024</td>\n",
       "      <td>173.0</td>\n",
       "    </tr>\n",
       "    <tr>\n",
       "      <th>2023-11-30</th>\n",
       "      <td>4675</td>\n",
       "      <td>3635</td>\n",
       "      <td>1639</td>\n",
       "      <td>222.0</td>\n",
       "    </tr>\n",
       "  </tbody>\n",
       "</table>\n",
       "</div>"
      ],
      "text/plain": [
       "              id  order_id  pz_order_guid  percent\n",
       "created                                           \n",
       "2023-11-01  4710      4164            222   1876.0\n",
       "2023-11-02  4897      4286            254   1687.0\n",
       "2023-11-03  3847      3412            353    967.0\n",
       "2023-11-04  3377      2908            351    828.0\n",
       "2023-11-05  3839      3363            371    906.0\n",
       "2023-11-06  4656      4103            511    803.0\n",
       "2023-11-07  5337      4614            989    467.0\n",
       "2023-11-08  5415      4748           1866    254.0\n",
       "2023-11-09  4925      4333           2930    148.0\n",
       "2023-11-10  4570      4015           2629    153.0\n",
       "2023-11-11  3455      3104           2287    136.0\n",
       "2023-11-12  4437      3957           2608    152.0\n",
       "2023-11-13  5144      4500           2887    156.0\n",
       "2023-11-14  5163      4550           2900    157.0\n",
       "2023-11-15  4934      4361           2790    156.0\n",
       "2023-11-16  4919      4296           2823    152.0\n",
       "2023-11-17  4377      3724           2402    155.0\n",
       "2023-11-18  3427      2935           1852    158.0\n",
       "2023-11-19  4390      3807           2297    166.0\n",
       "2023-11-20  5119      4440           2813    158.0\n",
       "2023-11-21  5225      4470           2827    158.0\n",
       "2023-11-22  4988      4251           2547    167.0\n",
       "2023-11-23  4397      3697           2195    168.0\n",
       "2023-11-24  3914      3243           1985    163.0\n",
       "2023-11-25  2839      2361           1576    150.0\n",
       "2023-11-26  3525      2989           1783    168.0\n",
       "2023-11-27  4482      3747           2302    163.0\n",
       "2023-11-28  4913      4049           2273    178.0\n",
       "2023-11-29  4248      3508           2024    173.0\n",
       "2023-11-30  4675      3635           1639    222.0"
      ]
     },
     "execution_count": 191,
     "metadata": {},
     "output_type": "execute_result"
    }
   ],
   "source": [
    "dfo_pz9_dd"
   ]
  },
  {
   "cell_type": "code",
   "execution_count": null,
   "metadata": {},
   "outputs": [],
   "source": []
  },
  {
   "cell_type": "code",
   "execution_count": null,
   "metadata": {},
   "outputs": [],
   "source": []
  },
  {
   "cell_type": "code",
   "execution_count": null,
   "metadata": {},
   "outputs": [],
   "source": []
  },
  {
   "cell_type": "code",
   "execution_count": null,
   "metadata": {},
   "outputs": [],
   "source": []
  },
  {
   "cell_type": "code",
   "execution_count": null,
   "metadata": {},
   "outputs": [],
   "source": []
  },
  {
   "cell_type": "code",
   "execution_count": null,
   "metadata": {},
   "outputs": [],
   "source": []
  },
  {
   "cell_type": "markdown",
   "metadata": {},
   "source": [
    "## Дальше можно не смотреть"
   ]
  },
  {
   "cell_type": "code",
   "execution_count": null,
   "metadata": {},
   "outputs": [],
   "source": []
  },
  {
   "cell_type": "code",
   "execution_count": null,
   "metadata": {},
   "outputs": [],
   "source": []
  },
  {
   "cell_type": "code",
   "execution_count": null,
   "metadata": {},
   "outputs": [],
   "source": []
  },
  {
   "cell_type": "code",
   "execution_count": null,
   "metadata": {},
   "outputs": [],
   "source": [
    "# unique_order_ids_df1 = erka['order_id'].unique()\n",
    "# # Проверяем, содержатся ли эти уникальные значения во втором DataFrame\n",
    "# mask = ~erka['order_id'].isin(df['marketplace_number'])\n",
    "\n",
    "# # Используем маску для вывода уникальных order_id из df1, которых нет в df2\n",
    "# missing_order_ids = erka.loc[mask, 'order_id'].unique()\n",
    "# missing_order_ids"
   ]
  },
  {
   "cell_type": "code",
   "execution_count": null,
   "metadata": {},
   "outputs": [],
   "source": []
  },
  {
   "cell_type": "code",
   "execution_count": null,
   "metadata": {},
   "outputs": [],
   "source": []
  },
  {
   "cell_type": "code",
   "execution_count": null,
   "metadata": {},
   "outputs": [],
   "source": []
  },
  {
   "cell_type": "code",
   "execution_count": null,
   "metadata": {},
   "outputs": [],
   "source": []
  },
  {
   "cell_type": "code",
   "execution_count": null,
   "metadata": {},
   "outputs": [],
   "source": []
  },
  {
   "cell_type": "code",
   "execution_count": null,
   "metadata": {},
   "outputs": [],
   "source": []
  },
  {
   "cell_type": "code",
   "execution_count": null,
   "metadata": {},
   "outputs": [],
   "source": []
  },
  {
   "cell_type": "code",
   "execution_count": null,
   "metadata": {},
   "outputs": [],
   "source": []
  },
  {
   "cell_type": "code",
   "execution_count": null,
   "metadata": {},
   "outputs": [],
   "source": []
  },
  {
   "cell_type": "code",
   "execution_count": null,
   "metadata": {},
   "outputs": [],
   "source": []
  },
  {
   "cell_type": "code",
   "execution_count": null,
   "metadata": {},
   "outputs": [],
   "source": []
  },
  {
   "cell_type": "code",
   "execution_count": null,
   "metadata": {},
   "outputs": [],
   "source": []
  },
  {
   "cell_type": "code",
   "execution_count": null,
   "metadata": {},
   "outputs": [],
   "source": [
    "dfo = pd.read_csv('https://redash.puls.ru/api/queries/8527/results.csv?api_key=04tKaxPAJfcexTsRwuWOfIFH7Xc1e8zAxoemdYja')\n",
    "dfo.shape"
   ]
  },
  {
   "cell_type": "code",
   "execution_count": null,
   "metadata": {},
   "outputs": [],
   "source": [
    "dfmp = dfmpp.merge(dfo, how='inner', left_on='order_id', right_on='id') \\\n",
    "        .loc[:, ['order_id', 'marketplace', 'rk', 'status', 'status_time']]  \\\n",
    "        .sort_values(by=['order_id', 'status_time'])"
   ]
  },
  {
   "cell_type": "code",
   "execution_count": null,
   "metadata": {},
   "outputs": [],
   "source": [
    "dfmp"
   ]
  },
  {
   "cell_type": "code",
   "execution_count": null,
   "metadata": {},
   "outputs": [],
   "source": [
    "# Создание столбца filtered_status (4 минут)\n",
    "dfmp['filtered_status'] = dfmp.groupby('order_id')['status'].transform(lambda x: x.ne(x.shift()))"
   ]
  },
  {
   "cell_type": "code",
   "execution_count": null,
   "metadata": {},
   "outputs": [],
   "source": [
    "dfmp = dfmp[dfmp['filtered_status'] == True]"
   ]
  },
  {
   "cell_type": "code",
   "execution_count": null,
   "metadata": {},
   "outputs": [],
   "source": [
    "#dfmp['filtered_status'] = dfmp['status'].where(dfmp['filtered_status'] > 0, None)"
   ]
  },
  {
   "cell_type": "code",
   "execution_count": null,
   "metadata": {},
   "outputs": [],
   "source": [
    "dfmp.status = dfmp.status.astype('str')"
   ]
  },
  {
   "cell_type": "code",
   "execution_count": null,
   "metadata": {},
   "outputs": [],
   "source": [
    "# Группировка и агрегирование \n",
    "grouped_dfmp = dfmp.groupby(['order_id', 'marketplace', 'rk'], as_index=False).agg({'status': lambda x: ','.join(x)})"
   ]
  },
  {
   "cell_type": "code",
   "execution_count": null,
   "metadata": {},
   "outputs": [],
   "source": [
    "#grouped_dfmp"
   ]
  },
  {
   "cell_type": "code",
   "execution_count": null,
   "metadata": {},
   "outputs": [],
   "source": [
    "#grouped_dfmp[grouped_dfmp.status.str.contains(',81')]"
   ]
  },
  {
   "cell_type": "code",
   "execution_count": null,
   "metadata": {},
   "outputs": [],
   "source": [
    "grouped_dfmp2 = grouped_dfmp.groupby(['status', 'marketplace', 'rk']).size().reset_index(name='num')"
   ]
  },
  {
   "cell_type": "code",
   "execution_count": null,
   "metadata": {},
   "outputs": [],
   "source": [
    "grouped_dfmp2.num.sum()"
   ]
  },
  {
   "cell_type": "code",
   "execution_count": null,
   "metadata": {},
   "outputs": [],
   "source": [
    "grouped_dfmp2"
   ]
  },
  {
   "cell_type": "code",
   "execution_count": null,
   "metadata": {},
   "outputs": [],
   "source": []
  },
  {
   "cell_type": "code",
   "execution_count": null,
   "metadata": {},
   "outputs": [],
   "source": []
  },
  {
   "cell_type": "code",
   "execution_count": null,
   "metadata": {},
   "outputs": [],
   "source": []
  },
  {
   "cell_type": "code",
   "execution_count": null,
   "metadata": {},
   "outputs": [],
   "source": []
  },
  {
   "cell_type": "code",
   "execution_count": null,
   "metadata": {},
   "outputs": [],
   "source": [
    "# dfm = grouped_df.groupby('status').size().reset_index(name='num')\n",
    "# dfm.sort_values('num', ascending=False).head(300)"
   ]
  },
  {
   "cell_type": "code",
   "execution_count": null,
   "metadata": {},
   "outputs": [],
   "source": [
    "# dfm.columns = df.columns"
   ]
  },
  {
   "cell_type": "code",
   "execution_count": null,
   "metadata": {},
   "outputs": [],
   "source": [
    "# # Преобразование строки статусов в список целых чисел\n",
    "# dfm['status_sequence'] = dfm['status_sequence'].apply(lambda x: [int(s) for s in x.split(',')])\n",
    "\n",
    "# # Создание списков для узлов и связей\n",
    "# sources = []\n",
    "# targets = []\n",
    "# values = []\n",
    "\n",
    "# # Наполнение списков значениями\n",
    "# for _, row in dfm.iterrows():\n",
    "#     sequence = row['status_sequence']\n",
    "#     for i in range(len(sequence) - 1):\n",
    "#         sources.append(sequence[i])\n",
    "#         targets.append(sequence[i + 1])\n",
    "#         values.append(row['num'])  # Вес связи равен 'num'       \n",
    "    "
   ]
  },
  {
   "cell_type": "code",
   "execution_count": null,
   "metadata": {},
   "outputs": [],
   "source": [
    "# # Создание и отображение диаграммы Санки\n",
    "# fig = go.Figure(data=[go.Sankey(  arrangement = \"snap\",\n",
    "#     node=dict(\n",
    "#         pad=15,\n",
    "#         thickness=20,\n",
    "#         line=dict(color=\"black\", width=0.5),\n",
    "#         label=[str(i) for i in sorted(set(sources + targets))],  # Уникальные метки для узлов\n",
    "#     ),\n",
    "#     link=dict(  arrowlen=10,\n",
    "#                 source=sources,  # Индексы источников\n",
    "#                 target=targets,  # Индексы целей\n",
    "#                 value=values     # Вес связей\n",
    "#             )\n",
    "# )])\n",
    "\n",
    "# fig.update_layout(title_text=\"Sankey Diagram\", font_size=10)\n",
    "# fig.show()"
   ]
  },
  {
   "cell_type": "code",
   "execution_count": null,
   "metadata": {},
   "outputs": [],
   "source": []
  },
  {
   "cell_type": "code",
   "execution_count": null,
   "metadata": {},
   "outputs": [],
   "source": []
  },
  {
   "cell_type": "code",
   "execution_count": null,
   "metadata": {},
   "outputs": [],
   "source": []
  },
  {
   "cell_type": "code",
   "execution_count": null,
   "metadata": {},
   "outputs": [],
   "source": []
  },
  {
   "cell_type": "code",
   "execution_count": null,
   "metadata": {},
   "outputs": [],
   "source": []
  },
  {
   "cell_type": "code",
   "execution_count": null,
   "metadata": {},
   "outputs": [],
   "source": []
  },
  {
   "cell_type": "code",
   "execution_count": null,
   "metadata": {},
   "outputs": [],
   "source": []
  },
  {
   "cell_type": "code",
   "execution_count": null,
   "metadata": {},
   "outputs": [],
   "source": []
  },
  {
   "cell_type": "code",
   "execution_count": null,
   "metadata": {},
   "outputs": [],
   "source": []
  },
  {
   "cell_type": "code",
   "execution_count": null,
   "metadata": {},
   "outputs": [],
   "source": []
  },
  {
   "cell_type": "code",
   "execution_count": null,
   "metadata": {},
   "outputs": [],
   "source": []
  },
  {
   "cell_type": "code",
   "execution_count": null,
   "metadata": {},
   "outputs": [],
   "source": []
  },
  {
   "cell_type": "code",
   "execution_count": null,
   "metadata": {},
   "outputs": [],
   "source": []
  }
 ],
 "metadata": {
  "kernelspec": {
   "display_name": "Python 3 (ipykernel)",
   "language": "python",
   "name": "python3"
  },
  "language_info": {
   "codemirror_mode": {
    "name": "ipython",
    "version": 3
   },
   "file_extension": ".py",
   "mimetype": "text/x-python",
   "name": "python",
   "nbconvert_exporter": "python",
   "pygments_lexer": "ipython3",
   "version": "3.8.16"
  },
  "toc": {
   "base_numbering": 1,
   "nav_menu": {},
   "number_sections": true,
   "sideBar": true,
   "skip_h1_title": false,
   "title_cell": "Table of Contents",
   "title_sidebar": "Contents",
   "toc_cell": false,
   "toc_position": {
    "height": "calc(100% - 180px)",
    "left": "10px",
    "top": "150px",
    "width": "426.667px"
   },
   "toc_section_display": true,
   "toc_window_display": true
  }
 },
 "nbformat": 4,
 "nbformat_minor": 4
}
